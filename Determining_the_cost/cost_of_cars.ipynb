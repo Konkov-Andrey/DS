{
 "cells": [
  {
   "cell_type": "markdown",
   "metadata": {
    "id": "8fOgiXLd1lc5"
   },
   "source": [
    "# Определение стоимости автомобилей"
   ]
  },
  {
   "cell_type": "markdown",
   "metadata": {
    "id": "RoPir-qS1ldB"
   },
   "source": [
    "Сервис по продаже автомобилей с пробегом «Не бит, не крашен» разрабатывает приложение для привлечения новых клиентов. В нём можно быстро узнать рыночную стоимость своего автомобиля. В вашем распоряжении исторические данные: технические характеристики, комплектации и цены автомобилей. Вам нужно построить модель для определения стоимости.\n",
    "\n",
    "Заказчику важны:\n",
    "\n",
    "- качество предсказания;\n",
    "- скорость предсказания;\n",
    "- время обучения.\n",
    "\n",
    "Признаки:<br>\n",
    "DateCrawled — дата скачивания анкеты из базы<br>\n",
    "VehicleType — тип автомобильного кузова<br>\n",
    "RegistrationYear — год регистрации автомобиля<br>\n",
    "Gearbox — тип коробки передач<br>\n",
    "Power — мощность (л. с.)<br>\n",
    "Model — модель автомобиля<br>\n",
    "Kilometer — пробег (км)<br>\n",
    "RegistrationMonth — месяц регистрации автомобиля<br>\n",
    "FuelType — тип топлива<br>\n",
    "Brand — марка автомобиля<br>\n",
    "Repaired — была машина в ремонте или нет<br>\n",
    "DateCreated — дата создания анкеты<br>\n",
    "NumberOfPictures — количество фотографий автомобиля<br>\n",
    "PostalCode — почтовый индекс владельца анкеты (пользователя)<br>\n",
    "LastSeen — дата последней активности пользователя<br>\n",
    "\n",
    "Целевой признак:<br>\n",
    "Price — цена (евро)<br>"
   ]
  },
  {
   "cell_type": "code",
   "execution_count": 1,
   "metadata": {
    "colab": {
     "base_uri": "https://localhost:8080/"
    },
    "id": "kQ27_kPN15j1",
    "outputId": "0bc5a816-f8a8-4b0e-e88c-eb983442b743"
   },
   "outputs": [
    {
     "name": "stdout",
     "output_type": "stream",
     "text": [
      "Requirement already satisfied: catboost in /opt/conda/lib/python3.9/site-packages (1.0.3)\n",
      "Requirement already satisfied: six in /opt/conda/lib/python3.9/site-packages (from catboost) (1.16.0)\n",
      "Requirement already satisfied: matplotlib in /opt/conda/lib/python3.9/site-packages (from catboost) (3.3.4)\n",
      "Requirement already satisfied: plotly in /opt/conda/lib/python3.9/site-packages (from catboost) (5.4.0)\n",
      "Requirement already satisfied: scipy in /opt/conda/lib/python3.9/site-packages (from catboost) (1.9.1)\n",
      "Requirement already satisfied: numpy>=1.16.0 in /opt/conda/lib/python3.9/site-packages (from catboost) (1.21.1)\n",
      "Requirement already satisfied: graphviz in /opt/conda/lib/python3.9/site-packages (from catboost) (0.20.1)\n",
      "Requirement already satisfied: pandas>=0.24.0 in /opt/conda/lib/python3.9/site-packages (from catboost) (1.2.4)\n",
      "Requirement already satisfied: python-dateutil>=2.7.3 in /opt/conda/lib/python3.9/site-packages (from pandas>=0.24.0->catboost) (2.8.1)\n",
      "Requirement already satisfied: pytz>=2017.3 in /opt/conda/lib/python3.9/site-packages (from pandas>=0.24.0->catboost) (2021.1)\n",
      "Requirement already satisfied: cycler>=0.10 in /opt/conda/lib/python3.9/site-packages (from matplotlib->catboost) (0.11.0)\n",
      "Requirement already satisfied: pyparsing!=2.0.4,!=2.1.2,!=2.1.6,>=2.0.3 in /opt/conda/lib/python3.9/site-packages (from matplotlib->catboost) (2.4.7)\n",
      "Requirement already satisfied: pillow>=6.2.0 in /opt/conda/lib/python3.9/site-packages (from matplotlib->catboost) (8.4.0)\n",
      "Requirement already satisfied: kiwisolver>=1.0.1 in /opt/conda/lib/python3.9/site-packages (from matplotlib->catboost) (1.4.4)\n",
      "Requirement already satisfied: tenacity>=6.2.0 in /opt/conda/lib/python3.9/site-packages (from plotly->catboost) (8.0.1)\n",
      "Note: you may need to restart the kernel to use updated packages.\n"
     ]
    }
   ],
   "source": [
    "pip install catboost"
   ]
  },
  {
   "cell_type": "code",
   "execution_count": 2,
   "metadata": {
    "colab": {
     "base_uri": "https://localhost:8080/"
    },
    "id": "2eQwa3Yoag9Y",
    "outputId": "c588fc8a-56d0-4e82-a6de-d86aee315774"
   },
   "outputs": [
    {
     "name": "stdout",
     "output_type": "stream",
     "text": [
      "Collecting phik\n",
      "  Downloading phik-0.12.3-cp39-cp39-manylinux_2_17_x86_64.manylinux2014_x86_64.whl (679 kB)\n",
      "\u001b[K     |████████████████████████████████| 679 kB 1.0 MB/s eta 0:00:01\n",
      "\u001b[?25hRequirement already satisfied: scipy>=1.5.2 in /opt/conda/lib/python3.9/site-packages (from phik) (1.9.1)\n",
      "Requirement already satisfied: numpy>=1.18.0 in /opt/conda/lib/python3.9/site-packages (from phik) (1.21.1)\n",
      "Requirement already satisfied: joblib>=0.14.1 in /opt/conda/lib/python3.9/site-packages (from phik) (1.1.0)\n",
      "Requirement already satisfied: pandas>=0.25.1 in /opt/conda/lib/python3.9/site-packages (from phik) (1.2.4)\n",
      "Requirement already satisfied: matplotlib>=2.2.3 in /opt/conda/lib/python3.9/site-packages (from phik) (3.3.4)\n",
      "Requirement already satisfied: cycler>=0.10 in /opt/conda/lib/python3.9/site-packages (from matplotlib>=2.2.3->phik) (0.11.0)\n",
      "Requirement already satisfied: pyparsing!=2.0.4,!=2.1.2,!=2.1.6,>=2.0.3 in /opt/conda/lib/python3.9/site-packages (from matplotlib>=2.2.3->phik) (2.4.7)\n",
      "Requirement already satisfied: python-dateutil>=2.1 in /opt/conda/lib/python3.9/site-packages (from matplotlib>=2.2.3->phik) (2.8.1)\n",
      "Requirement already satisfied: pillow>=6.2.0 in /opt/conda/lib/python3.9/site-packages (from matplotlib>=2.2.3->phik) (8.4.0)\n",
      "Requirement already satisfied: kiwisolver>=1.0.1 in /opt/conda/lib/python3.9/site-packages (from matplotlib>=2.2.3->phik) (1.4.4)\n",
      "Requirement already satisfied: pytz>=2017.3 in /opt/conda/lib/python3.9/site-packages (from pandas>=0.25.1->phik) (2021.1)\n",
      "Requirement already satisfied: six>=1.5 in /opt/conda/lib/python3.9/site-packages (from python-dateutil>=2.1->matplotlib>=2.2.3->phik) (1.16.0)\n",
      "Installing collected packages: phik\n",
      "Successfully installed phik-0.12.3\n",
      "Note: you may need to restart the kernel to use updated packages.\n"
     ]
    }
   ],
   "source": [
    "pip install phik"
   ]
  },
  {
   "cell_type": "markdown",
   "metadata": {
    "id": "QUMxUIeP1ldD"
   },
   "source": [
    "## Подготовка данных"
   ]
  },
  {
   "cell_type": "markdown",
   "metadata": {
    "id": "EGUt-moC1ldD"
   },
   "source": [
    "### Загрузка данных"
   ]
  },
  {
   "cell_type": "code",
   "execution_count": 3,
   "metadata": {
    "colab": {
     "base_uri": "https://localhost:8080/"
    },
    "id": "PTmYdDck1ldE",
    "outputId": "0027ec90-210b-46b5-aeb5-208c06e72d20"
   },
   "outputs": [
    {
     "data": {
      "text/plain": [
       "<pandas._config.config.option_context at 0x7f55b75e6070>"
      ]
     },
     "execution_count": 3,
     "metadata": {},
     "output_type": "execute_result"
    }
   ],
   "source": [
    "import pandas as pd\n",
    "import numpy as np\n",
    "import seaborn as sns\n",
    "import matplotlib.pyplot as plt\n",
    "import phik\n",
    "import warnings\n",
    "import time\n",
    "\n",
    "from lightgbm import LGBMRegressor\n",
    "from catboost import CatBoostRegressor\n",
    "from sklearn.linear_model import Ridge\n",
    "from sklearn.model_selection import train_test_split, ParameterGrid\n",
    "from sklearn.metrics import mean_squared_error\n",
    "from sklearn.preprocessing import OneHotEncoder\n",
    "from sklearn.preprocessing import StandardScaler\n",
    "from sklearn.dummy import DummyRegressor\n",
    "from phik import phik_matrix\n",
    "\n",
    "RANDOM_STATE = 12345\n",
    "\n",
    "warnings.filterwarnings(\"ignore\")\n",
    "pd.set_option('display.max_columns', None)\n",
    "pd.option_context('display.max_rows', None)"
   ]
  },
  {
   "cell_type": "code",
   "execution_count": 4,
   "metadata": {
    "id": "hiuc1fVL1ldH"
   },
   "outputs": [],
   "source": [
    "try:\n",
    "   df = pd.read_csv('/datasets/autos.csv')\n",
    "except:\n",
    "   df = pd.read_csv('https://code.s3.yandex.net/datasets/autos.csv')"
   ]
  },
  {
   "cell_type": "markdown",
   "metadata": {
    "id": "gcLwKeeV1ldI"
   },
   "source": [
    "### Изучение данных"
   ]
  },
  {
   "cell_type": "code",
   "execution_count": 5,
   "metadata": {
    "colab": {
     "base_uri": "https://localhost:8080/"
    },
    "id": "F7-ePz_-1ldI",
    "outputId": "466bfbd2-6a4c-4538-9767-1f093369988f"
   },
   "outputs": [
    {
     "name": "stdout",
     "output_type": "stream",
     "text": [
      "<class 'pandas.core.frame.DataFrame'>\n",
      "RangeIndex: 354369 entries, 0 to 354368\n",
      "Data columns (total 16 columns):\n",
      " #   Column             Non-Null Count   Dtype \n",
      "---  ------             --------------   ----- \n",
      " 0   DateCrawled        354369 non-null  object\n",
      " 1   Price              354369 non-null  int64 \n",
      " 2   VehicleType        316879 non-null  object\n",
      " 3   RegistrationYear   354369 non-null  int64 \n",
      " 4   Gearbox            334536 non-null  object\n",
      " 5   Power              354369 non-null  int64 \n",
      " 6   Model              334664 non-null  object\n",
      " 7   Kilometer          354369 non-null  int64 \n",
      " 8   RegistrationMonth  354369 non-null  int64 \n",
      " 9   FuelType           321474 non-null  object\n",
      " 10  Brand              354369 non-null  object\n",
      " 11  Repaired           283215 non-null  object\n",
      " 12  DateCreated        354369 non-null  object\n",
      " 13  NumberOfPictures   354369 non-null  int64 \n",
      " 14  PostalCode         354369 non-null  int64 \n",
      " 15  LastSeen           354369 non-null  object\n",
      "dtypes: int64(7), object(9)\n",
      "memory usage: 43.3+ MB\n"
     ]
    }
   ],
   "source": [
    "# Изучим размер датасета, типы данных и столбцы\n",
    "\n",
    "df.info()"
   ]
  },
  {
   "cell_type": "code",
   "execution_count": 6,
   "metadata": {
    "id": "b0EvwbMh1ldJ"
   },
   "outputs": [],
   "source": [
    "# Переименуем названия столбцов в under_score\n",
    "\n",
    "df = df.rename(columns={'DateCrawled': 'date_crawled',\n",
    "                        'Price': 'price',\n",
    "                        'VehicleType': 'vehicle_type',\n",
    "                        'RegistrationYear': 'registration_year',\n",
    "                        'Gearbox': 'gearbox',\n",
    "                        'Power': 'power',\n",
    "                        'Model': 'model',\n",
    "                        'Kilometer': 'kilometer',\n",
    "                        'RegistrationMonth': 'registration_month',\n",
    "                        'FuelType': 'fuel_type',\n",
    "                        'Brand': 'brand',\n",
    "                        'Repaired': 'repaired',\n",
    "                        'DateCreated':'date_created',\n",
    "                        'NumberOfPictures': 'number_of_pictures',\n",
    "                        'PostalCode':'postal_code',\n",
    "                        'LastSeen':'last_seen'})"
   ]
  },
  {
   "cell_type": "code",
   "execution_count": 7,
   "metadata": {
    "colab": {
     "base_uri": "https://localhost:8080/",
     "height": 313
    },
    "id": "RAOVp6wm1ldK",
    "outputId": "717028c1-8ab3-417c-d38d-3094bc398ad2"
   },
   "outputs": [
    {
     "data": {
      "text/html": [
       "<div>\n",
       "<style scoped>\n",
       "    .dataframe tbody tr th:only-of-type {\n",
       "        vertical-align: middle;\n",
       "    }\n",
       "\n",
       "    .dataframe tbody tr th {\n",
       "        vertical-align: top;\n",
       "    }\n",
       "\n",
       "    .dataframe thead th {\n",
       "        text-align: right;\n",
       "    }\n",
       "</style>\n",
       "<table border=\"1\" class=\"dataframe\">\n",
       "  <thead>\n",
       "    <tr style=\"text-align: right;\">\n",
       "      <th></th>\n",
       "      <th>date_crawled</th>\n",
       "      <th>price</th>\n",
       "      <th>vehicle_type</th>\n",
       "      <th>registration_year</th>\n",
       "      <th>gearbox</th>\n",
       "      <th>power</th>\n",
       "      <th>model</th>\n",
       "      <th>kilometer</th>\n",
       "      <th>registration_month</th>\n",
       "      <th>fuel_type</th>\n",
       "      <th>brand</th>\n",
       "      <th>repaired</th>\n",
       "      <th>date_created</th>\n",
       "      <th>number_of_pictures</th>\n",
       "      <th>postal_code</th>\n",
       "      <th>last_seen</th>\n",
       "    </tr>\n",
       "  </thead>\n",
       "  <tbody>\n",
       "    <tr>\n",
       "      <th>0</th>\n",
       "      <td>2016-03-24 11:52:17</td>\n",
       "      <td>480</td>\n",
       "      <td>NaN</td>\n",
       "      <td>1993</td>\n",
       "      <td>manual</td>\n",
       "      <td>0</td>\n",
       "      <td>golf</td>\n",
       "      <td>150000</td>\n",
       "      <td>0</td>\n",
       "      <td>petrol</td>\n",
       "      <td>volkswagen</td>\n",
       "      <td>NaN</td>\n",
       "      <td>2016-03-24 00:00:00</td>\n",
       "      <td>0</td>\n",
       "      <td>70435</td>\n",
       "      <td>2016-04-07 03:16:57</td>\n",
       "    </tr>\n",
       "    <tr>\n",
       "      <th>1</th>\n",
       "      <td>2016-03-24 10:58:45</td>\n",
       "      <td>18300</td>\n",
       "      <td>coupe</td>\n",
       "      <td>2011</td>\n",
       "      <td>manual</td>\n",
       "      <td>190</td>\n",
       "      <td>NaN</td>\n",
       "      <td>125000</td>\n",
       "      <td>5</td>\n",
       "      <td>gasoline</td>\n",
       "      <td>audi</td>\n",
       "      <td>yes</td>\n",
       "      <td>2016-03-24 00:00:00</td>\n",
       "      <td>0</td>\n",
       "      <td>66954</td>\n",
       "      <td>2016-04-07 01:46:50</td>\n",
       "    </tr>\n",
       "    <tr>\n",
       "      <th>2</th>\n",
       "      <td>2016-03-14 12:52:21</td>\n",
       "      <td>9800</td>\n",
       "      <td>suv</td>\n",
       "      <td>2004</td>\n",
       "      <td>auto</td>\n",
       "      <td>163</td>\n",
       "      <td>grand</td>\n",
       "      <td>125000</td>\n",
       "      <td>8</td>\n",
       "      <td>gasoline</td>\n",
       "      <td>jeep</td>\n",
       "      <td>NaN</td>\n",
       "      <td>2016-03-14 00:00:00</td>\n",
       "      <td>0</td>\n",
       "      <td>90480</td>\n",
       "      <td>2016-04-05 12:47:46</td>\n",
       "    </tr>\n",
       "    <tr>\n",
       "      <th>3</th>\n",
       "      <td>2016-03-17 16:54:04</td>\n",
       "      <td>1500</td>\n",
       "      <td>small</td>\n",
       "      <td>2001</td>\n",
       "      <td>manual</td>\n",
       "      <td>75</td>\n",
       "      <td>golf</td>\n",
       "      <td>150000</td>\n",
       "      <td>6</td>\n",
       "      <td>petrol</td>\n",
       "      <td>volkswagen</td>\n",
       "      <td>no</td>\n",
       "      <td>2016-03-17 00:00:00</td>\n",
       "      <td>0</td>\n",
       "      <td>91074</td>\n",
       "      <td>2016-03-17 17:40:17</td>\n",
       "    </tr>\n",
       "    <tr>\n",
       "      <th>4</th>\n",
       "      <td>2016-03-31 17:25:20</td>\n",
       "      <td>3600</td>\n",
       "      <td>small</td>\n",
       "      <td>2008</td>\n",
       "      <td>manual</td>\n",
       "      <td>69</td>\n",
       "      <td>fabia</td>\n",
       "      <td>90000</td>\n",
       "      <td>7</td>\n",
       "      <td>gasoline</td>\n",
       "      <td>skoda</td>\n",
       "      <td>no</td>\n",
       "      <td>2016-03-31 00:00:00</td>\n",
       "      <td>0</td>\n",
       "      <td>60437</td>\n",
       "      <td>2016-04-06 10:17:21</td>\n",
       "    </tr>\n",
       "  </tbody>\n",
       "</table>\n",
       "</div>"
      ],
      "text/plain": [
       "          date_crawled  price vehicle_type  registration_year gearbox  power  \\\n",
       "0  2016-03-24 11:52:17    480          NaN               1993  manual      0   \n",
       "1  2016-03-24 10:58:45  18300        coupe               2011  manual    190   \n",
       "2  2016-03-14 12:52:21   9800          suv               2004    auto    163   \n",
       "3  2016-03-17 16:54:04   1500        small               2001  manual     75   \n",
       "4  2016-03-31 17:25:20   3600        small               2008  manual     69   \n",
       "\n",
       "   model  kilometer  registration_month fuel_type       brand repaired  \\\n",
       "0   golf     150000                   0    petrol  volkswagen      NaN   \n",
       "1    NaN     125000                   5  gasoline        audi      yes   \n",
       "2  grand     125000                   8  gasoline        jeep      NaN   \n",
       "3   golf     150000                   6    petrol  volkswagen       no   \n",
       "4  fabia      90000                   7  gasoline       skoda       no   \n",
       "\n",
       "          date_created  number_of_pictures  postal_code            last_seen  \n",
       "0  2016-03-24 00:00:00                   0        70435  2016-04-07 03:16:57  \n",
       "1  2016-03-24 00:00:00                   0        66954  2016-04-07 01:46:50  \n",
       "2  2016-03-14 00:00:00                   0        90480  2016-04-05 12:47:46  \n",
       "3  2016-03-17 00:00:00                   0        91074  2016-03-17 17:40:17  \n",
       "4  2016-03-31 00:00:00                   0        60437  2016-04-06 10:17:21  "
      ]
     },
     "execution_count": 7,
     "metadata": {},
     "output_type": "execute_result"
    }
   ],
   "source": [
    "df.head()"
   ]
  },
  {
   "cell_type": "markdown",
   "metadata": {
    "id": "3rHQ8UPu1ldK"
   },
   "source": [
    "Обращаем внимание,  на то, что в датасете есть пропуски в разных столбцах"
   ]
  },
  {
   "cell_type": "code",
   "execution_count": 8,
   "metadata": {
    "colab": {
     "base_uri": "https://localhost:8080/",
     "height": 35
    },
    "id": "M7XIEMK61ldK",
    "outputId": "70848414-4f89-425f-8418-03f32cccda9c"
   },
   "outputs": [
    {
     "data": {
      "text/plain": [
       "'2016-04-07 00:00:00'"
      ]
     },
     "execution_count": 8,
     "metadata": {},
     "output_type": "execute_result"
    }
   ],
   "source": [
    "# Проверим актуальность данных\n",
    "\n",
    "df['date_created'].max()"
   ]
  },
  {
   "cell_type": "code",
   "execution_count": 9,
   "metadata": {
    "colab": {
     "base_uri": "https://localhost:8080/"
    },
    "id": "PLNIptMA1ldL",
    "outputId": "93572b3b-71cf-4aca-fb40-1b2a80360503"
   },
   "outputs": [
    {
     "name": "stdout",
     "output_type": "stream",
     "text": [
      "date_crawled              0\n",
      "price                     0\n",
      "vehicle_type          37490\n",
      "registration_year         0\n",
      "gearbox               19833\n",
      "power                     0\n",
      "model                 19705\n",
      "kilometer                 0\n",
      "registration_month        0\n",
      "fuel_type             32895\n",
      "brand                     0\n",
      "repaired              71154\n",
      "date_created              0\n",
      "number_of_pictures        0\n",
      "postal_code               0\n",
      "last_seen                 0\n",
      "dtype: int64\n",
      "date_crawled           0.000000\n",
      "price                  0.000000\n",
      "vehicle_type          10.579368\n",
      "registration_year      0.000000\n",
      "gearbox                5.596709\n",
      "power                  0.000000\n",
      "model                  5.560588\n",
      "kilometer              0.000000\n",
      "registration_month     0.000000\n",
      "fuel_type              9.282697\n",
      "brand                  0.000000\n",
      "repaired              20.079070\n",
      "date_created           0.000000\n",
      "number_of_pictures     0.000000\n",
      "postal_code            0.000000\n",
      "last_seen              0.000000\n",
      "dtype: float64\n"
     ]
    }
   ],
   "source": [
    "# Узнаем количество пропусков в абсолютных и относительных значениях\n",
    "\n",
    "print(df.isnull().sum())\n",
    "print((df.isnull().sum() / len(df)) * 100)"
   ]
  },
  {
   "cell_type": "markdown",
   "metadata": {
    "id": "QthP9IhU1ldL"
   },
   "source": [
    "Пропуски данных замечены только в категориальных столбцах:\n",
    "- vehicle_type (вид кузова) 11%\n",
    "- gearbox (тип коробки передач) 6%\n",
    "- model (модель авто) 6%\n",
    "- fuel_type (вид топливной системы) 9%\n",
    "- repaired (был ли авто в ремонте или нет) 20%"
   ]
  },
  {
   "cell_type": "code",
   "execution_count": 10,
   "metadata": {
    "colab": {
     "base_uri": "https://localhost:8080/",
     "height": 301
    },
    "id": "uG1h0jNR1ldL",
    "outputId": "bac5ae99-40a6-47a2-b48c-ded41b89e363"
   },
   "outputs": [
    {
     "data": {
      "text/html": [
       "<div>\n",
       "<style scoped>\n",
       "    .dataframe tbody tr th:only-of-type {\n",
       "        vertical-align: middle;\n",
       "    }\n",
       "\n",
       "    .dataframe tbody tr th {\n",
       "        vertical-align: top;\n",
       "    }\n",
       "\n",
       "    .dataframe thead th {\n",
       "        text-align: right;\n",
       "    }\n",
       "</style>\n",
       "<table border=\"1\" class=\"dataframe\">\n",
       "  <thead>\n",
       "    <tr style=\"text-align: right;\">\n",
       "      <th></th>\n",
       "      <th>price</th>\n",
       "      <th>registration_year</th>\n",
       "      <th>power</th>\n",
       "      <th>kilometer</th>\n",
       "      <th>registration_month</th>\n",
       "      <th>number_of_pictures</th>\n",
       "      <th>postal_code</th>\n",
       "    </tr>\n",
       "  </thead>\n",
       "  <tbody>\n",
       "    <tr>\n",
       "      <th>count</th>\n",
       "      <td>354369.000000</td>\n",
       "      <td>354369.000000</td>\n",
       "      <td>354369.000000</td>\n",
       "      <td>354369.000000</td>\n",
       "      <td>354369.000000</td>\n",
       "      <td>354369.0</td>\n",
       "      <td>354369.000000</td>\n",
       "    </tr>\n",
       "    <tr>\n",
       "      <th>mean</th>\n",
       "      <td>4416.656776</td>\n",
       "      <td>2004.234448</td>\n",
       "      <td>110.094337</td>\n",
       "      <td>128211.172535</td>\n",
       "      <td>5.714645</td>\n",
       "      <td>0.0</td>\n",
       "      <td>50508.689087</td>\n",
       "    </tr>\n",
       "    <tr>\n",
       "      <th>std</th>\n",
       "      <td>4514.158514</td>\n",
       "      <td>90.227958</td>\n",
       "      <td>189.850405</td>\n",
       "      <td>37905.341530</td>\n",
       "      <td>3.726421</td>\n",
       "      <td>0.0</td>\n",
       "      <td>25783.096248</td>\n",
       "    </tr>\n",
       "    <tr>\n",
       "      <th>min</th>\n",
       "      <td>0.000000</td>\n",
       "      <td>1000.000000</td>\n",
       "      <td>0.000000</td>\n",
       "      <td>5000.000000</td>\n",
       "      <td>0.000000</td>\n",
       "      <td>0.0</td>\n",
       "      <td>1067.000000</td>\n",
       "    </tr>\n",
       "    <tr>\n",
       "      <th>25%</th>\n",
       "      <td>1050.000000</td>\n",
       "      <td>1999.000000</td>\n",
       "      <td>69.000000</td>\n",
       "      <td>125000.000000</td>\n",
       "      <td>3.000000</td>\n",
       "      <td>0.0</td>\n",
       "      <td>30165.000000</td>\n",
       "    </tr>\n",
       "    <tr>\n",
       "      <th>50%</th>\n",
       "      <td>2700.000000</td>\n",
       "      <td>2003.000000</td>\n",
       "      <td>105.000000</td>\n",
       "      <td>150000.000000</td>\n",
       "      <td>6.000000</td>\n",
       "      <td>0.0</td>\n",
       "      <td>49413.000000</td>\n",
       "    </tr>\n",
       "    <tr>\n",
       "      <th>75%</th>\n",
       "      <td>6400.000000</td>\n",
       "      <td>2008.000000</td>\n",
       "      <td>143.000000</td>\n",
       "      <td>150000.000000</td>\n",
       "      <td>9.000000</td>\n",
       "      <td>0.0</td>\n",
       "      <td>71083.000000</td>\n",
       "    </tr>\n",
       "    <tr>\n",
       "      <th>max</th>\n",
       "      <td>20000.000000</td>\n",
       "      <td>9999.000000</td>\n",
       "      <td>20000.000000</td>\n",
       "      <td>150000.000000</td>\n",
       "      <td>12.000000</td>\n",
       "      <td>0.0</td>\n",
       "      <td>99998.000000</td>\n",
       "    </tr>\n",
       "  </tbody>\n",
       "</table>\n",
       "</div>"
      ],
      "text/plain": [
       "               price  registration_year          power      kilometer  \\\n",
       "count  354369.000000      354369.000000  354369.000000  354369.000000   \n",
       "mean     4416.656776        2004.234448     110.094337  128211.172535   \n",
       "std      4514.158514          90.227958     189.850405   37905.341530   \n",
       "min         0.000000        1000.000000       0.000000    5000.000000   \n",
       "25%      1050.000000        1999.000000      69.000000  125000.000000   \n",
       "50%      2700.000000        2003.000000     105.000000  150000.000000   \n",
       "75%      6400.000000        2008.000000     143.000000  150000.000000   \n",
       "max     20000.000000        9999.000000   20000.000000  150000.000000   \n",
       "\n",
       "       registration_month  number_of_pictures    postal_code  \n",
       "count       354369.000000            354369.0  354369.000000  \n",
       "mean             5.714645                 0.0   50508.689087  \n",
       "std              3.726421                 0.0   25783.096248  \n",
       "min              0.000000                 0.0    1067.000000  \n",
       "25%              3.000000                 0.0   30165.000000  \n",
       "50%              6.000000                 0.0   49413.000000  \n",
       "75%              9.000000                 0.0   71083.000000  \n",
       "max             12.000000                 0.0   99998.000000  "
      ]
     },
     "execution_count": 10,
     "metadata": {},
     "output_type": "execute_result"
    }
   ],
   "source": [
    "# Изучим основные статистические данные числовых столбцов\n",
    "\n",
    "df.describe()"
   ]
  },
  {
   "cell_type": "markdown",
   "metadata": {
    "id": "A0ZQL-0G1ldL"
   },
   "source": [
    "Замечаем аномальные значения в столбцах:\n",
    "- price (целевая переменная) имеет нулевые значения\n",
    "- registration_year (год регистрации ТС) содержит аномальное значение 1000 год выпуска\n",
    "- registration_month (месяц постановки ТС) имеет нулевые значения\n",
    "- number_of_pictures (количество изображений) вообще нет связанных изображений\n",
    "- power (мощность) имеет нулевые значения"
   ]
  },
  {
   "cell_type": "code",
   "execution_count": 11,
   "metadata": {
    "colab": {
     "base_uri": "https://localhost:8080/"
    },
    "id": "bBHvFar81ldM",
    "outputId": "7644717a-13cf-4ace-cdea-fc325ac5149a"
   },
   "outputs": [
    {
     "data": {
      "text/plain": [
       "4"
      ]
     },
     "execution_count": 11,
     "metadata": {},
     "output_type": "execute_result"
    }
   ],
   "source": [
    "# Проверим датасет на дубликаты\n",
    "\n",
    "df.duplicated().sum()"
   ]
  },
  {
   "cell_type": "markdown",
   "metadata": {
    "id": "HJiYgCi81ldM"
   },
   "source": [
    "### Предобработка данных"
   ]
  },
  {
   "cell_type": "code",
   "execution_count": 12,
   "metadata": {
    "colab": {
     "base_uri": "https://localhost:8080/"
    },
    "id": "3jI7X9VJ1ldM",
    "outputId": "1cc8ef9d-68fd-47eb-ce40-b6ed5d07545d"
   },
   "outputs": [
    {
     "data": {
      "text/plain": [
       "0"
      ]
     },
     "execution_count": 12,
     "metadata": {},
     "output_type": "execute_result"
    }
   ],
   "source": [
    "# Удалим дубликаты и проверим результат\n",
    "\n",
    "df = df.drop_duplicates()\n",
    "df.duplicated().sum()"
   ]
  },
  {
   "cell_type": "code",
   "execution_count": 13,
   "metadata": {
    "id": "85f2Iz7m1ldM"
   },
   "outputs": [],
   "source": [
    "# Удалим столбцы, которые не влияют на предсказание целевой переменной\n",
    "# Это пользовательские данные сервиса и месяц постановки ТС на учет, который из личного опыта на стоимость не влияет\n",
    "\n",
    "df = df.drop(['date_crawled',\n",
    "              'registration_month',\n",
    "              'date_created',\n",
    "              'number_of_pictures',\n",
    "              'postal_code',\n",
    "              'last_seen'], axis=1)"
   ]
  },
  {
   "cell_type": "code",
   "execution_count": 14,
   "metadata": {
    "colab": {
     "base_uri": "https://localhost:8080/",
     "height": 424
    },
    "id": "4GMXphQ21ldN",
    "outputId": "7f949961-67b9-4097-a1bb-8dd8f54139c3"
   },
   "outputs": [
    {
     "data": {
      "text/html": [
       "<div>\n",
       "<style scoped>\n",
       "    .dataframe tbody tr th:only-of-type {\n",
       "        vertical-align: middle;\n",
       "    }\n",
       "\n",
       "    .dataframe tbody tr th {\n",
       "        vertical-align: top;\n",
       "    }\n",
       "\n",
       "    .dataframe thead th {\n",
       "        text-align: right;\n",
       "    }\n",
       "</style>\n",
       "<table border=\"1\" class=\"dataframe\">\n",
       "  <thead>\n",
       "    <tr style=\"text-align: right;\">\n",
       "      <th></th>\n",
       "      <th>price</th>\n",
       "      <th>vehicle_type</th>\n",
       "      <th>registration_year</th>\n",
       "      <th>gearbox</th>\n",
       "      <th>power</th>\n",
       "      <th>model</th>\n",
       "      <th>kilometer</th>\n",
       "      <th>fuel_type</th>\n",
       "      <th>brand</th>\n",
       "      <th>repaired</th>\n",
       "    </tr>\n",
       "  </thead>\n",
       "  <tbody>\n",
       "    <tr>\n",
       "      <th>0</th>\n",
       "      <td>480</td>\n",
       "      <td>NaN</td>\n",
       "      <td>1993</td>\n",
       "      <td>manual</td>\n",
       "      <td>0</td>\n",
       "      <td>golf</td>\n",
       "      <td>150000</td>\n",
       "      <td>petrol</td>\n",
       "      <td>volkswagen</td>\n",
       "      <td>NaN</td>\n",
       "    </tr>\n",
       "    <tr>\n",
       "      <th>1</th>\n",
       "      <td>18300</td>\n",
       "      <td>coupe</td>\n",
       "      <td>2011</td>\n",
       "      <td>manual</td>\n",
       "      <td>190</td>\n",
       "      <td>NaN</td>\n",
       "      <td>125000</td>\n",
       "      <td>gasoline</td>\n",
       "      <td>audi</td>\n",
       "      <td>yes</td>\n",
       "    </tr>\n",
       "    <tr>\n",
       "      <th>2</th>\n",
       "      <td>9800</td>\n",
       "      <td>suv</td>\n",
       "      <td>2004</td>\n",
       "      <td>auto</td>\n",
       "      <td>163</td>\n",
       "      <td>grand</td>\n",
       "      <td>125000</td>\n",
       "      <td>gasoline</td>\n",
       "      <td>jeep</td>\n",
       "      <td>NaN</td>\n",
       "    </tr>\n",
       "    <tr>\n",
       "      <th>3</th>\n",
       "      <td>1500</td>\n",
       "      <td>small</td>\n",
       "      <td>2001</td>\n",
       "      <td>manual</td>\n",
       "      <td>75</td>\n",
       "      <td>golf</td>\n",
       "      <td>150000</td>\n",
       "      <td>petrol</td>\n",
       "      <td>volkswagen</td>\n",
       "      <td>no</td>\n",
       "    </tr>\n",
       "    <tr>\n",
       "      <th>4</th>\n",
       "      <td>3600</td>\n",
       "      <td>small</td>\n",
       "      <td>2008</td>\n",
       "      <td>manual</td>\n",
       "      <td>69</td>\n",
       "      <td>fabia</td>\n",
       "      <td>90000</td>\n",
       "      <td>gasoline</td>\n",
       "      <td>skoda</td>\n",
       "      <td>no</td>\n",
       "    </tr>\n",
       "    <tr>\n",
       "      <th>...</th>\n",
       "      <td>...</td>\n",
       "      <td>...</td>\n",
       "      <td>...</td>\n",
       "      <td>...</td>\n",
       "      <td>...</td>\n",
       "      <td>...</td>\n",
       "      <td>...</td>\n",
       "      <td>...</td>\n",
       "      <td>...</td>\n",
       "      <td>...</td>\n",
       "    </tr>\n",
       "    <tr>\n",
       "      <th>354364</th>\n",
       "      <td>0</td>\n",
       "      <td>NaN</td>\n",
       "      <td>2005</td>\n",
       "      <td>manual</td>\n",
       "      <td>0</td>\n",
       "      <td>colt</td>\n",
       "      <td>150000</td>\n",
       "      <td>petrol</td>\n",
       "      <td>mitsubishi</td>\n",
       "      <td>yes</td>\n",
       "    </tr>\n",
       "    <tr>\n",
       "      <th>354365</th>\n",
       "      <td>2200</td>\n",
       "      <td>NaN</td>\n",
       "      <td>2005</td>\n",
       "      <td>NaN</td>\n",
       "      <td>0</td>\n",
       "      <td>NaN</td>\n",
       "      <td>20000</td>\n",
       "      <td>NaN</td>\n",
       "      <td>sonstige_autos</td>\n",
       "      <td>NaN</td>\n",
       "    </tr>\n",
       "    <tr>\n",
       "      <th>354366</th>\n",
       "      <td>1199</td>\n",
       "      <td>convertible</td>\n",
       "      <td>2000</td>\n",
       "      <td>auto</td>\n",
       "      <td>101</td>\n",
       "      <td>fortwo</td>\n",
       "      <td>125000</td>\n",
       "      <td>petrol</td>\n",
       "      <td>smart</td>\n",
       "      <td>no</td>\n",
       "    </tr>\n",
       "    <tr>\n",
       "      <th>354367</th>\n",
       "      <td>9200</td>\n",
       "      <td>bus</td>\n",
       "      <td>1996</td>\n",
       "      <td>manual</td>\n",
       "      <td>102</td>\n",
       "      <td>transporter</td>\n",
       "      <td>150000</td>\n",
       "      <td>gasoline</td>\n",
       "      <td>volkswagen</td>\n",
       "      <td>no</td>\n",
       "    </tr>\n",
       "    <tr>\n",
       "      <th>354368</th>\n",
       "      <td>3400</td>\n",
       "      <td>wagon</td>\n",
       "      <td>2002</td>\n",
       "      <td>manual</td>\n",
       "      <td>100</td>\n",
       "      <td>golf</td>\n",
       "      <td>150000</td>\n",
       "      <td>gasoline</td>\n",
       "      <td>volkswagen</td>\n",
       "      <td>NaN</td>\n",
       "    </tr>\n",
       "  </tbody>\n",
       "</table>\n",
       "<p>354365 rows × 10 columns</p>\n",
       "</div>"
      ],
      "text/plain": [
       "        price vehicle_type  registration_year gearbox  power        model  \\\n",
       "0         480          NaN               1993  manual      0         golf   \n",
       "1       18300        coupe               2011  manual    190          NaN   \n",
       "2        9800          suv               2004    auto    163        grand   \n",
       "3        1500        small               2001  manual     75         golf   \n",
       "4        3600        small               2008  manual     69        fabia   \n",
       "...       ...          ...                ...     ...    ...          ...   \n",
       "354364      0          NaN               2005  manual      0         colt   \n",
       "354365   2200          NaN               2005     NaN      0          NaN   \n",
       "354366   1199  convertible               2000    auto    101       fortwo   \n",
       "354367   9200          bus               1996  manual    102  transporter   \n",
       "354368   3400        wagon               2002  manual    100         golf   \n",
       "\n",
       "        kilometer fuel_type           brand repaired  \n",
       "0          150000    petrol      volkswagen      NaN  \n",
       "1          125000  gasoline            audi      yes  \n",
       "2          125000  gasoline            jeep      NaN  \n",
       "3          150000    petrol      volkswagen       no  \n",
       "4           90000  gasoline           skoda       no  \n",
       "...           ...       ...             ...      ...  \n",
       "354364     150000    petrol      mitsubishi      yes  \n",
       "354365      20000       NaN  sonstige_autos      NaN  \n",
       "354366     125000    petrol           smart       no  \n",
       "354367     150000  gasoline      volkswagen       no  \n",
       "354368     150000  gasoline      volkswagen      NaN  \n",
       "\n",
       "[354365 rows x 10 columns]"
      ]
     },
     "execution_count": 14,
     "metadata": {},
     "output_type": "execute_result"
    }
   ],
   "source": [
    "# Посмотрим на оставшиеся столбцы\n",
    "\n",
    "df"
   ]
  },
  {
   "cell_type": "code",
   "execution_count": 15,
   "metadata": {
    "colab": {
     "base_uri": "https://localhost:8080/",
     "height": 1000
    },
    "id": "VYO4LlHb1ldO",
    "outputId": "3914035a-6aa3-4f62-f4d9-3a7e5a8e7cd7"
   },
   "outputs": [
    {
     "data": {
      "image/png": "[encoded data removed]",
      "text/plain": [
       "<Figure size 864x288 with 2 Axes>"
      ]
     },
     "metadata": {
      "needs_background": "light"
     },
     "output_type": "display_data"
    },
    {
     "data": {
      "image/png": "[encoded data removed]",
      "text/plain": [
       "<Figure size 864x288 with 2 Axes>"
      ]
     },
     "metadata": {
      "needs_background": "light"
     },
     "output_type": "display_data"
    },
    {
     "data": {
      "image/png": "[encoded data removed]",
      "text/plain": [
       "<Figure size 864x288 with 2 Axes>"
      ]
     },
     "metadata": {
      "needs_background": "light"
     },
     "output_type": "display_data"
    },
    {
     "data": {
      "image/png": "[encoded data removed]",
      "text/plain": [
       "<Figure size 864x288 with 2 Axes>"
      ]
     },
     "metadata": {
      "needs_background": "light"
     },
     "output_type": "display_data"
    }
   ],
   "source": [
    "# Изучим нулевые значения и выбросы числовых столбцов\n",
    "\n",
    "def graf_plot(df, cols):\n",
    "    for col in cols:\n",
    "        plt.figure(figsize=(12, 4))\n",
    "\n",
    "        plt.subplot(1, 2, 1)\n",
    "        sns.boxplot(data=df, y=col)\n",
    "        plt.title(f'Диаграмма размаха {col}')\n",
    "\n",
    "        plt.subplot(1, 2, 2)\n",
    "        sns.histplot(data=df, x=col, kde=True, bins=30)\n",
    "        plt.title(f'Разброс значений {col}')\n",
    "\n",
    "        plt.tight_layout()\n",
    "        plt.show()\n",
    "\n",
    "cols = ['price', 'registration_year', 'power', 'kilometer']\n",
    "graf_plot(df, cols)"
   ]
  },
  {
   "cell_type": "markdown",
   "metadata": {
    "id": "tVyI8IxR1ldO"
   },
   "source": [
    "На основании увиденного необходимо:\n",
    "\n",
    "- price - удалить строки с ценой меньше 500 евро так как все что дешевле это уже не автомобиль, а рухлядь.\n",
    "- registration_year - удалить строки со значениями годов менее 1980 года так как ценообразование раритетных машин имеет иную природу чем у не раритетных авто, а также удалим строки с годами больше 2016 года, который является максимальным годом актуальности данных выгрузки. Автомобиль считается раритетным по достижению 30 лет.\n",
    "- power - удалим строки в которых значения мощности лежат в интервале меньше 10лс (у меня газонокосилка мощностью 5лс) и больше 1500 лс так как даже 1500 это уже какие-то суперкары, не думаю, что пользователи через приложение будут продавать что-то мощнее.\n",
    "- kilometer - пробеги не трогаем, даже если нулевой пробег, то может это просто потому что поставили новый или откапиталили старый двигатель."
   ]
  },
  {
   "cell_type": "code",
   "execution_count": 16,
   "metadata": {
    "id": "KtfOJVnn1ldP"
   },
   "outputs": [],
   "source": [
    "# Произведем преобразования с количественными столобцами\n",
    "\n",
    "df = df[df['price'] >= 500]"
   ]
  },
  {
   "cell_type": "code",
   "execution_count": 17,
   "metadata": {
    "id": "Hjaab2o_ZUBl"
   },
   "outputs": [],
   "source": [
    "df = df[(df['registration_year'] >= 1985) & (df['registration_year'] <= 2016)]"
   ]
  },
  {
   "cell_type": "code",
   "execution_count": 18,
   "metadata": {
    "id": "okZa8yhiZUBm"
   },
   "outputs": [],
   "source": [
    "df = df[(df['power'] > 10) & (df['power'] <= 1500)]"
   ]
  },
  {
   "cell_type": "code",
   "execution_count": 20,
   "metadata": {
    "colab": {
     "base_uri": "https://localhost:8080/",
     "height": 803
    },
    "id": "TgQTXIHhbbaI",
    "outputId": "7c6a9ff3-11cc-4662-ad37-426933e5ef86"
   },
   "outputs": [
    {
     "data": {
      "image/png": "[encoded data removed]",
      "text/plain": [
       "<Figure size 720x576 with 2 Axes>"
      ]
     },
     "metadata": {
      "needs_background": "light"
     },
     "output_type": "display_data"
    }
   ],
   "source": [
    "# Построим матрицу корреляций на основе хи-квадрат статистики\n",
    "\n",
    "corr_matrix_phik = df.phik_matrix(interval_cols=['price', 'power'])\n",
    "strong_correlations = corr_matrix_phik[(corr_matrix_phik > 0.5) | (corr_matrix_phik < -0.5)]\n",
    "plt.figure(figsize=(10, 8))\n",
    "sns.heatmap(strong_correlations, annot=True, cmap='coolwarm', linewidths=.5)\n",
    "plt.title('Матрица корреляций (phik)')\n",
    "plt.show()"
   ]
  },
  {
   "cell_type": "markdown",
   "metadata": {
    "id": "mYiiIs-H1ldP"
   },
   "source": [
    "На основе результатов построенной матрицы корреляции phik можно сделать следующие выводы:\n",
    "\n",
    "- Марка автомобиля и модель имеют полную положительную корреляцию, что можно объяснить тем, что конкретная модель всегда связана с конкретным брендом.\n",
    "- Сильная корреляция между типом кузова и моделью автомобиля указывает на то, что выбор модели автомобиля часто связан с предпочитаемым типом кузова.\n",
    "- Умеренная положительная корреляция между ценой и годом регистрации, моделью и годом регистрации, моделью и типом коробки передач, моделью и мощностью, а также маркой и типом кузова, свидетельствует о том, что эти переменные связаны.\n",
    "- Слабая положительная корреляция между моделью и ценой, моделью и типом топливной системы, маркой и типом коробки передач и мощностью и типом коробки передач показывает, что хотя между этими переменными и существует некоторый уровень связи, довольно много других факторов могут влиять на эти взаимосвязи."
   ]
  },
  {
   "cell_type": "markdown",
   "metadata": {
    "id": "x-0UVCVY1ldP"
   },
   "source": [
    "Поработаем с пропусками в категориальных столбцах:\n",
    "- vehicle_type (вид кузова) 11%\n",
    "- gearbox (тип коробки передач) 6%\n",
    "- model (модель авто) 6%\n",
    "- fuel_type (вид топливной системы) 9%\n",
    "- repaired (был ли авто в ремонте или нет) 20%\n",
    "\n",
    "Для этого:\n",
    "\n",
    "- заменим отсутствующие данные на unknkwn"
   ]
  },
  {
   "cell_type": "code",
   "execution_count": 22,
   "metadata": {
    "id": "ECm00zpyZUBs"
   },
   "outputs": [],
   "source": [
    "# Произведем преобразования с категориальными столбцами\n",
    "\n",
    "columns_to_fill = ['vehicle_type', 'gearbox', 'model', 'fuel_type', 'repaired']\n",
    "\n",
    "for column in columns_to_fill:\n",
    "  df[column] = df[column].fillna(f'unknown')"
   ]
  },
  {
   "cell_type": "code",
   "execution_count": 23,
   "metadata": {
    "colab": {
     "base_uri": "https://localhost:8080/"
    },
    "id": "KZKRF-7u1ldQ",
    "outputId": "9b5ae36a-c2aa-4c55-adbb-a933faf8880d"
   },
   "outputs": [
    {
     "name": "stdout",
     "output_type": "stream",
     "text": [
      "price                0\n",
      "vehicle_type         0\n",
      "registration_year    0\n",
      "gearbox              0\n",
      "power                0\n",
      "model                0\n",
      "kilometer            0\n",
      "fuel_type            0\n",
      "brand                0\n",
      "repaired             0\n",
      "dtype: int64\n"
     ]
    }
   ],
   "source": [
    "# Убедимся, что пропуски отсутствуют\n",
    "\n",
    "print(df.isnull().sum())"
   ]
  },
  {
   "cell_type": "code",
   "execution_count": 24,
   "metadata": {
    "colab": {
     "base_uri": "https://localhost:8080/"
    },
    "id": "SNS_3Dvw1ldQ",
    "outputId": "abb0f308-f4fe-4a7e-984a-df930c67989e"
   },
   "outputs": [
    {
     "data": {
      "text/plain": [
       "37438"
      ]
     },
     "execution_count": 24,
     "metadata": {},
     "output_type": "execute_result"
    }
   ],
   "source": [
    "# Снова проверим на дубликаты так как они могли появиться после удаления столбцов\n",
    "\n",
    "df.duplicated().sum()"
   ]
  },
  {
   "cell_type": "code",
   "execution_count": 25,
   "metadata": {
    "colab": {
     "base_uri": "https://localhost:8080/"
    },
    "id": "7pkk97nx1ldQ",
    "outputId": "af12109f-a8f0-4781-f849-210aac4e3e72"
   },
   "outputs": [
    {
     "data": {
      "text/plain": [
       "0"
      ]
     },
     "execution_count": 25,
     "metadata": {},
     "output_type": "execute_result"
    }
   ],
   "source": [
    "# Удалим дубликаты и проверим результат\n",
    "\n",
    "df = df.drop_duplicates()\n",
    "df.duplicated().sum()"
   ]
  },
  {
   "cell_type": "code",
   "execution_count": 26,
   "metadata": {
    "colab": {
     "base_uri": "https://localhost:8080/",
     "height": 424
    },
    "id": "JIqpQUCc1ldQ",
    "outputId": "fc873208-dbc2-46e3-fc69-bcf0a63467bd"
   },
   "outputs": [
    {
     "data": {
      "text/html": [
       "<div>\n",
       "<style scoped>\n",
       "    .dataframe tbody tr th:only-of-type {\n",
       "        vertical-align: middle;\n",
       "    }\n",
       "\n",
       "    .dataframe tbody tr th {\n",
       "        vertical-align: top;\n",
       "    }\n",
       "\n",
       "    .dataframe thead th {\n",
       "        text-align: right;\n",
       "    }\n",
       "</style>\n",
       "<table border=\"1\" class=\"dataframe\">\n",
       "  <thead>\n",
       "    <tr style=\"text-align: right;\">\n",
       "      <th></th>\n",
       "      <th>price</th>\n",
       "      <th>vehicle_type</th>\n",
       "      <th>registration_year</th>\n",
       "      <th>gearbox</th>\n",
       "      <th>power</th>\n",
       "      <th>model</th>\n",
       "      <th>kilometer</th>\n",
       "      <th>fuel_type</th>\n",
       "      <th>brand</th>\n",
       "      <th>repaired</th>\n",
       "    </tr>\n",
       "  </thead>\n",
       "  <tbody>\n",
       "    <tr>\n",
       "      <th>1</th>\n",
       "      <td>18300</td>\n",
       "      <td>coupe</td>\n",
       "      <td>2011</td>\n",
       "      <td>manual</td>\n",
       "      <td>190</td>\n",
       "      <td>unknown</td>\n",
       "      <td>125000</td>\n",
       "      <td>gasoline</td>\n",
       "      <td>audi</td>\n",
       "      <td>yes</td>\n",
       "    </tr>\n",
       "    <tr>\n",
       "      <th>2</th>\n",
       "      <td>9800</td>\n",
       "      <td>suv</td>\n",
       "      <td>2004</td>\n",
       "      <td>auto</td>\n",
       "      <td>163</td>\n",
       "      <td>grand</td>\n",
       "      <td>125000</td>\n",
       "      <td>gasoline</td>\n",
       "      <td>jeep</td>\n",
       "      <td>unknown</td>\n",
       "    </tr>\n",
       "    <tr>\n",
       "      <th>3</th>\n",
       "      <td>1500</td>\n",
       "      <td>small</td>\n",
       "      <td>2001</td>\n",
       "      <td>manual</td>\n",
       "      <td>75</td>\n",
       "      <td>golf</td>\n",
       "      <td>150000</td>\n",
       "      <td>petrol</td>\n",
       "      <td>volkswagen</td>\n",
       "      <td>no</td>\n",
       "    </tr>\n",
       "    <tr>\n",
       "      <th>4</th>\n",
       "      <td>3600</td>\n",
       "      <td>small</td>\n",
       "      <td>2008</td>\n",
       "      <td>manual</td>\n",
       "      <td>69</td>\n",
       "      <td>fabia</td>\n",
       "      <td>90000</td>\n",
       "      <td>gasoline</td>\n",
       "      <td>skoda</td>\n",
       "      <td>no</td>\n",
       "    </tr>\n",
       "    <tr>\n",
       "      <th>5</th>\n",
       "      <td>650</td>\n",
       "      <td>sedan</td>\n",
       "      <td>1995</td>\n",
       "      <td>manual</td>\n",
       "      <td>102</td>\n",
       "      <td>3er</td>\n",
       "      <td>150000</td>\n",
       "      <td>petrol</td>\n",
       "      <td>bmw</td>\n",
       "      <td>yes</td>\n",
       "    </tr>\n",
       "    <tr>\n",
       "      <th>...</th>\n",
       "      <td>...</td>\n",
       "      <td>...</td>\n",
       "      <td>...</td>\n",
       "      <td>...</td>\n",
       "      <td>...</td>\n",
       "      <td>...</td>\n",
       "      <td>...</td>\n",
       "      <td>...</td>\n",
       "      <td>...</td>\n",
       "      <td>...</td>\n",
       "    </tr>\n",
       "    <tr>\n",
       "      <th>354361</th>\n",
       "      <td>5250</td>\n",
       "      <td>unknown</td>\n",
       "      <td>2016</td>\n",
       "      <td>auto</td>\n",
       "      <td>150</td>\n",
       "      <td>159</td>\n",
       "      <td>150000</td>\n",
       "      <td>unknown</td>\n",
       "      <td>alfa_romeo</td>\n",
       "      <td>no</td>\n",
       "    </tr>\n",
       "    <tr>\n",
       "      <th>354362</th>\n",
       "      <td>3200</td>\n",
       "      <td>sedan</td>\n",
       "      <td>2004</td>\n",
       "      <td>manual</td>\n",
       "      <td>225</td>\n",
       "      <td>leon</td>\n",
       "      <td>150000</td>\n",
       "      <td>petrol</td>\n",
       "      <td>seat</td>\n",
       "      <td>yes</td>\n",
       "    </tr>\n",
       "    <tr>\n",
       "      <th>354366</th>\n",
       "      <td>1199</td>\n",
       "      <td>convertible</td>\n",
       "      <td>2000</td>\n",
       "      <td>auto</td>\n",
       "      <td>101</td>\n",
       "      <td>fortwo</td>\n",
       "      <td>125000</td>\n",
       "      <td>petrol</td>\n",
       "      <td>smart</td>\n",
       "      <td>no</td>\n",
       "    </tr>\n",
       "    <tr>\n",
       "      <th>354367</th>\n",
       "      <td>9200</td>\n",
       "      <td>bus</td>\n",
       "      <td>1996</td>\n",
       "      <td>manual</td>\n",
       "      <td>102</td>\n",
       "      <td>transporter</td>\n",
       "      <td>150000</td>\n",
       "      <td>gasoline</td>\n",
       "      <td>volkswagen</td>\n",
       "      <td>no</td>\n",
       "    </tr>\n",
       "    <tr>\n",
       "      <th>354368</th>\n",
       "      <td>3400</td>\n",
       "      <td>wagon</td>\n",
       "      <td>2002</td>\n",
       "      <td>manual</td>\n",
       "      <td>100</td>\n",
       "      <td>golf</td>\n",
       "      <td>150000</td>\n",
       "      <td>gasoline</td>\n",
       "      <td>volkswagen</td>\n",
       "      <td>unknown</td>\n",
       "    </tr>\n",
       "  </tbody>\n",
       "</table>\n",
       "<p>238427 rows × 10 columns</p>\n",
       "</div>"
      ],
      "text/plain": [
       "        price vehicle_type  registration_year gearbox  power        model  \\\n",
       "1       18300        coupe               2011  manual    190      unknown   \n",
       "2        9800          suv               2004    auto    163        grand   \n",
       "3        1500        small               2001  manual     75         golf   \n",
       "4        3600        small               2008  manual     69        fabia   \n",
       "5         650        sedan               1995  manual    102          3er   \n",
       "...       ...          ...                ...     ...    ...          ...   \n",
       "354361   5250      unknown               2016    auto    150          159   \n",
       "354362   3200        sedan               2004  manual    225         leon   \n",
       "354366   1199  convertible               2000    auto    101       fortwo   \n",
       "354367   9200          bus               1996  manual    102  transporter   \n",
       "354368   3400        wagon               2002  manual    100         golf   \n",
       "\n",
       "        kilometer fuel_type       brand repaired  \n",
       "1          125000  gasoline        audi      yes  \n",
       "2          125000  gasoline        jeep  unknown  \n",
       "3          150000    petrol  volkswagen       no  \n",
       "4           90000  gasoline       skoda       no  \n",
       "5          150000    petrol         bmw      yes  \n",
       "...           ...       ...         ...      ...  \n",
       "354361     150000   unknown  alfa_romeo       no  \n",
       "354362     150000    petrol        seat      yes  \n",
       "354366     125000    petrol       smart       no  \n",
       "354367     150000  gasoline  volkswagen       no  \n",
       "354368     150000  gasoline  volkswagen  unknown  \n",
       "\n",
       "[238427 rows x 10 columns]"
      ]
     },
     "execution_count": 26,
     "metadata": {},
     "output_type": "execute_result"
    }
   ],
   "source": [
    "df"
   ]
  },
  {
   "cell_type": "markdown",
   "metadata": {
    "id": "cxszI9nP1ldR"
   },
   "source": [
    "Промежуточный вывод:\n",
    "    \n",
    "- Загрузили датасет\n",
    "- Изучили данные\n",
    "- Выявили ненужные для предсказания данные, нулевые значения, пропуски, выбросы\n",
    "- Преобразовали данные: удалили дубликаты, заполнили пропуски, удалили лишние столбцы итд."
   ]
  },
  {
   "cell_type": "markdown",
   "metadata": {
    "id": "vCn9D3ux1ldR"
   },
   "source": [
    "## Обучение моделей"
   ]
  },
  {
   "cell_type": "markdown",
   "metadata": {
    "id": "80a0mZL21ldR"
   },
   "source": [
    "### Подготовка данных для обучения"
   ]
  },
  {
   "cell_type": "code",
   "execution_count": 27,
   "metadata": {
    "id": "yxH60LoB1ldR"
   },
   "outputs": [],
   "source": [
    "# Создадим матрицу признаков и вектор целевой переменной из исходного датасета\n",
    "\n",
    "X = df.drop('price', axis=1)\n",
    "y = df['price']"
   ]
  },
  {
   "cell_type": "code",
   "execution_count": 28,
   "metadata": {
    "id": "4Jjx6HFG1ldR"
   },
   "outputs": [],
   "source": [
    "# Создадим для бустинговых моделей обучающую, валидационную\n",
    "# и тестовую выборки из исходного датасета\n",
    "\n",
    "X_train, X_temp, y_train, y_temp = train_test_split(X, y,\n",
    "                                   test_size=0.4,\n",
    "                                   random_state=RANDOM_STATE)\n",
    "X_val, X_test, y_val, y_test = train_test_split(X_temp, y_temp,\n",
    "                                 test_size=0.5,\n",
    "                                 random_state=RANDOM_STATE)"
   ]
  },
  {
   "cell_type": "code",
   "execution_count": 29,
   "metadata": {
    "colab": {
     "base_uri": "https://localhost:8080/"
    },
    "id": "mG_QnmhswIMi",
    "outputId": "50513599-d1cb-4705-b698-968ca6005bcf"
   },
   "outputs": [
    {
     "name": "stdout",
     "output_type": "stream",
     "text": [
      "Размеры выборок для исходных данных:\n",
      "X: (238427, 9)\n",
      "y: (238427,)\n",
      "X_train: (143056, 9)\n",
      "X_val: (47685, 9)\n",
      "X_test: (47686, 9)\n",
      "y_train: (143056,)\n",
      "y_val: (47685,)\n",
      "y_test: (47686,)\n"
     ]
    }
   ],
   "source": [
    "print(\"Размеры выборок для исходных данных:\")\n",
    "print(\"X:\", X.shape)\n",
    "print(\"y:\", y.shape)\n",
    "print(\"X_train:\", X_train.shape)\n",
    "print(\"X_val:\", X_val.shape)\n",
    "print(\"X_test:\", X_test.shape)\n",
    "print(\"y_train:\", y_train.shape)\n",
    "print(\"y_val:\", y_val.shape)\n",
    "print(\"y_test:\", y_test.shape)"
   ]
  },
  {
   "cell_type": "code",
   "execution_count": 30,
   "metadata": {
    "id": "5MR09k9SnOXH"
   },
   "outputs": [],
   "source": [
    "# Определим категориальные и численные признаки\n",
    "\n",
    "categorical_features = ['vehicle_type', 'registration_year', 'gearbox', 'model', 'kilometer', 'fuel_type', 'brand', 'repaired']\n",
    "num_features = ['power']"
   ]
  },
  {
   "cell_type": "code",
   "execution_count": 31,
   "metadata": {
    "id": "ArCC5ODEPcPO"
   },
   "outputs": [],
   "source": [
    "# Создадим отдельные датасеты для кодирования OHE\n",
    "\n",
    "X_train_ridge = X_train.copy()\n",
    "X_val_ridge = X_val.copy()\n",
    "X_test_ridge = X_test.copy()"
   ]
  },
  {
   "cell_type": "code",
   "execution_count": null,
   "metadata": {
    "colab": {
     "base_uri": "https://localhost:8080/",
     "height": 226
    },
    "id": "6CZ4rOAxSYDz",
    "outputId": "6c2ce3b5-25f5-4e75-8148-70f2a3fd26ff"
   },
   "outputs": [],
   "source": [
    "# Создадим энкодер\n",
    "encoder_ohe = OneHotEncoder(drop='first', handle_unknown='ignore', sparse=False)\n",
    "\n",
    "# Проверим были ли уже закодированы признаки ранее\n",
    "if set(categorical_features).issubset(X_train_ridge.columns):\n",
    "    # Обучим энкодер на заданных категориальных признаках тренировочной выборки\n",
    "    encoder_ohe.fit(X_train_ridge[categorical_features])\n",
    "\n",
    "    # Добавим закодированные признаки в X_train_ridge\n",
    "    # Теперь здесь мы спокойно можем дергать get_feature_names_out, т.к. fit уже был вызван\n",
    "    X_train_ridge = pd.concat([\n",
    "        X_train_ridge.drop(categorical_features, axis=1),\n",
    "        pd.DataFrame(encoder_ohe.transform(X_train_ridge[categorical_features]),\n",
    "                     columns=encoder_ohe.get_feature_names_out(), index=X_train_ridge.index)\n",
    "        ], axis=1)\n",
    "\n",
    "# Создадим scaler\n",
    "scaler = StandardScaler()\n",
    "\n",
    "# Проверим было ли уже проведено масштабирование\n",
    "if not np.isclose(X_train_ridge[num_features].values.std(), 1.0):\n",
    "  X_train_ridge[num_features] = scaler.fit_transform(X_train_ridge[num_features])\n",
    "\n",
    "# Изучим результат\n",
    "X_train_ridge.head()"
   ]
  },
  {
   "cell_type": "code",
   "execution_count": null,
   "metadata": {
    "id": "cGeeG9dxg0Mi"
   },
   "outputs": [],
   "source": [
    "# Добавим проверку присутствуют ли исходные категориальные столбцы в данных\n",
    "if set(categorical_features).issubset(X_val_ridge.columns):\n",
    "    # Если да, применим OneHotEncoder к ним\n",
    "    X_val_ridge[encoder_ohe.get_feature_names_out()] = encoder_ohe.transform(X_val_ridge[categorical_features])\n",
    "    # Удалим исходные столбцы, поскольку они теперь преобразованы\n",
    "    X_val_ridge = X_val_ridge.drop(categorical_features, axis=1)\n",
    "else:\n",
    "    # Если столбцов нет, они были уже преобразованы\n",
    "    print(\"OneHotEncoder был применен ранее\")\n",
    "\n",
    "# Проверим были ли уже масштабированы числовые признаки\n",
    "if np.isclose(X_val_ridge[num_features].values.std(), 1.0):\n",
    "    # Если дисперсия близка к 1, масштабирование уже произведено\n",
    "    print(\"Количественные признаки скалированы ранее\")\n",
    "else:\n",
    "    # Если нет масштабируем их\n",
    "    X_val_ridge[num_features] = scaler.transform(X_val_ridge[num_features])"
   ]
  },
  {
   "cell_type": "code",
   "execution_count": null,
   "metadata": {
    "colab": {
     "base_uri": "https://localhost:8080/"
    },
    "id": "vpKdPatMSu16",
    "outputId": "ac2aadad-e7fd-4a7a-cc27-c6917bad7e35"
   },
   "outputs": [],
   "source": [
    "# Проверим соответствие размеров\n",
    "print(X_train_ridge.shape)\n",
    "print(X_val_ridge.shape)"
   ]
  },
  {
   "cell_type": "markdown",
   "metadata": {
    "id": "Imab0XJT7qSA"
   },
   "source": [
    "Столбцы равны"
   ]
  },
  {
   "cell_type": "code",
   "execution_count": null,
   "metadata": {
    "id": "mRkP_nV-gHAm"
   },
   "outputs": [],
   "source": [
    "# Подготовим датасет для хранения результатов исследования\n",
    "\n",
    "results_tab = pd.DataFrame(columns=['n/n', 'RMSE', 'Обучение, сек', 'Предсказание, сек'])"
   ]
  },
  {
   "cell_type": "markdown",
   "metadata": {
    "id": "BhGkmNvE1ldY"
   },
   "source": [
    "### Обучение CatBoost"
   ]
  },
  {
   "cell_type": "code",
   "execution_count": null,
   "metadata": {
    "colab": {
     "base_uri": "https://localhost:8080/"
    },
    "id": "NYIq3BYqIhOf",
    "outputId": "69950609-9e39-4ba6-9efa-3e4ea988455b"
   },
   "outputs": [],
   "source": [
    "# Укажем гиперпараметры\n",
    "param_grid = {\n",
    "    'learning_rate': [0.4, 0.6],\n",
    "    'iterations': [100, 500]\n",
    "}\n",
    "\n",
    "best_score = np.inf\n",
    "best_params = None\n",
    "best_model = None\n",
    "\n",
    "# Переберем гиперпараметры\n",
    "print(f\"Идет поиск лучших гиперпараметров ...\")\n",
    "for params in ParameterGrid(param_grid):\n",
    "     model_cbr = CatBoostRegressor(**params,\n",
    "                                   random_state=RANDOM_STATE,\n",
    "                                   verbose=0,\n",
    "                                   thread_count=-1)\n",
    "     start_time = time.time()\n",
    "     model_cbr.fit(X_train, y_train, cat_features=categorical_features)\n",
    "     training_time = time.time() - start_time\n",
    "     pred = model_cbr.predict(X_val)\n",
    "     score = np.sqrt(mean_squared_error(y_val, pred))\n",
    "     if score < best_score:\n",
    "         best_score = score\n",
    "         best_params = params\n",
    "         best_model = model_cbr\n",
    "         best_training_time = training_time\n",
    "\n",
    "print(f\"Лучшие гиперпараметры: {best_params}\")\n",
    "print()\n",
    "\n",
    "# Произведем обучение\n",
    "print(f\"Идет обучение на лучших гиперпараметрах ...\")\n",
    "model_cbr = CatBoostRegressor(**best_params,\n",
    "                              random_state=RANDOM_STATE,\n",
    "                              verbose=0,\n",
    "                              thread_count=-1)\n",
    "start_time = time.time()\n",
    "model_cbr.fit(X_train, y_train, cat_features=categorical_features)\n",
    "CB_training_time = time.time() - start_time\n",
    "print()\n",
    "print(f\"Время обучения на train: {CB_training_time}\")\n",
    "\n",
    "# Произведем предсказание\n",
    "start_time = time.time()\n",
    "pred = model_cbr.predict(X_val)\n",
    "CB_prediction_time = time.time() - start_time\n",
    "print(f\"Время предсказания на valid: {CB_prediction_time}\")"
   ]
  },
  {
   "cell_type": "code",
   "execution_count": null,
   "metadata": {
    "colab": {
     "base_uri": "https://localhost:8080/"
    },
    "id": "EWvLSefhjY5K",
    "outputId": "ff0a0687-2421-4847-f02a-6b4698251077"
   },
   "outputs": [],
   "source": [
    "# Вычислим RMSE\n",
    "CB_rmse = np.sqrt(mean_squared_error(y_val, pred))\n",
    "print(f\"RMSE на valid: {CB_rmse}\")\n",
    "\n",
    "results_tab = results_tab.append(pd.Series(['CatBoost', CB_rmse, CB_training_time, CB_prediction_time], index=results_tab.columns), ignore_index=True)"
   ]
  },
  {
   "cell_type": "markdown",
   "metadata": {
    "id": "-N6PMAju1ldZ"
   },
   "source": [
    "### Обучение LightGBM"
   ]
  },
  {
   "cell_type": "code",
   "execution_count": null,
   "metadata": {
    "id": "k9XBuKuVnVxG"
   },
   "outputs": [],
   "source": [
    "X_train_lgbm = X_train.copy()\n",
    "X_val_lgbm = X_val.copy()\n",
    "X_test_lgbm = X_test.copy()\n",
    "\n",
    "#categorical_features = ['vehicle_type', 'gearbox', 'model', 'fuel_type', 'brand', 'repaired']\n",
    "\n",
    "for feature in categorical_features:\n",
    "    X_train_lgbm[feature] = X_train_lgbm[feature].astype('category')\n",
    "    X_val_lgbm[feature] = X_val_lgbm[feature].astype('category')\n",
    "    X_test_lgbm[feature] = X_test_lgbm[feature].astype('category')\n",
    "\n",
    "cat_features = [X_train_lgbm.columns.get_loc(col) for col in categorical_features]"
   ]
  },
  {
   "cell_type": "code",
   "execution_count": null,
   "metadata": {
    "colab": {
     "base_uri": "https://localhost:8080/"
    },
    "id": "KxeUGbSDj172",
    "outputId": "8bac1d8a-26d7-45d2-f825-71ee514686af"
   },
   "outputs": [],
   "source": [
    "# Укажем гиперпараметры\n",
    "param_grid = {\n",
    "    'learning_rate': [0.2, 0.4, 0.8],\n",
    "    'num_leaves': [150, 200],\n",
    "    'max_depth': [40, 50]\n",
    "}\n",
    "\n",
    "best_score = np.inf\n",
    "best_params = None\n",
    "best_model = None\n",
    "\n",
    "# Переберем гиперпараметры\n",
    "print(f\"Идет поиск лучших гиперпараметров ...\")\n",
    "for params in ParameterGrid(param_grid):\n",
    "     model_lgbr = LGBMRegressor(**params,\n",
    "                                random_state=RANDOM_STATE,\n",
    "                                n_jobs=-1,\n",
    "                                verbose=-1)\n",
    "     start_time = time.time()\n",
    "     model_lgbr.fit(X_train_lgbm, y_train, categorical_feature=cat_features)\n",
    "     training_time = time.time() - start_time\n",
    "     pred = model_lgbr.predict(X_val_lgbm)\n",
    "     score = np.sqrt(mean_squared_error(y_val, pred))\n",
    "     if score < best_score:\n",
    "         best_score = score\n",
    "         best_params = params\n",
    "         best_model = model_lgbr\n",
    "         best_training_time = training_time\n",
    "\n",
    "print(f\"Лучшие гиперпараметры: {best_params}\")\n",
    "print()\n",
    "\n",
    "# Произведем обучение\n",
    "print(f\"Идет обучение на лучших гиперпараметрах ...\")\n",
    "model_lgbr = LGBMRegressor(**best_params,\n",
    "                           random_state=RANDOM_STATE,\n",
    "                           n_jobs=-1,\n",
    "                           verbose=-1)\n",
    "start_time = time.time()\n",
    "model_lgbr.fit(X_train_lgbm, y_train, categorical_feature=cat_features)\n",
    "LGBM_training_time = time.time() - start_time\n",
    "print()\n",
    "print(f\"Время обучения на train: {LGBM_training_time}\")\n",
    "\n",
    "# Произведем предсказание\n",
    "start_time = time.time()\n",
    "pred = model_lgbr.predict(X_val_lgbm)\n",
    "LGBM_prediction_time = time.time() - start_time\n",
    "print(f\"Время предсказания на valid: {LGBM_prediction_time}\")\n"
   ]
  },
  {
   "cell_type": "code",
   "execution_count": null,
   "metadata": {
    "colab": {
     "base_uri": "https://localhost:8080/"
    },
    "id": "QfNWA-Mbru_g",
    "outputId": "d5ad0423-6bcd-4215-bb4a-4a0ed08e0ed6"
   },
   "outputs": [],
   "source": [
    "# Вычислим RMSE\n",
    "LGBM_rmse = np.sqrt(mean_squared_error(y_val, pred))\n",
    "print(f\"RMSE на valid: {LGBM_rmse}\")\n",
    "\n",
    "results_tab = results_tab.append(pd.Series(['LightGBM', LGBM_rmse, LGBM_training_time, LGBM_prediction_time], index=results_tab.columns), ignore_index=True)"
   ]
  },
  {
   "cell_type": "markdown",
   "metadata": {
    "id": "wpG9nsnlNCTR"
   },
   "source": [
    "### Обучение Ridge"
   ]
  },
  {
   "cell_type": "code",
   "execution_count": null,
   "metadata": {
    "colab": {
     "base_uri": "https://localhost:8080/"
    },
    "id": "tpUdk2AxNGQ5",
    "outputId": "073b96fb-dd82-497e-f1e5-1191a80cd009"
   },
   "outputs": [],
   "source": [
    "# Укажем гиперпараметры\n",
    "param_grid = {\n",
    "    'alpha': np.arange(0, 0.01, 0.05, 0.1)\n",
    "}\n",
    "\n",
    "best_score = np.inf\n",
    "best_params = None\n",
    "best_model = None\n",
    "\n",
    "for params in ParameterGrid(param_grid):\n",
    "     model_ridge = Ridge(**params,\n",
    "                         random_state=RANDOM_STATE)\n",
    "     start_time = time.time()\n",
    "     model_ridge.fit(X_train_ridge, y_train)\n",
    "     training_time = time.time() - start_time\n",
    "     pred = model_ridge.predict(X_val_ridge)\n",
    "     score = np.sqrt(mean_squared_error(y_val, pred))\n",
    "     if score < best_score:\n",
    "         best_score = score\n",
    "         best_params = params\n",
    "         best_model = model_ridge\n",
    "         best_training_time = training_time\n",
    "\n",
    "print(f\"Лучшие гиперпараметры: {best_params}\")\n",
    "print()\n",
    "\n",
    "# Произведем обучение\n",
    "print(f\"Идет обучение на лучших гиперпараметрах ...\")\n",
    "model_ridge = Ridge(**best_params,\n",
    "                    random_state=RANDOM_STATE)\n",
    "\n",
    "start_time = time.time()\n",
    "model_ridge.fit(X_train_ridge, y_train)\n",
    "RIDGE_training_time = time.time() - start_time\n",
    "print()\n",
    "print(f\"Время обучения на train: {RIDGE_training_time}\")\n",
    "\n",
    "# Произведем предсказание\n",
    "start_time = time.time()\n",
    "pred = model_ridge.predict(X_val_ridge)\n",
    "RIDGE_prediction_time = time.time() - start_time\n",
    "print(f\"Время предсказания на valid: {RIDGE_prediction_time}\")"
   ]
  },
  {
   "cell_type": "code",
   "execution_count": null,
   "metadata": {
    "colab": {
     "base_uri": "https://localhost:8080/"
    },
    "id": "sOehe94lnihA",
    "outputId": "4f6cadce-bbaa-4bed-f1a4-52841610ba97"
   },
   "outputs": [],
   "source": [
    "# Вычислим RMSE\n",
    "RIDGE_rmse = np.sqrt(mean_squared_error(y_val, pred))\n",
    "print(f\"RMSE на valid: {RIDGE_rmse}\")\n",
    "\n",
    "results_tab = results_tab.append(pd.Series(['Ridge', RIDGE_rmse, RIDGE_training_time, RIDGE_prediction_time], index=results_tab.columns), ignore_index=True)"
   ]
  },
  {
   "cell_type": "markdown",
   "metadata": {
    "id": "EqLFCAnzOCza"
   },
   "source": [
    "## Анализ моделей"
   ]
  },
  {
   "cell_type": "code",
   "execution_count": null,
   "metadata": {
    "colab": {
     "base_uri": "https://localhost:8080/",
     "height": 144
    },
    "id": "mtzo_ELO7AUU",
    "outputId": "37565ce3-53f5-44bd-fb9c-6574ea40fefb"
   },
   "outputs": [],
   "source": [
    "results_tab"
   ]
  },
  {
   "cell_type": "markdown",
   "metadata": {
    "id": "hn1RuiP1J0te"
   },
   "source": [
    "Лучшая RMSE у LightGBM и CatBoost, но CatBoost проигрывает во времени."
   ]
  },
  {
   "cell_type": "markdown",
   "metadata": {
    "id": "S4HJkaLaZUCA"
   },
   "source": [
    "Используем модель LightGBM для проверки на тестовых данных."
   ]
  },
  {
   "cell_type": "code",
   "execution_count": null,
   "metadata": {
    "colab": {
     "base_uri": "https://localhost:8080/"
    },
    "id": "32W9JN8i5JbB",
    "outputId": "48286c82-b389-4b22-c049-edaaacb622b4"
   },
   "outputs": [],
   "source": [
    "# Проверим модель-победитель на тестовых данных\n",
    "\n",
    "%%time\n",
    "start_time = time.time()\n",
    "\n",
    "best_predict = model_lgbr.predict(X_test_lgbm)\n",
    "\n",
    "end_time = time.time()\n",
    "time_prd = end_time - start_time\n",
    "time_prd"
   ]
  },
  {
   "cell_type": "code",
   "execution_count": null,
   "metadata": {
    "colab": {
     "base_uri": "https://localhost:8080/"
    },
    "id": "3BVExrn35SHE",
    "outputId": "4c5eb916-6fac-4976-d209-95eb1f4ec521"
   },
   "outputs": [],
   "source": [
    "# Вычислим RMSE\n",
    "LGBMMM_rmse = np.sqrt(mean_squared_error(y_test, best_predict))\n",
    "print(f\"RMSE на test: {LGBMMM_rmse}\")"
   ]
  },
  {
   "cell_type": "markdown",
   "metadata": {
    "id": "J0bj3dlkkmIB"
   },
   "source": [
    "Закодируем X_test для проверки константной модели."
   ]
  },
  {
   "cell_type": "code",
   "execution_count": null,
   "metadata": {
    "id": "VKaV-diMkkMs"
   },
   "outputs": [],
   "source": [
    "# Добавим проверку присутствуют ли исходные категориальные столбцы в данных\n",
    "if set(categorical_features).issubset(X_test_ridge.columns):\n",
    "    # Если да, применим OneHotEncoder к ним\n",
    "    X_test_ridge[encoder_ohe.get_feature_names_out()] = encoder_ohe.transform(X_test_ridge[categorical_features])\n",
    "    # Удалим исходные столбцы, поскольку они теперь преобразованы\n",
    "    X_test_ridge = X_test_ridge.drop(categorical_features, axis=1)\n",
    "else:\n",
    "    # Если столбцов нет, они были уже преобразованы\n",
    "    print(\"OneHotEncoder был применен ранее\")\n",
    "\n",
    "# Проверим были ли уже масштабированы числовые признаки\n",
    "if np.isclose(X_test_ridge[num_features].values.std(), 1.0):\n",
    "    # Если дисперсия близка к 1, масштабирование уже произведено\n",
    "    print(\"Количественные признаки скалированы ранее\")\n",
    "else:\n",
    "    # Если нет масштабируем их\n",
    "    X_test_ridge[num_features] = scaler.transform(X_test_ridge[num_features])"
   ]
  },
  {
   "cell_type": "code",
   "execution_count": null,
   "metadata": {
    "colab": {
     "base_uri": "https://localhost:8080/"
    },
    "id": "Go5-OqOel5yE",
    "outputId": "6129b4b1-8a96-4e81-8233-4cfe661e8d4f"
   },
   "outputs": [],
   "source": [
    "# Проверим соответствие размеров\n",
    "print(X_train_ridge.shape)\n",
    "print(X_val_ridge.shape)\n",
    "print(X_test_ridge.shape)"
   ]
  },
  {
   "cell_type": "code",
   "execution_count": null,
   "metadata": {
    "colab": {
     "base_uri": "https://localhost:8080/"
    },
    "id": "mtXD8z1w9UvF",
    "outputId": "fb0f5549-8f62-4d34-90e8-096cd7c85f2d"
   },
   "outputs": [],
   "source": [
    "# Создадим константную модель\n",
    "dummy_model = DummyRegressor(strategy=\"mean\")\n",
    "\n",
    "# Обучите константную модель\n",
    "dummy_model.fit(X_train, y_train)\n",
    "\n",
    "# Предскажите значения с помощью константной модели\n",
    "dummy_predictions = dummy_model.predict(X_test_ridge)\n",
    "\n",
    "# Оцените качество моделей с помощью метрик, например, средней квадратичной ошибки (MSE)\n",
    "rmse_dummy = np.sqrt(mean_squared_error(y_test, dummy_predictions))\n",
    "\n",
    "print(f\"RMSE константной модели: {rmse_dummy}\")"
   ]
  },
  {
   "cell_type": "markdown",
   "metadata": {
    "id": "OfOlB4yj-Bb6"
   },
   "source": [
    "В результате:\n",
    "- RMSE на лучшей модели оказалось значительно меньше чем RMSE на константной модели, что говорит о высоком качестве предсказания."
   ]
  },
  {
   "cell_type": "markdown",
   "metadata": {
    "id": "-cChByh1LHPZ"
   },
   "source": [
    "<b>Общий вывод:</b>\n",
    "\n",
    "В результате произведенного исследования, из трех моделей, наилучший результат показала модель, основанная на LightGBM с оптимальными параметрами. RMSE предсказания valid на этой модели составило всего 1521, что свидетельствует о высокой эффективности этой модели.\n",
    "\n",
    "Подтверждением эффективности модели на практике является то, что при проверке на тестовых данных значение RMSE практически не изменилось и составило 1523. Это говорит о том, что модель LightGBM хорошо обобщает данные и способна предсказывать целевую переменную с высокой точностью.\n",
    "\n",
    "Таким образом, можно сделать вывод о том, что модель на основе LightGBM с лучшими параметрами демонстрирует отличные результаты как на обучающих, так и на тестовых данных, и является предпочтительным выбором для решения данной задачи в которой оговорено условие, что значение метрики RMSE должно быть меньше 2500."
   ]
  }
 ],
 "metadata": {
  "ExecuteTimeLog": [
   {
    "duration": 415,
    "start_time": "2023-10-07T14:25:26.571Z"
   },
   {
    "duration": 1197,
    "start_time": "2023-10-07T14:25:29.395Z"
   },
   {
    "duration": 20,
    "start_time": "2023-10-07T14:25:40.817Z"
   },
   {
    "duration": 784,
    "start_time": "2023-10-07T14:28:06.409Z"
   },
   {
    "duration": 878,
    "start_time": "2023-10-07T14:28:10.520Z"
   },
   {
    "duration": 15,
    "start_time": "2023-10-07T14:28:19.104Z"
   },
   {
    "duration": 97,
    "start_time": "2023-10-07T14:38:46.053Z"
   },
   {
    "duration": 173,
    "start_time": "2023-10-07T14:38:51.039Z"
   },
   {
    "duration": 56,
    "start_time": "2023-10-07T14:43:07.812Z"
   },
   {
    "duration": 24,
    "start_time": "2023-10-07T14:43:19.687Z"
   },
   {
    "duration": 56,
    "start_time": "2023-10-07T14:56:28.863Z"
   },
   {
    "duration": 67,
    "start_time": "2023-10-07T14:56:32.888Z"
   },
   {
    "duration": 1177,
    "start_time": "2023-10-07T19:07:25.690Z"
   },
   {
    "duration": 1269,
    "start_time": "2023-10-07T19:07:26.871Z"
   },
   {
    "duration": 20,
    "start_time": "2023-10-07T19:07:28.142Z"
   },
   {
    "duration": 184,
    "start_time": "2023-10-07T19:07:28.164Z"
   },
   {
    "duration": 59,
    "start_time": "2023-10-07T19:07:28.350Z"
   },
   {
    "duration": 114,
    "start_time": "2023-10-07T19:07:28.410Z"
   },
   {
    "duration": 18,
    "start_time": "2023-10-07T19:10:46.664Z"
   },
   {
    "duration": 23,
    "start_time": "2023-10-07T19:14:13.821Z"
   },
   {
    "duration": 68,
    "start_time": "2023-10-07T19:14:16.358Z"
   },
   {
    "duration": 101,
    "start_time": "2023-10-07T19:17:46.777Z"
   },
   {
    "duration": 15,
    "start_time": "2023-10-07T19:18:06.965Z"
   },
   {
    "duration": 83,
    "start_time": "2023-10-07T19:41:11.702Z"
   },
   {
    "duration": 215,
    "start_time": "2023-10-07T19:41:50.516Z"
   },
   {
    "duration": 3,
    "start_time": "2023-10-07T19:55:43.601Z"
   },
   {
    "duration": 1119,
    "start_time": "2023-10-07T21:12:14.729Z"
   },
   {
    "duration": 879,
    "start_time": "2023-10-07T21:12:15.850Z"
   },
   {
    "duration": 156,
    "start_time": "2023-10-07T21:12:16.732Z"
   },
   {
    "duration": 73,
    "start_time": "2023-10-07T21:12:16.890Z"
   },
   {
    "duration": 15,
    "start_time": "2023-10-07T21:12:16.964Z"
   },
   {
    "duration": 301,
    "start_time": "2023-10-07T21:12:16.980Z"
   },
   {
    "duration": 98,
    "start_time": "2023-10-07T21:12:17.282Z"
   },
   {
    "duration": 16,
    "start_time": "2023-10-07T21:13:07.901Z"
   },
   {
    "duration": 1152,
    "start_time": "2023-10-07T22:26:37.763Z"
   },
   {
    "duration": 780,
    "start_time": "2023-10-07T22:26:38.917Z"
   },
   {
    "duration": 133,
    "start_time": "2023-10-07T22:26:39.698Z"
   },
   {
    "duration": 83,
    "start_time": "2023-10-07T22:26:39.832Z"
   },
   {
    "duration": 13,
    "start_time": "2023-10-07T22:26:39.917Z"
   },
   {
    "duration": 265,
    "start_time": "2023-10-07T22:26:39.931Z"
   },
   {
    "duration": 95,
    "start_time": "2023-10-07T22:26:40.198Z"
   },
   {
    "duration": 15,
    "start_time": "2023-10-07T22:26:40.295Z"
   },
   {
    "duration": 230,
    "start_time": "2023-10-07T22:28:22.469Z"
   },
   {
    "duration": 234,
    "start_time": "2023-10-07T22:30:23.093Z"
   },
   {
    "duration": 1065,
    "start_time": "2023-10-07T22:30:43.603Z"
   },
   {
    "duration": 894,
    "start_time": "2023-10-07T22:30:44.670Z"
   },
   {
    "duration": 146,
    "start_time": "2023-10-07T22:30:45.566Z"
   },
   {
    "duration": 82,
    "start_time": "2023-10-07T22:30:45.714Z"
   },
   {
    "duration": 14,
    "start_time": "2023-10-07T22:30:45.798Z"
   },
   {
    "duration": 364,
    "start_time": "2023-10-07T22:30:45.813Z"
   },
   {
    "duration": 98,
    "start_time": "2023-10-07T22:30:46.179Z"
   },
   {
    "duration": 471,
    "start_time": "2023-10-07T22:30:46.279Z"
   },
   {
    "duration": 20,
    "start_time": "2023-10-07T22:30:46.752Z"
   },
   {
    "duration": 230,
    "start_time": "2023-10-07T22:30:46.775Z"
   },
   {
    "duration": 192,
    "start_time": "2023-10-07T22:33:24.323Z"
   },
   {
    "duration": 1145,
    "start_time": "2023-10-07T22:35:50.490Z"
   },
   {
    "duration": 959,
    "start_time": "2023-10-07T22:35:51.637Z"
   },
   {
    "duration": 158,
    "start_time": "2023-10-07T22:35:52.598Z"
   },
   {
    "duration": 69,
    "start_time": "2023-10-07T22:35:52.758Z"
   },
   {
    "duration": 33,
    "start_time": "2023-10-07T22:35:52.828Z"
   },
   {
    "duration": 298,
    "start_time": "2023-10-07T22:35:52.863Z"
   },
   {
    "duration": 95,
    "start_time": "2023-10-07T22:35:53.163Z"
   },
   {
    "duration": 519,
    "start_time": "2023-10-07T22:35:53.260Z"
   },
   {
    "duration": 997,
    "start_time": "2023-10-07T22:35:53.781Z"
   },
   {
    "duration": 25,
    "start_time": "2023-10-07T22:35:54.780Z"
   },
   {
    "duration": 183,
    "start_time": "2023-10-07T22:35:54.806Z"
   },
   {
    "duration": 22,
    "start_time": "2023-10-07T22:41:36.185Z"
   },
   {
    "duration": 87,
    "start_time": "2023-10-07T22:42:25.323Z"
   },
   {
    "duration": 8,
    "start_time": "2023-10-07T22:42:35.827Z"
   },
   {
    "duration": 406,
    "start_time": "2023-10-07T22:43:07.557Z"
   },
   {
    "duration": 20,
    "start_time": "2023-10-07T22:43:55.823Z"
   },
   {
    "duration": 61,
    "start_time": "2023-10-07T22:54:23.090Z"
   },
   {
    "duration": 6705,
    "start_time": "2023-10-07T22:55:12.133Z"
   },
   {
    "duration": 6432,
    "start_time": "2023-10-07T22:59:04.198Z"
   },
   {
    "duration": 6980,
    "start_time": "2023-10-07T22:59:53.961Z"
   },
   {
    "duration": 7352,
    "start_time": "2023-10-07T23:00:15.817Z"
   },
   {
    "duration": 1816,
    "start_time": "2023-10-07T23:14:10.725Z"
   },
   {
    "duration": 1520,
    "start_time": "2023-10-07T23:14:32.745Z"
   },
   {
    "duration": 6,
    "start_time": "2023-10-07T23:14:48.479Z"
   },
   {
    "duration": 14,
    "start_time": "2023-10-07T23:15:25.457Z"
   },
   {
    "duration": 8,
    "start_time": "2023-10-07T23:16:18.381Z"
   },
   {
    "duration": 67,
    "start_time": "2023-10-07T23:28:30.884Z"
   },
   {
    "duration": 16,
    "start_time": "2023-10-07T23:28:52.611Z"
   },
   {
    "duration": 62,
    "start_time": "2023-10-07T23:35:48.622Z"
   },
   {
    "duration": 24,
    "start_time": "2023-10-07T23:35:51.022Z"
   },
   {
    "duration": 16,
    "start_time": "2023-10-07T23:51:38.725Z"
   },
   {
    "duration": 142,
    "start_time": "2023-10-07T23:51:45.975Z"
   },
   {
    "duration": 24,
    "start_time": "2023-10-07T23:51:53.103Z"
   },
   {
    "duration": 136,
    "start_time": "2023-10-07T23:52:13.793Z"
   },
   {
    "duration": 17,
    "start_time": "2023-10-07T23:52:17.281Z"
   },
   {
    "duration": 187,
    "start_time": "2023-10-07T23:52:42.688Z"
   },
   {
    "duration": 19,
    "start_time": "2023-10-07T23:52:46.384Z"
   },
   {
    "duration": 141,
    "start_time": "2023-10-07T23:53:26.578Z"
   },
   {
    "duration": 1363,
    "start_time": "2023-10-07T23:54:02.920Z"
   },
   {
    "duration": 845,
    "start_time": "2023-10-07T23:54:04.285Z"
   },
   {
    "duration": 150,
    "start_time": "2023-10-07T23:54:05.132Z"
   },
   {
    "duration": 78,
    "start_time": "2023-10-07T23:54:05.284Z"
   },
   {
    "duration": 15,
    "start_time": "2023-10-07T23:54:05.365Z"
   },
   {
    "duration": 277,
    "start_time": "2023-10-07T23:54:05.381Z"
   },
   {
    "duration": 96,
    "start_time": "2023-10-07T23:54:05.660Z"
   },
   {
    "duration": 489,
    "start_time": "2023-10-07T23:54:05.758Z"
   },
   {
    "duration": 1018,
    "start_time": "2023-10-07T23:54:06.249Z"
   },
   {
    "duration": 27,
    "start_time": "2023-10-07T23:54:07.269Z"
   },
   {
    "duration": 16,
    "start_time": "2023-10-07T23:54:07.299Z"
   },
   {
    "duration": 6758,
    "start_time": "2023-10-07T23:54:07.318Z"
   },
   {
    "duration": 80,
    "start_time": "2023-10-07T23:54:14.078Z"
   },
   {
    "duration": 196,
    "start_time": "2023-10-07T23:54:14.160Z"
   },
   {
    "duration": 150,
    "start_time": "2023-10-07T23:54:14.358Z"
   },
   {
    "duration": 182,
    "start_time": "2023-10-07T23:55:13.408Z"
   },
   {
    "duration": 86,
    "start_time": "2023-10-07T23:55:19.992Z"
   },
   {
    "duration": 105,
    "start_time": "2023-10-07T23:55:38.155Z"
   },
   {
    "duration": 26,
    "start_time": "2023-10-07T23:55:42.368Z"
   },
   {
    "duration": 1566,
    "start_time": "2023-10-08T07:49:11.498Z"
   },
   {
    "duration": 1196,
    "start_time": "2023-10-08T07:49:13.066Z"
   },
   {
    "duration": 153,
    "start_time": "2023-10-08T07:49:14.264Z"
   },
   {
    "duration": 72,
    "start_time": "2023-10-08T07:49:14.419Z"
   },
   {
    "duration": 14,
    "start_time": "2023-10-08T07:49:14.493Z"
   },
   {
    "duration": 300,
    "start_time": "2023-10-08T07:49:14.509Z"
   },
   {
    "duration": 97,
    "start_time": "2023-10-08T07:49:14.811Z"
   },
   {
    "duration": 463,
    "start_time": "2023-10-08T07:49:14.911Z"
   },
   {
    "duration": 1020,
    "start_time": "2023-10-08T07:49:15.376Z"
   },
   {
    "duration": 34,
    "start_time": "2023-10-08T07:49:16.398Z"
   },
   {
    "duration": 27,
    "start_time": "2023-10-08T07:49:16.433Z"
   },
   {
    "duration": 7179,
    "start_time": "2023-10-08T07:49:16.462Z"
   },
   {
    "duration": 62,
    "start_time": "2023-10-08T07:49:23.642Z"
   },
   {
    "duration": 194,
    "start_time": "2023-10-08T07:49:23.706Z"
   },
   {
    "duration": 74,
    "start_time": "2023-10-08T07:49:23.901Z"
   },
   {
    "duration": 21,
    "start_time": "2023-10-08T07:49:23.977Z"
   },
   {
    "duration": 1323,
    "start_time": "2023-10-08T07:51:23.663Z"
   },
   {
    "duration": 877,
    "start_time": "2023-10-08T07:51:24.987Z"
   },
   {
    "duration": 149,
    "start_time": "2023-10-08T07:51:25.866Z"
   },
   {
    "duration": 65,
    "start_time": "2023-10-08T07:51:26.024Z"
   },
   {
    "duration": 15,
    "start_time": "2023-10-08T07:51:26.092Z"
   },
   {
    "duration": 281,
    "start_time": "2023-10-08T07:51:26.108Z"
   },
   {
    "duration": 102,
    "start_time": "2023-10-08T07:51:26.390Z"
   },
   {
    "duration": 457,
    "start_time": "2023-10-08T07:51:26.494Z"
   },
   {
    "duration": 947,
    "start_time": "2023-10-08T07:51:26.953Z"
   },
   {
    "duration": 33,
    "start_time": "2023-10-08T07:51:27.902Z"
   },
   {
    "duration": 18,
    "start_time": "2023-10-08T07:51:27.937Z"
   },
   {
    "duration": 6884,
    "start_time": "2023-10-08T07:51:27.956Z"
   },
   {
    "duration": 62,
    "start_time": "2023-10-08T07:51:34.842Z"
   },
   {
    "duration": 183,
    "start_time": "2023-10-08T07:51:34.907Z"
   },
   {
    "duration": 66,
    "start_time": "2023-10-08T07:51:35.092Z"
   },
   {
    "duration": 110,
    "start_time": "2023-10-08T07:51:35.159Z"
   },
   {
    "duration": 1293,
    "start_time": "2023-10-08T07:55:13.864Z"
   },
   {
    "duration": 909,
    "start_time": "2023-10-08T07:55:15.159Z"
   },
   {
    "duration": 154,
    "start_time": "2023-10-08T07:55:16.070Z"
   },
   {
    "duration": 69,
    "start_time": "2023-10-08T07:55:16.226Z"
   },
   {
    "duration": 28,
    "start_time": "2023-10-08T07:55:16.297Z"
   },
   {
    "duration": 48,
    "start_time": "2023-10-08T07:55:16.326Z"
   },
   {
    "duration": 291,
    "start_time": "2023-10-08T07:55:16.376Z"
   },
   {
    "duration": 101,
    "start_time": "2023-10-08T07:55:16.668Z"
   },
   {
    "duration": 483,
    "start_time": "2023-10-08T07:55:16.771Z"
   },
   {
    "duration": 946,
    "start_time": "2023-10-08T07:55:17.256Z"
   },
   {
    "duration": 34,
    "start_time": "2023-10-08T07:55:18.204Z"
   },
   {
    "duration": 100,
    "start_time": "2023-10-08T07:55:18.239Z"
   },
   {
    "duration": 7003,
    "start_time": "2023-10-08T07:55:18.340Z"
   },
   {
    "duration": 62,
    "start_time": "2023-10-08T07:55:25.345Z"
   },
   {
    "duration": 187,
    "start_time": "2023-10-08T07:55:25.409Z"
   },
   {
    "duration": 65,
    "start_time": "2023-10-08T07:55:25.598Z"
   },
   {
    "duration": 53,
    "start_time": "2023-10-08T07:55:25.664Z"
   },
   {
    "duration": 1442,
    "start_time": "2023-10-08T08:07:53.447Z"
   },
   {
    "duration": 954,
    "start_time": "2023-10-08T08:07:54.892Z"
   },
   {
    "duration": 175,
    "start_time": "2023-10-08T08:07:55.849Z"
   },
   {
    "duration": 70,
    "start_time": "2023-10-08T08:07:56.028Z"
   },
   {
    "duration": 33,
    "start_time": "2023-10-08T08:07:56.100Z"
   },
   {
    "duration": 27,
    "start_time": "2023-10-08T08:07:56.136Z"
   },
   {
    "duration": 322,
    "start_time": "2023-10-08T08:07:56.164Z"
   },
   {
    "duration": 110,
    "start_time": "2023-10-08T08:07:56.487Z"
   },
   {
    "duration": 502,
    "start_time": "2023-10-08T08:07:56.599Z"
   },
   {
    "duration": 990,
    "start_time": "2023-10-08T08:07:57.103Z"
   },
   {
    "duration": 33,
    "start_time": "2023-10-08T08:07:58.095Z"
   },
   {
    "duration": 25,
    "start_time": "2023-10-08T08:07:58.131Z"
   },
   {
    "duration": 7450,
    "start_time": "2023-10-08T08:07:58.158Z"
   },
   {
    "duration": 78,
    "start_time": "2023-10-08T08:08:05.610Z"
   },
   {
    "duration": 0,
    "start_time": "2023-10-08T08:08:05.689Z"
   },
   {
    "duration": 0,
    "start_time": "2023-10-08T08:08:05.691Z"
   },
   {
    "duration": 0,
    "start_time": "2023-10-08T08:08:05.692Z"
   },
   {
    "duration": 1423,
    "start_time": "2023-10-08T08:08:47.151Z"
   },
   {
    "duration": 896,
    "start_time": "2023-10-08T08:08:48.576Z"
   },
   {
    "duration": 168,
    "start_time": "2023-10-08T08:08:49.474Z"
   },
   {
    "duration": 67,
    "start_time": "2023-10-08T08:08:49.644Z"
   },
   {
    "duration": 29,
    "start_time": "2023-10-08T08:08:49.713Z"
   },
   {
    "duration": 27,
    "start_time": "2023-10-08T08:08:49.744Z"
   },
   {
    "duration": 306,
    "start_time": "2023-10-08T08:08:49.773Z"
   },
   {
    "duration": 108,
    "start_time": "2023-10-08T08:08:50.080Z"
   },
   {
    "duration": 503,
    "start_time": "2023-10-08T08:08:50.189Z"
   },
   {
    "duration": 1005,
    "start_time": "2023-10-08T08:08:50.694Z"
   },
   {
    "duration": 30,
    "start_time": "2023-10-08T08:08:51.700Z"
   },
   {
    "duration": 19,
    "start_time": "2023-10-08T08:08:51.732Z"
   },
   {
    "duration": 7411,
    "start_time": "2023-10-08T08:08:51.753Z"
   },
   {
    "duration": 75,
    "start_time": "2023-10-08T08:08:59.166Z"
   },
   {
    "duration": 501,
    "start_time": "2023-10-08T08:08:59.242Z"
   },
   {
    "duration": 225,
    "start_time": "2023-10-08T08:08:59.745Z"
   },
   {
    "duration": 219,
    "start_time": "2023-10-08T08:08:59.972Z"
   },
   {
    "duration": 110,
    "start_time": "2023-10-08T08:14:46.487Z"
   },
   {
    "duration": 28,
    "start_time": "2023-10-08T08:14:56.502Z"
   },
   {
    "duration": 49,
    "start_time": "2023-10-08T08:15:20.214Z"
   },
   {
    "duration": 389,
    "start_time": "2023-10-08T08:17:19.589Z"
   },
   {
    "duration": 357,
    "start_time": "2023-10-08T08:21:15.206Z"
   },
   {
    "duration": 355,
    "start_time": "2023-10-08T08:22:18.636Z"
   },
   {
    "duration": 97,
    "start_time": "2023-10-08T08:22:57.375Z"
   },
   {
    "duration": 1606,
    "start_time": "2023-10-08T08:30:56.096Z"
   },
   {
    "duration": 988,
    "start_time": "2023-10-08T08:30:57.704Z"
   },
   {
    "duration": 170,
    "start_time": "2023-10-08T08:30:58.694Z"
   },
   {
    "duration": 122,
    "start_time": "2023-10-08T08:30:58.865Z"
   },
   {
    "duration": 24,
    "start_time": "2023-10-08T08:30:58.989Z"
   },
   {
    "duration": 65,
    "start_time": "2023-10-08T08:30:59.014Z"
   },
   {
    "duration": 313,
    "start_time": "2023-10-08T08:30:59.081Z"
   },
   {
    "duration": 95,
    "start_time": "2023-10-08T08:30:59.395Z"
   },
   {
    "duration": 566,
    "start_time": "2023-10-08T08:30:59.492Z"
   },
   {
    "duration": 1106,
    "start_time": "2023-10-08T08:31:00.060Z"
   },
   {
    "duration": 26,
    "start_time": "2023-10-08T08:31:01.168Z"
   },
   {
    "duration": 116,
    "start_time": "2023-10-08T08:31:01.196Z"
   },
   {
    "duration": 7763,
    "start_time": "2023-10-08T08:31:01.314Z"
   },
   {
    "duration": 78,
    "start_time": "2023-10-08T08:31:09.079Z"
   },
   {
    "duration": 382,
    "start_time": "2023-10-08T08:31:09.159Z"
   },
   {
    "duration": 225,
    "start_time": "2023-10-08T08:31:09.544Z"
   },
   {
    "duration": 83,
    "start_time": "2023-10-08T08:31:09.771Z"
   },
   {
    "duration": 32,
    "start_time": "2023-10-08T08:31:09.856Z"
   },
   {
    "duration": 12,
    "start_time": "2023-10-08T08:41:40.083Z"
   },
   {
    "duration": 75,
    "start_time": "2023-10-08T08:41:42.412Z"
   },
   {
    "duration": 100,
    "start_time": "2023-10-08T08:46:39.073Z"
   },
   {
    "duration": 5,
    "start_time": "2023-10-08T08:47:00.966Z"
   },
   {
    "duration": 17,
    "start_time": "2023-10-08T09:12:58.109Z"
   },
   {
    "duration": 139,
    "start_time": "2023-10-08T09:15:08.737Z"
   },
   {
    "duration": 149,
    "start_time": "2023-10-08T09:16:55.829Z"
   },
   {
    "duration": 270,
    "start_time": "2023-10-08T09:17:23.955Z"
   },
   {
    "duration": 1578,
    "start_time": "2023-10-08T09:42:54.781Z"
   },
   {
    "duration": 1037,
    "start_time": "2023-10-08T09:42:56.362Z"
   },
   {
    "duration": 191,
    "start_time": "2023-10-08T09:42:57.400Z"
   },
   {
    "duration": 81,
    "start_time": "2023-10-08T09:42:57.593Z"
   },
   {
    "duration": 16,
    "start_time": "2023-10-08T09:42:57.676Z"
   },
   {
    "duration": 78,
    "start_time": "2023-10-08T09:42:57.695Z"
   },
   {
    "duration": 398,
    "start_time": "2023-10-08T09:42:57.775Z"
   },
   {
    "duration": 111,
    "start_time": "2023-10-08T09:42:58.174Z"
   },
   {
    "duration": 527,
    "start_time": "2023-10-08T09:42:58.286Z"
   },
   {
    "duration": 1070,
    "start_time": "2023-10-08T09:42:58.815Z"
   },
   {
    "duration": 26,
    "start_time": "2023-10-08T09:42:59.887Z"
   },
   {
    "duration": 28,
    "start_time": "2023-10-08T09:42:59.914Z"
   },
   {
    "duration": 8138,
    "start_time": "2023-10-08T09:42:59.945Z"
   },
   {
    "duration": 84,
    "start_time": "2023-10-08T09:43:08.087Z"
   },
   {
    "duration": 408,
    "start_time": "2023-10-08T09:43:08.173Z"
   },
   {
    "duration": 220,
    "start_time": "2023-10-08T09:43:08.583Z"
   },
   {
    "duration": 97,
    "start_time": "2023-10-08T09:43:08.805Z"
   },
   {
    "duration": 180,
    "start_time": "2023-10-08T09:43:08.904Z"
   },
   {
    "duration": 265,
    "start_time": "2023-10-08T09:43:09.086Z"
   },
   {
    "duration": 11,
    "start_time": "2023-10-08T09:43:09.353Z"
   },
   {
    "duration": 91,
    "start_time": "2023-10-08T09:43:09.366Z"
   },
   {
    "duration": 472,
    "start_time": "2023-10-08T09:43:09.458Z"
   },
   {
    "duration": 151,
    "start_time": "2023-10-08T09:43:09.932Z"
   },
   {
    "duration": 316,
    "start_time": "2023-10-08T09:43:10.085Z"
   },
   {
    "duration": 9,
    "start_time": "2023-10-08T09:43:10.402Z"
   },
   {
    "duration": 11,
    "start_time": "2023-10-08T09:44:36.630Z"
   },
   {
    "duration": 9,
    "start_time": "2023-10-08T09:45:05.068Z"
   },
   {
    "duration": 11,
    "start_time": "2023-10-08T09:45:36.946Z"
   },
   {
    "duration": 17,
    "start_time": "2023-10-08T09:47:41.205Z"
   },
   {
    "duration": 202,
    "start_time": "2023-10-08T09:49:02.970Z"
   },
   {
    "duration": 1555,
    "start_time": "2023-10-08T09:49:10.697Z"
   },
   {
    "duration": 947,
    "start_time": "2023-10-08T09:49:12.255Z"
   },
   {
    "duration": 185,
    "start_time": "2023-10-08T09:49:13.204Z"
   },
   {
    "duration": 81,
    "start_time": "2023-10-08T09:49:13.392Z"
   },
   {
    "duration": 15,
    "start_time": "2023-10-08T09:49:13.474Z"
   },
   {
    "duration": 60,
    "start_time": "2023-10-08T09:49:13.491Z"
   },
   {
    "duration": 312,
    "start_time": "2023-10-08T09:49:13.553Z"
   },
   {
    "duration": 104,
    "start_time": "2023-10-08T09:49:13.866Z"
   },
   {
    "duration": 513,
    "start_time": "2023-10-08T09:49:13.971Z"
   },
   {
    "duration": 1081,
    "start_time": "2023-10-08T09:49:14.487Z"
   },
   {
    "duration": 25,
    "start_time": "2023-10-08T09:49:15.570Z"
   },
   {
    "duration": 35,
    "start_time": "2023-10-08T09:49:15.596Z"
   },
   {
    "duration": 7961,
    "start_time": "2023-10-08T09:49:15.637Z"
   },
   {
    "duration": 70,
    "start_time": "2023-10-08T09:49:23.599Z"
   },
   {
    "duration": 422,
    "start_time": "2023-10-08T09:49:23.671Z"
   },
   {
    "duration": 231,
    "start_time": "2023-10-08T09:49:24.094Z"
   },
   {
    "duration": 80,
    "start_time": "2023-10-08T09:49:24.331Z"
   },
   {
    "duration": 161,
    "start_time": "2023-10-08T09:49:24.413Z"
   },
   {
    "duration": 255,
    "start_time": "2023-10-08T09:49:24.576Z"
   },
   {
    "duration": 22,
    "start_time": "2023-10-08T09:49:24.836Z"
   },
   {
    "duration": 34,
    "start_time": "2023-10-08T09:49:24.859Z"
   },
   {
    "duration": 103,
    "start_time": "2023-10-08T09:49:24.895Z"
   },
   {
    "duration": 469,
    "start_time": "2023-10-08T09:49:25.000Z"
   },
   {
    "duration": 149,
    "start_time": "2023-10-08T09:49:25.471Z"
   },
   {
    "duration": 306,
    "start_time": "2023-10-08T09:49:25.621Z"
   },
   {
    "duration": 11,
    "start_time": "2023-10-08T09:49:25.929Z"
   },
   {
    "duration": 87,
    "start_time": "2023-10-08T10:14:32.725Z"
   },
   {
    "duration": 5,
    "start_time": "2023-10-08T10:15:14.809Z"
   },
   {
    "duration": 193,
    "start_time": "2023-10-08T10:16:07.657Z"
   },
   {
    "duration": 6,
    "start_time": "2023-10-08T10:16:43.323Z"
   },
   {
    "duration": 333,
    "start_time": "2023-10-08T10:16:48.868Z"
   },
   {
    "duration": 5,
    "start_time": "2023-10-08T10:17:31.717Z"
   },
   {
    "duration": 263843,
    "start_time": "2023-10-08T10:17:54.551Z"
   },
   {
    "duration": 140,
    "start_time": "2023-10-08T10:31:48.193Z"
   },
   {
    "duration": 171,
    "start_time": "2023-10-08T10:32:20.866Z"
   },
   {
    "duration": 292481,
    "start_time": "2023-10-08T10:32:34.213Z"
   },
   {
    "duration": 11933,
    "start_time": "2023-10-08T10:37:52.185Z"
   },
   {
    "duration": 295209,
    "start_time": "2023-10-08T10:41:42.741Z"
   },
   {
    "duration": 278444,
    "start_time": "2023-10-08T10:51:30.240Z"
   },
   {
    "duration": 2082,
    "start_time": "2023-10-08T15:08:22.680Z"
   },
   {
    "duration": 1705,
    "start_time": "2023-10-08T15:08:24.765Z"
   },
   {
    "duration": 210,
    "start_time": "2023-10-08T15:08:26.473Z"
   },
   {
    "duration": 77,
    "start_time": "2023-10-08T15:08:26.685Z"
   },
   {
    "duration": 19,
    "start_time": "2023-10-08T15:08:26.765Z"
   },
   {
    "duration": 48,
    "start_time": "2023-10-08T15:08:26.803Z"
   },
   {
    "duration": 354,
    "start_time": "2023-10-08T15:08:26.853Z"
   },
   {
    "duration": 112,
    "start_time": "2023-10-08T15:08:27.214Z"
   },
   {
    "duration": 598,
    "start_time": "2023-10-08T15:08:27.329Z"
   },
   {
    "duration": 1264,
    "start_time": "2023-10-08T15:08:27.929Z"
   },
   {
    "duration": 43,
    "start_time": "2023-10-08T15:08:29.195Z"
   },
   {
    "duration": 127,
    "start_time": "2023-10-08T15:08:29.241Z"
   },
   {
    "duration": 9362,
    "start_time": "2023-10-08T15:08:29.371Z"
   },
   {
    "duration": 85,
    "start_time": "2023-10-08T15:08:38.738Z"
   },
   {
    "duration": 428,
    "start_time": "2023-10-08T15:08:38.827Z"
   },
   {
    "duration": 387,
    "start_time": "2023-10-08T15:08:39.257Z"
   },
   {
    "duration": 136,
    "start_time": "2023-10-08T15:08:39.648Z"
   },
   {
    "duration": 210,
    "start_time": "2023-10-08T15:08:39.787Z"
   },
   {
    "duration": 437,
    "start_time": "2023-10-08T15:08:40.005Z"
   },
   {
    "duration": 23,
    "start_time": "2023-10-08T15:08:40.445Z"
   },
   {
    "duration": 59,
    "start_time": "2023-10-08T15:08:40.470Z"
   },
   {
    "duration": 99,
    "start_time": "2023-10-08T15:08:40.531Z"
   },
   {
    "duration": 619,
    "start_time": "2023-10-08T15:08:40.631Z"
   },
   {
    "duration": 158,
    "start_time": "2023-10-08T15:08:41.252Z"
   },
   {
    "duration": 428,
    "start_time": "2023-10-08T15:08:41.416Z"
   },
   {
    "duration": 11,
    "start_time": "2023-10-08T15:08:41.847Z"
   },
   {
    "duration": 336249,
    "start_time": "2023-10-08T15:08:41.860Z"
   },
   {
    "duration": 328579,
    "start_time": "2023-10-08T15:31:47.389Z"
   },
   {
    "duration": 23417,
    "start_time": "2023-10-08T15:57:34.640Z"
   },
   {
    "duration": 22772,
    "start_time": "2023-10-08T16:00:26.279Z"
   },
   {
    "duration": 251,
    "start_time": "2023-10-08T16:03:55.419Z"
   },
   {
    "duration": 159,
    "start_time": "2023-10-08T16:04:04.377Z"
   },
   {
    "duration": 179,
    "start_time": "2023-10-08T16:05:29.741Z"
   },
   {
    "duration": 114,
    "start_time": "2023-10-08T16:05:36.044Z"
   },
   {
    "duration": 123,
    "start_time": "2023-10-08T16:07:21.536Z"
   },
   {
    "duration": 17,
    "start_time": "2023-10-08T16:08:39.292Z"
   },
   {
    "duration": 7,
    "start_time": "2023-10-08T16:09:08.174Z"
   },
   {
    "duration": 6,
    "start_time": "2023-10-08T16:09:15.776Z"
   },
   {
    "duration": 118,
    "start_time": "2023-10-08T16:11:05.842Z"
   },
   {
    "duration": 8,
    "start_time": "2023-10-08T16:11:08.396Z"
   },
   {
    "duration": 6,
    "start_time": "2023-10-08T16:11:11.618Z"
   },
   {
    "duration": 307396,
    "start_time": "2023-10-08T16:21:24.854Z"
   },
   {
    "duration": 22606,
    "start_time": "2023-10-08T16:26:47.219Z"
   },
   {
    "duration": 128,
    "start_time": "2023-10-08T16:27:13.916Z"
   },
   {
    "duration": 8,
    "start_time": "2023-10-08T16:27:17.708Z"
   },
   {
    "duration": 854253,
    "start_time": "2023-10-08T16:37:04.097Z"
   },
   {
    "duration": 1022836,
    "start_time": "2023-10-08T16:51:24.615Z"
   },
   {
    "duration": 1641,
    "start_time": "2023-10-08T17:08:39.483Z"
   },
   {
    "duration": 1018,
    "start_time": "2023-10-08T17:08:41.126Z"
   },
   {
    "duration": 171,
    "start_time": "2023-10-08T17:08:42.146Z"
   },
   {
    "duration": 83,
    "start_time": "2023-10-08T17:08:42.321Z"
   },
   {
    "duration": 17,
    "start_time": "2023-10-08T17:08:42.418Z"
   },
   {
    "duration": 39,
    "start_time": "2023-10-08T17:08:42.437Z"
   },
   {
    "duration": 384,
    "start_time": "2023-10-08T17:08:42.478Z"
   },
   {
    "duration": 110,
    "start_time": "2023-10-08T17:08:42.864Z"
   },
   {
    "duration": 572,
    "start_time": "2023-10-08T17:08:42.975Z"
   },
   {
    "duration": 1214,
    "start_time": "2023-10-08T17:08:43.550Z"
   },
   {
    "duration": 52,
    "start_time": "2023-10-08T17:08:44.766Z"
   },
   {
    "duration": 31,
    "start_time": "2023-10-08T17:08:44.825Z"
   },
   {
    "duration": 7896,
    "start_time": "2023-10-08T17:08:44.858Z"
   },
   {
    "duration": 87,
    "start_time": "2023-10-08T17:08:52.755Z"
   },
   {
    "duration": 454,
    "start_time": "2023-10-08T17:08:52.844Z"
   },
   {
    "duration": 228,
    "start_time": "2023-10-08T17:08:53.300Z"
   },
   {
    "duration": 94,
    "start_time": "2023-10-08T17:08:53.530Z"
   },
   {
    "duration": 158,
    "start_time": "2023-10-08T17:08:53.627Z"
   },
   {
    "duration": 280,
    "start_time": "2023-10-08T17:08:53.787Z"
   },
   {
    "duration": 18,
    "start_time": "2023-10-08T17:08:54.069Z"
   },
   {
    "duration": 25,
    "start_time": "2023-10-08T17:08:54.089Z"
   },
   {
    "duration": 92,
    "start_time": "2023-10-08T17:08:54.116Z"
   },
   {
    "duration": 622,
    "start_time": "2023-10-08T17:08:54.215Z"
   },
   {
    "duration": 157,
    "start_time": "2023-10-08T17:08:54.840Z"
   },
   {
    "duration": 306,
    "start_time": "2023-10-08T17:08:55.002Z"
   },
   {
    "duration": 13,
    "start_time": "2023-10-08T17:08:55.312Z"
   },
   {
    "duration": 302236,
    "start_time": "2023-10-08T17:08:55.327Z"
   },
   {
    "duration": 22641,
    "start_time": "2023-10-08T17:13:57.568Z"
   },
   {
    "duration": 124,
    "start_time": "2023-10-08T17:14:20.213Z"
   },
   {
    "duration": 5,
    "start_time": "2023-10-08T17:14:20.339Z"
   },
   {
    "duration": 10,
    "start_time": "2023-10-15T20:55:48.928Z"
   },
   {
    "duration": 4,
    "start_time": "2023-10-15T20:55:49.941Z"
   },
   {
    "duration": 3,
    "start_time": "2023-10-15T20:55:50.441Z"
   },
   {
    "duration": 3,
    "start_time": "2023-10-15T20:55:50.607Z"
   },
   {
    "duration": 4,
    "start_time": "2023-10-15T20:55:50.692Z"
   },
   {
    "duration": 3,
    "start_time": "2023-10-15T20:55:50.775Z"
   },
   {
    "duration": 3,
    "start_time": "2023-10-15T20:55:50.869Z"
   },
   {
    "duration": 3,
    "start_time": "2023-10-15T20:55:50.941Z"
   },
   {
    "duration": 4,
    "start_time": "2023-10-15T20:55:51.023Z"
   },
   {
    "duration": 3,
    "start_time": "2023-10-15T20:55:51.106Z"
   },
   {
    "duration": 4,
    "start_time": "2023-10-15T20:55:51.190Z"
   },
   {
    "duration": 3,
    "start_time": "2023-10-15T20:55:51.271Z"
   },
   {
    "duration": 4,
    "start_time": "2023-10-15T20:55:51.358Z"
   },
   {
    "duration": 3,
    "start_time": "2023-10-15T20:55:51.440Z"
   },
   {
    "duration": 4,
    "start_time": "2023-10-15T20:55:51.628Z"
   },
   {
    "duration": 3,
    "start_time": "2023-10-15T20:55:51.773Z"
   },
   {
    "duration": 3,
    "start_time": "2023-10-15T20:55:51.857Z"
   },
   {
    "duration": 4,
    "start_time": "2023-10-15T20:55:51.939Z"
   },
   {
    "duration": 4,
    "start_time": "2023-10-15T20:55:52.025Z"
   },
   {
    "duration": 3,
    "start_time": "2023-10-15T20:55:52.108Z"
   },
   {
    "duration": 3,
    "start_time": "2023-10-15T20:55:52.191Z"
   },
   {
    "duration": 4,
    "start_time": "2023-10-15T20:55:52.275Z"
   },
   {
    "duration": 3,
    "start_time": "2023-10-15T20:55:52.359Z"
   },
   {
    "duration": 4,
    "start_time": "2023-10-15T20:55:52.441Z"
   },
   {
    "duration": 3,
    "start_time": "2023-10-15T20:55:52.522Z"
   },
   {
    "duration": 7,
    "start_time": "2023-10-15T20:55:52.688Z"
   },
   {
    "duration": 3,
    "start_time": "2023-10-15T20:55:52.775Z"
   },
   {
    "duration": 3,
    "start_time": "2023-10-15T20:55:52.857Z"
   },
   {
    "duration": 4,
    "start_time": "2023-10-15T20:55:52.940Z"
   },
   {
    "duration": 3,
    "start_time": "2023-10-15T20:55:53.022Z"
   },
   {
    "duration": 4,
    "start_time": "2023-10-15T20:55:53.105Z"
   },
   {
    "duration": 3,
    "start_time": "2023-10-15T20:55:53.190Z"
   },
   {
    "duration": 4,
    "start_time": "2023-10-15T20:55:53.274Z"
   },
   {
    "duration": 3,
    "start_time": "2023-10-15T20:55:53.357Z"
   },
   {
    "duration": 3,
    "start_time": "2023-10-15T20:55:53.440Z"
   },
   {
    "duration": 3,
    "start_time": "2023-10-15T20:55:53.523Z"
   },
   {
    "duration": 4,
    "start_time": "2023-10-15T20:55:53.726Z"
   },
   {
    "duration": 3,
    "start_time": "2023-10-15T20:55:53.775Z"
   },
   {
    "duration": 4,
    "start_time": "2023-10-15T20:55:53.857Z"
   },
   {
    "duration": 3,
    "start_time": "2023-10-15T20:55:53.939Z"
   },
   {
    "duration": 3,
    "start_time": "2023-10-15T20:55:54.463Z"
   },
   {
    "duration": 3,
    "start_time": "2023-10-15T20:55:54.786Z"
   },
   {
    "duration": 3,
    "start_time": "2023-10-15T20:55:55.056Z"
   },
   {
    "duration": 4,
    "start_time": "2023-10-15T20:55:55.565Z"
   },
   {
    "duration": 130,
    "start_time": "2023-10-15T21:23:38.240Z"
   },
   {
    "duration": 2572,
    "start_time": "2023-10-15T21:26:58.041Z"
   },
   {
    "duration": 3130,
    "start_time": "2023-10-15T21:27:00.615Z"
   },
   {
    "duration": 1559,
    "start_time": "2023-10-15T21:27:03.746Z"
   },
   {
    "duration": 1185,
    "start_time": "2023-10-15T21:27:05.307Z"
   },
   {
    "duration": 162,
    "start_time": "2023-10-15T21:27:06.494Z"
   },
   {
    "duration": 74,
    "start_time": "2023-10-15T21:27:06.658Z"
   },
   {
    "duration": 16,
    "start_time": "2023-10-15T21:27:06.733Z"
   },
   {
    "duration": 39,
    "start_time": "2023-10-15T21:27:06.750Z"
   },
   {
    "duration": 282,
    "start_time": "2023-10-15T21:27:06.791Z"
   },
   {
    "duration": 99,
    "start_time": "2023-10-15T21:27:07.077Z"
   },
   {
    "duration": 421,
    "start_time": "2023-10-15T21:27:07.178Z"
   },
   {
    "duration": 879,
    "start_time": "2023-10-15T21:27:07.601Z"
   },
   {
    "duration": 25,
    "start_time": "2023-10-15T21:27:08.482Z"
   },
   {
    "duration": 43,
    "start_time": "2023-10-15T21:27:08.509Z"
   },
   {
    "duration": 6912,
    "start_time": "2023-10-15T21:27:08.553Z"
   },
   {
    "duration": 17,
    "start_time": "2023-10-15T21:27:15.467Z"
   },
   {
    "duration": 38,
    "start_time": "2023-10-15T21:27:15.486Z"
   },
   {
    "duration": 18,
    "start_time": "2023-10-15T21:27:15.526Z"
   },
   {
    "duration": 3,
    "start_time": "2023-10-15T21:27:15.545Z"
   },
   {
    "duration": 4833,
    "start_time": "2023-10-15T21:27:15.549Z"
   },
   {
    "duration": 3,
    "start_time": "2023-10-15T21:27:20.384Z"
   },
   {
    "duration": 102,
    "start_time": "2023-10-15T21:27:20.389Z"
   },
   {
    "duration": 75,
    "start_time": "2023-10-15T21:27:20.493Z"
   },
   {
    "duration": 134,
    "start_time": "2023-10-15T21:27:20.570Z"
   },
   {
    "duration": 255,
    "start_time": "2023-10-15T21:27:20.706Z"
   },
   {
    "duration": 22,
    "start_time": "2023-10-15T21:27:20.963Z"
   },
   {
    "duration": 45,
    "start_time": "2023-10-15T21:27:20.986Z"
   },
   {
    "duration": 94,
    "start_time": "2023-10-15T21:27:21.035Z"
   },
   {
    "duration": 6,
    "start_time": "2023-10-15T21:27:21.131Z"
   },
   {
    "duration": 13,
    "start_time": "2023-10-15T21:27:21.139Z"
   },
   {
    "duration": 30,
    "start_time": "2023-10-15T21:27:21.154Z"
   },
   {
    "duration": 133,
    "start_time": "2023-10-15T21:27:21.186Z"
   },
   {
    "duration": 0,
    "start_time": "2023-10-15T21:27:21.320Z"
   },
   {
    "duration": 0,
    "start_time": "2023-10-15T21:27:21.323Z"
   },
   {
    "duration": 0,
    "start_time": "2023-10-15T21:27:21.324Z"
   },
   {
    "duration": 0,
    "start_time": "2023-10-15T21:27:21.326Z"
   },
   {
    "duration": 0,
    "start_time": "2023-10-15T21:27:21.327Z"
   },
   {
    "duration": 0,
    "start_time": "2023-10-15T21:27:21.328Z"
   },
   {
    "duration": 0,
    "start_time": "2023-10-15T21:27:21.329Z"
   },
   {
    "duration": 0,
    "start_time": "2023-10-15T21:27:21.331Z"
   },
   {
    "duration": 0,
    "start_time": "2023-10-15T21:27:21.332Z"
   },
   {
    "duration": 0,
    "start_time": "2023-10-15T21:27:21.333Z"
   },
   {
    "duration": 0,
    "start_time": "2023-10-15T21:27:21.334Z"
   },
   {
    "duration": 0,
    "start_time": "2023-10-15T21:27:21.336Z"
   },
   {
    "duration": 0,
    "start_time": "2023-10-15T21:27:21.337Z"
   },
   {
    "duration": 0,
    "start_time": "2023-10-15T21:27:21.338Z"
   },
   {
    "duration": 0,
    "start_time": "2023-10-15T21:27:21.340Z"
   },
   {
    "duration": 0,
    "start_time": "2023-10-15T21:27:21.342Z"
   },
   {
    "duration": 0,
    "start_time": "2023-10-15T21:27:21.342Z"
   },
   {
    "duration": 65,
    "start_time": "2023-10-21T18:30:52.850Z"
   },
   {
    "duration": 2817,
    "start_time": "2023-10-22T20:15:16.634Z"
   },
   {
    "duration": 3359,
    "start_time": "2023-10-22T20:15:19.453Z"
   },
   {
    "duration": 1768,
    "start_time": "2023-10-22T20:15:22.820Z"
   },
   {
    "duration": 1267,
    "start_time": "2023-10-22T20:15:24.590Z"
   },
   {
    "duration": 186,
    "start_time": "2023-10-22T20:15:25.860Z"
   },
   {
    "duration": 83,
    "start_time": "2023-10-22T20:15:26.048Z"
   },
   {
    "duration": 21,
    "start_time": "2023-10-22T20:15:26.133Z"
   },
   {
    "duration": 54,
    "start_time": "2023-10-22T20:15:26.157Z"
   },
   {
    "duration": 425,
    "start_time": "2023-10-22T20:15:26.216Z"
   },
   {
    "duration": 107,
    "start_time": "2023-10-22T20:15:26.642Z"
   },
   {
    "duration": 496,
    "start_time": "2023-10-22T20:15:26.751Z"
   },
   {
    "duration": 1000,
    "start_time": "2023-10-22T20:15:27.249Z"
   },
   {
    "duration": 25,
    "start_time": "2023-10-22T20:15:28.250Z"
   },
   {
    "duration": 42,
    "start_time": "2023-10-22T20:15:28.278Z"
   },
   {
    "duration": 8121,
    "start_time": "2023-10-22T20:15:28.325Z"
   },
   {
    "duration": 19,
    "start_time": "2023-10-22T20:15:36.448Z"
   },
   {
    "duration": 51,
    "start_time": "2023-10-22T20:15:36.469Z"
   },
   {
    "duration": 19,
    "start_time": "2023-10-22T20:15:36.522Z"
   },
   {
    "duration": 3,
    "start_time": "2023-10-22T20:15:36.542Z"
   },
   {
    "duration": 5222,
    "start_time": "2023-10-22T20:15:36.546Z"
   },
   {
    "duration": 3,
    "start_time": "2023-10-22T20:15:41.770Z"
   },
   {
    "duration": 115,
    "start_time": "2023-10-22T20:15:41.775Z"
   },
   {
    "duration": 85,
    "start_time": "2023-10-22T20:15:41.892Z"
   },
   {
    "duration": 159,
    "start_time": "2023-10-22T20:15:41.979Z"
   },
   {
    "duration": 263,
    "start_time": "2023-10-22T20:15:42.140Z"
   },
   {
    "duration": 30,
    "start_time": "2023-10-22T20:15:42.405Z"
   },
   {
    "duration": 35,
    "start_time": "2023-10-22T20:15:42.436Z"
   },
   {
    "duration": 72,
    "start_time": "2023-10-22T20:15:42.472Z"
   },
   {
    "duration": 6,
    "start_time": "2023-10-22T20:15:42.545Z"
   },
   {
    "duration": 10,
    "start_time": "2023-10-22T20:15:42.552Z"
   },
   {
    "duration": 31,
    "start_time": "2023-10-22T20:15:42.564Z"
   },
   {
    "duration": 144,
    "start_time": "2023-10-22T20:15:42.596Z"
   },
   {
    "duration": 0,
    "start_time": "2023-10-22T20:15:42.742Z"
   },
   {
    "duration": 0,
    "start_time": "2023-10-22T20:15:42.743Z"
   },
   {
    "duration": 0,
    "start_time": "2023-10-22T20:15:42.744Z"
   },
   {
    "duration": 0,
    "start_time": "2023-10-22T20:15:42.746Z"
   },
   {
    "duration": 0,
    "start_time": "2023-10-22T20:15:42.747Z"
   },
   {
    "duration": 0,
    "start_time": "2023-10-22T20:15:42.749Z"
   },
   {
    "duration": 0,
    "start_time": "2023-10-22T20:15:42.750Z"
   },
   {
    "duration": 1,
    "start_time": "2023-10-22T20:15:42.751Z"
   },
   {
    "duration": 1,
    "start_time": "2023-10-22T20:15:42.753Z"
   },
   {
    "duration": 0,
    "start_time": "2023-10-22T20:15:42.755Z"
   },
   {
    "duration": 0,
    "start_time": "2023-10-22T20:15:42.757Z"
   },
   {
    "duration": 0,
    "start_time": "2023-10-22T20:15:42.759Z"
   },
   {
    "duration": 0,
    "start_time": "2023-10-22T20:15:42.760Z"
   },
   {
    "duration": 0,
    "start_time": "2023-10-22T20:15:42.761Z"
   },
   {
    "duration": 0,
    "start_time": "2023-10-22T20:15:42.763Z"
   },
   {
    "duration": 0,
    "start_time": "2023-10-22T20:15:42.764Z"
   },
   {
    "duration": 0,
    "start_time": "2023-10-22T20:15:42.765Z"
   },
   {
    "duration": 0,
    "start_time": "2023-10-22T20:15:42.766Z"
   },
   {
    "duration": 0,
    "start_time": "2023-10-22T20:15:42.767Z"
   }
  ],
  "colab": {
   "provenance": []
  },
  "kernelspec": {
   "display_name": "Python 3 (ipykernel)",
   "language": "python",
   "name": "python3"
  },
  "language_info": {
   "codemirror_mode": {
    "name": "ipython",
    "version": 3
   },
   "file_extension": ".py",
   "mimetype": "text/x-python",
   "name": "python",
   "nbconvert_exporter": "python",
   "pygments_lexer": "ipython3",
   "version": "3.9.18"
  },
  "toc": {
   "base_numbering": 1,
   "nav_menu": {},
   "number_sections": true,
   "sideBar": true,
   "skip_h1_title": true,
   "title_cell": "Table of Contents",
   "title_sidebar": "Contents",
   "toc_cell": false,
   "toc_position": {},
   "toc_section_display": true,
   "toc_window_display": false
  }
 },
 "nbformat": 4,
 "nbformat_minor": 4
}
