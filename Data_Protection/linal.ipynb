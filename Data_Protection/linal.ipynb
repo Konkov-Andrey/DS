{
 "cells": [
  {
   "cell_type": "markdown",
   "metadata": {
    "toc": true
   },
   "source": [
    "<h1>Содержание<span class=\"tocSkip\"></span></h1>\n",
    "<div class=\"toc\"><ul class=\"toc-item\"><li><span><a href=\"#Загрузите-и-изучите-данные\" data-toc-modified-id=\"Загрузите-и-изучите-данные-1\"><span class=\"toc-item-num\">1&nbsp;&nbsp;</span>Загрузите и изучите данные</a></span></li><li><span><a href=\"#Загрузка-данных\" data-toc-modified-id=\"Загрузка-данных-2\"><span class=\"toc-item-num\">2&nbsp;&nbsp;</span>Загрузка данных</a></span></li><li><span><a href=\"#Умножение-матриц\" data-toc-modified-id=\"Умножение-матриц-3\"><span class=\"toc-item-num\">3&nbsp;&nbsp;</span>Умножение матриц</a></span></li><li><span><a href=\"#Алгоритм-преобразования\" data-toc-modified-id=\"Алгоритм-преобразования-4\"><span class=\"toc-item-num\">4&nbsp;&nbsp;</span>Алгоритм преобразования</a></span></li><li><span><a href=\"#Проверка-алгоритма\" data-toc-modified-id=\"Проверка-алгоритма-5\"><span class=\"toc-item-num\">5&nbsp;&nbsp;</span>Проверка алгоритма</a></span></li><li><span><a href=\"#Чек-лист-проверки\" data-toc-modified-id=\"Чек-лист-проверки-6\"><span class=\"toc-item-num\">6&nbsp;&nbsp;</span>Чек-лист проверки</a></span></li></ul></div>"
   ]
  },
  {
   "cell_type": "markdown",
   "metadata": {},
   "source": [
    "# Защита персональных данных клиентов"
   ]
  },
  {
   "cell_type": "markdown",
   "metadata": {},
   "source": [
    "Вам нужно защитить данные клиентов страховой компании «Хоть потоп». Разработайте такой метод преобразования данных, чтобы по ним было сложно восстановить персональную информацию. Обоснуйте корректность его работы.\n",
    "\n",
    "Нужно защитить данные, чтобы при преобразовании качество моделей машинного обучения не ухудшилось. Подбирать наилучшую модель не требуется."
   ]
  },
  {
   "cell_type": "markdown",
   "metadata": {},
   "source": [
    "## Загрузите и изучите данные"
   ]
  },
  {
   "cell_type": "markdown",
   "metadata": {},
   "source": [
    "## Загрузка данных"
   ]
  },
  {
   "cell_type": "code",
   "execution_count": 1,
   "metadata": {},
   "outputs": [],
   "source": [
    "import pandas as pd\n",
    "import numpy as np\n",
    "from sklearn.linear_model import LinearRegression\n",
    "from sklearn.model_selection import train_test_split"
   ]
  },
  {
   "cell_type": "code",
   "execution_count": 2,
   "metadata": {},
   "outputs": [],
   "source": [
    "try:\n",
    "    df = pd.read_csv('/datasets/insurance.csv')\n",
    "except:\n",
    "    df = pd.read_csv('https://code.s3.yandex.net/datasets/insurance.csv')"
   ]
  },
  {
   "cell_type": "code",
   "execution_count": 3,
   "metadata": {},
   "outputs": [
    {
     "name": "stdout",
     "output_type": "stream",
     "text": [
      "<class 'pandas.core.frame.DataFrame'>\n",
      "RangeIndex: 5000 entries, 0 to 4999\n",
      "Data columns (total 5 columns):\n",
      " #   Column             Non-Null Count  Dtype  \n",
      "---  ------             --------------  -----  \n",
      " 0   Пол                5000 non-null   int64  \n",
      " 1   Возраст            5000 non-null   float64\n",
      " 2   Зарплата           5000 non-null   float64\n",
      " 3   Члены семьи        5000 non-null   int64  \n",
      " 4   Страховые выплаты  5000 non-null   int64  \n",
      "dtypes: float64(2), int64(3)\n",
      "memory usage: 195.4 KB\n"
     ]
    }
   ],
   "source": [
    "df.info()"
   ]
  },
  {
   "cell_type": "code",
   "execution_count": 4,
   "metadata": {},
   "outputs": [
    {
     "data": {
      "text/html": [
       "<div>\n",
       "<style scoped>\n",
       "    .dataframe tbody tr th:only-of-type {\n",
       "        vertical-align: middle;\n",
       "    }\n",
       "\n",
       "    .dataframe tbody tr th {\n",
       "        vertical-align: top;\n",
       "    }\n",
       "\n",
       "    .dataframe thead th {\n",
       "        text-align: right;\n",
       "    }\n",
       "</style>\n",
       "<table border=\"1\" class=\"dataframe\">\n",
       "  <thead>\n",
       "    <tr style=\"text-align: right;\">\n",
       "      <th></th>\n",
       "      <th>Пол</th>\n",
       "      <th>Возраст</th>\n",
       "      <th>Зарплата</th>\n",
       "      <th>Члены семьи</th>\n",
       "      <th>Страховые выплаты</th>\n",
       "    </tr>\n",
       "  </thead>\n",
       "  <tbody>\n",
       "    <tr>\n",
       "      <th>0</th>\n",
       "      <td>1</td>\n",
       "      <td>41.0</td>\n",
       "      <td>49600.0</td>\n",
       "      <td>1</td>\n",
       "      <td>0</td>\n",
       "    </tr>\n",
       "    <tr>\n",
       "      <th>1</th>\n",
       "      <td>0</td>\n",
       "      <td>46.0</td>\n",
       "      <td>38000.0</td>\n",
       "      <td>1</td>\n",
       "      <td>1</td>\n",
       "    </tr>\n",
       "    <tr>\n",
       "      <th>2</th>\n",
       "      <td>0</td>\n",
       "      <td>29.0</td>\n",
       "      <td>21000.0</td>\n",
       "      <td>0</td>\n",
       "      <td>0</td>\n",
       "    </tr>\n",
       "    <tr>\n",
       "      <th>3</th>\n",
       "      <td>0</td>\n",
       "      <td>21.0</td>\n",
       "      <td>41700.0</td>\n",
       "      <td>2</td>\n",
       "      <td>0</td>\n",
       "    </tr>\n",
       "    <tr>\n",
       "      <th>4</th>\n",
       "      <td>1</td>\n",
       "      <td>28.0</td>\n",
       "      <td>26100.0</td>\n",
       "      <td>0</td>\n",
       "      <td>0</td>\n",
       "    </tr>\n",
       "  </tbody>\n",
       "</table>\n",
       "</div>"
      ],
      "text/plain": [
       "   Пол  Возраст  Зарплата  Члены семьи  Страховые выплаты\n",
       "0    1     41.0   49600.0            1                  0\n",
       "1    0     46.0   38000.0            1                  1\n",
       "2    0     29.0   21000.0            0                  0\n",
       "3    0     21.0   41700.0            2                  0\n",
       "4    1     28.0   26100.0            0                  0"
      ]
     },
     "execution_count": 4,
     "metadata": {},
     "output_type": "execute_result"
    }
   ],
   "source": [
    "df.head()"
   ]
  },
  {
   "cell_type": "code",
   "execution_count": 5,
   "metadata": {},
   "outputs": [
    {
     "data": {
      "text/plain": [
       "153"
      ]
     },
     "execution_count": 5,
     "metadata": {},
     "output_type": "execute_result"
    }
   ],
   "source": [
    "df.duplicated().sum()"
   ]
  },
  {
   "cell_type": "code",
   "execution_count": 6,
   "metadata": {},
   "outputs": [
    {
     "data": {
      "text/html": [
       "<div>\n",
       "<style scoped>\n",
       "    .dataframe tbody tr th:only-of-type {\n",
       "        vertical-align: middle;\n",
       "    }\n",
       "\n",
       "    .dataframe tbody tr th {\n",
       "        vertical-align: top;\n",
       "    }\n",
       "\n",
       "    .dataframe thead th {\n",
       "        text-align: right;\n",
       "    }\n",
       "</style>\n",
       "<table border=\"1\" class=\"dataframe\">\n",
       "  <thead>\n",
       "    <tr style=\"text-align: right;\">\n",
       "      <th></th>\n",
       "      <th>Пол</th>\n",
       "      <th>Возраст</th>\n",
       "      <th>Зарплата</th>\n",
       "      <th>Члены семьи</th>\n",
       "      <th>Страховые выплаты</th>\n",
       "    </tr>\n",
       "  </thead>\n",
       "  <tbody>\n",
       "    <tr>\n",
       "      <th>count</th>\n",
       "      <td>5000.000000</td>\n",
       "      <td>5000.000000</td>\n",
       "      <td>5000.000000</td>\n",
       "      <td>5000.000000</td>\n",
       "      <td>5000.000000</td>\n",
       "    </tr>\n",
       "    <tr>\n",
       "      <th>mean</th>\n",
       "      <td>0.499000</td>\n",
       "      <td>30.952800</td>\n",
       "      <td>39916.360000</td>\n",
       "      <td>1.194200</td>\n",
       "      <td>0.148000</td>\n",
       "    </tr>\n",
       "    <tr>\n",
       "      <th>std</th>\n",
       "      <td>0.500049</td>\n",
       "      <td>8.440807</td>\n",
       "      <td>9900.083569</td>\n",
       "      <td>1.091387</td>\n",
       "      <td>0.463183</td>\n",
       "    </tr>\n",
       "    <tr>\n",
       "      <th>min</th>\n",
       "      <td>0.000000</td>\n",
       "      <td>18.000000</td>\n",
       "      <td>5300.000000</td>\n",
       "      <td>0.000000</td>\n",
       "      <td>0.000000</td>\n",
       "    </tr>\n",
       "    <tr>\n",
       "      <th>25%</th>\n",
       "      <td>0.000000</td>\n",
       "      <td>24.000000</td>\n",
       "      <td>33300.000000</td>\n",
       "      <td>0.000000</td>\n",
       "      <td>0.000000</td>\n",
       "    </tr>\n",
       "    <tr>\n",
       "      <th>50%</th>\n",
       "      <td>0.000000</td>\n",
       "      <td>30.000000</td>\n",
       "      <td>40200.000000</td>\n",
       "      <td>1.000000</td>\n",
       "      <td>0.000000</td>\n",
       "    </tr>\n",
       "    <tr>\n",
       "      <th>75%</th>\n",
       "      <td>1.000000</td>\n",
       "      <td>37.000000</td>\n",
       "      <td>46600.000000</td>\n",
       "      <td>2.000000</td>\n",
       "      <td>0.000000</td>\n",
       "    </tr>\n",
       "    <tr>\n",
       "      <th>max</th>\n",
       "      <td>1.000000</td>\n",
       "      <td>65.000000</td>\n",
       "      <td>79000.000000</td>\n",
       "      <td>6.000000</td>\n",
       "      <td>5.000000</td>\n",
       "    </tr>\n",
       "  </tbody>\n",
       "</table>\n",
       "</div>"
      ],
      "text/plain": [
       "               Пол      Возраст      Зарплата  Члены семьи  Страховые выплаты\n",
       "count  5000.000000  5000.000000   5000.000000  5000.000000        5000.000000\n",
       "mean      0.499000    30.952800  39916.360000     1.194200           0.148000\n",
       "std       0.500049     8.440807   9900.083569     1.091387           0.463183\n",
       "min       0.000000    18.000000   5300.000000     0.000000           0.000000\n",
       "25%       0.000000    24.000000  33300.000000     0.000000           0.000000\n",
       "50%       0.000000    30.000000  40200.000000     1.000000           0.000000\n",
       "75%       1.000000    37.000000  46600.000000     2.000000           0.000000\n",
       "max       1.000000    65.000000  79000.000000     6.000000           5.000000"
      ]
     },
     "execution_count": 6,
     "metadata": {},
     "output_type": "execute_result"
    }
   ],
   "source": [
    "df.describe()"
   ]
  },
  {
   "cell_type": "markdown",
   "metadata": {},
   "source": [
    "Промежуточные выводы:<br>\n",
    "- Загрузили данные\n",
    "- Изучили данные"
   ]
  },
  {
   "cell_type": "code",
   "execution_count": 7,
   "metadata": {},
   "outputs": [],
   "source": [
    "# Создадим матрицу признаков и вектор целевого признака\n",
    "\n",
    "X = df.drop('Страховые выплаты', axis=1)\n",
    "y = df['Страховые выплаты']"
   ]
  },
  {
   "cell_type": "markdown",
   "metadata": {},
   "source": [
    "## Умножение матриц"
   ]
  },
  {
   "cell_type": "markdown",
   "metadata": {},
   "source": [
    "Связь параметров линейной регрессии исходных данных и преобразованных на математической модели."
   ]
  },
  {
   "cell_type": "markdown",
   "metadata": {},
   "source": [
    "Обозначения:\n",
    "\n",
    "- $X$ — матрица признаков (нулевой столбец состоит из единиц)\n",
    "\n",
    "- $y$ — вектор целевого признака\n",
    "\n",
    "- $P$ — матрица, на которую умножаются признаки\n",
    "\n",
    "- $w$ — вектор весов линейной регрессии (нулевой элемент равен сдвигу)"
   ]
  },
  {
   "cell_type": "markdown",
   "metadata": {},
   "source": [
    "Предсказания:\n",
    "\n",
    "$$\n",
    "a = Xw\n",
    "$$\n",
    "\n",
    "Задача обучения:\n",
    "\n",
    "$$\n",
    "w = \\arg\\min_w MSE(Xw, y)\n",
    "$$\n",
    "\n",
    "Формула обучения:\n",
    "\n",
    "$$\n",
    "w = (X^T X)^{-1} X^T y\n",
    "$$"
   ]
  },
  {
   "cell_type": "markdown",
   "metadata": {},
   "source": [
    "**Ответ:** Преобразование исходных данных умножением на обратимую матрицу не оказывает влияния на качество модели линейной регрессии.\n",
    "\n",
    "**Обоснование:**<br>\n",
    "\n",
    "$ a = X_1 (X^T X)^{-1} X^T y = X_1 X^{-1} (X^T)^{-1} X^T y = X_1 X^{-1} y $\n",
    "\n",
    "$ a_1 = (X_1 A) ((X A)^T X A)^{-1} (X A)^T y =  (X_1 A) (X A)^{-1} ((X A)^T)^{-1} (X A)^T y = (X_1 A) A^{-1}X^{-1} (X^T)^{-1}(A^T)^{-1} A^T X^T y = $\n",
    "$ = X_1 A A^{-1} X^{-1} (X^T)^{-1}(A^T)^{-1} A^T X^T y = X_1 X^{-1} y $\n",
    "\n",
    "$ a = a_1 $"
   ]
  },
  {
   "cell_type": "markdown",
   "metadata": {},
   "source": [
    "<b>Вопрос 1</b>. Нет ответа на как связаны параметры линейной регрессии в исходной задаче и в преобразованной<br>\n",
    "<b>Ответ</b>: $w$ и $w_p$ связаны линейно, но кроме как математической магией я это доказать кажется не cмогу. Выражаю игреки отсюда \n",
    "$w = (X^T X)^{-1} X^T y, w_P = ((XP)^T XP)^{-1} (XP)^T y$, в результате преобразований получаю $w_p = wP$\n",
    "<br><br>\n",
    "<b>Вопрос 2</b>. Но пока не ввели мнимые матрицы, поэтому перепрыгивать через этот момент не можем, это как на ноль делить. И маленькая подсказка, найди тут: $((XP)^T XP)^{-1}$<br>\n",
    "<b>Ответ</b>: подсказку понял, выводы по ней сделать могу, фраза содержит квадратную матрицу, у которой существует обратнрая так как мы сначала умножаем мартицу размерностью 5000x4 на 4x4 и получаем 5000x4, затем ее транспонируем и получаем размерность 4x5000, которую в свою очередь умножаем на матрицу 5000x4, что приводит к созданию квадратной матрицы 5000x5000, для которой существует обратная $^{-1}$ Как выйти без нарушений :) не пойму.\n",
    "<br><br>\n",
    "<b>Вопрос 3</b>. кстати можешь объяснить словами что это запись означает? $w = \\arg\\min_w MSE(, y)$<br>\n",
    "<b>Ответ</b>: да, если перостыми словами то эта функция определяет, насколько хорошо работает модель, сравнивая предсказанные значения модели Xw с реальными значениями y. Цель обучения модели поиск таких w для которых среднеквадратичная ошибка будет минимальной. Называется функцией потерь.\n"
   ]
  },
  {
   "cell_type": "markdown",
   "metadata": {},
   "source": [
    "Перепишем $XPw_p = Xw$ следующим образом $XPw_p - Xw = 0$.\n",
    "\n",
    "Внесем X общим множителем и получим: $X(Pw_p - w) = 0$. Это значит, что вектор $Pw_p - w$ нулевой. \n",
    "\n",
    "Отсюда, $Pw_p - w = 0$ или $Pw_p = w$.\n",
    "\n",
    "Так как P обратимая матрица, то мы можем обе стороны умножить на $P^{-1}$, чтобы получить $w_p$ через w: $w_p = P^{-1} * w$.\n",
    "\n",
    "Благодаря линейности значение функции потерь останется неизменным, также как и предсказания модели так как предсказания модели вычисляются как произведение весов и входных данных y_pred = $Xw$. Если мы заменим входные данные X на преобразованные данные XP и веса w на преобразованные веса $w_p = P^{-1}w$, то получим: y_pred_new $= XPw_p = XP(P^{-1}w) = Xw =$ y_pred"
   ]
  },
  {
   "cell_type": "markdown",
   "metadata": {},
   "source": [
    "## Алгоритм преобразования"
   ]
  },
  {
   "cell_type": "markdown",
   "metadata": {},
   "source": [
    "**Алгоритм**\n",
    "\n",
    "Для защиты персональных данных от восстановления при работе с моделью линейной регрессии необходимо умножить матрицу признаков на обратимую матрицу. В результате качество модели не изменится.\n",
    "1. Получаем количество столбцов в выборке признаков\n",
    "2. Создаем квадратную матрицу размером равным количеству столбцов в выборке признаков\n",
    "3. Проверяем детерминант матрицы чтобы он был не равен нулю так как нам необходима только обратимая матрица\n",
    "4. Умножаем выборку признаков на обратимую матрицу\n",
    "5. Данные защищены, теперь их можно отдать стороннему подрядчику."
   ]
  },
  {
   "cell_type": "markdown",
   "metadata": {},
   "source": [
    "**Обоснование**\n",
    "\n",
    "См. п.2"
   ]
  },
  {
   "cell_type": "markdown",
   "metadata": {},
   "source": [
    "## Проверка алгоритма"
   ]
  },
  {
   "cell_type": "code",
   "execution_count": 15,
   "metadata": {},
   "outputs": [],
   "source": [
    "# Разделим исходные данные\n",
    "\n",
    "X_train, X_test, y_train, y_test = train_test_split(X, y, test_size=0.25, random_state=12345)"
   ]
  },
  {
   "cell_type": "code",
   "execution_count": 16,
   "metadata": {},
   "outputs": [],
   "source": [
    "def get_rand_matrix():\n",
    "    det = 0\n",
    "    while det == 0:\n",
    "        matrix = np.random.normal(size=(X.shape[1], X.shape[1]))\n",
    "        det = np.linalg.det(matrix)\n",
    "    return matrix"
   ]
  },
  {
   "cell_type": "code",
   "execution_count": 17,
   "metadata": {},
   "outputs": [],
   "source": [
    "# Создадим и обучим модель\n",
    "\n",
    "def check_lr_model(X_train, X_test, y_train, y_test):\n",
    "    lr = LinearRegression()\n",
    "    lr.fit(X_train, y_train)\n",
    "    y_pred = lr.predict(X_test)\n",
    "    r2 = lr.score(X_test, y_test)\n",
    "    return r2"
   ]
  },
  {
   "cell_type": "code",
   "execution_count": 18,
   "metadata": {},
   "outputs": [
    {
     "name": "stdout",
     "output_type": "stream",
     "text": [
      "Коэффициент детерминации на исходных данных R2 = 0.43522757127026546\n"
     ]
    }
   ],
   "source": [
    "print('Коэффициент детерминации на исходных данных R2 =', check_lr_model(X_train, X_test, y_train, y_test))"
   ]
  },
  {
   "cell_type": "code",
   "execution_count": 19,
   "metadata": {},
   "outputs": [],
   "source": [
    "# Преобразуем исходные данные умножениекм на обратимую матрицу\n",
    "P = get_rand_matrix()\n",
    "X1_train = X_train @ P\n",
    "X1_test = X_test @ P"
   ]
  },
  {
   "cell_type": "code",
   "execution_count": 20,
   "metadata": {},
   "outputs": [
    {
     "name": "stdout",
     "output_type": "stream",
     "text": [
      "Коэффициент детерминации на преобразованных данных R2 = 0.4352275712703735\n"
     ]
    }
   ],
   "source": [
    "print('Коэффициент детерминации на преобразованных данных R2 =', check_lr_model(X1_train, X1_test, y_train, y_test))"
   ]
  },
  {
   "cell_type": "markdown",
   "metadata": {},
   "source": [
    "<b>ВЫВОД:</b>\n",
    "Коэффициенты детерминации на исходных и преобразованных данных равны. Качество модели линейной регрессии не меняется при умножении исходных данных на обратимую матрицу.\n",
    "\n",
    "Для того чтобы придти к такому выводу мы произвели преобразование матрицы X с помощью обратимой матрицы P и выяснили, что $MSE(Xw, y) = MSE(XPw_p, y)$ Далее мы содали алгоритм и на его основе обучили модель на двух типах данных:\n",
    "- исходных, которые содержали не зашифрованные значения параметров\n",
    "- преобразованных путем умножения на обратимую матрицу\n",
    "\n",
    "Проверка подтвердила равенство ошибок R2."
   ]
  }
 ],
 "metadata": {
  "ExecuteTimeLog": [
   {
    "duration": 379,
    "start_time": "2023-09-22T08:18:32.288Z"
   },
   {
    "duration": 1079,
    "start_time": "2023-09-22T08:18:45.525Z"
   },
   {
    "duration": 31,
    "start_time": "2023-09-22T08:18:53.250Z"
   },
   {
    "duration": 80,
    "start_time": "2023-09-22T08:19:39.515Z"
   },
   {
    "duration": 7,
    "start_time": "2023-09-22T08:19:42.418Z"
   },
   {
    "duration": 12,
    "start_time": "2023-09-22T08:21:17.374Z"
   },
   {
    "duration": 61,
    "start_time": "2023-09-22T08:22:41.473Z"
   },
   {
    "duration": 6,
    "start_time": "2023-09-22T09:35:13.508Z"
   },
   {
    "duration": 6,
    "start_time": "2023-09-22T09:35:19.587Z"
   },
   {
    "duration": 9,
    "start_time": "2023-09-22T09:39:07.348Z"
   },
   {
    "duration": 6,
    "start_time": "2023-09-22T09:49:44.840Z"
   },
   {
    "duration": 6,
    "start_time": "2023-09-22T09:49:55.833Z"
   },
   {
    "duration": 28,
    "start_time": "2023-09-22T09:50:05.960Z"
   },
   {
    "duration": 4,
    "start_time": "2023-09-22T09:52:07.287Z"
   },
   {
    "duration": 1113,
    "start_time": "2023-09-22T12:08:44.888Z"
   },
   {
    "duration": 98,
    "start_time": "2023-09-22T12:49:22.231Z"
   },
   {
    "duration": 9,
    "start_time": "2023-09-22T12:49:45.489Z"
   },
   {
    "duration": 10,
    "start_time": "2023-09-22T12:49:53.242Z"
   },
   {
    "duration": 9,
    "start_time": "2023-09-22T12:49:58.488Z"
   },
   {
    "duration": 2,
    "start_time": "2023-09-22T12:50:07.824Z"
   },
   {
    "duration": 76,
    "start_time": "2023-09-22T12:50:09.015Z"
   },
   {
    "duration": 12,
    "start_time": "2023-09-22T12:50:10.455Z"
   },
   {
    "duration": 15,
    "start_time": "2023-09-22T12:50:12.464Z"
   },
   {
    "duration": 11,
    "start_time": "2023-09-22T12:50:13.783Z"
   },
   {
    "duration": 23,
    "start_time": "2023-09-22T12:50:14.823Z"
   },
   {
    "duration": 4,
    "start_time": "2023-09-22T12:50:19.074Z"
   },
   {
    "duration": 5,
    "start_time": "2023-09-22T12:50:21.456Z"
   },
   {
    "duration": 93,
    "start_time": "2023-09-22T12:51:54.238Z"
   },
   {
    "duration": 4,
    "start_time": "2023-09-22T12:52:01.381Z"
   },
   {
    "duration": 17,
    "start_time": "2023-09-22T17:07:56.678Z"
   },
   {
    "duration": 4,
    "start_time": "2023-09-22T17:08:04.279Z"
   },
   {
    "duration": 28,
    "start_time": "2023-09-22T17:08:06.792Z"
   },
   {
    "duration": 11,
    "start_time": "2023-09-22T17:08:08.806Z"
   },
   {
    "duration": 11,
    "start_time": "2023-09-22T17:08:11.911Z"
   },
   {
    "duration": 7,
    "start_time": "2023-09-22T17:08:14.200Z"
   },
   {
    "duration": 8,
    "start_time": "2023-09-22T17:08:18.839Z"
   },
   {
    "duration": 5,
    "start_time": "2023-09-22T17:08:22.920Z"
   },
   {
    "duration": 11,
    "start_time": "2023-09-22T17:08:25.106Z"
   },
   {
    "duration": 5,
    "start_time": "2023-09-22T17:08:29.711Z"
   },
   {
    "duration": 3,
    "start_time": "2023-09-22T17:09:12.068Z"
   },
   {
    "duration": 6,
    "start_time": "2023-09-22T17:09:52.015Z"
   },
   {
    "duration": 9,
    "start_time": "2023-09-22T17:15:21.025Z"
   },
   {
    "duration": 6,
    "start_time": "2023-09-22T17:15:41.808Z"
   },
   {
    "duration": 6,
    "start_time": "2023-09-22T17:15:46.016Z"
   },
   {
    "duration": 5,
    "start_time": "2023-09-22T17:15:48.991Z"
   },
   {
    "duration": 5,
    "start_time": "2023-09-22T17:17:36.445Z"
   },
   {
    "duration": 5,
    "start_time": "2023-09-22T17:20:14.948Z"
   },
   {
    "duration": 5,
    "start_time": "2023-09-22T17:21:38.375Z"
   },
   {
    "duration": 6,
    "start_time": "2023-09-22T17:21:56.222Z"
   },
   {
    "duration": 6,
    "start_time": "2023-09-22T17:21:58.734Z"
   },
   {
    "duration": 6,
    "start_time": "2023-09-22T17:22:01.069Z"
   },
   {
    "duration": 3,
    "start_time": "2023-09-22T17:22:26.359Z"
   },
   {
    "duration": 6,
    "start_time": "2023-09-22T17:23:30.614Z"
   },
   {
    "duration": 4,
    "start_time": "2023-09-22T17:23:43.669Z"
   },
   {
    "duration": 7,
    "start_time": "2023-09-22T17:27:20.329Z"
   },
   {
    "duration": 5,
    "start_time": "2023-09-22T17:30:23.446Z"
   },
   {
    "duration": 3,
    "start_time": "2023-09-22T17:40:35.869Z"
   },
   {
    "duration": 120,
    "start_time": "2023-09-22T17:40:53.030Z"
   },
   {
    "duration": 4,
    "start_time": "2023-09-22T17:44:09.218Z"
   },
   {
    "duration": 4,
    "start_time": "2023-09-22T17:44:10.595Z"
   },
   {
    "duration": 4,
    "start_time": "2023-09-22T17:45:01.574Z"
   },
   {
    "duration": 32,
    "start_time": "2023-09-22T17:45:04.033Z"
   },
   {
    "duration": 1014,
    "start_time": "2023-09-22T20:57:45.396Z"
   },
   {
    "duration": 28,
    "start_time": "2023-09-22T20:57:46.412Z"
   },
   {
    "duration": 11,
    "start_time": "2023-09-22T20:57:46.442Z"
   },
   {
    "duration": 15,
    "start_time": "2023-09-22T20:57:46.455Z"
   },
   {
    "duration": 9,
    "start_time": "2023-09-22T20:57:46.472Z"
   },
   {
    "duration": 29,
    "start_time": "2023-09-22T20:57:46.482Z"
   },
   {
    "duration": 9,
    "start_time": "2023-09-22T20:57:46.512Z"
   },
   {
    "duration": 21,
    "start_time": "2023-09-22T20:57:46.522Z"
   },
   {
    "duration": 98,
    "start_time": "2023-09-22T20:57:46.545Z"
   },
   {
    "duration": 3,
    "start_time": "2023-09-22T20:57:46.646Z"
   },
   {
    "duration": 96,
    "start_time": "2023-09-22T20:57:46.652Z"
   },
   {
    "duration": 98,
    "start_time": "2023-09-22T20:57:46.750Z"
   },
   {
    "duration": 101,
    "start_time": "2023-09-22T20:57:46.850Z"
   },
   {
    "duration": 90,
    "start_time": "2023-09-22T20:57:46.955Z"
   },
   {
    "duration": 9,
    "start_time": "2023-09-22T20:57:47.052Z"
   },
   {
    "duration": 1219,
    "start_time": "2023-09-23T06:43:53.624Z"
   },
   {
    "duration": 77,
    "start_time": "2023-09-23T06:43:54.845Z"
   },
   {
    "duration": 15,
    "start_time": "2023-09-23T06:43:54.924Z"
   },
   {
    "duration": 22,
    "start_time": "2023-09-23T06:43:54.941Z"
   },
   {
    "duration": 15,
    "start_time": "2023-09-23T06:43:54.965Z"
   },
   {
    "duration": 46,
    "start_time": "2023-09-23T06:43:54.982Z"
   },
   {
    "duration": 4,
    "start_time": "2023-09-23T06:43:55.031Z"
   },
   {
    "duration": 14,
    "start_time": "2023-09-23T06:43:55.037Z"
   },
   {
    "duration": 74,
    "start_time": "2023-09-23T06:43:55.053Z"
   },
   {
    "duration": 92,
    "start_time": "2023-09-23T06:43:55.132Z"
   },
   {
    "duration": 8,
    "start_time": "2023-09-23T06:43:55.226Z"
   },
   {
    "duration": 7,
    "start_time": "2023-09-23T06:43:55.236Z"
   },
   {
    "duration": 91,
    "start_time": "2023-09-23T06:43:55.244Z"
   },
   {
    "duration": 95,
    "start_time": "2023-09-23T06:43:55.337Z"
   },
   {
    "duration": 3,
    "start_time": "2023-09-23T06:43:55.524Z"
   },
   {
    "duration": 4,
    "start_time": "2023-09-23T06:46:36.495Z"
   },
   {
    "duration": 13,
    "start_time": "2023-09-23T06:49:23.124Z"
   },
   {
    "duration": 3,
    "start_time": "2023-09-23T06:51:44.052Z"
   },
   {
    "duration": 95,
    "start_time": "2023-09-23T06:51:47.140Z"
   },
   {
    "duration": 15,
    "start_time": "2023-09-23T06:52:11.850Z"
   },
   {
    "duration": 3,
    "start_time": "2023-09-23T06:53:09.774Z"
   },
   {
    "duration": 3,
    "start_time": "2023-09-23T06:53:24.032Z"
   },
   {
    "duration": 20,
    "start_time": "2023-09-23T06:53:26.603Z"
   },
   {
    "duration": 3,
    "start_time": "2023-09-23T06:54:06.824Z"
   },
   {
    "duration": 3,
    "start_time": "2023-09-23T06:54:10.322Z"
   },
   {
    "duration": 1047,
    "start_time": "2023-09-23T06:54:35.282Z"
   },
   {
    "duration": 30,
    "start_time": "2023-09-23T06:54:36.331Z"
   },
   {
    "duration": 12,
    "start_time": "2023-09-23T06:54:36.363Z"
   },
   {
    "duration": 54,
    "start_time": "2023-09-23T06:54:36.376Z"
   },
   {
    "duration": 18,
    "start_time": "2023-09-23T06:54:36.432Z"
   },
   {
    "duration": 32,
    "start_time": "2023-09-23T06:54:36.451Z"
   },
   {
    "duration": 3,
    "start_time": "2023-09-23T06:54:36.485Z"
   },
   {
    "duration": 12,
    "start_time": "2023-09-23T06:54:36.489Z"
   },
   {
    "duration": 26,
    "start_time": "2023-09-23T06:54:36.502Z"
   },
   {
    "duration": 195,
    "start_time": "2023-09-23T06:54:36.530Z"
   },
   {
    "duration": 9,
    "start_time": "2023-09-23T06:54:36.727Z"
   },
   {
    "duration": 5,
    "start_time": "2023-09-23T06:54:36.738Z"
   },
   {
    "duration": 83,
    "start_time": "2023-09-23T06:54:36.745Z"
   },
   {
    "duration": 94,
    "start_time": "2023-09-23T06:54:36.832Z"
   },
   {
    "duration": 97,
    "start_time": "2023-09-23T06:54:36.928Z"
   },
   {
    "duration": 3,
    "start_time": "2023-09-23T06:54:37.027Z"
   },
   {
    "duration": 20,
    "start_time": "2023-09-23T06:54:37.032Z"
   },
   {
    "duration": 3,
    "start_time": "2023-09-23T06:56:54.938Z"
   },
   {
    "duration": 3,
    "start_time": "2023-09-23T06:57:03.874Z"
   },
   {
    "duration": 6,
    "start_time": "2023-09-23T06:57:25.851Z"
   },
   {
    "duration": 3,
    "start_time": "2023-09-23T06:57:29.139Z"
   },
   {
    "duration": 10,
    "start_time": "2023-09-23T06:57:31.643Z"
   },
   {
    "duration": 13,
    "start_time": "2023-09-23T06:58:17.032Z"
   },
   {
    "duration": 3,
    "start_time": "2023-09-23T06:58:47.785Z"
   },
   {
    "duration": 3,
    "start_time": "2023-09-23T07:00:48.279Z"
   },
   {
    "duration": 11,
    "start_time": "2023-09-23T07:01:14.837Z"
   },
   {
    "duration": 1134,
    "start_time": "2023-09-23T07:09:41.200Z"
   },
   {
    "duration": 29,
    "start_time": "2023-09-23T07:09:42.336Z"
   },
   {
    "duration": 13,
    "start_time": "2023-09-23T07:09:42.367Z"
   },
   {
    "duration": 86,
    "start_time": "2023-09-23T07:09:42.382Z"
   },
   {
    "duration": 22,
    "start_time": "2023-09-23T07:09:42.470Z"
   },
   {
    "duration": 73,
    "start_time": "2023-09-23T07:09:42.494Z"
   },
   {
    "duration": 5,
    "start_time": "2023-09-23T07:09:42.569Z"
   },
   {
    "duration": 39,
    "start_time": "2023-09-23T07:09:42.575Z"
   },
   {
    "duration": 53,
    "start_time": "2023-09-23T07:09:42.616Z"
   },
   {
    "duration": 4,
    "start_time": "2023-09-23T07:09:42.823Z"
   },
   {
    "duration": 35,
    "start_time": "2023-09-23T07:09:42.830Z"
   },
   {
    "duration": 58,
    "start_time": "2023-09-23T07:09:42.867Z"
   },
   {
    "duration": 195,
    "start_time": "2023-09-23T07:09:42.929Z"
   },
   {
    "duration": 9,
    "start_time": "2023-09-23T07:09:43.127Z"
   },
   {
    "duration": 119,
    "start_time": "2023-09-23T07:09:43.141Z"
   },
   {
    "duration": 25,
    "start_time": "2023-09-23T07:09:43.262Z"
   },
   {
    "duration": 54,
    "start_time": "2023-09-23T07:09:43.289Z"
   },
   {
    "duration": 19,
    "start_time": "2023-09-23T07:09:43.346Z"
   },
   {
    "duration": 21,
    "start_time": "2023-09-23T07:09:43.367Z"
   },
   {
    "duration": 1194,
    "start_time": "2023-09-23T07:10:44.595Z"
   },
   {
    "duration": 31,
    "start_time": "2023-09-23T07:10:45.792Z"
   },
   {
    "duration": 16,
    "start_time": "2023-09-23T07:10:45.831Z"
   },
   {
    "duration": 42,
    "start_time": "2023-09-23T07:10:45.849Z"
   },
   {
    "duration": 15,
    "start_time": "2023-09-23T07:10:45.893Z"
   },
   {
    "duration": 44,
    "start_time": "2023-09-23T07:10:45.910Z"
   },
   {
    "duration": 9,
    "start_time": "2023-09-23T07:10:45.956Z"
   },
   {
    "duration": 13,
    "start_time": "2023-09-23T07:10:45.967Z"
   },
   {
    "duration": 49,
    "start_time": "2023-09-23T07:10:45.983Z"
   },
   {
    "duration": 9,
    "start_time": "2023-09-23T07:10:46.035Z"
   },
   {
    "duration": 28,
    "start_time": "2023-09-23T07:10:46.125Z"
   },
   {
    "duration": 71,
    "start_time": "2023-09-23T07:10:46.155Z"
   },
   {
    "duration": 34,
    "start_time": "2023-09-23T07:10:46.229Z"
   },
   {
    "duration": 12,
    "start_time": "2023-09-23T07:10:46.325Z"
   },
   {
    "duration": 101,
    "start_time": "2023-09-23T07:10:46.343Z"
   },
   {
    "duration": 12,
    "start_time": "2023-09-23T07:10:46.446Z"
   },
   {
    "duration": 37,
    "start_time": "2023-09-23T07:10:46.459Z"
   },
   {
    "duration": 34,
    "start_time": "2023-09-23T07:10:46.498Z"
   },
   {
    "duration": 49,
    "start_time": "2023-09-23T07:10:46.534Z"
   },
   {
    "duration": 2901,
    "start_time": "2023-09-23T07:40:26.300Z"
   },
   {
    "duration": 76,
    "start_time": "2023-09-23T07:40:29.203Z"
   },
   {
    "duration": 14,
    "start_time": "2023-09-23T07:40:29.281Z"
   },
   {
    "duration": 40,
    "start_time": "2023-09-23T07:40:29.297Z"
   },
   {
    "duration": 12,
    "start_time": "2023-09-23T07:40:29.340Z"
   },
   {
    "duration": 50,
    "start_time": "2023-09-23T07:40:29.354Z"
   },
   {
    "duration": 23,
    "start_time": "2023-09-23T07:40:29.406Z"
   },
   {
    "duration": 22,
    "start_time": "2023-09-23T07:40:29.432Z"
   },
   {
    "duration": 71,
    "start_time": "2023-09-23T07:40:29.456Z"
   },
   {
    "duration": 97,
    "start_time": "2023-09-23T07:40:29.529Z"
   },
   {
    "duration": 38,
    "start_time": "2023-09-23T07:40:29.628Z"
   },
   {
    "duration": 69,
    "start_time": "2023-09-23T07:40:29.668Z"
   },
   {
    "duration": 107,
    "start_time": "2023-09-23T07:40:29.739Z"
   },
   {
    "duration": 95,
    "start_time": "2023-09-23T07:40:29.849Z"
   },
   {
    "duration": 143,
    "start_time": "2023-09-23T07:40:29.946Z"
   },
   {
    "duration": 42,
    "start_time": "2023-09-23T07:40:30.091Z"
   },
   {
    "duration": 76,
    "start_time": "2023-09-23T07:40:30.136Z"
   },
   {
    "duration": 114,
    "start_time": "2023-09-23T07:40:30.214Z"
   },
   {
    "duration": 111,
    "start_time": "2023-09-23T07:40:30.330Z"
   },
   {
    "duration": 121,
    "start_time": "2023-09-23T09:16:18.529Z"
   },
   {
    "duration": 103,
    "start_time": "2023-09-23T09:17:27.918Z"
   },
   {
    "duration": 123,
    "start_time": "2023-09-23T10:09:48.972Z"
   },
   {
    "duration": 83,
    "start_time": "2023-09-23T12:28:51.958Z"
   },
   {
    "duration": 2,
    "start_time": "2023-09-23T12:30:51.543Z"
   },
   {
    "duration": 80,
    "start_time": "2023-09-23T12:55:09.904Z"
   },
   {
    "duration": 1208,
    "start_time": "2023-09-23T18:34:22.780Z"
   },
   {
    "duration": 112,
    "start_time": "2023-09-23T18:34:23.990Z"
   },
   {
    "duration": 14,
    "start_time": "2023-09-23T18:34:24.104Z"
   },
   {
    "duration": 56,
    "start_time": "2023-09-23T18:34:24.121Z"
   },
   {
    "duration": 7,
    "start_time": "2023-09-23T18:34:24.179Z"
   },
   {
    "duration": 30,
    "start_time": "2023-09-23T18:34:24.187Z"
   },
   {
    "duration": 3,
    "start_time": "2023-09-23T18:34:24.219Z"
   },
   {
    "duration": 38,
    "start_time": "2023-09-23T18:34:24.223Z"
   },
   {
    "duration": 10,
    "start_time": "2023-09-23T18:34:24.264Z"
   },
   {
    "duration": 5,
    "start_time": "2023-09-23T18:34:24.276Z"
   },
   {
    "duration": 4,
    "start_time": "2023-09-23T18:34:24.283Z"
   },
   {
    "duration": 13,
    "start_time": "2023-09-23T18:34:24.289Z"
   },
   {
    "duration": 8,
    "start_time": "2023-09-23T18:34:24.303Z"
   },
   {
    "duration": 44,
    "start_time": "2023-09-23T18:34:24.312Z"
   },
   {
    "duration": 155,
    "start_time": "2023-09-23T18:34:24.358Z"
   },
   {
    "duration": 0,
    "start_time": "2023-09-23T18:34:24.515Z"
   },
   {
    "duration": 0,
    "start_time": "2023-09-23T18:34:24.517Z"
   },
   {
    "duration": 0,
    "start_time": "2023-09-23T18:34:24.518Z"
   },
   {
    "duration": 0,
    "start_time": "2023-09-23T18:34:24.520Z"
   },
   {
    "duration": 0,
    "start_time": "2023-09-23T18:34:24.521Z"
   },
   {
    "duration": 1503,
    "start_time": "2023-09-23T18:35:06.222Z"
   },
   {
    "duration": 58,
    "start_time": "2023-09-23T18:35:07.734Z"
   },
   {
    "duration": 12,
    "start_time": "2023-09-23T18:35:07.794Z"
   },
   {
    "duration": 57,
    "start_time": "2023-09-23T18:35:07.809Z"
   },
   {
    "duration": 48,
    "start_time": "2023-09-23T18:35:07.868Z"
   },
   {
    "duration": 53,
    "start_time": "2023-09-23T18:35:07.918Z"
   },
   {
    "duration": 241,
    "start_time": "2023-09-23T18:35:07.973Z"
   },
   {
    "duration": 0,
    "start_time": "2023-09-23T18:35:08.215Z"
   },
   {
    "duration": 0,
    "start_time": "2023-09-23T18:35:08.217Z"
   },
   {
    "duration": 0,
    "start_time": "2023-09-23T18:35:08.217Z"
   },
   {
    "duration": 0,
    "start_time": "2023-09-23T18:35:08.219Z"
   },
   {
    "duration": 0,
    "start_time": "2023-09-23T18:35:08.220Z"
   },
   {
    "duration": 0,
    "start_time": "2023-09-23T18:35:08.221Z"
   },
   {
    "duration": 0,
    "start_time": "2023-09-23T18:35:08.222Z"
   },
   {
    "duration": 0,
    "start_time": "2023-09-23T18:35:08.224Z"
   },
   {
    "duration": 0,
    "start_time": "2023-09-23T18:35:08.224Z"
   },
   {
    "duration": 0,
    "start_time": "2023-09-23T18:35:08.227Z"
   },
   {
    "duration": 0,
    "start_time": "2023-09-23T18:35:08.233Z"
   },
   {
    "duration": 0,
    "start_time": "2023-09-23T18:35:08.234Z"
   },
   {
    "duration": 0,
    "start_time": "2023-09-23T18:35:08.235Z"
   },
   {
    "duration": 1265,
    "start_time": "2023-09-23T18:35:51.585Z"
   },
   {
    "duration": 39,
    "start_time": "2023-09-23T18:35:52.858Z"
   },
   {
    "duration": 39,
    "start_time": "2023-09-23T18:35:52.899Z"
   },
   {
    "duration": 136,
    "start_time": "2023-09-23T18:35:52.942Z"
   },
   {
    "duration": 43,
    "start_time": "2023-09-23T18:35:53.081Z"
   },
   {
    "duration": 60,
    "start_time": "2023-09-23T18:35:53.128Z"
   },
   {
    "duration": 8,
    "start_time": "2023-09-23T18:35:53.190Z"
   },
   {
    "duration": 33,
    "start_time": "2023-09-23T18:35:53.199Z"
   },
   {
    "duration": 34,
    "start_time": "2023-09-23T18:35:53.234Z"
   },
   {
    "duration": 21,
    "start_time": "2023-09-23T18:35:53.271Z"
   },
   {
    "duration": 19,
    "start_time": "2023-09-23T18:35:53.294Z"
   },
   {
    "duration": 29,
    "start_time": "2023-09-23T18:35:53.316Z"
   },
   {
    "duration": 42,
    "start_time": "2023-09-23T18:35:53.347Z"
   },
   {
    "duration": 53,
    "start_time": "2023-09-23T18:35:53.391Z"
   },
   {
    "duration": 44,
    "start_time": "2023-09-23T18:35:53.446Z"
   },
   {
    "duration": 22,
    "start_time": "2023-09-23T18:35:53.492Z"
   },
   {
    "duration": 61,
    "start_time": "2023-09-23T18:35:53.515Z"
   },
   {
    "duration": 38,
    "start_time": "2023-09-23T18:35:53.579Z"
   },
   {
    "duration": 148,
    "start_time": "2023-09-23T18:35:53.620Z"
   },
   {
    "duration": 0,
    "start_time": "2023-09-23T18:35:53.771Z"
   },
   {
    "duration": 6,
    "start_time": "2023-09-23T18:37:08.608Z"
   },
   {
    "duration": 3,
    "start_time": "2023-09-23T18:37:11.281Z"
   },
   {
    "duration": 5,
    "start_time": "2023-09-23T18:37:14.166Z"
   },
   {
    "duration": 4,
    "start_time": "2023-09-23T18:37:38.475Z"
   },
   {
    "duration": 3,
    "start_time": "2023-09-23T18:37:40.811Z"
   },
   {
    "duration": 10,
    "start_time": "2023-09-23T18:37:43.194Z"
   },
   {
    "duration": 13,
    "start_time": "2023-09-23T18:37:45.944Z"
   },
   {
    "duration": 9,
    "start_time": "2023-09-23T18:37:50.082Z"
   },
   {
    "duration": 1366,
    "start_time": "2023-09-23T18:55:50.610Z"
   },
   {
    "duration": 32,
    "start_time": "2023-09-23T18:55:51.979Z"
   },
   {
    "duration": 47,
    "start_time": "2023-09-23T18:55:52.013Z"
   },
   {
    "duration": 42,
    "start_time": "2023-09-23T18:55:52.062Z"
   },
   {
    "duration": 6,
    "start_time": "2023-09-23T18:55:52.107Z"
   },
   {
    "duration": 52,
    "start_time": "2023-09-23T18:55:52.115Z"
   },
   {
    "duration": 6,
    "start_time": "2023-09-23T18:55:52.170Z"
   },
   {
    "duration": 7,
    "start_time": "2023-09-23T18:55:52.178Z"
   },
   {
    "duration": 9,
    "start_time": "2023-09-23T18:55:52.187Z"
   },
   {
    "duration": 36,
    "start_time": "2023-09-23T18:55:52.198Z"
   },
   {
    "duration": 16,
    "start_time": "2023-09-23T18:55:52.236Z"
   },
   {
    "duration": 5,
    "start_time": "2023-09-23T18:55:52.256Z"
   },
   {
    "duration": 11,
    "start_time": "2023-09-23T18:55:52.263Z"
   },
   {
    "duration": 14,
    "start_time": "2023-09-23T18:55:52.277Z"
   },
   {
    "duration": 12,
    "start_time": "2023-09-23T18:55:52.293Z"
   },
   {
    "duration": 4,
    "start_time": "2023-09-23T18:55:52.307Z"
   },
   {
    "duration": 32,
    "start_time": "2023-09-23T18:55:52.313Z"
   },
   {
    "duration": 30,
    "start_time": "2023-09-23T18:55:52.346Z"
   },
   {
    "duration": 12,
    "start_time": "2023-09-23T18:55:52.378Z"
   },
   {
    "duration": 18,
    "start_time": "2023-09-23T18:55:52.391Z"
   },
   {
    "duration": 1277,
    "start_time": "2023-09-23T18:56:41.675Z"
   },
   {
    "duration": 39,
    "start_time": "2023-09-23T18:56:42.955Z"
   },
   {
    "duration": 16,
    "start_time": "2023-09-23T18:56:42.995Z"
   },
   {
    "duration": 39,
    "start_time": "2023-09-23T18:56:43.013Z"
   },
   {
    "duration": 17,
    "start_time": "2023-09-23T18:56:43.055Z"
   },
   {
    "duration": 44,
    "start_time": "2023-09-23T18:56:43.076Z"
   },
   {
    "duration": 58,
    "start_time": "2023-09-23T18:56:43.122Z"
   },
   {
    "duration": 32,
    "start_time": "2023-09-23T18:56:43.182Z"
   },
   {
    "duration": 111,
    "start_time": "2023-09-23T18:56:43.216Z"
   },
   {
    "duration": 44,
    "start_time": "2023-09-23T18:56:43.339Z"
   },
   {
    "duration": 66,
    "start_time": "2023-09-23T18:56:43.385Z"
   },
   {
    "duration": 22,
    "start_time": "2023-09-23T18:56:43.453Z"
   },
   {
    "duration": 26,
    "start_time": "2023-09-23T18:56:43.478Z"
   },
   {
    "duration": 59,
    "start_time": "2023-09-23T18:56:43.508Z"
   },
   {
    "duration": 22,
    "start_time": "2023-09-23T18:56:43.569Z"
   },
   {
    "duration": 95,
    "start_time": "2023-09-23T18:56:43.593Z"
   },
   {
    "duration": 17,
    "start_time": "2023-09-23T18:56:43.690Z"
   },
   {
    "duration": 45,
    "start_time": "2023-09-23T18:56:43.709Z"
   },
   {
    "duration": 52,
    "start_time": "2023-09-23T18:56:43.756Z"
   },
   {
    "duration": 57,
    "start_time": "2023-09-23T18:56:43.810Z"
   },
   {
    "duration": 158,
    "start_time": "2023-09-24T06:50:52.347Z"
   },
   {
    "duration": 96,
    "start_time": "2023-09-24T06:52:25.507Z"
   },
   {
    "duration": 119,
    "start_time": "2023-09-24T06:53:13.355Z"
   },
   {
    "duration": 117,
    "start_time": "2023-09-24T06:53:59.451Z"
   },
   {
    "duration": 1248,
    "start_time": "2023-09-24T06:54:11.599Z"
   },
   {
    "duration": 101,
    "start_time": "2023-09-24T06:54:12.852Z"
   },
   {
    "duration": 17,
    "start_time": "2023-09-24T06:54:12.955Z"
   },
   {
    "duration": 119,
    "start_time": "2023-09-24T06:54:12.975Z"
   },
   {
    "duration": 10,
    "start_time": "2023-09-24T06:54:13.095Z"
   },
   {
    "duration": 39,
    "start_time": "2023-09-24T06:54:13.107Z"
   },
   {
    "duration": 5,
    "start_time": "2023-09-24T06:54:13.152Z"
   },
   {
    "duration": 76,
    "start_time": "2023-09-24T06:54:13.159Z"
   },
   {
    "duration": 19,
    "start_time": "2023-09-24T06:54:13.237Z"
   },
   {
    "duration": 7,
    "start_time": "2023-09-24T06:54:13.258Z"
   },
   {
    "duration": 16,
    "start_time": "2023-09-24T06:54:13.267Z"
   },
   {
    "duration": 19,
    "start_time": "2023-09-24T06:54:13.285Z"
   },
   {
    "duration": 6,
    "start_time": "2023-09-24T06:54:13.305Z"
   },
   {
    "duration": 22,
    "start_time": "2023-09-24T06:54:13.313Z"
   },
   {
    "duration": 21,
    "start_time": "2023-09-24T06:54:13.336Z"
   },
   {
    "duration": 14,
    "start_time": "2023-09-24T06:54:13.359Z"
   },
   {
    "duration": 43,
    "start_time": "2023-09-24T06:54:13.374Z"
   },
   {
    "duration": 44,
    "start_time": "2023-09-24T06:54:13.419Z"
   },
   {
    "duration": 3,
    "start_time": "2023-09-24T06:54:13.465Z"
   },
   {
    "duration": 16,
    "start_time": "2023-09-24T06:54:13.470Z"
   }
  ],
  "kernelspec": {
   "display_name": "Python 3 (ipykernel)",
   "language": "python",
   "name": "python3"
  },
  "language_info": {
   "codemirror_mode": {
    "name": "ipython",
    "version": 3
   },
   "file_extension": ".py",
   "mimetype": "text/x-python",
   "name": "python",
   "nbconvert_exporter": "python",
   "pygments_lexer": "ipython3",
   "version": "3.9.18"
  },
  "toc": {
   "base_numbering": 1,
   "nav_menu": {},
   "number_sections": true,
   "sideBar": true,
   "skip_h1_title": true,
   "title_cell": "Содержание",
   "title_sidebar": "Contents",
   "toc_cell": true,
   "toc_position": {},
   "toc_section_display": true,
   "toc_window_display": false
  }
 },
 "nbformat": 4,
 "nbformat_minor": 4
}
