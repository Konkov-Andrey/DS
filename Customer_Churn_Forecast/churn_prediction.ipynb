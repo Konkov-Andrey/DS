{
 "cells": [
  {
   "cell_type": "markdown",
   "id": "13e946d0",
   "metadata": {
    "id": "13e946d0"
   },
   "source": [
    "# Прогноз оттока клиентов оператора связи"
   ]
  },
  {
   "cell_type": "markdown",
   "id": "c1559c5c",
   "metadata": {
    "id": "c1559c5c"
   },
   "source": [
    "The telecom operator wants to combat customer churn. To do this, its employees will begin to offer promotional codes and special conditions to everyone who plans to refuse communication services. To find such users in advance, the telecom operator needs a model that will predict whether the subscriber will break the contract. The operator’s team collected personal data about some clients, information about their tariffs and services. Your task is to train a model on this data to predict customer churn."
   ]
  },
  {
   "cell_type": "markdown",
   "id": "c80cd2aa",
   "metadata": {
    "id": "c80cd2aa"
   },
   "source": [
    "<b>Описание данных</b>\n",
    "\n",
    "Во всех файлах столбец customerID содержит код клиента. Информация о договорах актуальна на 1 февраля 2020 года.\n",
    "\n",
    "Файлы contract_new.csv, personal_new.csv, internet_new.csv, phone_new.csv\n",
    "* customerID — идентификатор абонента;\n",
    "* BeginDate — дата начала действия договора;\n",
    "* EndDate — дата окончания действия договора;\n",
    "* Type — тип оплаты: раз в год-два или ежемесячно;\n",
    "* PaperlessBilling — электронный расчётный лист;\n",
    "* PaymentMethod — тип платежа;\n",
    "* MonthlyCharges — расходы за месяц;\n",
    "* TotalCharges — общие расходы абонента.\n",
    "* gender — пол;\n",
    "* SeniorCitizen — является ли абонент пенсионером;\n",
    "* Partner — есть ли у абонента супруг или супруга;\n",
    "* Dependents — есть ли у абонента дети.\n",
    "* InternetService — тип подключения;\n",
    "* OnlineSecurity — блокировка опасных сайтов;\n",
    "* OnlineBackup — облачное хранилище файлов для резервного копирования данных;\n",
    "* DeviceProtection — антивирус;\n",
    "* TechSupport — выделенная линия технической поддержки;\n",
    "* StreamingTV — стриминговое телевидение;\n",
    "* StreamingMovies — каталог фильмов.\n",
    "* MultipleLines — подключение телефона к нескольким линиям одновременно."
   ]
  },
  {
   "cell_type": "markdown",
   "id": "47035dc7",
   "metadata": {
    "id": "47035dc7"
   },
   "source": [
    "## Загрузка и предобработка данных"
   ]
  },
  {
   "cell_type": "code",
   "execution_count": 1,
   "id": "0ca74ae0",
   "metadata": {},
   "outputs": [
    {
     "name": "stdout",
     "output_type": "stream",
     "text": [
      "Collecting scikit-learn==1.1.3\n",
      "  Downloading scikit_learn-1.1.3-cp39-cp39-manylinux_2_17_x86_64.manylinux2014_x86_64.whl (30.8 MB)\n",
      "\u001b[K     |████████████████████████████████| 30.8 MB 2.5 MB/s eta 0:00:01\n",
      "\u001b[?25hRequirement already satisfied: scipy>=1.3.2 in /opt/conda/lib/python3.9/site-packages (from scikit-learn==1.1.3) (1.9.1)\n",
      "Requirement already satisfied: threadpoolctl>=2.0.0 in /opt/conda/lib/python3.9/site-packages (from scikit-learn==1.1.3) (3.1.0)\n",
      "Requirement already satisfied: joblib>=1.0.0 in /opt/conda/lib/python3.9/site-packages (from scikit-learn==1.1.3) (1.1.0)\n",
      "Requirement already satisfied: numpy>=1.17.3 in /opt/conda/lib/python3.9/site-packages (from scikit-learn==1.1.3) (1.21.1)\n",
      "Installing collected packages: scikit-learn\n",
      "  Attempting uninstall: scikit-learn\n",
      "    Found existing installation: scikit-learn 0.24.1\n",
      "    Uninstalling scikit-learn-0.24.1:\n",
      "      Successfully uninstalled scikit-learn-0.24.1\n",
      "Successfully installed scikit-learn-1.1.3\n",
      "Requirement already satisfied: xgboost in /opt/conda/lib/python3.9/site-packages (1.5.1)\n",
      "Collecting xgboost\n",
      "  Downloading xgboost-2.0.3-py3-none-manylinux2014_x86_64.whl (297.1 MB)\n",
      "\u001b[K     |████████████████████████████████| 297.1 MB 3.2 kB/s s eta 0:00:01\n",
      "\u001b[?25hRequirement already satisfied: scipy in /opt/conda/lib/python3.9/site-packages (from xgboost) (1.9.1)\n",
      "Requirement already satisfied: numpy in /opt/conda/lib/python3.9/site-packages (from xgboost) (1.21.1)\n",
      "Installing collected packages: xgboost\n",
      "  Attempting uninstall: xgboost\n",
      "    Found existing installation: xgboost 1.5.1\n",
      "    Uninstalling xgboost-1.5.1:\n",
      "      Successfully uninstalled xgboost-1.5.1\n",
      "Successfully installed xgboost-2.0.3\n"
     ]
    }
   ],
   "source": [
    "!pip install scikit-learn==1.1.3\n",
    "!pip install -U xgboost"
   ]
  },
  {
   "cell_type": "code",
   "execution_count": 2,
   "id": "2WVhSw8cBDOx",
   "metadata": {
    "colab": {
     "base_uri": "https://localhost:8080/"
    },
    "id": "2WVhSw8cBDOx",
    "outputId": "a9950233-9176-4065-e746-1da741463885"
   },
   "outputs": [
    {
     "name": "stdout",
     "output_type": "stream",
     "text": [
      "Collecting phik\n",
      "  Downloading phik-0.12.3-cp39-cp39-manylinux_2_17_x86_64.manylinux2014_x86_64.whl (679 kB)\n",
      "\u001b[K     |████████████████████████████████| 679 kB 2.6 MB/s eta 0:00:01\n",
      "\u001b[?25hRequirement already satisfied: catboost in /opt/conda/lib/python3.9/site-packages (1.0.3)\n",
      "Requirement already satisfied: lightgbm in /opt/conda/lib/python3.9/site-packages (3.3.1)\n",
      "Requirement already satisfied: xgboost in /opt/conda/lib/python3.9/site-packages (2.0.3)\n",
      "Requirement already satisfied: numpy>=1.18.0 in /opt/conda/lib/python3.9/site-packages (from phik) (1.21.1)\n",
      "Requirement already satisfied: scipy>=1.5.2 in /opt/conda/lib/python3.9/site-packages (from phik) (1.9.1)\n",
      "Requirement already satisfied: pandas>=0.25.1 in /opt/conda/lib/python3.9/site-packages (from phik) (1.2.4)\n",
      "Requirement already satisfied: joblib>=0.14.1 in /opt/conda/lib/python3.9/site-packages (from phik) (1.1.0)\n",
      "Requirement already satisfied: matplotlib>=2.2.3 in /opt/conda/lib/python3.9/site-packages (from phik) (3.3.4)\n",
      "Requirement already satisfied: python-dateutil>=2.1 in /opt/conda/lib/python3.9/site-packages (from matplotlib>=2.2.3->phik) (2.8.1)\n",
      "Requirement already satisfied: cycler>=0.10 in /opt/conda/lib/python3.9/site-packages (from matplotlib>=2.2.3->phik) (0.11.0)\n",
      "Requirement already satisfied: pillow>=6.2.0 in /opt/conda/lib/python3.9/site-packages (from matplotlib>=2.2.3->phik) (8.4.0)\n",
      "Requirement already satisfied: kiwisolver>=1.0.1 in /opt/conda/lib/python3.9/site-packages (from matplotlib>=2.2.3->phik) (1.4.4)\n",
      "Requirement already satisfied: pyparsing!=2.0.4,!=2.1.2,!=2.1.6,>=2.0.3 in /opt/conda/lib/python3.9/site-packages (from matplotlib>=2.2.3->phik) (2.4.7)\n",
      "Requirement already satisfied: pytz>=2017.3 in /opt/conda/lib/python3.9/site-packages (from pandas>=0.25.1->phik) (2021.1)\n",
      "Requirement already satisfied: six>=1.5 in /opt/conda/lib/python3.9/site-packages (from python-dateutil>=2.1->matplotlib>=2.2.3->phik) (1.16.0)\n",
      "Requirement already satisfied: graphviz in /opt/conda/lib/python3.9/site-packages (from catboost) (0.20.1)\n",
      "Requirement already satisfied: plotly in /opt/conda/lib/python3.9/site-packages (from catboost) (5.4.0)\n",
      "Requirement already satisfied: wheel in /opt/conda/lib/python3.9/site-packages (from lightgbm) (0.36.2)\n",
      "Requirement already satisfied: scikit-learn!=0.22.0 in /opt/conda/lib/python3.9/site-packages (from lightgbm) (1.1.3)\n",
      "Requirement already satisfied: threadpoolctl>=2.0.0 in /opt/conda/lib/python3.9/site-packages (from scikit-learn!=0.22.0->lightgbm) (3.1.0)\n",
      "Requirement already satisfied: tenacity>=6.2.0 in /opt/conda/lib/python3.9/site-packages (from plotly->catboost) (8.0.1)\n",
      "Installing collected packages: phik\n",
      "Successfully installed phik-0.12.3\n"
     ]
    }
   ],
   "source": [
    "!pip install phik catboost lightgbm xgboost"
   ]
  },
  {
   "cell_type": "code",
   "execution_count": 3,
   "id": "bdc7716d",
   "metadata": {
    "id": "bdc7716d"
   },
   "outputs": [],
   "source": [
    "import pandas as pd\n",
    "import numpy as np\n",
    "import seaborn as sns\n",
    "import matplotlib.pyplot as plt\n",
    "import phik\n",
    "import warnings\n",
    "\n",
    "from sklearn.model_selection import train_test_split\n",
    "from sklearn.preprocessing import OneHotEncoder, StandardScaler, OrdinalEncoder\n",
    "from sklearn.model_selection import GridSearchCV, cross_val_score\n",
    "from sklearn.compose import ColumnTransformer\n",
    "from sklearn.pipeline import Pipeline\n",
    "from sklearn.metrics import accuracy_score, roc_auc_score, make_scorer, roc_curve, auc, confusion_matrix\n",
    "from functools import reduce\n",
    "\n",
    "from sklearn.linear_model import LogisticRegression\n",
    "from sklearn.ensemble import RandomForestClassifier\n",
    "from catboost import CatBoostClassifier\n",
    "import lightgbm as lgb\n",
    "import xgboost as xgb\n",
    "\n",
    "warnings.filterwarnings(\"ignore\")\n",
    "\n",
    "pd.set_option('display.max_columns', None)\n",
    "pd.set_option('display.width', None)\n",
    "pd.set_option('display.expand_frame_repr', False)\n",
    "\n",
    "RANDOM_STATE = 251223"
   ]
  },
  {
   "cell_type": "code",
   "execution_count": 4,
   "id": "5811933f",
   "metadata": {
    "id": "5811933f"
   },
   "outputs": [],
   "source": [
    "# Создадим функцию для отображения базовой статистики\n",
    "\n",
    "def analyze_datasets(names_list):\n",
    "    for name in names_list:\n",
    "        dataset = eval(name)\n",
    "        print(\"-\"*32)\n",
    "        print(\"-\"*32)\n",
    "        print(f\"Информация о датасете {name}:\")\n",
    "        print(\"-\"*32)\n",
    "        print(\"-\"*32)\n",
    "        print()\n",
    "        print(dataset.info())\n",
    "        print()\n",
    "\n",
    "        print(f\"Первые 5 строк:\")\n",
    "        print(dataset.head())\n",
    "        print()\n",
    "\n",
    "        print(f\"Статистика:\")\n",
    "        print(dataset.describe(include='all'))\n",
    "        print()\n",
    "\n",
    "        print(f\"Доля пропусков:\")\n",
    "        missing_values_count = dataset.isnull().sum()\n",
    "        total_rows = len(dataset)\n",
    "        missing_ratio = round((missing_values_count / total_rows) * 100, 2)\n",
    "        print(missing_ratio)\n",
    "        print()\n",
    "\n",
    "        print(f\"Количество дубликатов строк:\",\n",
    "              dataset.duplicated().sum())\n",
    "        print()\n",
    "        print()"
   ]
  },
  {
   "cell_type": "code",
   "execution_count": 5,
   "id": "9433511f",
   "metadata": {
    "id": "9433511f"
   },
   "outputs": [],
   "source": [
    "# Загрузим данные\n",
    "\n",
    "try:\n",
    "    contract = pd.read_csv('/datasets/contract_new.csv')\n",
    "    personal = pd.read_csv('/datasets/personal_new.csv')\n",
    "    internet = pd.read_csv('/datasets/internet_new.csv')\n",
    "    phone = pd.read_csv('/datasets/phone_new.csv')\n",
    "except:\n",
    "    contract = pd.read_csv('https://code.s3.yandex.net/datasets/contract_new.csv')\n",
    "    personal = pd.read_csv('https://code.s3.yandex.net/datasets/personal_new.csv')\n",
    "    internet = pd.read_csv('https://code.s3.yandex.net/datasets/internet_new.csv')\n",
    "    phone = pd.read_csv('https://code.s3.yandex.net/datasets/phone_new.csv')"
   ]
  },
  {
   "cell_type": "code",
   "execution_count": 6,
   "id": "7f55e02f",
   "metadata": {
    "colab": {
     "base_uri": "https://localhost:8080/"
    },
    "id": "7f55e02f",
    "outputId": "15474c23-7a07-461e-a299-ff7bd0d57bb9"
   },
   "outputs": [
    {
     "name": "stdout",
     "output_type": "stream",
     "text": [
      "--------------------------------\n",
      "--------------------------------\n",
      "Информация о датасете contract:\n",
      "--------------------------------\n",
      "--------------------------------\n",
      "\n",
      "<class 'pandas.core.frame.DataFrame'>\n",
      "RangeIndex: 7043 entries, 0 to 7042\n",
      "Data columns (total 8 columns):\n",
      " #   Column            Non-Null Count  Dtype  \n",
      "---  ------            --------------  -----  \n",
      " 0   customerID        7043 non-null   object \n",
      " 1   BeginDate         7043 non-null   object \n",
      " 2   EndDate           7043 non-null   object \n",
      " 3   Type              7043 non-null   object \n",
      " 4   PaperlessBilling  7043 non-null   object \n",
      " 5   PaymentMethod     7043 non-null   object \n",
      " 6   MonthlyCharges    7043 non-null   float64\n",
      " 7   TotalCharges      7043 non-null   object \n",
      "dtypes: float64(1), object(7)\n",
      "memory usage: 440.3+ KB\n",
      "None\n",
      "\n",
      "Первые 5 строк:\n",
      "   customerID   BeginDate EndDate            Type PaperlessBilling              PaymentMethod  MonthlyCharges TotalCharges\n",
      "0  7590-VHVEG  2020-01-01      No  Month-to-month              Yes           Electronic check           29.85        31.04\n",
      "1  5575-GNVDE  2017-04-01      No        One year               No               Mailed check           56.95      2071.84\n",
      "2  3668-QPYBK  2019-10-01      No  Month-to-month              Yes               Mailed check           53.85       226.17\n",
      "3  7795-CFOCW  2016-05-01      No        One year               No  Bank transfer (automatic)           42.30       1960.6\n",
      "4  9237-HQITU  2019-09-01      No  Month-to-month              Yes           Electronic check           70.70        353.5\n",
      "\n",
      "Статистика:\n",
      "        customerID   BeginDate EndDate            Type PaperlessBilling     PaymentMethod  MonthlyCharges TotalCharges\n",
      "count         7043        7043    7043            7043             7043              7043     7043.000000         7043\n",
      "unique        7043          77      67               3                2                 4             NaN         6658\n",
      "top     3296-SILRA  2014-02-01      No  Month-to-month              Yes  Electronic check             NaN             \n",
      "freq             1         366    5942            3875             4171              2365             NaN           11\n",
      "mean           NaN         NaN     NaN             NaN              NaN               NaN       64.761692          NaN\n",
      "std            NaN         NaN     NaN             NaN              NaN               NaN       30.090047          NaN\n",
      "min            NaN         NaN     NaN             NaN              NaN               NaN       18.250000          NaN\n",
      "25%            NaN         NaN     NaN             NaN              NaN               NaN       35.500000          NaN\n",
      "50%            NaN         NaN     NaN             NaN              NaN               NaN       70.350000          NaN\n",
      "75%            NaN         NaN     NaN             NaN              NaN               NaN       89.850000          NaN\n",
      "max            NaN         NaN     NaN             NaN              NaN               NaN      118.750000          NaN\n",
      "\n",
      "Доля пропусков:\n",
      "customerID          0.0\n",
      "BeginDate           0.0\n",
      "EndDate             0.0\n",
      "Type                0.0\n",
      "PaperlessBilling    0.0\n",
      "PaymentMethod       0.0\n",
      "MonthlyCharges      0.0\n",
      "TotalCharges        0.0\n",
      "dtype: float64\n",
      "\n",
      "Количество дубликатов строк: 0\n",
      "\n",
      "\n",
      "--------------------------------\n",
      "--------------------------------\n",
      "Информация о датасете personal:\n",
      "--------------------------------\n",
      "--------------------------------\n",
      "\n",
      "<class 'pandas.core.frame.DataFrame'>\n",
      "RangeIndex: 7043 entries, 0 to 7042\n",
      "Data columns (total 5 columns):\n",
      " #   Column         Non-Null Count  Dtype \n",
      "---  ------         --------------  ----- \n",
      " 0   customerID     7043 non-null   object\n",
      " 1   gender         7043 non-null   object\n",
      " 2   SeniorCitizen  7043 non-null   int64 \n",
      " 3   Partner        7043 non-null   object\n",
      " 4   Dependents     7043 non-null   object\n",
      "dtypes: int64(1), object(4)\n",
      "memory usage: 275.2+ KB\n",
      "None\n",
      "\n",
      "Первые 5 строк:\n",
      "   customerID  gender  SeniorCitizen Partner Dependents\n",
      "0  7590-VHVEG  Female              0     Yes         No\n",
      "1  5575-GNVDE    Male              0      No         No\n",
      "2  3668-QPYBK    Male              0      No         No\n",
      "3  7795-CFOCW    Male              0      No         No\n",
      "4  9237-HQITU  Female              0      No         No\n",
      "\n",
      "Статистика:\n",
      "        customerID gender  SeniorCitizen Partner Dependents\n",
      "count         7043   7043    7043.000000    7043       7043\n",
      "unique        7043      2            NaN       2          2\n",
      "top     3296-SILRA   Male            NaN      No         No\n",
      "freq             1   3555            NaN    3641       4933\n",
      "mean           NaN    NaN       0.162147     NaN        NaN\n",
      "std            NaN    NaN       0.368612     NaN        NaN\n",
      "min            NaN    NaN       0.000000     NaN        NaN\n",
      "25%            NaN    NaN       0.000000     NaN        NaN\n",
      "50%            NaN    NaN       0.000000     NaN        NaN\n",
      "75%            NaN    NaN       0.000000     NaN        NaN\n",
      "max            NaN    NaN       1.000000     NaN        NaN\n",
      "\n",
      "Доля пропусков:\n",
      "customerID       0.0\n",
      "gender           0.0\n",
      "SeniorCitizen    0.0\n",
      "Partner          0.0\n",
      "Dependents       0.0\n",
      "dtype: float64\n",
      "\n",
      "Количество дубликатов строк: 0\n",
      "\n",
      "\n",
      "--------------------------------\n",
      "--------------------------------\n",
      "Информация о датасете internet:\n",
      "--------------------------------\n",
      "--------------------------------\n",
      "\n",
      "<class 'pandas.core.frame.DataFrame'>\n",
      "RangeIndex: 5517 entries, 0 to 5516\n",
      "Data columns (total 8 columns):\n",
      " #   Column            Non-Null Count  Dtype \n",
      "---  ------            --------------  ----- \n",
      " 0   customerID        5517 non-null   object\n",
      " 1   InternetService   5517 non-null   object\n",
      " 2   OnlineSecurity    5517 non-null   object\n",
      " 3   OnlineBackup      5517 non-null   object\n",
      " 4   DeviceProtection  5517 non-null   object\n",
      " 5   TechSupport       5517 non-null   object\n",
      " 6   StreamingTV       5517 non-null   object\n",
      " 7   StreamingMovies   5517 non-null   object\n",
      "dtypes: object(8)\n",
      "memory usage: 344.9+ KB\n",
      "None\n",
      "\n",
      "Первые 5 строк:\n",
      "   customerID InternetService OnlineSecurity OnlineBackup DeviceProtection TechSupport StreamingTV StreamingMovies\n",
      "0  7590-VHVEG             DSL             No          Yes               No          No          No              No\n",
      "1  5575-GNVDE             DSL            Yes           No              Yes          No          No              No\n",
      "2  3668-QPYBK             DSL            Yes          Yes               No          No          No              No\n",
      "3  7795-CFOCW             DSL            Yes           No              Yes         Yes          No              No\n",
      "4  9237-HQITU     Fiber optic             No           No               No          No          No              No\n",
      "\n",
      "Статистика:\n",
      "        customerID InternetService OnlineSecurity OnlineBackup DeviceProtection TechSupport StreamingTV StreamingMovies\n",
      "count         5517            5517           5517         5517             5517        5517        5517            5517\n",
      "unique        5517               2              2            2                2           2           2               2\n",
      "top     0980-PVMRC     Fiber optic             No           No               No          No          No              No\n",
      "freq             1            3096           3498         3088             3095        3473        2810            2785\n",
      "\n",
      "Доля пропусков:\n",
      "customerID          0.0\n",
      "InternetService     0.0\n",
      "OnlineSecurity      0.0\n",
      "OnlineBackup        0.0\n",
      "DeviceProtection    0.0\n",
      "TechSupport         0.0\n",
      "StreamingTV         0.0\n",
      "StreamingMovies     0.0\n",
      "dtype: float64\n",
      "\n",
      "Количество дубликатов строк: 0\n",
      "\n",
      "\n",
      "--------------------------------\n",
      "--------------------------------\n",
      "Информация о датасете phone:\n",
      "--------------------------------\n",
      "--------------------------------\n",
      "\n",
      "<class 'pandas.core.frame.DataFrame'>\n",
      "RangeIndex: 6361 entries, 0 to 6360\n",
      "Data columns (total 2 columns):\n",
      " #   Column         Non-Null Count  Dtype \n",
      "---  ------         --------------  ----- \n",
      " 0   customerID     6361 non-null   object\n",
      " 1   MultipleLines  6361 non-null   object\n",
      "dtypes: object(2)\n",
      "memory usage: 99.5+ KB\n",
      "None\n",
      "\n",
      "Первые 5 строк:\n",
      "   customerID MultipleLines\n",
      "0  5575-GNVDE            No\n",
      "1  3668-QPYBK            No\n",
      "2  9237-HQITU            No\n",
      "3  9305-CDSKC           Yes\n",
      "4  1452-KIOVK           Yes\n",
      "\n",
      "Статистика:\n",
      "        customerID MultipleLines\n",
      "count         6361          6361\n",
      "unique        6361             2\n",
      "top     3296-SILRA            No\n",
      "freq             1          3390\n",
      "\n",
      "Доля пропусков:\n",
      "customerID       0.0\n",
      "MultipleLines    0.0\n",
      "dtype: float64\n",
      "\n",
      "Количество дубликатов строк: 0\n",
      "\n",
      "\n"
     ]
    }
   ],
   "source": [
    "# Изучим базовую статистику загруженных датасетов\n",
    "\n",
    "analyze_datasets(['contract', 'personal', 'internet', 'phone'])"
   ]
  },
  {
   "cell_type": "code",
   "execution_count": 7,
   "id": "1667e17c",
   "metadata": {
    "id": "1667e17c"
   },
   "outputs": [],
   "source": [
    "# Объединим датасеты\n",
    "\n",
    "df = reduce(lambda left, right: pd.merge(left, right, on='customerID', how=\"outer\"), [contract, personal, internet, phone])"
   ]
  },
  {
   "cell_type": "code",
   "execution_count": 8,
   "id": "eEgr0k7S__Yl",
   "metadata": {
    "colab": {
     "base_uri": "https://localhost:8080/"
    },
    "id": "eEgr0k7S__Yl",
    "outputId": "bfb3ec44-424e-4ef9-9fee-27ee1cc6137d"
   },
   "outputs": [
    {
     "name": "stdout",
     "output_type": "stream",
     "text": [
      "--------------------------------\n",
      "--------------------------------\n",
      "Информация о датасете df:\n",
      "--------------------------------\n",
      "--------------------------------\n",
      "\n",
      "<class 'pandas.core.frame.DataFrame'>\n",
      "Int64Index: 7043 entries, 0 to 7042\n",
      "Data columns (total 20 columns):\n",
      " #   Column            Non-Null Count  Dtype  \n",
      "---  ------            --------------  -----  \n",
      " 0   customerID        7043 non-null   object \n",
      " 1   BeginDate         7043 non-null   object \n",
      " 2   EndDate           7043 non-null   object \n",
      " 3   Type              7043 non-null   object \n",
      " 4   PaperlessBilling  7043 non-null   object \n",
      " 5   PaymentMethod     7043 non-null   object \n",
      " 6   MonthlyCharges    7043 non-null   float64\n",
      " 7   TotalCharges      7043 non-null   object \n",
      " 8   gender            7043 non-null   object \n",
      " 9   SeniorCitizen     7043 non-null   int64  \n",
      " 10  Partner           7043 non-null   object \n",
      " 11  Dependents        7043 non-null   object \n",
      " 12  InternetService   5517 non-null   object \n",
      " 13  OnlineSecurity    5517 non-null   object \n",
      " 14  OnlineBackup      5517 non-null   object \n",
      " 15  DeviceProtection  5517 non-null   object \n",
      " 16  TechSupport       5517 non-null   object \n",
      " 17  StreamingTV       5517 non-null   object \n",
      " 18  StreamingMovies   5517 non-null   object \n",
      " 19  MultipleLines     6361 non-null   object \n",
      "dtypes: float64(1), int64(1), object(18)\n",
      "memory usage: 1.1+ MB\n",
      "None\n",
      "\n",
      "Первые 5 строк:\n",
      "   customerID   BeginDate EndDate            Type PaperlessBilling              PaymentMethod  MonthlyCharges TotalCharges  gender  SeniorCitizen Partner Dependents InternetService OnlineSecurity OnlineBackup DeviceProtection TechSupport StreamingTV StreamingMovies MultipleLines\n",
      "0  7590-VHVEG  2020-01-01      No  Month-to-month              Yes           Electronic check           29.85        31.04  Female              0     Yes         No             DSL             No          Yes               No          No          No              No           NaN\n",
      "1  5575-GNVDE  2017-04-01      No        One year               No               Mailed check           56.95      2071.84    Male              0      No         No             DSL            Yes           No              Yes          No          No              No            No\n",
      "2  3668-QPYBK  2019-10-01      No  Month-to-month              Yes               Mailed check           53.85       226.17    Male              0      No         No             DSL            Yes          Yes               No          No          No              No            No\n",
      "3  7795-CFOCW  2016-05-01      No        One year               No  Bank transfer (automatic)           42.30       1960.6    Male              0      No         No             DSL            Yes           No              Yes         Yes          No              No           NaN\n",
      "4  9237-HQITU  2019-09-01      No  Month-to-month              Yes           Electronic check           70.70        353.5  Female              0      No         No     Fiber optic             No           No               No          No          No              No            No\n",
      "\n",
      "Статистика:\n",
      "        customerID   BeginDate EndDate            Type PaperlessBilling     PaymentMethod  MonthlyCharges TotalCharges gender  SeniorCitizen Partner Dependents InternetService OnlineSecurity OnlineBackup DeviceProtection TechSupport StreamingTV StreamingMovies MultipleLines\n",
      "count         7043        7043    7043            7043             7043              7043     7043.000000         7043   7043    7043.000000    7043       7043            5517           5517         5517             5517        5517        5517            5517          6361\n",
      "unique        7043          77      67               3                2                 4             NaN         6658      2            NaN       2          2               2              2            2                2           2           2               2             2\n",
      "top     3296-SILRA  2014-02-01      No  Month-to-month              Yes  Electronic check             NaN                Male            NaN      No         No     Fiber optic             No           No               No          No          No              No            No\n",
      "freq             1         366    5942            3875             4171              2365             NaN           11   3555            NaN    3641       4933            3096           3498         3088             3095        3473        2810            2785          3390\n",
      "mean           NaN         NaN     NaN             NaN              NaN               NaN       64.761692          NaN    NaN       0.162147     NaN        NaN             NaN            NaN          NaN              NaN         NaN         NaN             NaN           NaN\n",
      "std            NaN         NaN     NaN             NaN              NaN               NaN       30.090047          NaN    NaN       0.368612     NaN        NaN             NaN            NaN          NaN              NaN         NaN         NaN             NaN           NaN\n",
      "min            NaN         NaN     NaN             NaN              NaN               NaN       18.250000          NaN    NaN       0.000000     NaN        NaN             NaN            NaN          NaN              NaN         NaN         NaN             NaN           NaN\n",
      "25%            NaN         NaN     NaN             NaN              NaN               NaN       35.500000          NaN    NaN       0.000000     NaN        NaN             NaN            NaN          NaN              NaN         NaN         NaN             NaN           NaN\n",
      "50%            NaN         NaN     NaN             NaN              NaN               NaN       70.350000          NaN    NaN       0.000000     NaN        NaN             NaN            NaN          NaN              NaN         NaN         NaN             NaN           NaN\n",
      "75%            NaN         NaN     NaN             NaN              NaN               NaN       89.850000          NaN    NaN       0.000000     NaN        NaN             NaN            NaN          NaN              NaN         NaN         NaN             NaN           NaN\n",
      "max            NaN         NaN     NaN             NaN              NaN               NaN      118.750000          NaN    NaN       1.000000     NaN        NaN             NaN            NaN          NaN              NaN         NaN         NaN             NaN           NaN\n",
      "\n",
      "Доля пропусков:\n",
      "customerID           0.00\n",
      "BeginDate            0.00\n",
      "EndDate              0.00\n",
      "Type                 0.00\n",
      "PaperlessBilling     0.00\n",
      "PaymentMethod        0.00\n",
      "MonthlyCharges       0.00\n",
      "TotalCharges         0.00\n",
      "gender               0.00\n",
      "SeniorCitizen        0.00\n",
      "Partner              0.00\n",
      "Dependents           0.00\n",
      "InternetService     21.67\n",
      "OnlineSecurity      21.67\n",
      "OnlineBackup        21.67\n",
      "DeviceProtection    21.67\n",
      "TechSupport         21.67\n",
      "StreamingTV         21.67\n",
      "StreamingMovies     21.67\n",
      "MultipleLines        9.68\n",
      "dtype: float64\n",
      "\n",
      "Количество дубликатов строк: 0\n",
      "\n",
      "\n"
     ]
    }
   ],
   "source": [
    "# Проанализируем объединенный датафрейм\n",
    "\n",
    "analyze_datasets(['df'])"
   ]
  },
  {
   "cell_type": "code",
   "execution_count": 9,
   "id": "JQXE1NBnSSQA",
   "metadata": {
    "colab": {
     "base_uri": "https://localhost:8080/",
     "height": 365
    },
    "id": "JQXE1NBnSSQA",
    "outputId": "83c558ff-e5dd-40c4-f6ed-9513c4d597c7"
   },
   "outputs": [
    {
     "data": {
      "text/html": [
       "<div>\n",
       "<style scoped>\n",
       "    .dataframe tbody tr th:only-of-type {\n",
       "        vertical-align: middle;\n",
       "    }\n",
       "\n",
       "    .dataframe tbody tr th {\n",
       "        vertical-align: top;\n",
       "    }\n",
       "\n",
       "    .dataframe thead th {\n",
       "        text-align: right;\n",
       "    }\n",
       "</style>\n",
       "<table border=\"1\" class=\"dataframe\">\n",
       "  <thead>\n",
       "    <tr style=\"text-align: right;\">\n",
       "      <th></th>\n",
       "      <th>customer_id</th>\n",
       "      <th>begin_date</th>\n",
       "      <th>end_date</th>\n",
       "      <th>type</th>\n",
       "      <th>paperless_billing</th>\n",
       "      <th>payment_method</th>\n",
       "      <th>monthly_charges</th>\n",
       "      <th>total_charges</th>\n",
       "      <th>gender</th>\n",
       "      <th>senior_citizen</th>\n",
       "      <th>partner</th>\n",
       "      <th>dependents</th>\n",
       "      <th>internet_service</th>\n",
       "      <th>online_security</th>\n",
       "      <th>online_backup</th>\n",
       "      <th>device_protection</th>\n",
       "      <th>tech_support</th>\n",
       "      <th>streaming_tv</th>\n",
       "      <th>streaming_movies</th>\n",
       "      <th>multiple_lines</th>\n",
       "    </tr>\n",
       "  </thead>\n",
       "  <tbody>\n",
       "    <tr>\n",
       "      <th>0</th>\n",
       "      <td>7590-VHVEG</td>\n",
       "      <td>2020-01-01</td>\n",
       "      <td>No</td>\n",
       "      <td>Month-to-month</td>\n",
       "      <td>Yes</td>\n",
       "      <td>Electronic check</td>\n",
       "      <td>29.85</td>\n",
       "      <td>31.04</td>\n",
       "      <td>Female</td>\n",
       "      <td>0</td>\n",
       "      <td>Yes</td>\n",
       "      <td>No</td>\n",
       "      <td>DSL</td>\n",
       "      <td>No</td>\n",
       "      <td>Yes</td>\n",
       "      <td>No</td>\n",
       "      <td>No</td>\n",
       "      <td>No</td>\n",
       "      <td>No</td>\n",
       "      <td>NaN</td>\n",
       "    </tr>\n",
       "    <tr>\n",
       "      <th>1</th>\n",
       "      <td>5575-GNVDE</td>\n",
       "      <td>2017-04-01</td>\n",
       "      <td>No</td>\n",
       "      <td>One year</td>\n",
       "      <td>No</td>\n",
       "      <td>Mailed check</td>\n",
       "      <td>56.95</td>\n",
       "      <td>2071.84</td>\n",
       "      <td>Male</td>\n",
       "      <td>0</td>\n",
       "      <td>No</td>\n",
       "      <td>No</td>\n",
       "      <td>DSL</td>\n",
       "      <td>Yes</td>\n",
       "      <td>No</td>\n",
       "      <td>Yes</td>\n",
       "      <td>No</td>\n",
       "      <td>No</td>\n",
       "      <td>No</td>\n",
       "      <td>No</td>\n",
       "    </tr>\n",
       "    <tr>\n",
       "      <th>2</th>\n",
       "      <td>3668-QPYBK</td>\n",
       "      <td>2019-10-01</td>\n",
       "      <td>No</td>\n",
       "      <td>Month-to-month</td>\n",
       "      <td>Yes</td>\n",
       "      <td>Mailed check</td>\n",
       "      <td>53.85</td>\n",
       "      <td>226.17</td>\n",
       "      <td>Male</td>\n",
       "      <td>0</td>\n",
       "      <td>No</td>\n",
       "      <td>No</td>\n",
       "      <td>DSL</td>\n",
       "      <td>Yes</td>\n",
       "      <td>Yes</td>\n",
       "      <td>No</td>\n",
       "      <td>No</td>\n",
       "      <td>No</td>\n",
       "      <td>No</td>\n",
       "      <td>No</td>\n",
       "    </tr>\n",
       "    <tr>\n",
       "      <th>3</th>\n",
       "      <td>7795-CFOCW</td>\n",
       "      <td>2016-05-01</td>\n",
       "      <td>No</td>\n",
       "      <td>One year</td>\n",
       "      <td>No</td>\n",
       "      <td>Bank transfer (automatic)</td>\n",
       "      <td>42.30</td>\n",
       "      <td>1960.6</td>\n",
       "      <td>Male</td>\n",
       "      <td>0</td>\n",
       "      <td>No</td>\n",
       "      <td>No</td>\n",
       "      <td>DSL</td>\n",
       "      <td>Yes</td>\n",
       "      <td>No</td>\n",
       "      <td>Yes</td>\n",
       "      <td>Yes</td>\n",
       "      <td>No</td>\n",
       "      <td>No</td>\n",
       "      <td>NaN</td>\n",
       "    </tr>\n",
       "    <tr>\n",
       "      <th>4</th>\n",
       "      <td>9237-HQITU</td>\n",
       "      <td>2019-09-01</td>\n",
       "      <td>No</td>\n",
       "      <td>Month-to-month</td>\n",
       "      <td>Yes</td>\n",
       "      <td>Electronic check</td>\n",
       "      <td>70.70</td>\n",
       "      <td>353.5</td>\n",
       "      <td>Female</td>\n",
       "      <td>0</td>\n",
       "      <td>No</td>\n",
       "      <td>No</td>\n",
       "      <td>Fiber optic</td>\n",
       "      <td>No</td>\n",
       "      <td>No</td>\n",
       "      <td>No</td>\n",
       "      <td>No</td>\n",
       "      <td>No</td>\n",
       "      <td>No</td>\n",
       "      <td>No</td>\n",
       "    </tr>\n",
       "  </tbody>\n",
       "</table>\n",
       "</div>"
      ],
      "text/plain": [
       "  customer_id  begin_date end_date            type paperless_billing             payment_method  monthly_charges total_charges  gender  senior_citizen partner dependents internet_service online_security online_backup device_protection tech_support streaming_tv streaming_movies multiple_lines\n",
       "0  7590-VHVEG  2020-01-01       No  Month-to-month               Yes           Electronic check            29.85         31.04  Female               0     Yes         No              DSL              No           Yes                No           No           No               No            NaN\n",
       "1  5575-GNVDE  2017-04-01       No        One year                No               Mailed check            56.95       2071.84    Male               0      No         No              DSL             Yes            No               Yes           No           No               No             No\n",
       "2  3668-QPYBK  2019-10-01       No  Month-to-month               Yes               Mailed check            53.85        226.17    Male               0      No         No              DSL             Yes           Yes                No           No           No               No             No\n",
       "3  7795-CFOCW  2016-05-01       No        One year                No  Bank transfer (automatic)            42.30        1960.6    Male               0      No         No              DSL             Yes            No               Yes          Yes           No               No            NaN\n",
       "4  9237-HQITU  2019-09-01       No  Month-to-month               Yes           Electronic check            70.70         353.5  Female               0      No         No      Fiber optic              No            No                No           No           No               No             No"
      ]
     },
     "execution_count": 9,
     "metadata": {},
     "output_type": "execute_result"
    }
   ],
   "source": [
    "# Приведем названия столбцов в snake_case\n",
    "\n",
    "rename_columns = {\n",
    "    'customerID': 'customer_id',\n",
    "    'BeginDate': 'begin_date',\n",
    "    'EndDate': 'end_date',\n",
    "    'Type': 'type',\n",
    "    'PaperlessBilling': 'paperless_billing',\n",
    "    'PaymentMethod': 'payment_method',\n",
    "    'MonthlyCharges': 'monthly_charges',\n",
    "    'TotalCharges': 'total_charges',\n",
    "    'SeniorCitizen': 'senior_citizen',\n",
    "    'Partner': 'partner',\n",
    "    'Dependents': 'dependents',\n",
    "    'InternetService': 'internet_service',\n",
    "    'OnlineSecurity': 'online_security',\n",
    "    'OnlineBackup': 'online_backup',\n",
    "    'DeviceProtection': 'device_protection',\n",
    "    'TechSupport': 'tech_support',\n",
    "    'StreamingTV': 'streaming_tv',\n",
    "    'StreamingMovies': 'streaming_movies',\n",
    "    'MultipleLines': 'multiple_lines'\n",
    "}\n",
    "\n",
    "df = df.rename(columns=rename_columns)\n",
    "\n",
    "df.head(5)"
   ]
  },
  {
   "cell_type": "code",
   "execution_count": 10,
   "id": "TJ9mbqAVnDp_",
   "metadata": {
    "colab": {
     "base_uri": "https://localhost:8080/"
    },
    "id": "TJ9mbqAVnDp_",
    "outputId": "9df92d29-342a-460d-9679-e8a19f844b40"
   },
   "outputs": [
    {
     "name": "stdout",
     "output_type": "stream",
     "text": [
      "customer_id          0\n",
      "begin_date           0\n",
      "end_date             0\n",
      "type                 0\n",
      "paperless_billing    0\n",
      "payment_method       0\n",
      "monthly_charges      0\n",
      "total_charges        0\n",
      "gender               0\n",
      "senior_citizen       0\n",
      "partner              0\n",
      "dependents           0\n",
      "internet_service     0\n",
      "online_security      0\n",
      "online_backup        0\n",
      "device_protection    0\n",
      "tech_support         0\n",
      "streaming_tv         0\n",
      "streaming_movies     0\n",
      "multiple_lines       0\n",
      "dtype: int64\n"
     ]
    }
   ],
   "source": [
    "# Избавимся от пропусков меняя отсутствие информации об\n",
    "# использовании интернета абонентом на no-internet\n",
    "# использовании телефонной связи  абонентом на no-phone\n",
    "\n",
    "columns_with_internet_service = [\n",
    "    'internet_service', 'online_security', 'online_backup', 'device_protection',\n",
    "    'tech_support', 'streaming_tv', 'streaming_movies'\n",
    "]\n",
    "\n",
    "for column in columns_with_internet_service:\n",
    "    df[column] = df[column].fillna('no-internet')\n",
    "\n",
    "df['multiple_lines'] = df['multiple_lines'].fillna('no-phone')\n",
    "\n",
    "print(df.isnull().sum())"
   ]
  },
  {
   "cell_type": "code",
   "execution_count": 11,
   "id": "ScOskUYUvWxR",
   "metadata": {
    "id": "ScOskUYUvWxR"
   },
   "outputs": [],
   "source": [
    "# Изменим типы данных\n",
    "\n",
    "df['begin_date'] = pd.to_datetime(df['begin_date'])\n",
    "df['end_date'] = df['end_date'].replace('No', '2020-02-01')\n",
    "df['end_date'] = pd.to_datetime(df['end_date'])\n",
    "\n",
    "# Заменим строки с пропуском в total_charges на 0 и преобразуем во float\n",
    "\n",
    "df['total_charges'] = df['total_charges'].replace(' ', 0)\n",
    "df['total_charges'] = df['total_charges'].astype(float)"
   ]
  },
  {
   "cell_type": "code",
   "execution_count": 12,
   "id": "farTFoK581he",
   "metadata": {
    "id": "farTFoK581he"
   },
   "outputs": [],
   "source": [
    "# Создадим столбцы со сроком существования абонента и бинарный (является ли\n",
    "# абонент на текущий момент клиентом или нет)\n",
    "\n",
    "df['duration'] = (df['end_date'] - df['begin_date']).dt.days\n",
    "df['churn'] = df['end_date'].apply(lambda x: 0 if x == pd.to_datetime('2020-02-01') else 1)"
   ]
  },
  {
   "cell_type": "markdown",
   "id": "24c38573-6239-48ad-9d47-a3b298aec61b",
   "metadata": {},
   "source": [
    "<div class=\"alert\" style=\"border: 1px solid; padding: 10px;\">\n",
    "<b><u>Промежуточные выводы:</u></b>\n",
    "    \n",
    "1. Загрузили данные, обратили внимание:\n",
    "    \n",
    "* датасеты contract и personal имеют одинаковое количество строк, а значит у нас есть полные данные по всем абонентам\n",
    "* некоторые абоненты не пользуются мобильной связью, а некоторые интернетом. \n",
    "* полные дубликаты не выявлены\n",
    "\n",
    "2. Объединили датасеты по уникальным id, предобработали данные:\n",
    "\n",
    "* привели кодировку в соответствие для изучения и последующего моделирования\n",
    "* заполнили пропуски в данных об использовании интернета и мобильной связи при помощи заглушек no-internet, no-phone\n",
    "* Создали вспомогательные столбцы со сроком жизни абонента и целевым признаком churn где 1 - абонент ушел, 0 - абонент активен.  \n",
    "* Удалим впоследствии столбцы c идентификатором абонента, полной датой, месяцем начала и датой конца действия договора как мало значимые данные. \n",
    "* На основании имеющихся данных создали признаки: срок существования абонента и целевой приизнак churn (0 - договор с абонентом активен, 1 - договор с абонентом расторгнут)\n",
    "* Заменили пропуски в совокупных тратах на 0 чтобы иметь возможность прогнозировать в будущем всю выборку абонентов и не исключать \"новых\".\n",
    "</div> "
   ]
  },
  {
   "cell_type": "markdown",
   "id": "d18cbf9e-552f-41a8-aa2b-67348a894566",
   "metadata": {},
   "source": [
    "## Изучение данных"
   ]
  },
  {
   "cell_type": "code",
   "execution_count": 13,
   "id": "J81hevpG_2a2",
   "metadata": {
    "colab": {
     "base_uri": "https://localhost:8080/",
     "height": 1000
    },
    "id": "J81hevpG_2a2",
    "outputId": "f372e586-0b68-4f6c-c958-c37397bf0fa9"
   },
   "outputs": [
    {
     "data": {
      "image/png": "[encoded data removed]",
      "text/plain": [
       "<Figure size 360x144 with 1 Axes>"
      ]
     },
     "metadata": {
      "needs_background": "light"
     },
     "output_type": "display_data"
    },
    {
     "data": {
      "image/png": "[encoded data removed]",
      "text/plain": [
       "<Figure size 360x144 with 1 Axes>"
      ]
     },
     "metadata": {
      "needs_background": "light"
     },
     "output_type": "display_data"
    },
    {
     "data": {
      "image/png": "[encoded data removed]",
      "text/plain": [
       "<Figure size 360x144 with 1 Axes>"
      ]
     },
     "metadata": {
      "needs_background": "light"
     },
     "output_type": "display_data"
    },
    {
     "data": {
      "image/png": "[encoded data removed]",
      "text/plain": [
       "<Figure size 360x144 with 1 Axes>"
      ]
     },
     "metadata": {
      "needs_background": "light"
     },
     "output_type": "display_data"
    },
    {
     "data": {
      "image/png": "[encoded data removed]",
      "text/plain": [
       "<Figure size 360x144 with 1 Axes>"
      ]
     },
     "metadata": {
      "needs_background": "light"
     },
     "output_type": "display_data"
    },
    {
     "data": {
      "image/png": "[encoded data removed]",
      "text/plain": [
       "<Figure size 360x144 with 1 Axes>"
      ]
     },
     "metadata": {
      "needs_background": "light"
     },
     "output_type": "display_data"
    },
    {
     "data": {
      "image/png": "[encoded data removed]",
      "text/plain": [
       "<Figure size 360x144 with 1 Axes>"
      ]
     },
     "metadata": {
      "needs_background": "light"
     },
     "output_type": "display_data"
    },
    {
     "data": {
      "image/png": "[encoded data removed]",
      "text/plain": [
       "<Figure size 360x144 with 1 Axes>"
      ]
     },
     "metadata": {
      "needs_background": "light"
     },
     "output_type": "display_data"
    },
    {
     "data": {
      "image/png": "[encoded data removed]",
      "text/plain": [
       "<Figure size 360x144 with 1 Axes>"
      ]
     },
     "metadata": {
      "needs_background": "light"
     },
     "output_type": "display_data"
    },
    {
     "data": {
      "image/png": "[encoded data removed]",
      "text/plain": [
       "<Figure size 360x144 with 1 Axes>"
      ]
     },
     "metadata": {
      "needs_background": "light"
     },
     "output_type": "display_data"
    },
    {
     "data": {
      "image/png": "[encoded data removed]",
      "text/plain": [
       "<Figure size 360x144 with 1 Axes>"
      ]
     },
     "metadata": {
      "needs_background": "light"
     },
     "output_type": "display_data"
    },
    {
     "data": {
      "image/png": "[encoded data removed]",
      "text/plain": [
       "<Figure size 360x144 with 1 Axes>"
      ]
     },
     "metadata": {
      "needs_background": "light"
     },
     "output_type": "display_data"
    },
    {
     "data": {
      "image/png": "[encoded data removed]",
      "text/plain": [
       "<Figure size 360x144 with 1 Axes>"
      ]
     },
     "metadata": {
      "needs_background": "light"
     },
     "output_type": "display_data"
    },
    {
     "data": {
      "image/png": "[encoded data removed]",
      "text/plain": [
       "<Figure size 360x144 with 1 Axes>"
      ]
     },
     "metadata": {
      "needs_background": "light"
     },
     "output_type": "display_data"
    }
   ],
   "source": [
    "# Исследуем категориальные и бинарные столбцы\n",
    "\n",
    "group = ['type', 'paperless_billing', 'payment_method', 'gender',\n",
    "         'senior_citizen', 'partner', 'dependents', 'internet_service',\n",
    "         'online_security', 'online_backup', 'device_protection',\n",
    "         'tech_support', 'streaming_tv', 'streaming_movies', 'multiple_lines']\n",
    "\n",
    "df_filtered = df[group]\n",
    "\n",
    "category_columns = df_filtered.select_dtypes(include=['object', 'category']).columns.tolist()\n",
    "numeric_columns = df_filtered.select_dtypes(include=['float64', 'int64']).columns.tolist()\n",
    "\n",
    "for column in category_columns:\n",
    "    plt.figure(figsize=(5, 2))\n",
    "    sns.countplot(data=df, y=column)\n",
    "\n",
    "    plt.tick_params(axis='y', labelright=True, labelleft=False, right=True, left=False)\n",
    "\n",
    "    plt.title(f'Распределение в столбце {column}')\n",
    "    plt.show()"
   ]
  },
  {
   "cell_type": "code",
   "execution_count": 14,
   "id": "sJpuGV8s9GY7",
   "metadata": {
    "colab": {
     "base_uri": "https://localhost:8080/",
     "height": 1000
    },
    "id": "sJpuGV8s9GY7",
    "outputId": "764f8939-9fbf-4a2e-cb7f-defcad815f66"
   },
   "outputs": [
    {
     "data": {
      "image/png": "[encoded data removed]",
      "text/plain": [
       "<Figure size 720x432 with 1 Axes>"
      ]
     },
     "metadata": {
      "needs_background": "light"
     },
     "output_type": "display_data"
    },
    {
     "data": {
      "image/png": "[encoded data removed]",
      "text/plain": [
       "<Figure size 720x432 with 1 Axes>"
      ]
     },
     "metadata": {
      "needs_background": "light"
     },
     "output_type": "display_data"
    }
   ],
   "source": [
    "# Изучим временной ряд ежемесячных расходов\n",
    "\n",
    "df['begin_month'] = df['begin_date'].dt.to_period('M')\n",
    "monthly_expenses_mean = df.groupby('begin_month')['monthly_charges'].mean()\n",
    "\n",
    "plt.figure(figsize=(10, 6))\n",
    "monthly_expenses_mean.plot()\n",
    "plt.title('Средние ежемесячные расходы по месяцам')\n",
    "plt.xlabel('Месяц')\n",
    "plt.ylabel('Средние ежемесячные расходы')\n",
    "plt.show()\n",
    "\n",
    "# Изучим отток клиентов по месяцам\n",
    "\n",
    "churn_rate_by_month = df.groupby('begin_month')['churn'].mean()\n",
    "plt.figure(figsize=(10, 6))\n",
    "plt.bar(churn_rate_by_month.index.astype(str), churn_rate_by_month.values)\n",
    "plt.title('Отток клиентов по месяцам')\n",
    "plt.xlabel('Месяц')\n",
    "plt.ylabel('Доля оттока клиентов')\n",
    "plt.xticks(rotation=90)\n",
    "plt.show()"
   ]
  },
  {
   "cell_type": "code",
   "execution_count": 15,
   "id": "g9MAeAzag8ch",
   "metadata": {
    "id": "g9MAeAzag8ch"
   },
   "outputs": [],
   "source": [
    "# Удалим ненужные столбцы\n",
    "\n",
    "columns_to_drop = ['customer_id', 'begin_date', \n",
    "                   'end_date', 'begin_month']\n",
    "\n",
    "existing_columns = set(df.columns)\n",
    "columns_to_drop = [col for col in columns_to_drop if col in existing_columns]\n",
    "\n",
    "if columns_to_drop:\n",
    "    df.drop(columns=columns_to_drop, inplace=True)"
   ]
  },
  {
   "cell_type": "code",
   "execution_count": 16,
   "id": "2d832022-da06-441b-9bfc-b8db4730df6a",
   "metadata": {},
   "outputs": [
    {
     "data": {
      "image/png": "[encoded data removed]",
      "text/plain": [
       "<Figure size 432x288 with 1 Axes>"
      ]
     },
     "metadata": {
      "needs_background": "light"
     },
     "output_type": "display_data"
    }
   ],
   "source": [
    "# Подсчитаем количество абонентов в каждой группе type и churn\n",
    "\n",
    "type_churn_counts = df.groupby(['type', 'churn']).size().unstack()\n",
    "type_churn_percentage = type_churn_counts.div(type_churn_counts.sum(axis=1), axis=0) * 100\n",
    "\n",
    "type_churn_percentage.plot(kind='bar', stacked=True, color=['green', 'red'])\n",
    "plt.title('Процент ушедших и оставшихся абонентов по типам оплаты')\n",
    "plt.xlabel('Тип оплаты')\n",
    "plt.ylabel('Процент абонентов')\n",
    "plt.legend([\"Остались\", \"Ушли\"], loc='upper right')\n",
    "plt.xticks(rotation=0)  \n",
    "plt.show()"
   ]
  },
  {
   "cell_type": "code",
   "execution_count": 17,
   "id": "c6b89744-9bc4-40a4-9af9-e05efcdaa18a",
   "metadata": {},
   "outputs": [
    {
     "data": {
      "image/png": "[encoded data removed]",
      "text/plain": [
       "<Figure size 432x288 with 1 Axes>"
      ]
     },
     "metadata": {
      "needs_background": "light"
     },
     "output_type": "display_data"
    }
   ],
   "source": [
    "# Подсчитаем количество абонентов в каждой группе payment_method и churn\n",
    "\n",
    "payment_churn_counts = df.groupby(['payment_method', 'churn']).size().unstack()\n",
    "payment_churn_percentage = payment_churn_counts.div(payment_churn_counts.sum(axis=1), axis=0) * 100\n",
    "\n",
    "payment_churn_percentage.plot(kind='bar', stacked=True, color=['green', 'red'])\n",
    "plt.title('Процент ушедших и оставшихся абонентов по методам оплаты')\n",
    "plt.xlabel('Метод оплаты')\n",
    "plt.ylabel('Процент абонентов')\n",
    "plt.legend([\"Остались\", \"Ушли\"], loc='upper right')\n",
    "plt.xticks(rotation=45)\n",
    "plt.show()"
   ]
  },
  {
   "cell_type": "code",
   "execution_count": 18,
   "id": "599c785b-8389-45cf-bece-b12544ae408a",
   "metadata": {},
   "outputs": [
    {
     "data": {
      "image/png": "[encoded data removed]",
      "text/plain": [
       "<Figure size 432x288 with 1 Axes>"
      ]
     },
     "metadata": {
      "needs_background": "light"
     },
     "output_type": "display_data"
    }
   ],
   "source": [
    "# Подсчитаем количество абонентов в каждой группе internet_service и churn\n",
    "\n",
    "internet_service_churn_counts = df.groupby(['internet_service', 'churn']).size().unstack()\n",
    "internet_service_churn_percentage = internet_service_churn_counts.div(internet_service_churn_counts.sum(axis=1), axis=0) * 100\n",
    "\n",
    "internet_service_churn_percentage.plot(kind='bar', stacked=True, color=['green', 'red'])\n",
    "plt.title('Процент ушедших и оставшихся абонентов по типам подключения')\n",
    "plt.xlabel('Тип подключения интернета')\n",
    "plt.ylabel('Процент абонентов')\n",
    "plt.legend([\"Остались\", \"Ушли\"], loc='upper right')\n",
    "plt.xticks(rotation=0)\n",
    "plt.show()"
   ]
  },
  {
   "cell_type": "code",
   "execution_count": 19,
   "id": "7507823e-3d25-4965-bc97-76903d47c5a4",
   "metadata": {},
   "outputs": [
    {
     "data": {
      "image/png": "[encoded data removed]",
      "text/plain": [
       "<Figure size 432x288 with 1 Axes>"
      ]
     },
     "metadata": {
      "needs_background": "light"
     },
     "output_type": "display_data"
    }
   ],
   "source": [
    "# Подсчитаем количество абонентов в каждой группе multiple_lines и churn\n",
    "\n",
    "multiple_lines_churn_counts = df.groupby(['multiple_lines', 'churn']).size().unstack()\n",
    "multiple_lines_churn_percentage = multiple_lines_churn_counts.div(multiple_lines_churn_counts.sum(axis=1), axis=0) * 100\n",
    "\n",
    "multiple_lines_churn_percentage.plot(kind='bar', stacked=True, color=['green', 'red'])\n",
    "plt.title('Процент ушедших и оставшихся абонентов по наличию нескольких телефонных линий')\n",
    "plt.xlabel('Наличие нескольких линий')\n",
    "plt.ylabel('Процент абонентов')\n",
    "plt.legend([\"Остались\", \"Ушли\"], loc='upper right')\n",
    "plt.xticks(rotation=0)\n",
    "plt.show()"
   ]
  },
  {
   "cell_type": "code",
   "execution_count": 20,
   "id": "8e2eac2b-d0a6-48a0-9568-bc8f3da0a15c",
   "metadata": {},
   "outputs": [
    {
     "data": {
      "image/png": "[encoded data removed]",
      "text/plain": [
       "<Figure size 720x360 with 1 Axes>"
      ]
     },
     "metadata": {
      "needs_background": "light"
     },
     "output_type": "display_data"
    }
   ],
   "source": [
    "# Построем гистограмму monthly_charges\n",
    "\n",
    "plt.figure(figsize=(10, 5))\n",
    "plt.hist(df[df['churn'] == 0]['monthly_charges'], bins=30, label='Остались', color='green')\n",
    "plt.hist(df[df['churn'] == 1]['monthly_charges'], bins=30, label='Ушли', color='red')\n",
    "plt.title('Распределение ежемесячных расходов')\n",
    "plt.xlabel('Ежемесячные расходы')\n",
    "plt.ylabel('Количество абонентов')\n",
    "plt.legend()\n",
    "plt.show()"
   ]
  },
  {
   "cell_type": "code",
   "execution_count": 21,
   "id": "6ef79804-b054-48b8-ac32-a1c88f93e740",
   "metadata": {},
   "outputs": [
    {
     "data": {
      "image/png": "[encoded data removed]",
      "text/plain": [
       "<Figure size 720x360 with 1 Axes>"
      ]
     },
     "metadata": {
      "needs_background": "light"
     },
     "output_type": "display_data"
    }
   ],
   "source": [
    "# Построим гистограмму duration\n",
    "\n",
    "plt.figure(figsize=(10, 5))\n",
    "plt.hist(df[df['churn'] == 0]['duration'], bins=30, label='Остались', color='green')\n",
    "plt.hist(df[df['churn'] == 1]['duration'], bins=30, label='Ушли', color='red')\n",
    "plt.title('Распределение длительности использования услуг')\n",
    "plt.xlabel('Продолжительность использования услуг (в днях)')\n",
    "plt.ylabel('Количество абонентов')\n",
    "plt.legend()\n",
    "plt.show()"
   ]
  },
  {
   "cell_type": "code",
   "execution_count": 22,
   "id": "e05bd45f-e953-4f5d-b511-129a0f0f3fbf",
   "metadata": {},
   "outputs": [
    {
     "data": {
      "image/png": "[encoded data removed]",
      "text/plain": [
       "<Figure size 720x360 with 1 Axes>"
      ]
     },
     "metadata": {
      "needs_background": "light"
     },
     "output_type": "display_data"
    }
   ],
   "source": [
    "# Построем гистограмму total_charges\n",
    "\n",
    "plt.figure(figsize=(10, 5))\n",
    "plt.hist(df[df['churn'] == 0]['total_charges'], bins=30, label='Остались', color='green')\n",
    "plt.hist(df[df['churn'] == 1]['total_charges'], bins=30, label='Ушли', color='red')\n",
    "plt.title('Распределение общих расходов')\n",
    "plt.xlabel('Общие расходы')\n",
    "plt.ylabel('Количество абонентов')\n",
    "plt.legend()\n",
    "plt.show()"
   ]
  },
  {
   "cell_type": "code",
   "execution_count": 23,
   "id": "d7eb1b7d-855c-4b5f-b020-e96333c0869b",
   "metadata": {},
   "outputs": [
    {
     "data": {
      "image/png": "[encoded data removed]",
      "text/plain": [
       "<Figure size 1008x864 with 4 Axes>"
      ]
     },
     "metadata": {
      "needs_background": "light"
     },
     "output_type": "display_data"
    }
   ],
   "source": [
    "features = ['paperless_billing', 'senior_citizen', 'partner', 'dependents']\n",
    "feature_labels = ['Электронный счет', 'Пол', 'В браке', 'С детьми']\n",
    "\n",
    "n_rows = 2\n",
    "n_cols = 2\n",
    "fig, axes = plt.subplots(nrows=n_rows, ncols=n_cols, figsize=(14, 12))\n",
    "plt.subplots_adjust(hspace=0.5, wspace=0.3)\n",
    "\n",
    "for index, (feature, label) in enumerate(zip(features, feature_labels)):\n",
    "    ax = axes[index // n_cols, index % n_cols]\n",
    "    churn_counts = df.groupby([feature, 'churn']).size().unstack()\n",
    "    churn_counts.plot(kind='bar', ax=ax, color=['green', 'red'], stacked=True)\n",
    "    ax.set_title(label)\n",
    "    ax.set_xlabel('')\n",
    "    ax.set_xticklabels(['Нет', 'Да'], rotation=0)\n",
    "    ax.legend([\"Остались\", \"Ушли\"], loc='upper right')\n",
    "\n",
    "plt.show()"
   ]
  },
  {
   "cell_type": "code",
   "execution_count": 24,
   "id": "ju6eNhH3iRjF",
   "metadata": {
    "colab": {
     "base_uri": "https://localhost:8080/"
    },
    "id": "ju6eNhH3iRjF",
    "outputId": "39915ea4-f0fd-4dba-a0d5-562d1f654a77"
   },
   "outputs": [
    {
     "name": "stdout",
     "output_type": "stream",
     "text": [
      "<class 'pandas.core.frame.DataFrame'>\n",
      "Int64Index: 7043 entries, 0 to 7042\n",
      "Data columns (total 19 columns):\n",
      " #   Column             Non-Null Count  Dtype  \n",
      "---  ------             --------------  -----  \n",
      " 0   type               7043 non-null   object \n",
      " 1   paperless_billing  7043 non-null   int64  \n",
      " 2   payment_method     7043 non-null   object \n",
      " 3   monthly_charges    7043 non-null   float64\n",
      " 4   total_charges      7043 non-null   float64\n",
      " 5   gender             7043 non-null   int64  \n",
      " 6   senior_citizen     7043 non-null   int64  \n",
      " 7   partner            7043 non-null   int64  \n",
      " 8   dependents         7043 non-null   int64  \n",
      " 9   internet_service   7043 non-null   object \n",
      " 10  online_security    7043 non-null   object \n",
      " 11  online_backup      7043 non-null   object \n",
      " 12  device_protection  7043 non-null   object \n",
      " 13  tech_support       7043 non-null   object \n",
      " 14  streaming_tv       7043 non-null   object \n",
      " 15  streaming_movies   7043 non-null   object \n",
      " 16  multiple_lines     7043 non-null   object \n",
      " 17  duration           7043 non-null   int64  \n",
      " 18  churn              7043 non-null   int64  \n",
      "dtypes: float64(2), int64(7), object(10)\n",
      "memory usage: 1.3+ MB\n"
     ]
    }
   ],
   "source": [
    "# Закодируем столбцы с бинарными признаками в 0 и 1\n",
    "\n",
    "if df['gender'].dtype == 'object':\n",
    "  df['gender'] = df['gender'].map({'Female': 0, 'Male': 1}).astype(int)\n",
    "if df['paperless_billing'].dtype == 'object':\n",
    "  df['paperless_billing'] = df['paperless_billing'].map({'No': 0, 'Yes': 1}).astype(int)\n",
    "if df['partner'].dtype == 'object':\n",
    "  df['partner'] = df['partner'].map({'No': 0, 'Yes': 1}).astype(int)\n",
    "if df['dependents'].dtype == 'object':\n",
    "  df['dependents'] = df['dependents'].map({'No': 0, 'Yes': 1}).astype(int)\n",
    "df.info()"
   ]
  },
  {
   "cell_type": "code",
   "execution_count": 25,
   "id": "DRj5XmJzmg5S",
   "metadata": {
    "colab": {
     "base_uri": "https://localhost:8080/",
     "height": 968
    },
    "id": "DRj5XmJzmg5S",
    "outputId": "84886346-0133-4ac9-d147-8ee8d60bb7d8"
   },
   "outputs": [
    {
     "data": {
      "image/png": "[encoded data removed]",
      "text/plain": [
       "<Figure size 864x720 with 2 Axes>"
      ]
     },
     "metadata": {
      "needs_background": "light"
     },
     "output_type": "display_data"
    }
   ],
   "source": [
    "# Построим матрицу корреляций\n",
    "# Cоздадим два набора данных - интервальный и категориальный\n",
    "\n",
    "interval_cols = ['monthly_charges', 'total_charges', 'duration']\n",
    "\n",
    "categorical_columns = ['paperless_billing', 'gender', 'senior_citizen',\n",
    "                       'partner', 'dependents', 'churn',\n",
    "                       'type', 'payment_method', 'internet_service',\n",
    "                       'online_security', 'online_backup',\n",
    "                       'device_protection', 'tech_support',\n",
    "                       'streaming_tv', 'streaming_movies', 'multiple_lines']\n",
    "\n",
    "for col in categorical_columns:\n",
    "    df[col] = df[col].astype('category')\n",
    "\n",
    "phik_matrix = df.phik_matrix(interval_cols=interval_cols)\n",
    "\n",
    "plt.figure(figsize=(12, 10))\n",
    "sns.heatmap(phik_matrix, annot=True, cmap='coolwarm', fmt='.2f')\n",
    "plt.title('Матрица корреляции на основе χῖ-квадрат статистики', fontsize=15)\n",
    "plt.show()"
   ]
  },
  {
   "cell_type": "code",
   "execution_count": 26,
   "id": "3_mZB9W_tT-K",
   "metadata": {
    "id": "3_mZB9W_tT-K"
   },
   "outputs": [],
   "source": [
    "# Удалим gender\n",
    "\n",
    "df = df.drop('gender', axis=1)"
   ]
  },
  {
   "cell_type": "code",
   "execution_count": 27,
   "id": "zCurialJ-oBi",
   "metadata": {
    "colab": {
     "base_uri": "https://localhost:8080/"
    },
    "id": "zCurialJ-oBi",
    "outputId": "9eb5a74f-16de-479c-b732-f291d1450d55"
   },
   "outputs": [
    {
     "name": "stdout",
     "output_type": "stream",
     "text": [
      "<class 'pandas.core.frame.DataFrame'>\n",
      "Int64Index: 7043 entries, 0 to 7042\n",
      "Data columns (total 18 columns):\n",
      " #   Column             Non-Null Count  Dtype   \n",
      "---  ------             --------------  -----   \n",
      " 0   type               7043 non-null   category\n",
      " 1   paperless_billing  7043 non-null   category\n",
      " 2   payment_method     7043 non-null   category\n",
      " 3   monthly_charges    7043 non-null   float64 \n",
      " 4   total_charges      7043 non-null   float64 \n",
      " 5   senior_citizen     7043 non-null   category\n",
      " 6   partner            7043 non-null   category\n",
      " 7   dependents         7043 non-null   category\n",
      " 8   internet_service   7043 non-null   category\n",
      " 9   online_security    7043 non-null   category\n",
      " 10  online_backup      7043 non-null   category\n",
      " 11  device_protection  7043 non-null   category\n",
      " 12  tech_support       7043 non-null   category\n",
      " 13  streaming_tv       7043 non-null   category\n",
      " 14  streaming_movies   7043 non-null   category\n",
      " 15  multiple_lines     7043 non-null   category\n",
      " 16  duration           7043 non-null   int64   \n",
      " 17  churn              7043 non-null   category\n",
      "dtypes: category(15), float64(2), int64(1)\n",
      "memory usage: 583.3 KB\n"
     ]
    }
   ],
   "source": [
    "df.info()"
   ]
  },
  {
   "cell_type": "markdown",
   "id": "5606aee6-3dbd-49a0-8881-270e41e5a1c7",
   "metadata": {},
   "source": [
    "<div class=\"alert\" style=\"border: 1px solid; padding: 10px;\">\n",
    "<b><u>Промежуточные выводы по данным:</u></b>\n",
    "\n",
    "* При анализе данных мы столкнулись с большим количеством категориальных признаков в том числе бинарных.\n",
    "* На матрице phik заметна мультиколлинеарность столбцов internet_service, online_security, online_backup, device_protection, tech_support, streaming_tv, streaming_movies друг с другом, а также со столбцом monthly_charges. Столбец gender вообще никак не коррелирует. Эти значения при моделировании следует удалить для улучшения точности модели логистической модели.\n",
    "* Перевели бинарные значения в 0 и 1.\n",
    "\n",
    "\n",
    "<b><u>Промежуточные выводы по графикам:</u></b>\n",
    "* Электронные способы оплаты и выставления счетов являются наиболее популярными среди абонентов.\n",
    "* Подключения к интернету с использованием оптоволокна наиболее популярны, что может указывать на предпочтение более высокоскоростного интернета абонентами.\n",
    "* Ежегодная и двухгодичная оплата связаны с более высоким процентом оттока по сравнению с ежемесячной оплатой. Это может говорить о том, что долгосрочные абоненты более склонны уйти.\n",
    "* Существует постепенное снижение средних ежемесячных расходов абонентов, это может сигнализировать о том, что компания снижает цены для удержания клиентов или привлечения новых в условиях повышенной конкуренции на рынке.\n",
    "* Процент оттока клиентов падает от года к году, однако, высокий процент ухода клиентов, использующих автоматическое списание это плохой сигнал, так как такие абоненты наиболее лояльные и удобные.\n",
    "* Среди дополнительных услуг, наибольшей популярностью обладают услуги блокировки опасных сайтов. Мало абонентов используют резервное копирование, что может указывать на недостаток осведомленности в данной услуге.\n",
    "* С увеличением срока активного договора вероятность того, что абонент уйдет уменьшается.\n",
    "* Существует корреляция между графиком ежемесячных расходов текущих абонентов и графиком расходов ушедших, что может свидетельствовать о том, что решение уйти не обязательно связано с уровнем расходов. Возможно, в оттоке клиентов играет роль неудовлетворенность сервисом, качество связи или другие факторы, не связанные непосредственно с ценой услуг.\n",
    "</div>"
   ]
  },
  {
   "cell_type": "markdown",
   "id": "xuqhrOjBHFOa",
   "metadata": {
    "id": "xuqhrOjBHFOa"
   },
   "source": [
    "## Подготовка данных к обучению"
   ]
  },
  {
   "cell_type": "code",
   "execution_count": 28,
   "id": "-d7gFMHlSp-j",
   "metadata": {
    "id": "-d7gFMHlSp-j"
   },
   "outputs": [],
   "source": [
    "# Создадим матрицу признаков и вектор целевой переменной\n",
    "\n",
    "X = df.drop('churn', axis=1)\n",
    "y = df['churn']"
   ]
  },
  {
   "cell_type": "code",
   "execution_count": 29,
   "id": "Mru6edXhpBZZ",
   "metadata": {
    "colab": {
     "base_uri": "https://localhost:8080/"
    },
    "id": "Mru6edXhpBZZ",
    "outputId": "8cb38982-7792-4c99-de81-96edfb7cf2b7"
   },
   "outputs": [
    {
     "name": "stdout",
     "output_type": "stream",
     "text": [
      "0    84.367457\n",
      "1    15.632543\n",
      "Name: churn, dtype: float64\n"
     ]
    }
   ],
   "source": [
    "# Проверим таргет на дисбаланс классов\n",
    "\n",
    "class_distribution = (y.value_counts() / y.shape[0]) * 100\n",
    "print(class_distribution)"
   ]
  },
  {
   "cell_type": "code",
   "execution_count": 30,
   "id": "4VY2_w7wKZCR",
   "metadata": {
    "id": "4VY2_w7wKZCR"
   },
   "outputs": [],
   "source": [
    "# Создадим для бустинговых моделей тренировочную и тестовую выборки\n",
    "\n",
    "X_train, X_test, y_train, y_test = train_test_split(X, y,\n",
    "                                                    test_size=0.25,\n",
    "                                                    stratify=y,\n",
    "                                                    random_state=RANDOM_STATE)"
   ]
  },
  {
   "cell_type": "code",
   "execution_count": 31,
   "id": "9gBW7QS2M2a7",
   "metadata": {
    "id": "9gBW7QS2M2a7"
   },
   "outputs": [],
   "source": [
    "# Создадим выборки для логистической регрессии\n",
    "\n",
    "X_train_lr = X_train.copy()\n",
    "X_test_lr = X_test.copy()"
   ]
  },
  {
   "cell_type": "code",
   "execution_count": 32,
   "id": "BcB0sHNsNbQe",
   "metadata": {
    "id": "BcB0sHNsNbQe"
   },
   "outputs": [],
   "source": [
    "# Избавимся от мультиколлинеарности\n",
    "\n",
    "columns_to_drop = ['internet_service', 'total_charges', 'online_security',\n",
    "                   'online_backup', 'device_protection', 'tech_support',\n",
    "                   'streaming_tv', 'streaming_movies']\n",
    "X_train_lr = X_train_lr.drop(columns=columns_to_drop)\n",
    "X_test_lr = X_test_lr.drop(columns=columns_to_drop)"
   ]
  },
  {
   "cell_type": "code",
   "execution_count": 33,
   "id": "ozsKlLbswIfz",
   "metadata": {
    "id": "ozsKlLbswIfz"
   },
   "outputs": [],
   "source": [
    "# Кодируем категориальные признаки\n",
    "\n",
    "encoder = OneHotEncoder(drop='first',\n",
    "                        handle_unknown='ignore',\n",
    "                        sparse=False)\n",
    "categorical_columns = ['type', 'paperless_billing', 'payment_method',\n",
    "                       'senior_citizen', 'partner',\n",
    "                       'dependents', 'multiple_lines']\n",
    "\n",
    "X_train_encoded = pd.DataFrame(encoder.fit_transform(X_train_lr[categorical_columns]),\n",
    "                               columns=encoder.get_feature_names_out(categorical_columns),\n",
    "                               index=X_train_lr.index)\n",
    "X_test_encoded = pd.DataFrame(encoder.transform(X_test_lr[categorical_columns]),\n",
    "                              columns=encoder.get_feature_names_out(categorical_columns),\n",
    "                              index=X_test_lr.index)\n",
    "\n",
    "X_train_final = pd.concat([X_train_lr.drop(columns=categorical_columns),\n",
    "                           X_train_encoded], axis=1)\n",
    "X_test_final = pd.concat([X_test_lr.drop(columns=categorical_columns),\n",
    "                          X_test_encoded], axis=1)"
   ]
  },
  {
   "cell_type": "code",
   "execution_count": 34,
   "id": "ARiJsYdXco5c",
   "metadata": {
    "id": "ARiJsYdXco5c"
   },
   "outputs": [],
   "source": [
    "# Масштабируем числовые признаки\n",
    "\n",
    "scaler = StandardScaler()\n",
    "numeric_columns = ['monthly_charges', 'duration']\n",
    "\n",
    "X_train_final[numeric_columns] = scaler.fit_transform(X_train_final[numeric_columns])\n",
    "X_test_final[numeric_columns] = scaler.transform(X_test_final[numeric_columns])"
   ]
  },
  {
   "cell_type": "code",
   "execution_count": 35,
   "id": "VGdMNX1cpXLV",
   "metadata": {
    "id": "VGdMNX1cpXLV"
   },
   "outputs": [],
   "source": [
    "# Создадим категориальные и количественные наборы столбцов\n",
    "\n",
    "cat_columns = ['paperless_billing', 'senior_citizen',\n",
    "               'partner', 'dependents', 'type', 'payment_method',\n",
    "                'internet_service', 'online_security', 'online_backup',\n",
    "               'device_protection', 'tech_support',\n",
    "               'streaming_tv', 'streaming_movies', 'multiple_lines']\n",
    "num_columns = ['monthly_charges', 'total_charges', 'duration']"
   ]
  },
  {
   "cell_type": "code",
   "execution_count": 36,
   "id": "ZXJjpZmskQNq",
   "metadata": {
    "colab": {
     "base_uri": "https://localhost:8080/"
    },
    "id": "ZXJjpZmskQNq",
    "outputId": "4fcb7a57-90a5-487c-fe9a-e58c1cfbfc91"
   },
   "outputs": [
    {
     "name": "stdout",
     "output_type": "stream",
     "text": [
      "Размеры выборок:\n",
      "X: (7043, 17)\n",
      "y: (7043,)\n",
      "X_train: (5282, 17)\n",
      "X_test: (1761, 17)\n",
      "y_train: (5282,)\n",
      "y_test: (1761,)\n",
      "X_train_final: (5282, 13)\n",
      "X_test_final: (1761, 13)\n"
     ]
    }
   ],
   "source": [
    "# Изучим размеры выборок\n",
    "\n",
    "print(\"Размеры выборок:\")\n",
    "print(\"X:\", X.shape)\n",
    "print(\"y:\", y.shape)\n",
    "print(\"X_train:\", X_train.shape)\n",
    "print(\"X_test:\", X_test.shape)\n",
    "print(\"y_train:\", y_train.shape)\n",
    "print(\"y_test:\", y_test.shape)\n",
    "print(\"X_train_final:\", X_train_final.shape)\n",
    "print(\"X_test_final:\", X_test_final.shape)"
   ]
  },
  {
   "cell_type": "markdown",
   "id": "70cd0365-8964-43ad-9923-0f2aa907a6d4",
   "metadata": {},
   "source": [
    "<div class=\"alert\" style=\"border: 1px solid; padding: 10px;\">\n",
    "<b><u>Промежуточные выводы:</u></b>\n",
    "    \n",
    "* Для логистической регрессии избавились от мультиколлинеарности\n",
    "* Создали матрицу признаков и вектор целевой переменной\n",
    "* Проверили и заметили дисбаланс классов, но так как целевая метрика ROC-AUC устойчива к дисбалансу, то предпринимать ничего с ним не будем.\n",
    "* Создали выборки для логистической регрессии и бустинговых моделей.\n",
    "* Для логистической регресии закодировали OHE категориальные признаки и масштабировали числовые признаки.\n",
    "* Для случайного леса произведем кодирование OrdinalEncoder при обучении модели.\n",
    "* Для бустинговых моделей определили категориальные столбцы.\n",
    "* Проверили размеры получившихся выборок. \n",
    "</div>"
   ]
  },
  {
   "cell_type": "markdown",
   "id": "KPy3BIFW6Qq5",
   "metadata": {
    "id": "KPy3BIFW6Qq5"
   },
   "source": [
    "## Обучение моделей"
   ]
  },
  {
   "cell_type": "code",
   "execution_count": 37,
   "id": "saRnurfn--_4",
   "metadata": {
    "id": "saRnurfn--_4"
   },
   "outputs": [],
   "source": [
    " results = []"
   ]
  },
  {
   "cell_type": "code",
   "execution_count": 38,
   "id": "L8c26keFu9fj",
   "metadata": {
    "colab": {
     "base_uri": "https://localhost:8080/"
    },
    "id": "L8c26keFu9fj",
    "outputId": "e26d6404-0f6b-47ba-f2ed-c653e433b140"
   },
   "outputs": [
    {
     "name": "stdout",
     "output_type": "stream",
     "text": [
      "Лучшие параметры: {'C': 1000}\n",
      "\n",
      "Лучший ROC-AUC LASSO на train: 0.75\n"
     ]
    }
   ],
   "source": [
    "#####################################################################\n",
    "#                                                                   #\n",
    "#     param_grid = {'C': [0.001, 0.01, 0.1, 1, 10, 100, 1000]}      #\n",
    "#                                                                   #\n",
    "#####################################################################\n",
    "\n",
    "param_grid_lr = {'C': [1000]}\n",
    "\n",
    "model_lasso = LogisticRegression(penalty='l1',\n",
    "                                 solver='liblinear',\n",
    "                                 random_state=RANDOM_STATE,\n",
    "                                 max_iter=1000)\n",
    "gs_lasso = GridSearchCV(model_lasso,\n",
    "                        param_grid=param_grid_lr,\n",
    "                        cv=5,\n",
    "                        scoring='roc_auc',\n",
    "                        refit=True)\n",
    "gs_lasso.fit(X_train_final, y_train)\n",
    "\n",
    "best_lasso_model = gs_lasso.best_estimator_\n",
    "best_params = gs_lasso.best_params_\n",
    "best_score = round(gs_lasso.best_score_, 2)\n",
    "print(\"Лучшие параметры:\", best_params)\n",
    "print()\n",
    "print(\"Лучший ROC-AUC LASSO на train:\", best_score)\n",
    "\n",
    "results.append({'Модель': best_lasso_model.__class__.__name__,\n",
    "                'ROC-AUC': best_score,\n",
    "                'mod': best_lasso_model,\n",
    "                'test': X_test_final})"
   ]
  },
  {
   "cell_type": "code",
   "execution_count": 39,
   "id": "a35GOPmT13G2",
   "metadata": {
    "colab": {
     "base_uri": "https://localhost:8080/"
    },
    "id": "a35GOPmT13G2",
    "outputId": "f5e05e62-a50e-4765-8344-a08a41cfa917"
   },
   "outputs": [
    {
     "name": "stdout",
     "output_type": "stream",
     "text": [
      "Лучшие параметры: {'model__max_depth': 7, 'model__min_samples_leaf': 3, 'model__min_samples_split': 20, 'model__n_estimators': 150}\n",
      "\n",
      "Лучший ROC-AUC RandomForest на train: 0.82\n"
     ]
    }
   ],
   "source": [
    "#####################################################################\n",
    "#                                                                   #\n",
    "#     param_grid = {                                                #\n",
    "#        'model__n_estimators': [50, 100, 150],                     #\n",
    "#        'model__max_depth': [2, 5, 7, 10],                         #\n",
    "#        'model__min_samples_split': [20],                          #\n",
    "#        'model__min_samples_leaf': [3]}                            #\n",
    "#                                                                   #\n",
    "#####################################################################\n",
    "\n",
    "param_grid_rf = {\n",
    "    'model__max_depth': [7],\n",
    "    'model__min_samples_leaf': [3],\n",
    "    'model__min_samples_split': [20],\n",
    "    'model__n_estimators': [150],\n",
    "}\n",
    "\n",
    "model_rf = RandomForestClassifier(random_state=RANDOM_STATE,\n",
    "                                  class_weight='balanced')\n",
    "\n",
    "preprocessor = ColumnTransformer(\n",
    "    [('ordinal', OrdinalEncoder(), cat_columns)],\n",
    "    remainder='passthrough'\n",
    ")\n",
    "\n",
    "pipeline = Pipeline(steps=[('preprocessor', preprocessor),\n",
    "                           ('model', model_rf)])\n",
    "\n",
    "gs_rf = GridSearchCV(pipeline,\n",
    "                     param_grid=param_grid_rf,\n",
    "                     cv=5,\n",
    "                     scoring='roc_auc',\n",
    "                     refit=True)\n",
    "\n",
    "gs_rf.fit(X_train, y_train)\n",
    "\n",
    "best_rf_model = gs_rf.best_estimator_\n",
    "best_params = gs_rf.best_params_\n",
    "best_score = round(gs_rf.best_score_, 2)\n",
    "print(\"Лучшие параметры:\", best_params)\n",
    "print()\n",
    "print(\"Лучший ROC-AUC RandomForest на train:\", best_score)\n",
    "\n",
    "result_row = {'Модель': best_rf_model.named_steps['model'].__class__.__name__,\n",
    "              'ROC-AUC': best_score,\n",
    "              'mod': best_rf_model,\n",
    "              'test': X_test}\n",
    "results.append(result_row)"
   ]
  },
  {
   "cell_type": "code",
   "execution_count": 40,
   "id": "4ubG9Ui82Xlo",
   "metadata": {
    "colab": {
     "base_uri": "https://localhost:8080/"
    },
    "id": "4ubG9Ui82Xlo",
    "outputId": "4827e189-d3cb-428f-e141-3cc208860886"
   },
   "outputs": [
    {
     "name": "stdout",
     "output_type": "stream",
     "text": [
      "Fitting 5 folds for each of 1 candidates, totalling 5 fits\n",
      "\n",
      "Лучшие параметры CatBoost: {'depth': 8, 'iterations': 200, 'l2_leaf_reg': 1, 'learning_rate': 0.1}\n",
      "\n",
      "Лучший ROC-AUC CatBoost на train: 0.85\n"
     ]
    }
   ],
   "source": [
    "#####################################################################\n",
    "#                                                                   #\n",
    "#     param_grid = {                                                #\n",
    "#       'iterations': [100, 200, 600],                              #\n",
    "#       'depth': [4, 6, 8],                                         #\n",
    "#       'learning_rate': [0.01, 0.1],                               #\n",
    "#       'l2_leaf_reg': [1, 3, 5]}                                   #\n",
    "#                                                                   #\n",
    "#####################################################################\n",
    "\n",
    "param_grid_cb = {\n",
    "    'iterations': [200],\n",
    "    'depth': [8],\n",
    "    'learning_rate': [0.1],\n",
    "    'l2_leaf_reg': [1]\n",
    "}\n",
    "\n",
    "model_cb = CatBoostClassifier(\n",
    "    random_seed=RANDOM_STATE,\n",
    "    verbose=False,\n",
    "    auto_class_weights='Balanced',\n",
    "    cat_features=cat_columns\n",
    ")\n",
    "\n",
    "gs_cb = GridSearchCV(\n",
    "    model_cb,\n",
    "    param_grid=param_grid_cb,\n",
    "    cv=5,\n",
    "    scoring='roc_auc',\n",
    "    refit=True,\n",
    "    verbose=1,\n",
    "    error_score='raise'\n",
    ")\n",
    "\n",
    "gs_cb.fit(X_train, y_train)\n",
    "\n",
    "best_cb_model = gs_cb.best_estimator_\n",
    "best_params = gs_cb.best_params_\n",
    "best_score = round(gs_cb.best_score_, 2)\n",
    "print()\n",
    "print(\"Лучшие параметры CatBoost:\", best_params)\n",
    "print()\n",
    "print(\"Лучший ROC-AUC CatBoost на train:\", best_score)\n",
    "\n",
    "result_row = {'Модель': best_cb_model.__class__.__name__,\n",
    "              'ROC-AUC': best_score,\n",
    "              'mod': best_cb_model,\n",
    "              'test': X_test}\n",
    "results.append(result_row)"
   ]
  },
  {
   "cell_type": "code",
   "execution_count": 41,
   "id": "adTVYTtL5ue1",
   "metadata": {
    "colab": {
     "base_uri": "https://localhost:8080/"
    },
    "id": "adTVYTtL5ue1",
    "outputId": "fe812356-f9ef-476d-e5a2-c580c19d32f5"
   },
   "outputs": [
    {
     "name": "stdout",
     "output_type": "stream",
     "text": [
      "[LightGBM] [Warning] Unknown parameter: data_sample_strategy\n",
      "[LightGBM] [Warning] Unknown parameter: data_sample_strategy\n",
      "[LightGBM] [Warning] Unknown parameter: data_sample_strategy\n",
      "[LightGBM] [Warning] Unknown parameter: data_sample_strategy\n",
      "[LightGBM] [Warning] Unknown parameter: data_sample_strategy\n",
      "[LightGBM] [Warning] Unknown parameter: data_sample_strategy\n",
      "Лучшие параметры для LightGBM: {'boosting_type': 'dart', 'learning_rate': 0.1, 'max_depth': 20, 'num_leaves': 200}\n",
      "\n",
      "Лучший ROC-AUC LightGBM на train: 0.82\n"
     ]
    }
   ],
   "source": [
    "#####################################################################\n",
    "#                                                                   #\n",
    "#     param_grid_lgb = {                                            #\n",
    "#       'learning_rate': [0.01, 0.1, 0.2],                          #\n",
    "#       'num_leaves': [200, 300, 400],                              #\n",
    "#       'max_depth': [20, 30, 40, 50],                              #\n",
    "#       'boosting_type': ['gbdt', 'dart']}                          #\n",
    "#                                                                   #\n",
    "#####################################################################\n",
    "\n",
    "param_grid_lgb = {\n",
    "    'learning_rate': [0.1],\n",
    "    'num_leaves': [200],\n",
    "    'max_depth': [20],\n",
    "    'boosting_type': ['dart']}\n",
    "\n",
    "model_lgb = lgb.LGBMClassifier(\n",
    "    objective='binary',\n",
    "    data_sample_strategy='goss',\n",
    "    verbosity=-1,\n",
    "    random_state=RANDOM_STATE)\n",
    "\n",
    "gs_lgb = GridSearchCV(\n",
    "    model_lgb,\n",
    "    param_grid=param_grid_lgb,\n",
    "    cv=5,\n",
    "    scoring='roc_auc',\n",
    "    refit=True,\n",
    "    n_jobs=-1)\n",
    "\n",
    "gs_lgb.fit(X_train,\n",
    "           y_train,\n",
    "           categorical_feature=cat_columns)\n",
    "\n",
    "best_lgb_model = gs_lgb.best_estimator_\n",
    "best_params_lgb = gs_lgb.best_params_\n",
    "best_score = round(gs_lgb.best_score_, 2)\n",
    "print(\"Лучшие параметры для LightGBM:\", best_params_lgb)\n",
    "print()\n",
    "print(\"Лучший ROC-AUC LightGBM на train:\", best_score)\n",
    "\n",
    "result_row = {'Модель': best_lgb_model.__class__.__name__,\n",
    "              'ROC-AUC': best_score,\n",
    "              'mod': best_lgb_model,\n",
    "              'test': X_test}\n",
    "results.append(result_row)"
   ]
  },
  {
   "cell_type": "code",
   "execution_count": 42,
   "id": "9IELOfJN6Tfo",
   "metadata": {
    "colab": {
     "base_uri": "https://localhost:8080/"
    },
    "id": "9IELOfJN6Tfo",
    "outputId": "79ea272d-1fab-4a09-fa74-954ae3f02063"
   },
   "outputs": [
    {
     "name": "stdout",
     "output_type": "stream",
     "text": [
      "Fitting 5 folds for each of 1 candidates, totalling 5 fits\n",
      "\n",
      "Лучшие параметры для XGBoost: {'learning_rate': 0.1, 'max_depth': 5, 'min_child_weight': 1, 'n_estimators': 300, 'reg_alpha': 0.5}\n",
      "\n",
      "Лучший ROC-AUC XGBoost на train: 0.89\n"
     ]
    }
   ],
   "source": [
    "#####################################################################\n",
    "#                                                                   #\n",
    "#     param_grid_xgb = {                                            #\n",
    "#       'max_depth': [3, 5, 7, 10],                                 #\n",
    "#       'reg_alpha': [0.1, 0.5],                                    #\n",
    "#       'min_child_weight': [1, 5, 10],                             #\n",
    "#       'learning_rate': [0.01, 0.1],                               #\n",
    "#       'n_estimators': [100, 200, 300]}                            #\n",
    "#                                                                   #\n",
    "#####################################################################\n",
    "\n",
    "X_train_xgb = xgb.DMatrix(X_train,\n",
    "                        label=y_train,\n",
    "                        enable_categorical=True).get_data()\n",
    "X_test_xgb = xgb.DMatrix(X_test,\n",
    "                       label=y_test,\n",
    "                       enable_categorical=True).get_data()\n",
    "\n",
    "param_grid_xgb = {\n",
    "    'max_depth': [5],\n",
    "    'reg_alpha': [0.5],\n",
    "    'min_child_weight': [1],\n",
    "    'learning_rate': [0.1],\n",
    "    'n_estimators': [300]}\n",
    "\n",
    "model_xgb = xgb.XGBClassifier(\n",
    "    random_state=RANDOM_STATE,\n",
    "    objective='binary:logistic',\n",
    "    eval_metric='logloss')\n",
    "\n",
    "gs_xgb = GridSearchCV(\n",
    "    model_xgb,\n",
    "    param_grid=param_grid_xgb,\n",
    "    cv=5,\n",
    "    scoring = 'roc_auc',\n",
    "    refit=True,\n",
    "    verbose=1)\n",
    "\n",
    "gs_xgb.fit(X_train_xgb, y_train)\n",
    "\n",
    "best_xgb_model = gs_xgb.best_estimator_\n",
    "best_params_xgb = gs_xgb.best_params_\n",
    "best_score = round(gs_xgb.best_score_, 2)\n",
    "print()\n",
    "\n",
    "print(\"Лучшие параметры для XGBoost:\", best_params_xgb)\n",
    "print()\n",
    "print(\"Лучший ROC-AUC XGBoost на train:\", best_score)\n",
    "\n",
    "result_row = {'Модель': best_xgb_model.__class__.__name__,\n",
    "              'ROC-AUC': best_score,\n",
    "              'mod': best_xgb_model,\n",
    "              'test': X_test_xgb}\n",
    "results.append(result_row)"
   ]
  },
  {
   "cell_type": "code",
   "execution_count": 43,
   "id": "inFevCnnE9lJ",
   "metadata": {
    "colab": {
     "base_uri": "https://localhost:8080/",
     "height": 206
    },
    "id": "inFevCnnE9lJ",
    "outputId": "b5b1c5c5-345b-4d4d-960f-c33c6d229986"
   },
   "outputs": [
    {
     "data": {
      "text/html": [
       "<div>\n",
       "<style scoped>\n",
       "    .dataframe tbody tr th:only-of-type {\n",
       "        vertical-align: middle;\n",
       "    }\n",
       "\n",
       "    .dataframe tbody tr th {\n",
       "        vertical-align: top;\n",
       "    }\n",
       "\n",
       "    .dataframe thead th {\n",
       "        text-align: right;\n",
       "    }\n",
       "</style>\n",
       "<table border=\"1\" class=\"dataframe\">\n",
       "  <thead>\n",
       "    <tr style=\"text-align: right;\">\n",
       "      <th></th>\n",
       "      <th>Модель</th>\n",
       "      <th>ROC-AUC</th>\n",
       "    </tr>\n",
       "  </thead>\n",
       "  <tbody>\n",
       "    <tr>\n",
       "      <th>0</th>\n",
       "      <td>XGBClassifier</td>\n",
       "      <td>0.89</td>\n",
       "    </tr>\n",
       "    <tr>\n",
       "      <th>1</th>\n",
       "      <td>CatBoostClassifier</td>\n",
       "      <td>0.85</td>\n",
       "    </tr>\n",
       "    <tr>\n",
       "      <th>2</th>\n",
       "      <td>RandomForestClassifier</td>\n",
       "      <td>0.82</td>\n",
       "    </tr>\n",
       "    <tr>\n",
       "      <th>3</th>\n",
       "      <td>LGBMClassifier</td>\n",
       "      <td>0.82</td>\n",
       "    </tr>\n",
       "    <tr>\n",
       "      <th>4</th>\n",
       "      <td>LogisticRegression</td>\n",
       "      <td>0.75</td>\n",
       "    </tr>\n",
       "  </tbody>\n",
       "</table>\n",
       "</div>"
      ],
      "text/plain": [
       "                   Модель  ROC-AUC\n",
       "0           XGBClassifier     0.89\n",
       "1      CatBoostClassifier     0.85\n",
       "2  RandomForestClassifier     0.82\n",
       "3          LGBMClassifier     0.82\n",
       "4      LogisticRegression     0.75"
      ]
     },
     "execution_count": 43,
     "metadata": {},
     "output_type": "execute_result"
    }
   ],
   "source": [
    "# Изучаем результаты моделирования\n",
    "\n",
    "df_results = pd.DataFrame(results)\n",
    "df_results = df_results.sort_values(by='ROC-AUC', ascending=False).reset_index(drop=True)\n",
    "df_results[['Модель', 'ROC-AUC']]"
   ]
  },
  {
   "cell_type": "code",
   "execution_count": 44,
   "id": "7SDkeFX5DcjP",
   "metadata": {
    "id": "7SDkeFX5DcjP"
   },
   "outputs": [],
   "source": [
    "# Возьмем лучшую модель\n",
    "\n",
    "best_model_info = df_results.iloc[0]\n",
    "best_model_name = best_model_info['Модель']\n",
    "best_model = best_model_info['mod']\n",
    "test = best_model_info['test']"
   ]
  },
  {
   "cell_type": "code",
   "execution_count": 45,
   "id": "reG1znWAH2lp",
   "metadata": {
    "id": "reG1znWAH2lp"
   },
   "outputs": [],
   "source": [
    "# Проведем тестирование лучшей модели\n",
    "\n",
    "y_test_proba = best_model.predict_proba(test)[:, 1]\n",
    "roc_auc = round(roc_auc_score(y_test, y_test_proba), 2)\n",
    "accuracy = round(accuracy_score(y_test, best_model.predict(test)), 2)"
   ]
  },
  {
   "cell_type": "code",
   "execution_count": 46,
   "id": "20XR44UJIeU6",
   "metadata": {
    "colab": {
     "base_uri": "https://localhost:8080/"
    },
    "id": "20XR44UJIeU6",
    "outputId": "85de6287-190c-47a3-ad27-3485aa50faa4"
   },
   "outputs": [
    {
     "name": "stdout",
     "output_type": "stream",
     "text": [
      "Тестирование лучшей модели XGBClassifier дает результат:\n",
      "ROC-AUC: 0.92\n",
      "Accuracy: 0.9\n"
     ]
    }
   ],
   "source": [
    "# Выведем результаты\n",
    "\n",
    "print(f\"Тестирование лучшей модели {best_model_name} дает результат:\")\n",
    "print(f\"ROC-AUC: {roc_auc}\")\n",
    "print(f\"Accuracy: {accuracy}\")"
   ]
  },
  {
   "cell_type": "code",
   "execution_count": 47,
   "id": "l6MyqU1Y5ZpA",
   "metadata": {
    "colab": {
     "base_uri": "https://localhost:8080/",
     "height": 472
    },
    "id": "l6MyqU1Y5ZpA",
    "outputId": "2f1ea864-ff44-4df0-f5af-46c8279baf1e"
   },
   "outputs": [
    {
     "data": {
      "image/png": "[encoded data removed]",
      "text/plain": [
       "<Figure size 432x288 with 1 Axes>"
      ]
     },
     "metadata": {
      "needs_background": "light"
     },
     "output_type": "display_data"
    }
   ],
   "source": [
    "# Вычислим FPR, TPR и построим кривую\n",
    "\n",
    "fpr, tpr, thresholds = roc_curve(y_test, y_test_proba)\n",
    "roc_auc_val = auc(fpr, tpr)\n",
    "\n",
    "plt.figure()\n",
    "plt.plot(fpr, tpr, color='blue', lw=2, label='ROC-кривая (AUC = %0.2f, Accuracy = %0.2f)' % (roc_auc_val, accuracy))\n",
    "plt.plot([0, 1], [0, 1], color='red', lw=2, linestyle='--')\n",
    "plt.xlim([0.0, 1.0])\n",
    "plt.ylim([0.0, 1.05])\n",
    "plt.xlabel('FPR')\n",
    "plt.ylabel('TPR')\n",
    "plt.title('ROC-кривая')\n",
    "plt.legend(loc=\"lower right\")\n",
    "plt.show()"
   ]
  },
  {
   "cell_type": "code",
   "execution_count": 48,
   "id": "0U_H5KnVL1V8",
   "metadata": {
    "colab": {
     "base_uri": "https://localhost:8080/",
     "height": 472
    },
    "id": "0U_H5KnVL1V8",
    "outputId": "43e9129c-7501-47bc-cdde-580ec9c233a2"
   },
   "outputs": [
    {
     "data": {
      "image/png": "[encoded data removed]",
      "text/plain": [
       "<Figure size 432x288 with 2 Axes>"
      ]
     },
     "metadata": {
      "needs_background": "light"
     },
     "output_type": "display_data"
    }
   ],
   "source": [
    "# Построим матрицу ошибок\n",
    "\n",
    "y_pred = best_model.predict(test)\n",
    "\n",
    "conf_matrix = confusion_matrix(y_test, y_pred)\n",
    "\n",
    "sns.heatmap(conf_matrix, annot=True, fmt='g', cmap='Blues',\n",
    "            xticklabels=['0', '1'], yticklabels=['0', '1'])\n",
    "plt.xlabel('Предсказания')\n",
    "plt.ylabel('Факты')\n",
    "plt.title(f'Матрица ошибок {best_model_name}')\n",
    "plt.show()"
   ]
  },
  {
   "cell_type": "code",
   "execution_count": 49,
   "id": "PjKYDSMqQmYY",
   "metadata": {
    "colab": {
     "base_uri": "https://localhost:8080/",
     "height": 1000
    },
    "id": "PjKYDSMqQmYY",
    "outputId": "d85992b9-9951-4e48-8c3f-0006bd4434e9"
   },
   "outputs": [
    {
     "data": {
      "image/png": "[encoded data removed]",
      "text/plain": [
       "<Figure size 720x432 with 1 Axes>"
      ]
     },
     "metadata": {
      "needs_background": "light"
     },
     "output_type": "display_data"
    }
   ],
   "source": [
    "# Построим диаграммы важности признаков\n",
    "\n",
    "feature_names = X_train.columns.tolist()\n",
    "best_model.get_booster().feature_names = feature_names\n",
    "\n",
    "fig, axes = plt.subplots(nrows=1, ncols=1, figsize=(10, 6))\n",
    "\n",
    "# Weight\n",
    "xgb.plot_importance(best_model, importance_type='weight', ax=axes)\n",
    "axes.set_title('Важность признаков (Weight)')\n",
    "axes.set_ylabel('Признаки')\n",
    "plt.show()"
   ]
  },
  {
   "cell_type": "markdown",
   "id": "f9df2463-e281-4e5a-9375-7ee476e25402",
   "metadata": {},
   "source": [
    "<div class=\"alert\" style=\"border: 1px solid; padding: 10px;\">\n",
    "<b><u>Промежуточные выводы:</u></b><br>\n",
    "\n",
    "1. <b>Результаты тестирования лучшей модели:</b>\n",
    "* XGBClassifier на тесте дал результаты ROC-AUC - 0.92, Accuracy - 0.9\n",
    "\n",
    "2. <b>Матрица ошибок</b>\n",
    "* Accuracy = (TP + TN) / (TP + FP + FN + TN)<br>\n",
    "Accuracy = 90.46%\n",
    "* Precision = TP / (TP + FP)<br>\n",
    "Precision = 82.42%\n",
    "* Recall = TP / (TP + FN)<br>\n",
    "Recall = 49.45%\n",
    "\n",
    "В условии задачи явно указано требование максимизации ROC-AUC - она является основной метрикой для оценки производительности модели, поэтому остальные метрики  рассчитаны справочно так как при дисбалансе классов могут вводить в заблуждение.\n",
    "\n",
    "3. <b>Веса признаков</b>\n",
    "* duration является наиболее часто используемым признаком, за ним следуют monthly_charges, total_charges, payment_metod и type.\n",
    "</div>"
   ]
  },
  {
   "cell_type": "markdown",
   "id": "2d67dba2-f503-4e24-9292-226489be04e0",
   "metadata": {},
   "source": [
    "## Общий вывод"
   ]
  },
  {
   "cell_type": "markdown",
   "id": "518d50e4-beb2-4706-a23e-1b79f08ac840",
   "metadata": {},
   "source": [
    "### Список признаков, участвующих в обучении модели и описание их предобработки"
   ]
  },
  {
   "cell_type": "markdown",
   "id": "2d750f8e-8fe6-4a24-bbfb-17d2bde5f49b",
   "metadata": {},
   "source": [
    "<div class=\"alert\" style=\"border: 1px solid; padding: 10px;\">\n",
    "<b><u>При обучении моделей были использованы следующие признаки</u></b>\n",
    "\n",
    "* Для логистической регрессии: monthly_charges, duration, type, paperless_billing, payment_method, senior_citizen, partner, dependents, multiple_lines\n",
    "* Для бустинговых моделей и случайного леса: type, paperless_billing, payment_method, monthly_charges, total_charges, senior_citizen, partner, dependents, internet_service, online_security, online_backup, device_protection, tech_support, streaming_tv, streaming_movies, multiple_lines, duration\n",
    "\n",
    "\n",
    "<b><u>Признаки были обработаны по следующему принципу</u></b>\n",
    "\n",
    "* Для логистической регрессии из матрицы признаков была устранена мультиколлинеарность путем удаления столбцов, кодирование OHE и масштабирование.\n",
    "* Для бустинговых моделей и случайного леса производилась замена бинарных признаков на 0 и 1.\n",
    "* Для случайного леса производилось кодирование OrdinalEncoder.\n",
    "* Для бустинговых моделей определены категориальные столбцы.\n",
    "</div>"
   ]
  },
  {
   "cell_type": "markdown",
   "id": "dfd9e8d6-b8d6-4938-87ec-0fb03bb0c4d6",
   "metadata": {},
   "source": [
    "### Итоговая модель с гиперпараметрами и значение метрики на тестовой выборке"
   ]
  },
  {
   "cell_type": "markdown",
   "id": "59296b1e-3edd-4f18-aa36-11ee5564c7e4",
   "metadata": {},
   "source": [
    "<div class=\"alert\" style=\"border: 1px solid; padding: 10px;\">\n",
    "    \n",
    "1. <b>Лучшая модель XGBoost</b>\n",
    "\n",
    "2. <b>Лучшие гиперпараметры</b>\n",
    "* learning_rate = 0.1\n",
    "* max_depth = 5\n",
    "* min_child_weight = 1\n",
    "* n_estimators = 300\n",
    "* reg_alpha = 0.5\n",
    "* random_state = 251223\n",
    "* objective = binary:logistic\n",
    "* eval_metric = logloss\n",
    "\n",
    "3. <b>Результат тестирования модели</b>\n",
    "* ROC-AUC: 0.92 (условие задания было получить модель с результатом => 0.88 на тесте)\n",
    "\n",
    "</div>"
   ]
  },
  {
   "cell_type": "markdown",
   "id": "5e73a229-3e36-48a3-8348-2a925d66b5f5",
   "metadata": {},
   "source": [
    "### Заказчику следует"
   ]
  },
  {
   "cell_type": "markdown",
   "id": "990f8569-a7bf-4a39-88b3-8e2680d312dd",
   "metadata": {
    "id": "G2DlI8D_AkNl"
   },
   "source": [
    "<div class=\"alert\" style=\"border: 1px solid; padding: 10px;\">\n",
    "\n",
    "<b>Внедрить предложенную модель, которая будет отслеживать метрики и выявлять тренды. Оперативно реагировать на изменения в поведении клиентов и динамике рынка. Принимать более обоснованные решения в управлении клиентским опытом и маркетинговыми стратегиями</b>.\n",
    "\n",
    "* Рассмотреть возможность инвестиций в улучшение инфраструктуры оптоволокна, поскольку большое количество абонентов используют это подключение к интернету, и высокий процент оттока в этой группе может быть сигналом о неудовлетворенности качеством услуги.\n",
    "* Высокий процент оттока среди абонентов, использующих автоматическое списание с дебетовых и кредитных карт говорит о серьезном недовольстве так как автоматическое списание предпочитают достаточно лояльные клиенты.\n",
    "* Поскольку доля оттока клиентов падает от года к году, оператору стоит тщательно изучить и применить успешные меры по удержанию клиентов, использованные в прошлые периоды, а также определить основные факторы, которые способствовали этому снижению.\n",
    "* Высокая доля оттока среди абонентов, оплачивающих услуги раз в 2 года, может указывать на то, что оператору следует разработать более привлекательные программы лояльности или предложения для удержания долгосрочных клиентов.\n",
    "* Так как процент оттока выше для абонентов с несколькими телефонными номерами в договоре, то стоит рассмотреть вопросы качества обслуживания или ценообразования.\n",
    "* Большинство абонентов имеют детей, что может повышать востребованность услуг по блокировке опасных сайтов и родительский контроль. \n",
    "* Следует повышать информированность абонентов о пользе услуги резервного копирования и стимулировать её более широкое использование для увеличения среднего чека.\n",
    "* С учетом доли семейных абонентов следует сфокусироваться на разработке пакетных предложений для членов семьи.\n",
    "</div>"
   ]
  }
 ],
 "metadata": {
  "ExecuteTimeLog": [
   {
    "duration": 49,
    "start_time": "2023-12-25T08:20:21.008Z"
   },
   {
    "duration": 382,
    "start_time": "2023-12-25T08:20:40.248Z"
   },
   {
    "duration": 308,
    "start_time": "2023-12-25T08:20:45.351Z"
   },
   {
    "duration": 20,
    "start_time": "2023-12-25T08:20:53.235Z"
   },
   {
    "duration": 3,
    "start_time": "2023-12-25T08:30:08.278Z"
   },
   {
    "duration": 31,
    "start_time": "2023-12-25T09:16:02.129Z"
   },
   {
    "duration": 4,
    "start_time": "2023-12-25T09:16:09.750Z"
   },
   {
    "duration": 122,
    "start_time": "2023-12-25T09:16:13.138Z"
   },
   {
    "duration": 4,
    "start_time": "2023-12-25T09:16:58.899Z"
   },
   {
    "duration": 225,
    "start_time": "2023-12-25T09:17:03.105Z"
   },
   {
    "duration": 4,
    "start_time": "2023-12-25T09:18:51.551Z"
   },
   {
    "duration": 232,
    "start_time": "2023-12-25T09:18:54.727Z"
   },
   {
    "duration": 4,
    "start_time": "2023-12-25T09:24:58.950Z"
   },
   {
    "duration": 114,
    "start_time": "2023-12-25T09:25:02.759Z"
   },
   {
    "duration": 74,
    "start_time": "2023-12-25T10:13:42.961Z"
   },
   {
    "duration": 3,
    "start_time": "2023-12-25T10:13:46.556Z"
   },
   {
    "duration": 10,
    "start_time": "2023-12-25T10:13:49.306Z"
   },
   {
    "duration": 9,
    "start_time": "2023-12-25T10:19:56.647Z"
   },
   {
    "duration": 4,
    "start_time": "2023-12-25T10:21:10.174Z"
   },
   {
    "duration": 8,
    "start_time": "2023-12-25T10:21:14.434Z"
   },
   {
    "duration": 3,
    "start_time": "2023-12-25T10:23:48.532Z"
   },
   {
    "duration": 8,
    "start_time": "2023-12-25T10:23:51.698Z"
   },
   {
    "duration": 5,
    "start_time": "2023-12-25T10:41:11.175Z"
   },
   {
    "duration": 129,
    "start_time": "2023-12-25T10:41:14.745Z"
   },
   {
    "duration": 5,
    "start_time": "2023-12-25T10:42:01.061Z"
   },
   {
    "duration": 113,
    "start_time": "2023-12-25T10:42:04.119Z"
   },
   {
    "duration": 4,
    "start_time": "2023-12-25T10:42:36.832Z"
   },
   {
    "duration": 113,
    "start_time": "2023-12-25T10:42:41.410Z"
   },
   {
    "duration": 4,
    "start_time": "2023-12-25T10:43:30.343Z"
   },
   {
    "duration": 107,
    "start_time": "2023-12-25T10:43:38.352Z"
   },
   {
    "duration": 4,
    "start_time": "2023-12-25T10:43:48.094Z"
   },
   {
    "duration": 106,
    "start_time": "2023-12-25T10:43:53.067Z"
   },
   {
    "duration": 2,
    "start_time": "2023-12-25T10:45:57.299Z"
   },
   {
    "duration": 126,
    "start_time": "2023-12-25T10:46:00.597Z"
   },
   {
    "duration": 4,
    "start_time": "2023-12-25T10:48:01.649Z"
   },
   {
    "duration": 103,
    "start_time": "2023-12-25T10:48:07.072Z"
   },
   {
    "duration": 5,
    "start_time": "2023-12-25T10:48:43.235Z"
   },
   {
    "duration": 108,
    "start_time": "2023-12-25T10:48:48.634Z"
   },
   {
    "duration": 3,
    "start_time": "2023-12-25T10:49:04.484Z"
   },
   {
    "duration": 3,
    "start_time": "2023-12-25T10:49:14.916Z"
   },
   {
    "duration": 107,
    "start_time": "2023-12-25T10:49:18.559Z"
   },
   {
    "duration": 89,
    "start_time": "2023-12-25T10:52:15.417Z"
   },
   {
    "duration": 3,
    "start_time": "2023-12-25T10:56:17.851Z"
   },
   {
    "duration": 387,
    "start_time": "2023-12-25T10:56:33.182Z"
   },
   {
    "duration": 4,
    "start_time": "2023-12-25T10:56:33.571Z"
   },
   {
    "duration": 111,
    "start_time": "2023-12-25T10:56:33.576Z"
   },
   {
    "duration": 118,
    "start_time": "2023-12-25T10:56:33.689Z"
   },
   {
    "duration": 4,
    "start_time": "2023-12-25T11:57:06.015Z"
   },
   {
    "duration": 114,
    "start_time": "2023-12-25T11:57:09.680Z"
   },
   {
    "duration": 4,
    "start_time": "2023-12-25T11:58:14.709Z"
   },
   {
    "duration": 119,
    "start_time": "2023-12-25T11:58:17.863Z"
   },
   {
    "duration": 4,
    "start_time": "2023-12-25T11:59:17.775Z"
   },
   {
    "duration": 131,
    "start_time": "2023-12-25T11:59:20.634Z"
   },
   {
    "duration": 3580,
    "start_time": "2023-12-25T13:34:49.401Z"
   },
   {
    "duration": 1028,
    "start_time": "2023-12-25T13:35:36.327Z"
   },
   {
    "duration": 3018,
    "start_time": "2024-01-08T08:16:46.268Z"
   },
   {
    "duration": 1652,
    "start_time": "2024-01-08T08:16:49.288Z"
   },
   {
    "duration": 5,
    "start_time": "2024-01-08T08:16:50.944Z"
   },
   {
    "duration": 323,
    "start_time": "2024-01-08T08:16:50.951Z"
   },
   {
    "duration": 133,
    "start_time": "2024-01-08T08:16:51.276Z"
   },
   {
    "duration": 22,
    "start_time": "2024-01-08T08:16:51.410Z"
   },
   {
    "duration": 98,
    "start_time": "2024-01-08T08:16:51.433Z"
   },
   {
    "duration": 30,
    "start_time": "2024-01-08T08:16:51.532Z"
   },
   {
    "duration": 16,
    "start_time": "2024-01-08T08:16:51.563Z"
   },
   {
    "duration": 10,
    "start_time": "2024-01-08T08:16:51.581Z"
   },
   {
    "duration": 423,
    "start_time": "2024-01-08T08:16:51.592Z"
   },
   {
    "duration": 1396,
    "start_time": "2024-01-08T08:16:52.016Z"
   },
   {
    "duration": 1291,
    "start_time": "2024-01-08T08:16:53.414Z"
   },
   {
    "duration": 5,
    "start_time": "2024-01-08T08:16:54.706Z"
   },
   {
    "duration": 138,
    "start_time": "2024-01-08T08:16:54.712Z"
   },
   {
    "duration": 170,
    "start_time": "2024-01-08T08:16:54.851Z"
   },
   {
    "duration": 135,
    "start_time": "2024-01-08T08:16:55.022Z"
   },
   {
    "duration": 136,
    "start_time": "2024-01-08T08:16:55.159Z"
   },
   {
    "duration": 233,
    "start_time": "2024-01-08T08:16:55.297Z"
   },
   {
    "duration": 240,
    "start_time": "2024-01-08T08:16:55.531Z"
   },
   {
    "duration": 339,
    "start_time": "2024-01-08T08:16:55.773Z"
   },
   {
    "duration": 431,
    "start_time": "2024-01-08T08:16:56.114Z"
   },
   {
    "duration": 24,
    "start_time": "2024-01-08T08:16:56.547Z"
   },
   {
    "duration": 3369,
    "start_time": "2024-01-08T08:16:56.573Z"
   },
   {
    "duration": 4,
    "start_time": "2024-01-08T08:16:59.944Z"
   },
   {
    "duration": 20,
    "start_time": "2024-01-08T08:16:59.951Z"
   },
   {
    "duration": 4,
    "start_time": "2024-01-08T08:16:59.973Z"
   },
   {
    "duration": 6,
    "start_time": "2024-01-08T08:16:59.979Z"
   },
   {
    "duration": 8,
    "start_time": "2024-01-08T08:16:59.987Z"
   },
   {
    "duration": 4,
    "start_time": "2024-01-08T08:16:59.997Z"
   },
   {
    "duration": 54,
    "start_time": "2024-01-08T08:17:00.002Z"
   },
   {
    "duration": 180,
    "start_time": "2024-01-08T08:17:00.057Z"
   },
   {
    "duration": 0,
    "start_time": "2024-01-08T08:17:00.239Z"
   },
   {
    "duration": 0,
    "start_time": "2024-01-08T08:17:00.240Z"
   },
   {
    "duration": 0,
    "start_time": "2024-01-08T08:17:00.241Z"
   },
   {
    "duration": 0,
    "start_time": "2024-01-08T08:17:00.244Z"
   },
   {
    "duration": 0,
    "start_time": "2024-01-08T08:17:00.245Z"
   },
   {
    "duration": 0,
    "start_time": "2024-01-08T08:17:00.246Z"
   },
   {
    "duration": 0,
    "start_time": "2024-01-08T08:17:00.247Z"
   },
   {
    "duration": 0,
    "start_time": "2024-01-08T08:17:00.248Z"
   },
   {
    "duration": 0,
    "start_time": "2024-01-08T08:17:00.250Z"
   },
   {
    "duration": 0,
    "start_time": "2024-01-08T08:17:00.250Z"
   },
   {
    "duration": 0,
    "start_time": "2024-01-08T08:17:00.251Z"
   },
   {
    "duration": 0,
    "start_time": "2024-01-08T08:17:00.252Z"
   },
   {
    "duration": 0,
    "start_time": "2024-01-08T08:17:00.253Z"
   },
   {
    "duration": 0,
    "start_time": "2024-01-08T08:17:00.254Z"
   },
   {
    "duration": 0,
    "start_time": "2024-01-08T08:17:00.255Z"
   },
   {
    "duration": 0,
    "start_time": "2024-01-08T08:17:00.256Z"
   },
   {
    "duration": 6229,
    "start_time": "2024-01-08T08:22:38.020Z"
   },
   {
    "duration": 2247,
    "start_time": "2024-01-08T08:22:44.251Z"
   },
   {
    "duration": 1517,
    "start_time": "2024-01-08T08:22:46.500Z"
   },
   {
    "duration": 4,
    "start_time": "2024-01-08T08:22:48.019Z"
   },
   {
    "duration": 114,
    "start_time": "2024-01-08T08:22:48.024Z"
   },
   {
    "duration": 146,
    "start_time": "2024-01-08T08:22:48.139Z"
   },
   {
    "duration": 21,
    "start_time": "2024-01-08T08:22:48.286Z"
   },
   {
    "duration": 105,
    "start_time": "2024-01-08T08:22:48.308Z"
   },
   {
    "duration": 20,
    "start_time": "2024-01-08T08:22:48.414Z"
   },
   {
    "duration": 16,
    "start_time": "2024-01-08T08:22:48.446Z"
   },
   {
    "duration": 10,
    "start_time": "2024-01-08T08:22:48.463Z"
   },
   {
    "duration": 412,
    "start_time": "2024-01-08T08:22:48.474Z"
   },
   {
    "duration": 1409,
    "start_time": "2024-01-08T08:22:48.887Z"
   },
   {
    "duration": 1292,
    "start_time": "2024-01-08T08:22:50.298Z"
   },
   {
    "duration": 5,
    "start_time": "2024-01-08T08:22:51.591Z"
   },
   {
    "duration": 165,
    "start_time": "2024-01-08T08:22:51.597Z"
   },
   {
    "duration": 150,
    "start_time": "2024-01-08T08:22:51.763Z"
   },
   {
    "duration": 131,
    "start_time": "2024-01-08T08:22:51.914Z"
   },
   {
    "duration": 133,
    "start_time": "2024-01-08T08:22:52.046Z"
   },
   {
    "duration": 231,
    "start_time": "2024-01-08T08:22:52.181Z"
   },
   {
    "duration": 225,
    "start_time": "2024-01-08T08:22:52.414Z"
   },
   {
    "duration": 295,
    "start_time": "2024-01-08T08:22:52.640Z"
   },
   {
    "duration": 428,
    "start_time": "2024-01-08T08:22:52.936Z"
   },
   {
    "duration": 21,
    "start_time": "2024-01-08T08:22:53.366Z"
   },
   {
    "duration": 3074,
    "start_time": "2024-01-08T08:22:53.388Z"
   },
   {
    "duration": 5,
    "start_time": "2024-01-08T08:22:56.464Z"
   },
   {
    "duration": 151,
    "start_time": "2024-01-08T08:22:56.471Z"
   },
   {
    "duration": 63,
    "start_time": "2024-01-08T08:22:56.626Z"
   },
   {
    "duration": 31,
    "start_time": "2024-01-08T08:22:56.691Z"
   },
   {
    "duration": 38,
    "start_time": "2024-01-08T08:22:56.723Z"
   },
   {
    "duration": 30,
    "start_time": "2024-01-08T08:22:56.762Z"
   },
   {
    "duration": 29,
    "start_time": "2024-01-08T08:22:56.794Z"
   },
   {
    "duration": 203,
    "start_time": "2024-01-08T08:22:56.825Z"
   },
   {
    "duration": 15,
    "start_time": "2024-01-08T08:22:57.029Z"
   },
   {
    "duration": 3,
    "start_time": "2024-01-08T08:22:57.046Z"
   },
   {
    "duration": 76,
    "start_time": "2024-01-08T08:22:57.050Z"
   },
   {
    "duration": 40,
    "start_time": "2024-01-08T08:22:57.128Z"
   },
   {
    "duration": 777,
    "start_time": "2024-01-08T08:22:57.169Z"
   },
   {
    "duration": 3023,
    "start_time": "2024-01-08T08:22:57.947Z"
   },
   {
    "duration": 33000,
    "start_time": "2024-01-08T08:23:00.972Z"
   },
   {
    "duration": 39577,
    "start_time": "2024-01-08T08:23:33.974Z"
   },
   {
    "duration": 186,
    "start_time": "2024-01-08T08:24:13.553Z"
   },
   {
    "duration": 0,
    "start_time": "2024-01-08T08:24:13.740Z"
   },
   {
    "duration": 0,
    "start_time": "2024-01-08T08:24:13.741Z"
   },
   {
    "duration": 0,
    "start_time": "2024-01-08T08:24:13.745Z"
   },
   {
    "duration": 0,
    "start_time": "2024-01-08T08:24:13.746Z"
   },
   {
    "duration": 0,
    "start_time": "2024-01-08T08:24:13.747Z"
   },
   {
    "duration": 0,
    "start_time": "2024-01-08T08:24:13.748Z"
   },
   {
    "duration": 0,
    "start_time": "2024-01-08T08:24:13.749Z"
   },
   {
    "duration": 22,
    "start_time": "2024-01-08T08:35:03.267Z"
   },
   {
    "duration": 3753,
    "start_time": "2024-01-08T08:40:55.546Z"
   },
   {
    "duration": 2364,
    "start_time": "2024-01-08T08:40:59.301Z"
   },
   {
    "duration": 1474,
    "start_time": "2024-01-08T08:41:01.666Z"
   },
   {
    "duration": 6,
    "start_time": "2024-01-08T08:41:03.142Z"
   },
   {
    "duration": 98,
    "start_time": "2024-01-08T08:41:03.150Z"
   },
   {
    "duration": 153,
    "start_time": "2024-01-08T08:41:03.249Z"
   },
   {
    "duration": 24,
    "start_time": "2024-01-08T08:41:03.403Z"
   },
   {
    "duration": 106,
    "start_time": "2024-01-08T08:41:03.428Z"
   },
   {
    "duration": 28,
    "start_time": "2024-01-08T08:41:03.536Z"
   },
   {
    "duration": 36,
    "start_time": "2024-01-08T08:41:03.565Z"
   },
   {
    "duration": 12,
    "start_time": "2024-01-08T08:41:03.602Z"
   },
   {
    "duration": 421,
    "start_time": "2024-01-08T08:41:03.615Z"
   },
   {
    "duration": 1470,
    "start_time": "2024-01-08T08:41:04.037Z"
   },
   {
    "duration": 1291,
    "start_time": "2024-01-08T08:41:05.510Z"
   },
   {
    "duration": 5,
    "start_time": "2024-01-08T08:41:06.802Z"
   },
   {
    "duration": 143,
    "start_time": "2024-01-08T08:41:06.809Z"
   },
   {
    "duration": 157,
    "start_time": "2024-01-08T08:41:06.954Z"
   },
   {
    "duration": 158,
    "start_time": "2024-01-08T08:41:07.113Z"
   },
   {
    "duration": 148,
    "start_time": "2024-01-08T08:41:07.273Z"
   },
   {
    "duration": 241,
    "start_time": "2024-01-08T08:41:07.423Z"
   },
   {
    "duration": 258,
    "start_time": "2024-01-08T08:41:07.665Z"
   },
   {
    "duration": 323,
    "start_time": "2024-01-08T08:41:07.925Z"
   },
   {
    "duration": 419,
    "start_time": "2024-01-08T08:41:08.250Z"
   },
   {
    "duration": 21,
    "start_time": "2024-01-08T08:41:08.671Z"
   },
   {
    "duration": 3157,
    "start_time": "2024-01-08T08:41:08.694Z"
   },
   {
    "duration": 4,
    "start_time": "2024-01-08T08:41:11.852Z"
   },
   {
    "duration": 36,
    "start_time": "2024-01-08T08:41:11.857Z"
   },
   {
    "duration": 59,
    "start_time": "2024-01-08T08:41:11.894Z"
   },
   {
    "duration": 13,
    "start_time": "2024-01-08T08:41:11.955Z"
   },
   {
    "duration": 25,
    "start_time": "2024-01-08T08:41:11.970Z"
   },
   {
    "duration": 4,
    "start_time": "2024-01-08T08:41:11.996Z"
   },
   {
    "duration": 7,
    "start_time": "2024-01-08T08:41:12.001Z"
   },
   {
    "duration": 24,
    "start_time": "2024-01-08T08:41:12.009Z"
   },
   {
    "duration": 13,
    "start_time": "2024-01-08T08:41:12.034Z"
   },
   {
    "duration": 5,
    "start_time": "2024-01-08T08:41:12.049Z"
   },
   {
    "duration": 21,
    "start_time": "2024-01-08T08:41:12.055Z"
   },
   {
    "duration": 10,
    "start_time": "2024-01-08T08:41:12.077Z"
   },
   {
    "duration": 856,
    "start_time": "2024-01-08T08:41:12.089Z"
   },
   {
    "duration": 3047,
    "start_time": "2024-01-08T08:41:12.947Z"
   },
   {
    "duration": 33189,
    "start_time": "2024-01-08T08:41:15.995Z"
   },
   {
    "duration": 35571,
    "start_time": "2024-01-08T08:41:49.188Z"
   },
   {
    "duration": 230,
    "start_time": "2024-01-08T08:42:24.761Z"
   },
   {
    "duration": 0,
    "start_time": "2024-01-08T08:42:24.993Z"
   },
   {
    "duration": 0,
    "start_time": "2024-01-08T08:42:24.994Z"
   },
   {
    "duration": 0,
    "start_time": "2024-01-08T08:42:24.995Z"
   },
   {
    "duration": 0,
    "start_time": "2024-01-08T08:42:24.996Z"
   },
   {
    "duration": 0,
    "start_time": "2024-01-08T08:42:24.997Z"
   },
   {
    "duration": 0,
    "start_time": "2024-01-08T08:42:24.998Z"
   },
   {
    "duration": 0,
    "start_time": "2024-01-08T08:42:24.999Z"
   },
   {
    "duration": 3289,
    "start_time": "2024-01-08T08:48:30.217Z"
   },
   {
    "duration": 2312,
    "start_time": "2024-01-08T08:48:33.508Z"
   },
   {
    "duration": 1532,
    "start_time": "2024-01-08T08:48:35.822Z"
   },
   {
    "duration": 5,
    "start_time": "2024-01-08T08:48:37.356Z"
   },
   {
    "duration": 132,
    "start_time": "2024-01-08T08:48:37.363Z"
   },
   {
    "duration": 139,
    "start_time": "2024-01-08T08:48:37.497Z"
   },
   {
    "duration": 27,
    "start_time": "2024-01-08T08:48:37.646Z"
   },
   {
    "duration": 110,
    "start_time": "2024-01-08T08:48:37.675Z"
   },
   {
    "duration": 20,
    "start_time": "2024-01-08T08:48:37.787Z"
   },
   {
    "duration": 17,
    "start_time": "2024-01-08T08:48:37.810Z"
   },
   {
    "duration": 13,
    "start_time": "2024-01-08T08:48:37.844Z"
   },
   {
    "duration": 453,
    "start_time": "2024-01-08T08:48:37.858Z"
   },
   {
    "duration": 1496,
    "start_time": "2024-01-08T08:48:38.313Z"
   },
   {
    "duration": 1328,
    "start_time": "2024-01-08T08:48:39.811Z"
   },
   {
    "duration": 10,
    "start_time": "2024-01-08T08:48:41.140Z"
   },
   {
    "duration": 162,
    "start_time": "2024-01-08T08:48:41.151Z"
   },
   {
    "duration": 151,
    "start_time": "2024-01-08T08:48:41.315Z"
   },
   {
    "duration": 140,
    "start_time": "2024-01-08T08:48:41.468Z"
   },
   {
    "duration": 141,
    "start_time": "2024-01-08T08:48:41.609Z"
   },
   {
    "duration": 227,
    "start_time": "2024-01-08T08:48:41.751Z"
   },
   {
    "duration": 233,
    "start_time": "2024-01-08T08:48:41.980Z"
   },
   {
    "duration": 309,
    "start_time": "2024-01-08T08:48:42.214Z"
   },
   {
    "duration": 426,
    "start_time": "2024-01-08T08:48:42.525Z"
   },
   {
    "duration": 21,
    "start_time": "2024-01-08T08:48:42.953Z"
   },
   {
    "duration": 3175,
    "start_time": "2024-01-08T08:48:42.975Z"
   },
   {
    "duration": 4,
    "start_time": "2024-01-08T08:48:46.152Z"
   },
   {
    "duration": 29,
    "start_time": "2024-01-08T08:48:46.157Z"
   },
   {
    "duration": 3,
    "start_time": "2024-01-08T08:48:46.189Z"
   },
   {
    "duration": 14,
    "start_time": "2024-01-08T08:48:46.193Z"
   },
   {
    "duration": 8,
    "start_time": "2024-01-08T08:48:46.209Z"
   },
   {
    "duration": 3,
    "start_time": "2024-01-08T08:48:46.219Z"
   },
   {
    "duration": 22,
    "start_time": "2024-01-08T08:48:46.223Z"
   },
   {
    "duration": 24,
    "start_time": "2024-01-08T08:48:46.246Z"
   },
   {
    "duration": 13,
    "start_time": "2024-01-08T08:48:46.271Z"
   },
   {
    "duration": 3,
    "start_time": "2024-01-08T08:48:46.286Z"
   },
   {
    "duration": 11,
    "start_time": "2024-01-08T08:48:46.290Z"
   },
   {
    "duration": 2,
    "start_time": "2024-01-08T08:48:46.303Z"
   },
   {
    "duration": 839,
    "start_time": "2024-01-08T08:48:46.307Z"
   },
   {
    "duration": 3195,
    "start_time": "2024-01-08T08:48:47.148Z"
   },
   {
    "duration": 33068,
    "start_time": "2024-01-08T08:48:50.345Z"
   },
   {
    "duration": 19111,
    "start_time": "2024-01-08T08:49:52.372Z"
   },
   {
    "duration": 2295,
    "start_time": "2024-01-08T08:50:11.485Z"
   },
   {
    "duration": 1220,
    "start_time": "2024-01-08T08:50:13.781Z"
   },
   {
    "duration": 5,
    "start_time": "2024-01-08T08:50:15.002Z"
   },
   {
    "duration": 178,
    "start_time": "2024-01-08T08:50:15.009Z"
   },
   {
    "duration": 137,
    "start_time": "2024-01-08T08:50:15.188Z"
   },
   {
    "duration": 30,
    "start_time": "2024-01-08T08:50:15.327Z"
   },
   {
    "duration": 100,
    "start_time": "2024-01-08T08:50:15.358Z"
   },
   {
    "duration": 22,
    "start_time": "2024-01-08T08:50:15.459Z"
   },
   {
    "duration": 21,
    "start_time": "2024-01-08T08:50:15.483Z"
   },
   {
    "duration": 27,
    "start_time": "2024-01-08T08:50:15.505Z"
   },
   {
    "duration": 416,
    "start_time": "2024-01-08T08:50:15.533Z"
   },
   {
    "duration": 1425,
    "start_time": "2024-01-08T08:50:15.951Z"
   },
   {
    "duration": 1320,
    "start_time": "2024-01-08T08:50:17.379Z"
   },
   {
    "duration": 5,
    "start_time": "2024-01-08T08:50:18.700Z"
   },
   {
    "duration": 143,
    "start_time": "2024-01-08T08:50:18.707Z"
   },
   {
    "duration": 145,
    "start_time": "2024-01-08T08:50:18.852Z"
   },
   {
    "duration": 137,
    "start_time": "2024-01-08T08:50:18.998Z"
   },
   {
    "duration": 140,
    "start_time": "2024-01-08T08:50:19.136Z"
   },
   {
    "duration": 237,
    "start_time": "2024-01-08T08:50:19.277Z"
   },
   {
    "duration": 247,
    "start_time": "2024-01-08T08:50:19.515Z"
   },
   {
    "duration": 321,
    "start_time": "2024-01-08T08:50:19.764Z"
   },
   {
    "duration": 413,
    "start_time": "2024-01-08T08:50:20.086Z"
   },
   {
    "duration": 20,
    "start_time": "2024-01-08T08:50:20.500Z"
   },
   {
    "duration": 3128,
    "start_time": "2024-01-08T08:50:20.522Z"
   },
   {
    "duration": 3,
    "start_time": "2024-01-08T08:50:23.652Z"
   },
   {
    "duration": 44,
    "start_time": "2024-01-08T08:50:23.656Z"
   },
   {
    "duration": 3,
    "start_time": "2024-01-08T08:50:23.702Z"
   },
   {
    "duration": 28,
    "start_time": "2024-01-08T08:50:23.706Z"
   },
   {
    "duration": 44,
    "start_time": "2024-01-08T08:50:23.736Z"
   },
   {
    "duration": 36,
    "start_time": "2024-01-08T08:50:23.781Z"
   },
   {
    "duration": 26,
    "start_time": "2024-01-08T08:50:23.819Z"
   },
   {
    "duration": 46,
    "start_time": "2024-01-08T08:50:23.846Z"
   },
   {
    "duration": 32,
    "start_time": "2024-01-08T08:50:23.893Z"
   },
   {
    "duration": 10,
    "start_time": "2024-01-08T08:50:23.927Z"
   },
   {
    "duration": 36,
    "start_time": "2024-01-08T08:50:23.938Z"
   },
   {
    "duration": 11,
    "start_time": "2024-01-08T08:50:23.976Z"
   },
   {
    "duration": 759,
    "start_time": "2024-01-08T08:50:23.989Z"
   },
   {
    "duration": 3069,
    "start_time": "2024-01-08T08:50:24.750Z"
   },
   {
    "duration": 34911,
    "start_time": "2024-01-08T08:50:27.821Z"
   },
   {
    "duration": 37022,
    "start_time": "2024-01-08T08:51:02.736Z"
   },
   {
    "duration": 1342,
    "start_time": "2024-01-08T08:51:39.760Z"
   },
   {
    "duration": 10,
    "start_time": "2024-01-08T08:51:41.103Z"
   },
   {
    "duration": 15,
    "start_time": "2024-01-08T08:51:41.114Z"
   },
   {
    "duration": 47,
    "start_time": "2024-01-08T08:51:41.131Z"
   },
   {
    "duration": 3,
    "start_time": "2024-01-08T08:51:41.180Z"
   },
   {
    "duration": 127,
    "start_time": "2024-01-08T08:51:41.184Z"
   },
   {
    "duration": 260,
    "start_time": "2024-01-08T08:51:41.312Z"
   },
   {
    "duration": 247,
    "start_time": "2024-01-08T08:51:41.574Z"
   },
   {
    "duration": 5199,
    "start_time": "2024-01-08T08:53:04.208Z"
   },
   {
    "duration": 2299,
    "start_time": "2024-01-08T08:53:09.410Z"
   },
   {
    "duration": 1204,
    "start_time": "2024-01-08T08:53:11.711Z"
   },
   {
    "duration": 5,
    "start_time": "2024-01-08T08:53:12.916Z"
   },
   {
    "duration": 106,
    "start_time": "2024-01-08T08:53:12.923Z"
   },
   {
    "duration": 145,
    "start_time": "2024-01-08T08:53:13.030Z"
   },
   {
    "duration": 22,
    "start_time": "2024-01-08T08:53:13.176Z"
   },
   {
    "duration": 107,
    "start_time": "2024-01-08T08:53:13.200Z"
   },
   {
    "duration": 20,
    "start_time": "2024-01-08T08:53:13.309Z"
   },
   {
    "duration": 17,
    "start_time": "2024-01-08T08:53:13.345Z"
   },
   {
    "duration": 26,
    "start_time": "2024-01-08T08:53:13.364Z"
   },
   {
    "duration": 464,
    "start_time": "2024-01-08T08:53:13.391Z"
   },
   {
    "duration": 1421,
    "start_time": "2024-01-08T08:53:13.856Z"
   },
   {
    "duration": 1295,
    "start_time": "2024-01-08T08:53:15.280Z"
   },
   {
    "duration": 5,
    "start_time": "2024-01-08T08:53:16.577Z"
   },
   {
    "duration": 157,
    "start_time": "2024-01-08T08:53:16.583Z"
   },
   {
    "duration": 158,
    "start_time": "2024-01-08T08:53:16.741Z"
   },
   {
    "duration": 136,
    "start_time": "2024-01-08T08:53:16.901Z"
   },
   {
    "duration": 140,
    "start_time": "2024-01-08T08:53:17.044Z"
   },
   {
    "duration": 231,
    "start_time": "2024-01-08T08:53:17.185Z"
   },
   {
    "duration": 236,
    "start_time": "2024-01-08T08:53:17.418Z"
   },
   {
    "duration": 329,
    "start_time": "2024-01-08T08:53:17.656Z"
   },
   {
    "duration": 417,
    "start_time": "2024-01-08T08:53:17.987Z"
   },
   {
    "duration": 14,
    "start_time": "2024-01-08T08:53:18.405Z"
   },
   {
    "duration": 3046,
    "start_time": "2024-01-08T08:53:18.420Z"
   },
   {
    "duration": 4,
    "start_time": "2024-01-08T08:53:21.468Z"
   },
   {
    "duration": 28,
    "start_time": "2024-01-08T08:53:21.474Z"
   },
   {
    "duration": 3,
    "start_time": "2024-01-08T08:53:21.504Z"
   },
   {
    "duration": 10,
    "start_time": "2024-01-08T08:53:21.509Z"
   },
   {
    "duration": 11,
    "start_time": "2024-01-08T08:53:21.520Z"
   },
   {
    "duration": 19,
    "start_time": "2024-01-08T08:53:21.533Z"
   },
   {
    "duration": 22,
    "start_time": "2024-01-08T08:53:21.553Z"
   },
   {
    "duration": 25,
    "start_time": "2024-01-08T08:53:21.576Z"
   },
   {
    "duration": 13,
    "start_time": "2024-01-08T08:53:21.603Z"
   },
   {
    "duration": 6,
    "start_time": "2024-01-08T08:53:21.617Z"
   },
   {
    "duration": 12,
    "start_time": "2024-01-08T08:53:21.624Z"
   },
   {
    "duration": 8,
    "start_time": "2024-01-08T08:53:21.637Z"
   },
   {
    "duration": 911,
    "start_time": "2024-01-08T08:53:21.646Z"
   },
   {
    "duration": 3075,
    "start_time": "2024-01-08T08:53:22.560Z"
   },
   {
    "duration": 33096,
    "start_time": "2024-01-08T08:53:25.637Z"
   },
   {
    "duration": 35316,
    "start_time": "2024-01-08T08:53:58.737Z"
   },
   {
    "duration": 1343,
    "start_time": "2024-01-08T08:54:34.054Z"
   },
   {
    "duration": 10,
    "start_time": "2024-01-08T08:54:35.398Z"
   },
   {
    "duration": 24,
    "start_time": "2024-01-08T08:54:35.410Z"
   },
   {
    "duration": 54,
    "start_time": "2024-01-08T08:54:35.436Z"
   },
   {
    "duration": 3,
    "start_time": "2024-01-08T08:54:35.492Z"
   },
   {
    "duration": 127,
    "start_time": "2024-01-08T08:54:35.496Z"
   },
   {
    "duration": 253,
    "start_time": "2024-01-08T08:54:35.624Z"
   },
   {
    "duration": 269,
    "start_time": "2024-01-08T08:54:35.878Z"
   },
   {
    "duration": 23203,
    "start_time": "2024-01-08T11:17:12.316Z"
   },
   {
    "duration": 2976,
    "start_time": "2024-01-08T11:17:35.521Z"
   },
   {
    "duration": 1455,
    "start_time": "2024-01-08T11:17:38.499Z"
   },
   {
    "duration": 6,
    "start_time": "2024-01-08T11:17:39.956Z"
   },
   {
    "duration": 308,
    "start_time": "2024-01-08T11:17:39.964Z"
   },
   {
    "duration": 148,
    "start_time": "2024-01-08T11:17:40.273Z"
   },
   {
    "duration": 23,
    "start_time": "2024-01-08T11:17:40.423Z"
   },
   {
    "duration": 118,
    "start_time": "2024-01-08T11:17:40.448Z"
   },
   {
    "duration": 27,
    "start_time": "2024-01-08T11:17:40.568Z"
   },
   {
    "duration": 18,
    "start_time": "2024-01-08T11:17:40.598Z"
   },
   {
    "duration": 11,
    "start_time": "2024-01-08T11:17:40.618Z"
   },
   {
    "duration": 459,
    "start_time": "2024-01-08T11:17:40.630Z"
   },
   {
    "duration": 1582,
    "start_time": "2024-01-08T11:17:41.091Z"
   },
   {
    "duration": 1429,
    "start_time": "2024-01-08T11:17:42.674Z"
   },
   {
    "duration": 6,
    "start_time": "2024-01-08T11:17:44.104Z"
   },
   {
    "duration": 148,
    "start_time": "2024-01-08T11:17:44.111Z"
   },
   {
    "duration": 169,
    "start_time": "2024-01-08T11:17:44.261Z"
   },
   {
    "duration": 155,
    "start_time": "2024-01-08T11:17:44.432Z"
   },
   {
    "duration": 149,
    "start_time": "2024-01-08T11:17:44.589Z"
   },
   {
    "duration": 241,
    "start_time": "2024-01-08T11:17:44.739Z"
   },
   {
    "duration": 285,
    "start_time": "2024-01-08T11:17:44.982Z"
   },
   {
    "duration": 264,
    "start_time": "2024-01-08T11:17:45.268Z"
   },
   {
    "duration": 608,
    "start_time": "2024-01-08T11:17:45.534Z"
   },
   {
    "duration": 23,
    "start_time": "2024-01-08T11:17:46.143Z"
   },
   {
    "duration": 3369,
    "start_time": "2024-01-08T11:17:46.168Z"
   },
   {
    "duration": 4,
    "start_time": "2024-01-08T11:17:49.539Z"
   },
   {
    "duration": 22,
    "start_time": "2024-01-08T11:17:49.544Z"
   },
   {
    "duration": 4,
    "start_time": "2024-01-08T11:17:49.584Z"
   },
   {
    "duration": 6,
    "start_time": "2024-01-08T11:17:49.589Z"
   },
   {
    "duration": 9,
    "start_time": "2024-01-08T11:17:49.597Z"
   },
   {
    "duration": 4,
    "start_time": "2024-01-08T11:17:49.607Z"
   },
   {
    "duration": 5,
    "start_time": "2024-01-08T11:17:49.612Z"
   },
   {
    "duration": 26,
    "start_time": "2024-01-08T11:17:49.618Z"
   },
   {
    "duration": 40,
    "start_time": "2024-01-08T11:17:49.646Z"
   },
   {
    "duration": 4,
    "start_time": "2024-01-08T11:17:49.687Z"
   },
   {
    "duration": 12,
    "start_time": "2024-01-08T11:17:49.692Z"
   },
   {
    "duration": 2,
    "start_time": "2024-01-08T11:17:49.706Z"
   },
   {
    "duration": 887,
    "start_time": "2024-01-08T11:17:49.709Z"
   },
   {
    "duration": 3453,
    "start_time": "2024-01-08T11:17:50.597Z"
   },
   {
    "duration": 40356,
    "start_time": "2024-01-08T11:17:54.052Z"
   },
   {
    "duration": 39585,
    "start_time": "2024-01-08T11:18:34.409Z"
   },
   {
    "duration": 1440,
    "start_time": "2024-01-08T11:19:13.996Z"
   },
   {
    "duration": 11,
    "start_time": "2024-01-08T11:19:15.438Z"
   },
   {
    "duration": 33,
    "start_time": "2024-01-08T11:19:15.450Z"
   },
   {
    "duration": 61,
    "start_time": "2024-01-08T11:19:15.485Z"
   },
   {
    "duration": 3,
    "start_time": "2024-01-08T11:19:15.548Z"
   },
   {
    "duration": 132,
    "start_time": "2024-01-08T11:19:15.553Z"
   },
   {
    "duration": 185,
    "start_time": "2024-01-08T11:19:15.687Z"
   },
   {
    "duration": 370,
    "start_time": "2024-01-08T11:19:15.874Z"
   }
  ],
  "colab": {
   "provenance": []
  },
  "kernelspec": {
   "display_name": "Python 3 (ipykernel)",
   "language": "python",
   "name": "python3"
  },
  "language_info": {
   "codemirror_mode": {
    "name": "ipython",
    "version": 3
   },
   "file_extension": ".py",
   "mimetype": "text/x-python",
   "name": "python",
   "nbconvert_exporter": "python",
   "pygments_lexer": "ipython3",
   "version": "3.9.18"
  },
  "toc": {
   "base_numbering": 1,
   "nav_menu": {},
   "number_sections": true,
   "sideBar": true,
   "skip_h1_title": true,
   "title_cell": "Table of Contents",
   "title_sidebar": "Contents",
   "toc_cell": false,
   "toc_position": {},
   "toc_section_display": true,
   "toc_window_display": false
  }
 },
 "nbformat": 4,
 "nbformat_minor": 5
}
