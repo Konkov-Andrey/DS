{
 "cells": [
  {
   "cell_type": "markdown",
   "metadata": {
    "toc": true
   },
   "source": [
    "<h1>Содержание<span class=\"tocSkip\"></span></h1>\n",
    "<div class=\"toc\"><ul class=\"toc-item\"><li><span><a href=\"#Установка-и-импорт-библиотек\" data-toc-modified-id=\"Установка-и-импорт-библиотек-1\"><span class=\"toc-item-num\">1&nbsp;&nbsp;</span>Установка и импорт библиотек</a></span><ul class=\"toc-item\"><li><span><a href=\"#Установка-библиотек\" data-toc-modified-id=\"Установка-библиотек-1.1\"><span class=\"toc-item-num\">1.1&nbsp;&nbsp;</span>Установка библиотек</a></span></li><li><span><a href=\"#Импорт-библиотек-и-переменные\" data-toc-modified-id=\"Импорт-библиотек-и-переменные-1.2\"><span class=\"toc-item-num\">1.2&nbsp;&nbsp;</span>Импорт библиотек и переменные</a></span></li></ul></li><li><span><a href=\"#Изучение-данных\" data-toc-modified-id=\"Изучение-данных-2\"><span class=\"toc-item-num\">2&nbsp;&nbsp;</span>Изучение данных</a></span></li><li><span><a href=\"#Подготовка-данных-под-все-виды-моделей\" data-toc-modified-id=\"Подготовка-данных-под-все-виды-моделей-3\"><span class=\"toc-item-num\">3&nbsp;&nbsp;</span>Подготовка данных под все виды моделей</a></span><ul class=\"toc-item\"><li><span><a href=\"#Очистка-текста\" data-toc-modified-id=\"Очистка-текста-3.1\"><span class=\"toc-item-num\">3.1&nbsp;&nbsp;</span>Очистка текста</a></span></li><li><span><a href=\"#Создание-датафреймов-для-DeBERTa-и-TF-IDF\" data-toc-modified-id=\"Создание-датафреймов-для-DeBERTa-и-TF-IDF-3.2\"><span class=\"toc-item-num\">3.2&nbsp;&nbsp;</span>Создание датафреймов для DeBERTa и TF-IDF</a></span></li><li><span><a href=\"#Подготовка-данных-под-transformers\" data-toc-modified-id=\"Подготовка-данных-под-transformers-3.3\"><span class=\"toc-item-num\">3.3&nbsp;&nbsp;</span>Подготовка данных под transformers</a></span></li><li><span><a href=\"#Подготовка-данных-под-TF-IDF\" data-toc-modified-id=\"Подготовка-данных-под-TF-IDF-3.4\"><span class=\"toc-item-num\">3.4&nbsp;&nbsp;</span>Подготовка данных под TF-IDF</a></span></li></ul></li><li><span><a href=\"#Обучение\" data-toc-modified-id=\"Обучение-4\"><span class=\"toc-item-num\">4&nbsp;&nbsp;</span>Обучение</a></span><ul class=\"toc-item\"><li><span><a href=\"#Logistic-Regression\" data-toc-modified-id=\"Logistic-Regression-4.1\"><span class=\"toc-item-num\">4.1&nbsp;&nbsp;</span>Logistic Regression</a></span></li><li><span><a href=\"#CatBoost\" data-toc-modified-id=\"CatBoost-4.2\"><span class=\"toc-item-num\">4.2&nbsp;&nbsp;</span>CatBoost</a></span></li><li><span><a href=\"#Transformers\" data-toc-modified-id=\"Transformers-4.3\"><span class=\"toc-item-num\">4.3&nbsp;&nbsp;</span>Transformers</a></span></li></ul></li><li><span><a href=\"#Определение-победителя\" data-toc-modified-id=\"Определение-победителя-5\"><span class=\"toc-item-num\">5&nbsp;&nbsp;</span>Определение победителя</a></span><ul class=\"toc-item\"><li><span><a href=\"#Сделаем-предсказание-на-тестовой-выборке\" data-toc-modified-id=\"Сделаем-предсказание-на-тестовой-выборке-5.1\"><span class=\"toc-item-num\">5.1&nbsp;&nbsp;</span>Сделаем предсказание на тестовой выборке</a></span></li></ul></li><li><span><a href=\"#Выводы\" data-toc-modified-id=\"Выводы-6\"><span class=\"toc-item-num\">6&nbsp;&nbsp;</span>Выводы</a></span></li><li><span><a href=\"#Чек-лист-проверки\" data-toc-modified-id=\"Чек-лист-проверки-7\"><span class=\"toc-item-num\">7&nbsp;&nbsp;</span>Чек-лист проверки</a></span></li></ul></div>"
   ]
  },
  {
   "cell_type": "markdown",
   "metadata": {},
   "source": [
    "# Проект для «Викишоп» c BERT"
   ]
  },
  {
   "cell_type": "markdown",
   "metadata": {},
   "source": [
    "Интернет-магазин «Викишоп» запускает новый сервис. Теперь пользователи могут редактировать и дополнять описания товаров, как в вики-сообществах. То есть клиенты предлагают свои правки и комментируют изменения других. Магазину нужен инструмент, который будет искать токсичные комментарии и отправлять их на модерацию. \n",
    "\n",
    "Обучите модель классифицировать комментарии на позитивные и негативные. В вашем распоряжении набор данных с разметкой о токсичности правок.\n",
    "\n",
    "Постройте модель со значением метрики качества *F1* не меньше 0.75. \n",
    "\n",
    "**Инструкция по выполнению проекта**\n",
    "\n",
    "1. Загрузите и подготовьте данные.\n",
    "2. Обучите разные модели. \n",
    "3. Сделайте выводы.\n",
    "\n",
    "Для выполнения проекта применять *BERT* необязательно, но вы можете попробовать.\n",
    "\n",
    "**Описание данных**\n",
    "\n",
    "Данные находятся в файле `toxic_comments.csv`. Столбец *text* в нём содержит текст комментария, а *toxic* — целевой признак."
   ]
  },
  {
   "cell_type": "markdown",
   "metadata": {},
   "source": [
    "## Установка и импорт библиотек"
   ]
  },
  {
   "cell_type": "markdown",
   "metadata": {},
   "source": [
    "### Установка библиотек"
   ]
  },
  {
   "cell_type": "code",
   "execution_count": 1,
   "metadata": {},
   "outputs": [],
   "source": [
    "!pip install -q catboost"
   ]
  },
  {
   "cell_type": "code",
   "execution_count": 2,
   "metadata": {},
   "outputs": [],
   "source": [
    "!pip install -q torch"
   ]
  },
  {
   "cell_type": "code",
   "execution_count": 3,
   "metadata": {},
   "outputs": [],
   "source": [
    "!pip install -q transformers"
   ]
  },
  {
   "cell_type": "code",
   "execution_count": 4,
   "metadata": {},
   "outputs": [],
   "source": [
    "!pip install -q sentencepiece"
   ]
  },
  {
   "cell_type": "code",
   "execution_count": 5,
   "metadata": {},
   "outputs": [],
   "source": [
    "!pip install -q spacy"
   ]
  },
  {
   "cell_type": "markdown",
   "metadata": {},
   "source": [
    "### Импорт библиотек и переменные"
   ]
  },
  {
   "cell_type": "code",
   "execution_count": 6,
   "metadata": {},
   "outputs": [],
   "source": [
    "import os\n",
    "import pandas as pd\n",
    "import numpy as np\n",
    "import sentencepiece\n",
    "import requests\n",
    "import transformers\n",
    "import torch\n",
    "import nltk\n",
    "import spacy\n",
    "import re\n",
    "import matplotlib.pyplot as plt\n",
    "\n",
    "from tqdm import notebook\n",
    "from transformers import BertTokenizer\n",
    "from catboost import CatBoostClassifier\n",
    "from sklearn.linear_model import LogisticRegression\n",
    "\n",
    "from sklearn.model_selection import train_test_split, ParameterGrid, StratifiedShuffleSplit\n",
    "from sklearn.feature_extraction.text import TfidfVectorizer\n",
    "from sklearn.metrics import f1_score\n",
    "# from nltk.stem import WordNetLemmatizer \n",
    "# from nltk.tokenize import word_tokenize\n",
    "# from nltk.corpus import wordnet\n",
    "from nltk.corpus import stopwords as nltk_stopwords\n"
   ]
  },
  {
   "cell_type": "code",
   "execution_count": 7,
   "metadata": {},
   "outputs": [],
   "source": [
    "RANDOM_STATE = 12345\n",
    "nlp = spacy.load('en_core_web_sm', disable=['parser', 'ner'])"
   ]
  },
  {
   "cell_type": "markdown",
   "metadata": {},
   "source": [
    "## Изучение данных"
   ]
  },
  {
   "cell_type": "code",
   "execution_count": 27,
   "metadata": {},
   "outputs": [],
   "source": [
    "# Загрузим данные\n",
    "try:\n",
    "    data = pd.read_csv('/datasets/toxic_comments.csv')\n",
    "except:\n",
    "    data = pd.read_csv('https://code.s3.yandex.net/datasets/toxic_comments.csv')"
   ]
  },
  {
   "cell_type": "code",
   "execution_count": 28,
   "metadata": {},
   "outputs": [
    {
     "data": {
      "text/html": [
       "<div>\n",
       "<style scoped>\n",
       "    .dataframe tbody tr th:only-of-type {\n",
       "        vertical-align: middle;\n",
       "    }\n",
       "\n",
       "    .dataframe tbody tr th {\n",
       "        vertical-align: top;\n",
       "    }\n",
       "\n",
       "    .dataframe thead th {\n",
       "        text-align: right;\n",
       "    }\n",
       "</style>\n",
       "<table border=\"1\" class=\"dataframe\">\n",
       "  <thead>\n",
       "    <tr style=\"text-align: right;\">\n",
       "      <th></th>\n",
       "      <th>Unnamed: 0</th>\n",
       "      <th>text</th>\n",
       "      <th>toxic</th>\n",
       "    </tr>\n",
       "  </thead>\n",
       "  <tbody>\n",
       "    <tr>\n",
       "      <th>0</th>\n",
       "      <td>0</td>\n",
       "      <td>Explanation\\nWhy the edits made under my usern...</td>\n",
       "      <td>0</td>\n",
       "    </tr>\n",
       "    <tr>\n",
       "      <th>1</th>\n",
       "      <td>1</td>\n",
       "      <td>D'aww! He matches this background colour I'm s...</td>\n",
       "      <td>0</td>\n",
       "    </tr>\n",
       "    <tr>\n",
       "      <th>2</th>\n",
       "      <td>2</td>\n",
       "      <td>Hey man, I'm really not trying to edit war. It...</td>\n",
       "      <td>0</td>\n",
       "    </tr>\n",
       "    <tr>\n",
       "      <th>3</th>\n",
       "      <td>3</td>\n",
       "      <td>\"\\nMore\\nI can't make any real suggestions on ...</td>\n",
       "      <td>0</td>\n",
       "    </tr>\n",
       "    <tr>\n",
       "      <th>4</th>\n",
       "      <td>4</td>\n",
       "      <td>You, sir, are my hero. Any chance you remember...</td>\n",
       "      <td>0</td>\n",
       "    </tr>\n",
       "  </tbody>\n",
       "</table>\n",
       "</div>"
      ],
      "text/plain": [
       "   Unnamed: 0                                               text  toxic\n",
       "0           0  Explanation\\nWhy the edits made under my usern...      0\n",
       "1           1  D'aww! He matches this background colour I'm s...      0\n",
       "2           2  Hey man, I'm really not trying to edit war. It...      0\n",
       "3           3  \"\\nMore\\nI can't make any real suggestions on ...      0\n",
       "4           4  You, sir, are my hero. Any chance you remember...      0"
      ]
     },
     "execution_count": 28,
     "metadata": {},
     "output_type": "execute_result"
    }
   ],
   "source": [
    "data.head()"
   ]
  },
  {
   "cell_type": "code",
   "execution_count": 29,
   "metadata": {
    "scrolled": true
   },
   "outputs": [
    {
     "name": "stdout",
     "output_type": "stream",
     "text": [
      "<class 'pandas.core.frame.DataFrame'>\n",
      "RangeIndex: 159292 entries, 0 to 159291\n",
      "Data columns (total 3 columns):\n",
      " #   Column      Non-Null Count   Dtype \n",
      "---  ------      --------------   ----- \n",
      " 0   Unnamed: 0  159292 non-null  int64 \n",
      " 1   text        159292 non-null  object\n",
      " 2   toxic       159292 non-null  int64 \n",
      "dtypes: int64(2), object(1)\n",
      "memory usage: 3.6+ MB\n"
     ]
    }
   ],
   "source": [
    "data.info()"
   ]
  },
  {
   "cell_type": "code",
   "execution_count": 31,
   "metadata": {},
   "outputs": [],
   "source": [
    "data.drop('Unnamed: 0', axis=1, inplace= True)"
   ]
  },
  {
   "cell_type": "code",
   "execution_count": 32,
   "metadata": {},
   "outputs": [
    {
     "data": {
      "text/plain": [
       "False"
      ]
     },
     "execution_count": 32,
     "metadata": {},
     "output_type": "execute_result"
    }
   ],
   "source": [
    "'Unnamed: 0' in data.columns"
   ]
  },
  {
   "cell_type": "code",
   "execution_count": 33,
   "metadata": {},
   "outputs": [],
   "source": [
    "# Удалим ненужный столбец вот таким большим кодом\n",
    "# Стандартный код datа = data.drop('Unnamed: 0', axis=1) \n",
    "# почему-то работает через раз в локальном jupyter\n",
    "\n",
    "if 'Unnamed: 0' in data.columns:\n",
    "    del data['Unnamed: 0']"
   ]
  },
  {
   "cell_type": "code",
   "execution_count": 13,
   "metadata": {
    "scrolled": true
   },
   "outputs": [
    {
     "data": {
      "text/html": [
       "<div>\n",
       "<style scoped>\n",
       "    .dataframe tbody tr th:only-of-type {\n",
       "        vertical-align: middle;\n",
       "    }\n",
       "\n",
       "    .dataframe tbody tr th {\n",
       "        vertical-align: top;\n",
       "    }\n",
       "\n",
       "    .dataframe thead th {\n",
       "        text-align: right;\n",
       "    }\n",
       "</style>\n",
       "<table border=\"1\" class=\"dataframe\">\n",
       "  <thead>\n",
       "    <tr style=\"text-align: right;\">\n",
       "      <th></th>\n",
       "      <th>text</th>\n",
       "      <th>toxic</th>\n",
       "    </tr>\n",
       "  </thead>\n",
       "  <tbody>\n",
       "    <tr>\n",
       "      <th>0</th>\n",
       "      <td>Explanation\\nWhy the edits made under my usern...</td>\n",
       "      <td>0</td>\n",
       "    </tr>\n",
       "    <tr>\n",
       "      <th>1</th>\n",
       "      <td>D'aww! He matches this background colour I'm s...</td>\n",
       "      <td>0</td>\n",
       "    </tr>\n",
       "    <tr>\n",
       "      <th>2</th>\n",
       "      <td>Hey man, I'm really not trying to edit war. It...</td>\n",
       "      <td>0</td>\n",
       "    </tr>\n",
       "    <tr>\n",
       "      <th>3</th>\n",
       "      <td>\"\\nMore\\nI can't make any real suggestions on ...</td>\n",
       "      <td>0</td>\n",
       "    </tr>\n",
       "    <tr>\n",
       "      <th>4</th>\n",
       "      <td>You, sir, are my hero. Any chance you remember...</td>\n",
       "      <td>0</td>\n",
       "    </tr>\n",
       "  </tbody>\n",
       "</table>\n",
       "</div>"
      ],
      "text/plain": [
       "                                                text  toxic\n",
       "0  Explanation\\nWhy the edits made under my usern...      0\n",
       "1  D'aww! He matches this background colour I'm s...      0\n",
       "2  Hey man, I'm really not trying to edit war. It...      0\n",
       "3  \"\\nMore\\nI can't make any real suggestions on ...      0\n",
       "4  You, sir, are my hero. Any chance you remember...      0"
      ]
     },
     "execution_count": 13,
     "metadata": {},
     "output_type": "execute_result"
    }
   ],
   "source": [
    "data.head()"
   ]
  },
  {
   "cell_type": "code",
   "execution_count": 13,
   "metadata": {},
   "outputs": [
    {
     "data": {
      "image/png": "[encoded data removed]",
      "text/plain": [
       "<Figure size 640x480 with 1 Axes>"
      ]
     },
     "metadata": {},
     "output_type": "display_data"
    }
   ],
   "source": [
    "# Изучим распределение целевого признака\n",
    "comment_counts = data['toxic'].value_counts()\n",
    "comment_counts.plot.bar(color=['red','green'])\n",
    "plt.title('Распределение тональности комментариев')\n",
    "plt.ylabel('Количество комментариев')\n",
    "plt.xticks([0,1],['Негативные комментарии','Позитивные комментарии'], rotation = 0)\n",
    "plt.show()"
   ]
  },
  {
   "cell_type": "markdown",
   "metadata": {},
   "source": [
    "Промежуточные выводы:\n",
    "* Датасет загружен\n",
    "* Изучены типы данных\n",
    "* Определен дисбаланс классов"
   ]
  },
  {
   "cell_type": "markdown",
   "metadata": {},
   "source": [
    "## Подготовка данных под все виды моделей"
   ]
  },
  {
   "cell_type": "markdown",
   "metadata": {},
   "source": [
    "### Очистка текста"
   ]
  },
  {
   "cell_type": "code",
   "execution_count": 14,
   "metadata": {},
   "outputs": [
    {
     "name": "stdout",
     "output_type": "stream",
     "text": [
      "\"Explanation\\nWhy the edits made under my username Hardcore Metallica Fan were reverted? They weren't vandalisms, just closure on some GAs after I voted at New York Dolls FAC. And please don't remove the template from the talk page since I'm retired now.89.205.38.27\"\n",
      "'\"\\nMore\\nI can\\'t make any real suggestions on improvement - I wondered if the section statistics should be later on, or a subsection of \"\"types of accidents\"\"  -I think the references may need tidying so that they are all in the exact same format ie date format etc. I can do that later on, if no-one else does first - if you have any preferences for formatting style on references or want to do it yourself please let me know.\\n\\nThere appears to be a backlog on articles for review so I guess there may be a delay until a reviewer turns up. It\\'s listed in the relevant form eg Wikipedia:Good_article_nominations#Transport  \"'\n"
     ]
    }
   ],
   "source": [
    "# Возьмем образцы текстов\n",
    "print(repr(data['text'].iloc[0]))\n",
    "print(repr(data['text'].iloc[3]))"
   ]
  },
  {
   "cell_type": "code",
   "execution_count": 15,
   "metadata": {},
   "outputs": [],
   "source": [
    "# Функция очистки текста от спецсимволов\n",
    "def clear_texts(text):\n",
    "    text = re.sub(r'<[^>]+>', '', text)\n",
    "    text = re.sub(r'http\\S+|www\\S+|https\\S+', '', text)\n",
    "    text = re.sub(r'[^a-zA-Z\\s]', ' ', text)\n",
    "    text = re.sub(r'(\\s)([iI][eE]|[eE][gG])(\\s)', r' \\2 ', text)\n",
    "    text = \" \".join(text.split())\n",
    "    return text.lower()"
   ]
  },
  {
   "cell_type": "code",
   "execution_count": 16,
   "metadata": {},
   "outputs": [
    {
     "name": "stdout",
     "output_type": "stream",
     "text": [
      "['explanation why the edits made under my username hardcore metallica fan were reverted they weren t vandalisms just closure on some gas after i voted at new york dolls fac and please don t remove the template from the talk page since i m retired now more i can t make any real suggestions on improvement i wondered if the section statistics should be later on or a subsection of types of accidents i think the references may need tidying so that they are all in the exact same format ie date format etc i can do that later on if no one else does first if you have any preferences for formatting style on references or want to do it yourself please let me know there appears to be a backlog on articles for review so i guess there may be a delay until a reviewer turns up it s listed in the relevant form eg wikipedia good article nominations transport']\n"
     ]
    }
   ],
   "source": [
    "# Проверим корректность работы функции очистки\n",
    "texts = [\n",
    "    \"Explanation\\nWhy https: the edits made under my username Hardcore Metallica Fan were reverted? They weren't vandalisms, just closure on some GAs after I voted at New York Dolls FAC. And please don't remove the template from the talk page since I'm retired now.89.205.38.27\"\n",
    "    '\"\\nMore\\nI can\\'t make any real suggestions on improvement - I wondered if the section statistics should be later on, or a subsection of \"\"types of accidents\"\"  -I think the references may need tidying so that they are all in the exact same format ie date format etc. I can do that later on, if no-one else does first - if you have any preferences for formatting style on references or want to do it yourself please let me know.\\n\\nThere appears to be a backlog on articles for review so I guess there may be a delay until a reviewer turns up. It\\'s listed in the relevant form eg Wikipedia:Good_article_nominations#Transport  \"'\n",
    "]\n",
    "clean_text = [clear_texts(text) for text in texts]\n",
    "print(clean_text)"
   ]
  },
  {
   "cell_type": "code",
   "execution_count": 17,
   "metadata": {},
   "outputs": [],
   "source": [
    "# Применим очистку к исходному датасету\n",
    "data['clear_text'] = data['text'].apply(clear_texts)"
   ]
  },
  {
   "cell_type": "code",
   "execution_count": 18,
   "metadata": {},
   "outputs": [
    {
     "data": {
      "text/html": [
       "<div>\n",
       "<style scoped>\n",
       "    .dataframe tbody tr th:only-of-type {\n",
       "        vertical-align: middle;\n",
       "    }\n",
       "\n",
       "    .dataframe tbody tr th {\n",
       "        vertical-align: top;\n",
       "    }\n",
       "\n",
       "    .dataframe thead th {\n",
       "        text-align: right;\n",
       "    }\n",
       "</style>\n",
       "<table border=\"1\" class=\"dataframe\">\n",
       "  <thead>\n",
       "    <tr style=\"text-align: right;\">\n",
       "      <th></th>\n",
       "      <th>text</th>\n",
       "      <th>toxic</th>\n",
       "      <th>clear_text</th>\n",
       "    </tr>\n",
       "  </thead>\n",
       "  <tbody>\n",
       "    <tr>\n",
       "      <th>0</th>\n",
       "      <td>Explanation\\nWhy the edits made under my usern...</td>\n",
       "      <td>0</td>\n",
       "      <td>explanation why the edits made under my userna...</td>\n",
       "    </tr>\n",
       "    <tr>\n",
       "      <th>1</th>\n",
       "      <td>D'aww! He matches this background colour I'm s...</td>\n",
       "      <td>0</td>\n",
       "      <td>d aww he matches this background colour i m se...</td>\n",
       "    </tr>\n",
       "    <tr>\n",
       "      <th>2</th>\n",
       "      <td>Hey man, I'm really not trying to edit war. It...</td>\n",
       "      <td>0</td>\n",
       "      <td>hey man i m really not trying to edit war it s...</td>\n",
       "    </tr>\n",
       "    <tr>\n",
       "      <th>3</th>\n",
       "      <td>\"\\nMore\\nI can't make any real suggestions on ...</td>\n",
       "      <td>0</td>\n",
       "      <td>more i can t make any real suggestions on impr...</td>\n",
       "    </tr>\n",
       "    <tr>\n",
       "      <th>4</th>\n",
       "      <td>You, sir, are my hero. Any chance you remember...</td>\n",
       "      <td>0</td>\n",
       "      <td>you sir are my hero any chance you remember wh...</td>\n",
       "    </tr>\n",
       "  </tbody>\n",
       "</table>\n",
       "</div>"
      ],
      "text/plain": [
       "                                                text  toxic  \\\n",
       "0  Explanation\\nWhy the edits made under my usern...      0   \n",
       "1  D'aww! He matches this background colour I'm s...      0   \n",
       "2  Hey man, I'm really not trying to edit war. It...      0   \n",
       "3  \"\\nMore\\nI can't make any real suggestions on ...      0   \n",
       "4  You, sir, are my hero. Any chance you remember...      0   \n",
       "\n",
       "                                          clear_text  \n",
       "0  explanation why the edits made under my userna...  \n",
       "1  d aww he matches this background colour i m se...  \n",
       "2  hey man i m really not trying to edit war it s...  \n",
       "3  more i can t make any real suggestions on impr...  \n",
       "4  you sir are my hero any chance you remember wh...  "
      ]
     },
     "execution_count": 18,
     "metadata": {},
     "output_type": "execute_result"
    }
   ],
   "source": [
    "data.head()"
   ]
  },
  {
   "cell_type": "markdown",
   "metadata": {},
   "source": [
    "Промежуточные выводы:\n",
    "* Очистили текст от спецсимовлов\n",
    "* Преобразовали текст в нижний регистр"
   ]
  },
  {
   "cell_type": "markdown",
   "metadata": {},
   "source": [
    "### Создание датафреймов для DeBERTa и TF-IDF"
   ]
  },
  {
   "cell_type": "code",
   "execution_count": 19,
   "metadata": {},
   "outputs": [],
   "source": [
    "data_trans = data.copy()\n",
    "data_tfidf = data.copy()"
   ]
  },
  {
   "cell_type": "code",
   "execution_count": 20,
   "metadata": {},
   "outputs": [
    {
     "name": "stdout",
     "output_type": "stream",
     "text": [
      "                                                text  toxic  \\\n",
      "0  Explanation\\nWhy the edits made under my usern...      0   \n",
      "1  D'aww! He matches this background colour I'm s...      0   \n",
      "2  Hey man, I'm really not trying to edit war. It...      0   \n",
      "3  \"\\nMore\\nI can't make any real suggestions on ...      0   \n",
      "4  You, sir, are my hero. Any chance you remember...      0   \n",
      "\n",
      "                                          clear_text  \n",
      "0  explanation why the edits made under my userna...  \n",
      "1  d aww he matches this background colour i m se...  \n",
      "2  hey man i m really not trying to edit war it s...  \n",
      "3  more i can t make any real suggestions on impr...  \n",
      "4  you sir are my hero any chance you remember wh...  \n",
      "                                                text  toxic  \\\n",
      "0  Explanation\\nWhy the edits made under my usern...      0   \n",
      "1  D'aww! He matches this background colour I'm s...      0   \n",
      "2  Hey man, I'm really not trying to edit war. It...      0   \n",
      "3  \"\\nMore\\nI can't make any real suggestions on ...      0   \n",
      "4  You, sir, are my hero. Any chance you remember...      0   \n",
      "\n",
      "                                          clear_text  \n",
      "0  explanation why the edits made under my userna...  \n",
      "1  d aww he matches this background colour i m se...  \n",
      "2  hey man i m really not trying to edit war it s...  \n",
      "3  more i can t make any real suggestions on impr...  \n",
      "4  you sir are my hero any chance you remember wh...  \n"
     ]
    }
   ],
   "source": [
    "print(data_trans.head())\n",
    "print(data_tfidf.head())"
   ]
  },
  {
   "cell_type": "markdown",
   "metadata": {},
   "source": [
    "### Подготовка данных под transformers"
   ]
  },
  {
   "cell_type": "code",
   "execution_count": 21,
   "metadata": {},
   "outputs": [],
   "source": [
    "# Создадим объект токенизатора BERT\n",
    "tokenizer = BertTokenizer.from_pretrained('bert-base-uncased')"
   ]
  },
  {
   "cell_type": "code",
   "execution_count": 23,
   "metadata": {},
   "outputs": [],
   "source": [
    "# Создаю подвыборку из 1000 строк с соотношением 90/10\n",
    "sample_0 = data_trans[data_trans['toxic'] == 0].sample(1800, random_state=RANDOM_STATE)\n",
    "sample_1 = data_trans[data_trans['toxic'] == 1].sample(200, random_state=RANDOM_STATE)\n",
    "\n",
    "df_sample = pd.concat([sample_0, sample_1])\n",
    "\n",
    "# Перемешиваю строки\n",
    "df_sample = df_sample.sample(frac=1, random_state=RANDOM_STATE).reset_index(drop=True)"
   ]
  },
  {
   "cell_type": "code",
   "execution_count": 24,
   "metadata": {},
   "outputs": [
    {
     "data": {
      "text/html": [
       "<div>\n",
       "<style scoped>\n",
       "    .dataframe tbody tr th:only-of-type {\n",
       "        vertical-align: middle;\n",
       "    }\n",
       "\n",
       "    .dataframe tbody tr th {\n",
       "        vertical-align: top;\n",
       "    }\n",
       "\n",
       "    .dataframe thead th {\n",
       "        text-align: right;\n",
       "    }\n",
       "</style>\n",
       "<table border=\"1\" class=\"dataframe\">\n",
       "  <thead>\n",
       "    <tr style=\"text-align: right;\">\n",
       "      <th></th>\n",
       "      <th>text</th>\n",
       "      <th>toxic</th>\n",
       "      <th>clear_text</th>\n",
       "    </tr>\n",
       "  </thead>\n",
       "  <tbody>\n",
       "    <tr>\n",
       "      <th>0</th>\n",
       "      <td>What the fuck are u talking about?</td>\n",
       "      <td>1</td>\n",
       "      <td>what the fuck are u talking about</td>\n",
       "    </tr>\n",
       "    <tr>\n",
       "      <th>1</th>\n",
       "      <td>\"\\nPlease do not do this again, Ned. I deleted...</td>\n",
       "      <td>0</td>\n",
       "      <td>please do not do this again ned i deleted the ...</td>\n",
       "    </tr>\n",
       "    <tr>\n",
       "      <th>2</th>\n",
       "      <td>\"\\n Thanks, but I have no regrets.  Talk \"</td>\n",
       "      <td>0</td>\n",
       "      <td>thanks but i have no regrets talk</td>\n",
       "    </tr>\n",
       "    <tr>\n",
       "      <th>3</th>\n",
       "      <td>S.A.C. and mass hysteria \\n\\nIt occurs to me t...</td>\n",
       "      <td>0</td>\n",
       "      <td>s a c and mass hysteria it occurs to me that s...</td>\n",
       "    </tr>\n",
       "    <tr>\n",
       "      <th>4</th>\n",
       "      <td>\"\\n\\nInheritance\\nGod promised Aaron, the firs...</td>\n",
       "      <td>0</td>\n",
       "      <td>inheritance god promised aaron the first kohen...</td>\n",
       "    </tr>\n",
       "    <tr>\n",
       "      <th>...</th>\n",
       "      <td>...</td>\n",
       "      <td>...</td>\n",
       "      <td>...</td>\n",
       "    </tr>\n",
       "    <tr>\n",
       "      <th>1995</th>\n",
       "      <td>I dont see how this topic could meet notabilit...</td>\n",
       "      <td>0</td>\n",
       "      <td>i dont see how this topic could meet notabilit...</td>\n",
       "    </tr>\n",
       "    <tr>\n",
       "      <th>1996</th>\n",
       "      <td>\"\\n\\n Suppression of Falun Gong debate \\n\\nI'm...</td>\n",
       "      <td>0</td>\n",
       "      <td>suppression of falun gong debate i m not too a...</td>\n",
       "    </tr>\n",
       "    <tr>\n",
       "      <th>1997</th>\n",
       "      <td>, Luke.  Please do not just slap pre-written w...</td>\n",
       "      <td>0</td>\n",
       "      <td>luke please do not just slap pre written warni...</td>\n",
       "    </tr>\n",
       "    <tr>\n",
       "      <th>1998</th>\n",
       "      <td>\"\\nThe photograph you claim is copyrighted is ...</td>\n",
       "      <td>0</td>\n",
       "      <td>the photograph you claim is copyrighted is sou...</td>\n",
       "    </tr>\n",
       "    <tr>\n",
       "      <th>1999</th>\n",
       "      <td>The new name is unwieldy and not in line with ...</td>\n",
       "      <td>0</td>\n",
       "      <td>the new name is unwieldy and not in line with ...</td>\n",
       "    </tr>\n",
       "  </tbody>\n",
       "</table>\n",
       "<p>2000 rows × 3 columns</p>\n",
       "</div>"
      ],
      "text/plain": [
       "                                                   text  toxic  \\\n",
       "0                    What the fuck are u talking about?      1   \n",
       "1     \"\\nPlease do not do this again, Ned. I deleted...      0   \n",
       "2            \"\\n Thanks, but I have no regrets.  Talk \"      0   \n",
       "3     S.A.C. and mass hysteria \\n\\nIt occurs to me t...      0   \n",
       "4     \"\\n\\nInheritance\\nGod promised Aaron, the firs...      0   \n",
       "...                                                 ...    ...   \n",
       "1995  I dont see how this topic could meet notabilit...      0   \n",
       "1996  \"\\n\\n Suppression of Falun Gong debate \\n\\nI'm...      0   \n",
       "1997  , Luke.  Please do not just slap pre-written w...      0   \n",
       "1998  \"\\nThe photograph you claim is copyrighted is ...      0   \n",
       "1999  The new name is unwieldy and not in line with ...      0   \n",
       "\n",
       "                                             clear_text  \n",
       "0                     what the fuck are u talking about  \n",
       "1     please do not do this again ned i deleted the ...  \n",
       "2                     thanks but i have no regrets talk  \n",
       "3     s a c and mass hysteria it occurs to me that s...  \n",
       "4     inheritance god promised aaron the first kohen...  \n",
       "...                                                 ...  \n",
       "1995  i dont see how this topic could meet notabilit...  \n",
       "1996  suppression of falun gong debate i m not too a...  \n",
       "1997  luke please do not just slap pre written warni...  \n",
       "1998  the photograph you claim is copyrighted is sou...  \n",
       "1999  the new name is unwieldy and not in line with ...  \n",
       "\n",
       "[2000 rows x 3 columns]"
      ]
     },
     "execution_count": 24,
     "metadata": {},
     "output_type": "execute_result"
    }
   ],
   "source": [
    "df_sample"
   ]
  },
  {
   "cell_type": "code",
   "execution_count": 25,
   "metadata": {},
   "outputs": [
    {
     "data": {
      "text/plain": [
       "0    1800\n",
       "1     200\n",
       "Name: toxic, dtype: int64"
      ]
     },
     "execution_count": 25,
     "metadata": {},
     "output_type": "execute_result"
    }
   ],
   "source": [
    "# Проверим соотношение\n",
    "df_sample['toxic'].value_counts()"
   ]
  },
  {
   "cell_type": "code",
   "execution_count": 26,
   "metadata": {},
   "outputs": [
    {
     "name": "stderr",
     "output_type": "stream",
     "text": [
      "Truncation was not explicitly activated but `max_length` is provided a specific value, please use `truncation=True` to explicitly truncate examples to max length. Defaulting to 'longest_first' truncation strategy. If you encode pairs of sequences (GLUE-style) with the tokenizer you can select this strategy more precisely by providing a specific strategy to `truncation`.\n"
     ]
    }
   ],
   "source": [
    "max_length = tokenizer.model_max_length\n",
    "tokenized_sample = df_sample['clear_text'].apply(lambda x: tokenizer.encode(x, \n",
    "                                                                            add_special_tokens=True, \n",
    "                                                                            max_length=max_length))"
   ]
  },
  {
   "cell_type": "code",
   "execution_count": 27,
   "metadata": {},
   "outputs": [],
   "source": [
    "max_len = 0\n",
    "for i in tokenized_sample.values:\n",
    "    if len(i) > max_len:\n",
    "        max_len = len(i)\n",
    "\n",
    "padded_sample = np.array([i + [0]*(max_len - len(i)) for i in tokenized_sample.values])\n",
    "attention_mask_sample = np.where(padded_sample != 0, 1, 0)"
   ]
  },
  {
   "cell_type": "code",
   "execution_count": 28,
   "metadata": {},
   "outputs": [
    {
     "name": "stdout",
     "output_type": "stream",
     "text": [
      "(2000, 512)\n",
      "(2000, 512)\n"
     ]
    }
   ],
   "source": [
    "# Проверяем размеры\n",
    "print(padded_sample.shape)\n",
    "print(attention_mask_sample.shape)"
   ]
  },
  {
   "cell_type": "markdown",
   "metadata": {},
   "source": [
    "Промежуточные выводы:\n",
    "* Создали укороченный сбалансированный датасет для deBERTа\n",
    "* Токенизировали текст\n",
    "* Добавили токены в padding\n",
    "* Маскировали реальные токены"
   ]
  },
  {
   "cell_type": "markdown",
   "metadata": {},
   "source": [
    "### Подготовка данных под TF-IDF"
   ]
  },
  {
   "cell_type": "code",
   "execution_count": 29,
   "metadata": {},
   "outputs": [],
   "source": [
    "def lemmatize_text(text):\n",
    "    doc = nlp(text)\n",
    "    lemmatized_words = [token.lemma_ for token in doc]\n",
    "    return ' '.join(lemmatized_words)"
   ]
  },
  {
   "cell_type": "code",
   "execution_count": 30,
   "metadata": {},
   "outputs": [
    {
     "name": "stdout",
     "output_type": "stream",
     "text": [
      "the stripe bat be hang on their foot and eat good fish\n"
     ]
    }
   ],
   "source": [
    "# Сделаем проверку функции лемматизации\n",
    "sample_text = \"The striped bats were hanging on their feet and ate best fishes\"\n",
    "lemmatized_text = lemmatize_text(sample_text)\n",
    "print(lemmatized_text)"
   ]
  },
  {
   "cell_type": "code",
   "execution_count": 31,
   "metadata": {},
   "outputs": [],
   "source": [
    "# Применим лемматизацию к очищенному тексту\n",
    "data_tfidf['lemm_text'] = data_tfidf['clear_text'].apply(lemmatize_text)"
   ]
  },
  {
   "cell_type": "code",
   "execution_count": 32,
   "metadata": {
    "scrolled": true
   },
   "outputs": [
    {
     "data": {
      "text/html": [
       "<div>\n",
       "<style scoped>\n",
       "    .dataframe tbody tr th:only-of-type {\n",
       "        vertical-align: middle;\n",
       "    }\n",
       "\n",
       "    .dataframe tbody tr th {\n",
       "        vertical-align: top;\n",
       "    }\n",
       "\n",
       "    .dataframe thead th {\n",
       "        text-align: right;\n",
       "    }\n",
       "</style>\n",
       "<table border=\"1\" class=\"dataframe\">\n",
       "  <thead>\n",
       "    <tr style=\"text-align: right;\">\n",
       "      <th></th>\n",
       "      <th>text</th>\n",
       "      <th>toxic</th>\n",
       "      <th>clear_text</th>\n",
       "      <th>lemm_text</th>\n",
       "    </tr>\n",
       "  </thead>\n",
       "  <tbody>\n",
       "    <tr>\n",
       "      <th>0</th>\n",
       "      <td>Explanation\\nWhy the edits made under my usern...</td>\n",
       "      <td>0</td>\n",
       "      <td>explanation why the edits made under my userna...</td>\n",
       "      <td>explanation why the edit make under my usernam...</td>\n",
       "    </tr>\n",
       "    <tr>\n",
       "      <th>1</th>\n",
       "      <td>D'aww! He matches this background colour I'm s...</td>\n",
       "      <td>0</td>\n",
       "      <td>d aww he matches this background colour i m se...</td>\n",
       "      <td>d aww he match this background colour I m seem...</td>\n",
       "    </tr>\n",
       "    <tr>\n",
       "      <th>2</th>\n",
       "      <td>Hey man, I'm really not trying to edit war. It...</td>\n",
       "      <td>0</td>\n",
       "      <td>hey man i m really not trying to edit war it s...</td>\n",
       "      <td>hey man I m really not try to edit war it s ju...</td>\n",
       "    </tr>\n",
       "    <tr>\n",
       "      <th>3</th>\n",
       "      <td>\"\\nMore\\nI can't make any real suggestions on ...</td>\n",
       "      <td>0</td>\n",
       "      <td>more i can t make any real suggestions on impr...</td>\n",
       "      <td>more I can t make any real suggestion on impro...</td>\n",
       "    </tr>\n",
       "    <tr>\n",
       "      <th>4</th>\n",
       "      <td>You, sir, are my hero. Any chance you remember...</td>\n",
       "      <td>0</td>\n",
       "      <td>you sir are my hero any chance you remember wh...</td>\n",
       "      <td>you sir be my hero any chance you remember wha...</td>\n",
       "    </tr>\n",
       "  </tbody>\n",
       "</table>\n",
       "</div>"
      ],
      "text/plain": [
       "                                                text  toxic  \\\n",
       "0  Explanation\\nWhy the edits made under my usern...      0   \n",
       "1  D'aww! He matches this background colour I'm s...      0   \n",
       "2  Hey man, I'm really not trying to edit war. It...      0   \n",
       "3  \"\\nMore\\nI can't make any real suggestions on ...      0   \n",
       "4  You, sir, are my hero. Any chance you remember...      0   \n",
       "\n",
       "                                          clear_text  \\\n",
       "0  explanation why the edits made under my userna...   \n",
       "1  d aww he matches this background colour i m se...   \n",
       "2  hey man i m really not trying to edit war it s...   \n",
       "3  more i can t make any real suggestions on impr...   \n",
       "4  you sir are my hero any chance you remember wh...   \n",
       "\n",
       "                                           lemm_text  \n",
       "0  explanation why the edit make under my usernam...  \n",
       "1  d aww he match this background colour I m seem...  \n",
       "2  hey man I m really not try to edit war it s ju...  \n",
       "3  more I can t make any real suggestion on impro...  \n",
       "4  you sir be my hero any chance you remember wha...  "
      ]
     },
     "execution_count": 32,
     "metadata": {},
     "output_type": "execute_result"
    }
   ],
   "source": [
    "data_tfidf.head()"
   ]
  },
  {
   "cell_type": "code",
   "execution_count": 33,
   "metadata": {},
   "outputs": [
    {
     "name": "stderr",
     "output_type": "stream",
     "text": [
      "[nltk_data] Downloading package stopwords to /Users/andrew-\n",
      "[nltk_data]     mac/nltk_data...\n",
      "[nltk_data]   Package stopwords is already up-to-date!\n"
     ]
    }
   ],
   "source": [
    "# Загрузим стоп-слова\n",
    "nltk.download('stopwords')\n",
    "from nltk.corpus import stopwords\n",
    "stop_words = list(set(stopwords.words('english')))"
   ]
  },
  {
   "cell_type": "code",
   "execution_count": 35,
   "metadata": {},
   "outputs": [],
   "source": [
    "# Стратифицируем train/val/test\n",
    "strat = StratifiedShuffleSplit(n_splits=1, test_size=0.3, random_state=42)\n",
    "\n",
    "X = data_tfidf['lemm_text']\n",
    "y = data_tfidf['toxic']\n",
    "\n",
    "for train_index, temp_index in strat.split(X, y):\n",
    "    X_temp, y_temp = X.iloc[temp_index], y.iloc[temp_index]\n",
    "    X_train, y_train = X.iloc[train_index], y.iloc[train_index]\n",
    "\n",
    "strat_val_test = StratifiedShuffleSplit(n_splits=1, test_size=0.5, random_state=42)\n",
    "\n",
    "for val_index, test_index in strat_val_test.split(X_temp, y_temp):\n",
    "    X_val, y_val = X_temp.iloc[val_index], y_temp.iloc[val_index]\n",
    "    X_test, y_test = X_temp.iloc[test_index], y_temp.iloc[test_index]"
   ]
  },
  {
   "cell_type": "code",
   "execution_count": 36,
   "metadata": {},
   "outputs": [],
   "source": [
    "# Обучим TfidfVectorizer на train, трансформируем val и test\n",
    "vectorizer = TfidfVectorizer(stop_words=stop_words)\n",
    "X_train = vectorizer.fit_transform(X_train)\n",
    "\n",
    "X_val = vectorizer.transform(X_val)\n",
    "X_test = vectorizer.transform(X_test)"
   ]
  },
  {
   "cell_type": "code",
   "execution_count": 38,
   "metadata": {},
   "outputs": [
    {
     "name": "stdout",
     "output_type": "stream",
     "text": [
      "Размер обучающего набора:  (111504, 118085)\n",
      "Размер валидационного набора:  (23894, 118085)\n",
      "Размер тестового набора:  (23894, 118085)\n",
      "Размер (y_train):  (111504,)\n",
      "Размер (y_val):  (23894,)\n",
      "Размер (y_test):  (23894,)\n"
     ]
    }
   ],
   "source": [
    "print(\"Размер обучающего набора: \", X_train.shape)\n",
    "print(\"Размер валидационного набора: \", X_val.shape)\n",
    "print(\"Размер тестового набора: \", X_test.shape)\n",
    "print(\"Размер (y_train): \", y_train.shape)\n",
    "print(\"Размер (y_val): \", y_val.shape)\n",
    "print(\"Размер (y_test): \", y_test.shape)"
   ]
  },
  {
   "cell_type": "code",
   "execution_count": 39,
   "metadata": {},
   "outputs": [
    {
     "data": {
      "text/html": [
       "<div>\n",
       "<style scoped>\n",
       "    .dataframe tbody tr th:only-of-type {\n",
       "        vertical-align: middle;\n",
       "    }\n",
       "\n",
       "    .dataframe tbody tr th {\n",
       "        vertical-align: top;\n",
       "    }\n",
       "\n",
       "    .dataframe thead th {\n",
       "        text-align: right;\n",
       "    }\n",
       "</style>\n",
       "<table border=\"1\" class=\"dataframe\">\n",
       "  <thead>\n",
       "    <tr style=\"text-align: right;\">\n",
       "      <th></th>\n",
       "      <th>n/n</th>\n",
       "      <th>F1_score</th>\n",
       "    </tr>\n",
       "  </thead>\n",
       "  <tbody>\n",
       "  </tbody>\n",
       "</table>\n",
       "</div>"
      ],
      "text/plain": [
       "Empty DataFrame\n",
       "Columns: [n/n, F1_score]\n",
       "Index: []"
      ]
     },
     "execution_count": 39,
     "metadata": {},
     "output_type": "execute_result"
    }
   ],
   "source": [
    "results_tab = pd.DataFrame(columns=['n/n', 'F1_score'])\n",
    "results_tab"
   ]
  },
  {
   "cell_type": "markdown",
   "metadata": {},
   "source": [
    "Промежуточные выводы:\n",
    "* Лемматизировали комментарии\n",
    "* Создали матрицу TF-IDF\n",
    "* Стратифицировали и разделили выборки"
   ]
  },
  {
   "cell_type": "markdown",
   "metadata": {},
   "source": [
    "## Обучение"
   ]
  },
  {
   "cell_type": "markdown",
   "metadata": {},
   "source": [
    "### Logistic Regression"
   ]
  },
  {
   "cell_type": "code",
   "execution_count": 40,
   "metadata": {},
   "outputs": [
    {
     "data": {
      "text/html": [
       "<style>#sk-container-id-1 {color: black;}#sk-container-id-1 pre{padding: 0;}#sk-container-id-1 div.sk-toggleable {background-color: white;}#sk-container-id-1 label.sk-toggleable__label {cursor: pointer;display: block;width: 100%;margin-bottom: 0;padding: 0.3em;box-sizing: border-box;text-align: center;}#sk-container-id-1 label.sk-toggleable__label-arrow:before {content: \"▸\";float: left;margin-right: 0.25em;color: #696969;}#sk-container-id-1 label.sk-toggleable__label-arrow:hover:before {color: black;}#sk-container-id-1 div.sk-estimator:hover label.sk-toggleable__label-arrow:before {color: black;}#sk-container-id-1 div.sk-toggleable__content {max-height: 0;max-width: 0;overflow: hidden;text-align: left;background-color: #f0f8ff;}#sk-container-id-1 div.sk-toggleable__content pre {margin: 0.2em;color: black;border-radius: 0.25em;background-color: #f0f8ff;}#sk-container-id-1 input.sk-toggleable__control:checked~div.sk-toggleable__content {max-height: 200px;max-width: 100%;overflow: auto;}#sk-container-id-1 input.sk-toggleable__control:checked~label.sk-toggleable__label-arrow:before {content: \"▾\";}#sk-container-id-1 div.sk-estimator input.sk-toggleable__control:checked~label.sk-toggleable__label {background-color: #d4ebff;}#sk-container-id-1 div.sk-label input.sk-toggleable__control:checked~label.sk-toggleable__label {background-color: #d4ebff;}#sk-container-id-1 input.sk-hidden--visually {border: 0;clip: rect(1px 1px 1px 1px);clip: rect(1px, 1px, 1px, 1px);height: 1px;margin: -1px;overflow: hidden;padding: 0;position: absolute;width: 1px;}#sk-container-id-1 div.sk-estimator {font-family: monospace;background-color: #f0f8ff;border: 1px dotted black;border-radius: 0.25em;box-sizing: border-box;margin-bottom: 0.5em;}#sk-container-id-1 div.sk-estimator:hover {background-color: #d4ebff;}#sk-container-id-1 div.sk-parallel-item::after {content: \"\";width: 100%;border-bottom: 1px solid gray;flex-grow: 1;}#sk-container-id-1 div.sk-label:hover label.sk-toggleable__label {background-color: #d4ebff;}#sk-container-id-1 div.sk-serial::before {content: \"\";position: absolute;border-left: 1px solid gray;box-sizing: border-box;top: 0;bottom: 0;left: 50%;z-index: 0;}#sk-container-id-1 div.sk-serial {display: flex;flex-direction: column;align-items: center;background-color: white;padding-right: 0.2em;padding-left: 0.2em;position: relative;}#sk-container-id-1 div.sk-item {position: relative;z-index: 1;}#sk-container-id-1 div.sk-parallel {display: flex;align-items: stretch;justify-content: center;background-color: white;position: relative;}#sk-container-id-1 div.sk-item::before, #sk-container-id-1 div.sk-parallel-item::before {content: \"\";position: absolute;border-left: 1px solid gray;box-sizing: border-box;top: 0;bottom: 0;left: 50%;z-index: -1;}#sk-container-id-1 div.sk-parallel-item {display: flex;flex-direction: column;z-index: 1;position: relative;background-color: white;}#sk-container-id-1 div.sk-parallel-item:first-child::after {align-self: flex-end;width: 50%;}#sk-container-id-1 div.sk-parallel-item:last-child::after {align-self: flex-start;width: 50%;}#sk-container-id-1 div.sk-parallel-item:only-child::after {width: 0;}#sk-container-id-1 div.sk-dashed-wrapped {border: 1px dashed gray;margin: 0 0.4em 0.5em 0.4em;box-sizing: border-box;padding-bottom: 0.4em;background-color: white;}#sk-container-id-1 div.sk-label label {font-family: monospace;font-weight: bold;display: inline-block;line-height: 1.2em;}#sk-container-id-1 div.sk-label-container {text-align: center;}#sk-container-id-1 div.sk-container {/* jupyter's `normalize.less` sets `[hidden] { display: none; }` but bootstrap.min.css set `[hidden] { display: none !important; }` so we also need the `!important` here to be able to override the default hidden behavior on the sphinx rendered scikit-learn.org. See: https://github.com/scikit-learn/scikit-learn/issues/21755 */display: inline-block !important;position: relative;}#sk-container-id-1 div.sk-text-repr-fallback {display: none;}</style><div id=\"sk-container-id-1\" class=\"sk-top-container\"><div class=\"sk-text-repr-fallback\"><pre>LogisticRegression(class_weight=&#x27;balanced&#x27;, max_iter=1000)</pre><b>In a Jupyter environment, please rerun this cell to show the HTML representation or trust the notebook. <br />On GitHub, the HTML representation is unable to render, please try loading this page with nbviewer.org.</b></div><div class=\"sk-container\" hidden><div class=\"sk-item\"><div class=\"sk-estimator sk-toggleable\"><input class=\"sk-toggleable__control sk-hidden--visually\" id=\"sk-estimator-id-1\" type=\"checkbox\" checked><label for=\"sk-estimator-id-1\" class=\"sk-toggleable__label sk-toggleable__label-arrow\">LogisticRegression</label><div class=\"sk-toggleable__content\"><pre>LogisticRegression(class_weight=&#x27;balanced&#x27;, max_iter=1000)</pre></div></div></div></div></div>"
      ],
      "text/plain": [
       "LogisticRegression(class_weight='balanced', max_iter=1000)"
      ]
     },
     "execution_count": 40,
     "metadata": {},
     "output_type": "execute_result"
    }
   ],
   "source": [
    "# Обучим модель\n",
    "model_lr = LogisticRegression(max_iter=1000, class_weight='balanced')\n",
    "model_lr.fit(X_train, y_train)"
   ]
  },
  {
   "cell_type": "code",
   "execution_count": 41,
   "metadata": {},
   "outputs": [
    {
     "name": "stdout",
     "output_type": "stream",
     "text": [
      "F1 score:  0.7446731672083784\n"
     ]
    }
   ],
   "source": [
    "# Предскажем на valid\n",
    "y_val_pred_lr = model_lr.predict(X_val)\n",
    "\n",
    "# Рассчитаем F1\n",
    "f1_lr = f1_score(y_val, y_val_pred_lr)\n",
    "print('F1 score: ', f1_lr)\n",
    "results_tab = results_tab.append(pd.Series(['LR', f1_lr], index=results_tab.columns), ignore_index=True)"
   ]
  },
  {
   "cell_type": "markdown",
   "metadata": {},
   "source": [
    "### CatBoost"
   ]
  },
  {
   "cell_type": "code",
   "execution_count": 42,
   "metadata": {},
   "outputs": [],
   "source": [
    "#########################################################\n",
    "# В результате подбора этих гиперпараметров выиграли те,\n",
    "# которые указаны в действующем коде\n",
    "# param_grid = {\n",
    "#     'learning_rate': [0.2, 0.4, 0.6],\n",
    "#     'depth': [5, 10, 15],\n",
    "#     'l2_leaf_reg': [1, 3, 5],\n",
    "#     'iterations': [200, 500, 1000],\n",
    "#     'border_count': [32, 64, 128, 254],\n",
    "#     'auto_class_weights': ['Balanced', 'SqrtBalanced']\n",
    "# }\n",
    "#########################################################\n",
    "\n",
    "param_grid = {\n",
    "    'loss_function': ['Logloss'],\n",
    "    'learning_rate': [0.4],\n",
    "    'iterations': [500],\n",
    "    'auto_class_weights': ['Balanced']\n",
    "}\n",
    "\n",
    "best_f1_score = 0\n",
    "best_params = None\n",
    "best_model = None"
   ]
  },
  {
   "cell_type": "code",
   "execution_count": 43,
   "metadata": {},
   "outputs": [
    {
     "name": "stdout",
     "output_type": "stream",
     "text": [
      "Идет поиск лучших гиперпараметров ...\n",
      "0:\tlearn: 0.5764639\ttotal: 1.91s\tremaining: 15m 55s\n",
      "50:\tlearn: 0.2892914\ttotal: 1m 37s\tremaining: 14m 18s\n",
      "100:\tlearn: 0.2369557\ttotal: 3m 6s\tremaining: 12m 14s\n",
      "150:\tlearn: 0.2093717\ttotal: 4m 16s\tremaining: 9m 52s\n",
      "200:\tlearn: 0.1884151\ttotal: 5m 15s\tremaining: 7m 49s\n",
      "250:\tlearn: 0.1735805\ttotal: 6m 10s\tremaining: 6m 7s\n",
      "300:\tlearn: 0.1590924\ttotal: 7m 5s\tremaining: 4m 41s\n",
      "350:\tlearn: 0.1465083\ttotal: 8m\tremaining: 3m 23s\n",
      "400:\tlearn: 0.1367415\ttotal: 8m 54s\tremaining: 2m 12s\n",
      "450:\tlearn: 0.1284692\ttotal: 9m 49s\tremaining: 1m 4s\n",
      "499:\tlearn: 0.1206656\ttotal: 10m 44s\tremaining: 0us\n",
      "Лучшие гиперпараметры: {'auto_class_weights': 'Balanced', 'iterations': 500, 'learning_rate': 0.4, 'loss_function': 'Logloss'}\n"
     ]
    }
   ],
   "source": [
    "# Переберем гиперпараметры и найдем лучшие\n",
    "print(f\"Идет поиск лучших гиперпараметров ...\")\n",
    "for params in ParameterGrid(param_grid):\n",
    "     model_cbr = CatBoostClassifier(**params,\n",
    "                                    random_state=RANDOM_STATE,\n",
    "                                    verbose=50,\n",
    "                                    thread_count=-1)\n",
    "     model_cbr.fit(X_train, y_train)\n",
    "     pred = model_cbr.predict(X_val)\n",
    "     score = f1_score(y_val, pred, average='macro')\n",
    "     if score > best_f1_score:\n",
    "         best_f1_score = score\n",
    "         best_params = params\n",
    "         best_model = model_cbr\n",
    "\n",
    "print(f\"Лучшие гиперпараметры: {best_params}\")"
   ]
  },
  {
   "cell_type": "code",
   "execution_count": 44,
   "metadata": {},
   "outputs": [
    {
     "data": {
      "text/plain": [
       "<catboost.core.CatBoostClassifier at 0x151c30f10>"
      ]
     },
     "execution_count": 44,
     "metadata": {},
     "output_type": "execute_result"
    }
   ],
   "source": [
    "# Обучим CatBoost на лучших гиперпараметрах\n",
    "model_cbr = CatBoostClassifier(**best_params,\n",
    "                               random_state=RANDOM_STATE,\n",
    "                               verbose=0,\n",
    "                               thread_count=-1)\n",
    "model_cbr.fit(X_train, y_train)"
   ]
  },
  {
   "cell_type": "code",
   "execution_count": 45,
   "metadata": {},
   "outputs": [
    {
     "name": "stdout",
     "output_type": "stream",
     "text": [
      "F1 score:  0.7659168890583302\n"
     ]
    }
   ],
   "source": [
    "# Предскажем на val\n",
    "y_val_pred_cbr = model_cbr.predict(X_val)\n",
    "\n",
    "# Рассчитаем F1\n",
    "f1_cbr = f1_score(y_val, y_val_pred_cbr)\n",
    "print('F1 score: ', f1_cbr)\n",
    "results_tab = results_tab.append(pd.Series(['CatBoost', f1_cbr], \n",
    "                                           index=results_tab.columns), ignore_index=True)"
   ]
  },
  {
   "cell_type": "markdown",
   "metadata": {},
   "source": [
    "### Transformers"
   ]
  },
  {
   "cell_type": "code",
   "execution_count": 46,
   "metadata": {},
   "outputs": [],
   "source": [
    "model_bert = transformers.BertModel.from_pretrained('bert-base-uncased')"
   ]
  },
  {
   "cell_type": "code",
   "execution_count": 47,
   "metadata": {},
   "outputs": [
    {
     "data": {
      "application/vnd.jupyter.widget-view+json": {
       "model_id": "7cdd2f8a080945118136d74ba44a86fe",
       "version_major": 2,
       "version_minor": 0
      },
      "text/plain": [
       "  0%|          | 0/5 [00:00<?, ?it/s]"
      ]
     },
     "metadata": {},
     "output_type": "display_data"
    }
   ],
   "source": [
    "batch_size = min(400, padded_sample.shape[0] // 2)\n",
    "\n",
    "embeddings_sample = []\n",
    "for i in notebook.tqdm(range(padded_sample.shape[0] // batch_size)):\n",
    "    batch = torch.LongTensor(padded_sample[batch_size*i:batch_size*(i+1)]) \n",
    "    attention_mask_batch = torch.LongTensor(attention_mask_sample[batch_size*i:batch_size*(i+1)])\n",
    "\n",
    "    with torch.no_grad():\n",
    "        batch_embeddings = model_bert(batch, attention_mask=attention_mask_batch)\n",
    "        \n",
    "    embeddings_sample.append(batch_embeddings[0][:,0,:].numpy())"
   ]
  },
  {
   "cell_type": "code",
   "execution_count": 48,
   "metadata": {},
   "outputs": [],
   "source": [
    "features_sample = np.concatenate(embeddings_sample)"
   ]
  },
  {
   "cell_type": "code",
   "execution_count": 49,
   "metadata": {},
   "outputs": [],
   "source": [
    "# Создаю train/val/test 70/15/15\n",
    "X_train_b, X_test_b, y_train_b, y_test_b = train_test_split(\n",
    "    features_sample,\n",
    "    df_sample['toxic'].values,\n",
    "    test_size=0.3, \n",
    "    random_state=RANDOM_STATE)\n",
    "\n",
    "X_val_b, X_test_b, y_val_b, y_test_b = train_test_split(\n",
    "    X_test_b,\n",
    "    y_test_b,\n",
    "    test_size=0.5,\n",
    "    random_state=RANDOM_STATE)"
   ]
  },
  {
   "cell_type": "code",
   "execution_count": 50,
   "metadata": {},
   "outputs": [
    {
     "data": {
      "text/html": [
       "<style>#sk-container-id-2 {color: black;}#sk-container-id-2 pre{padding: 0;}#sk-container-id-2 div.sk-toggleable {background-color: white;}#sk-container-id-2 label.sk-toggleable__label {cursor: pointer;display: block;width: 100%;margin-bottom: 0;padding: 0.3em;box-sizing: border-box;text-align: center;}#sk-container-id-2 label.sk-toggleable__label-arrow:before {content: \"▸\";float: left;margin-right: 0.25em;color: #696969;}#sk-container-id-2 label.sk-toggleable__label-arrow:hover:before {color: black;}#sk-container-id-2 div.sk-estimator:hover label.sk-toggleable__label-arrow:before {color: black;}#sk-container-id-2 div.sk-toggleable__content {max-height: 0;max-width: 0;overflow: hidden;text-align: left;background-color: #f0f8ff;}#sk-container-id-2 div.sk-toggleable__content pre {margin: 0.2em;color: black;border-radius: 0.25em;background-color: #f0f8ff;}#sk-container-id-2 input.sk-toggleable__control:checked~div.sk-toggleable__content {max-height: 200px;max-width: 100%;overflow: auto;}#sk-container-id-2 input.sk-toggleable__control:checked~label.sk-toggleable__label-arrow:before {content: \"▾\";}#sk-container-id-2 div.sk-estimator input.sk-toggleable__control:checked~label.sk-toggleable__label {background-color: #d4ebff;}#sk-container-id-2 div.sk-label input.sk-toggleable__control:checked~label.sk-toggleable__label {background-color: #d4ebff;}#sk-container-id-2 input.sk-hidden--visually {border: 0;clip: rect(1px 1px 1px 1px);clip: rect(1px, 1px, 1px, 1px);height: 1px;margin: -1px;overflow: hidden;padding: 0;position: absolute;width: 1px;}#sk-container-id-2 div.sk-estimator {font-family: monospace;background-color: #f0f8ff;border: 1px dotted black;border-radius: 0.25em;box-sizing: border-box;margin-bottom: 0.5em;}#sk-container-id-2 div.sk-estimator:hover {background-color: #d4ebff;}#sk-container-id-2 div.sk-parallel-item::after {content: \"\";width: 100%;border-bottom: 1px solid gray;flex-grow: 1;}#sk-container-id-2 div.sk-label:hover label.sk-toggleable__label {background-color: #d4ebff;}#sk-container-id-2 div.sk-serial::before {content: \"\";position: absolute;border-left: 1px solid gray;box-sizing: border-box;top: 0;bottom: 0;left: 50%;z-index: 0;}#sk-container-id-2 div.sk-serial {display: flex;flex-direction: column;align-items: center;background-color: white;padding-right: 0.2em;padding-left: 0.2em;position: relative;}#sk-container-id-2 div.sk-item {position: relative;z-index: 1;}#sk-container-id-2 div.sk-parallel {display: flex;align-items: stretch;justify-content: center;background-color: white;position: relative;}#sk-container-id-2 div.sk-item::before, #sk-container-id-2 div.sk-parallel-item::before {content: \"\";position: absolute;border-left: 1px solid gray;box-sizing: border-box;top: 0;bottom: 0;left: 50%;z-index: -1;}#sk-container-id-2 div.sk-parallel-item {display: flex;flex-direction: column;z-index: 1;position: relative;background-color: white;}#sk-container-id-2 div.sk-parallel-item:first-child::after {align-self: flex-end;width: 50%;}#sk-container-id-2 div.sk-parallel-item:last-child::after {align-self: flex-start;width: 50%;}#sk-container-id-2 div.sk-parallel-item:only-child::after {width: 0;}#sk-container-id-2 div.sk-dashed-wrapped {border: 1px dashed gray;margin: 0 0.4em 0.5em 0.4em;box-sizing: border-box;padding-bottom: 0.4em;background-color: white;}#sk-container-id-2 div.sk-label label {font-family: monospace;font-weight: bold;display: inline-block;line-height: 1.2em;}#sk-container-id-2 div.sk-label-container {text-align: center;}#sk-container-id-2 div.sk-container {/* jupyter's `normalize.less` sets `[hidden] { display: none; }` but bootstrap.min.css set `[hidden] { display: none !important; }` so we also need the `!important` here to be able to override the default hidden behavior on the sphinx rendered scikit-learn.org. See: https://github.com/scikit-learn/scikit-learn/issues/21755 */display: inline-block !important;position: relative;}#sk-container-id-2 div.sk-text-repr-fallback {display: none;}</style><div id=\"sk-container-id-2\" class=\"sk-top-container\"><div class=\"sk-text-repr-fallback\"><pre>LogisticRegression(max_iter=1000)</pre><b>In a Jupyter environment, please rerun this cell to show the HTML representation or trust the notebook. <br />On GitHub, the HTML representation is unable to render, please try loading this page with nbviewer.org.</b></div><div class=\"sk-container\" hidden><div class=\"sk-item\"><div class=\"sk-estimator sk-toggleable\"><input class=\"sk-toggleable__control sk-hidden--visually\" id=\"sk-estimator-id-2\" type=\"checkbox\" checked><label for=\"sk-estimator-id-2\" class=\"sk-toggleable__label sk-toggleable__label-arrow\">LogisticRegression</label><div class=\"sk-toggleable__content\"><pre>LogisticRegression(max_iter=1000)</pre></div></div></div></div></div>"
      ],
      "text/plain": [
       "LogisticRegression(max_iter=1000)"
      ]
     },
     "execution_count": 50,
     "metadata": {},
     "output_type": "execute_result"
    }
   ],
   "source": [
    "lr_model_b = LogisticRegression(max_iter=1000)\n",
    "lr_model_b.fit(X_train_b, y_train_b)"
   ]
  },
  {
   "cell_type": "code",
   "execution_count": 51,
   "metadata": {},
   "outputs": [
    {
     "name": "stdout",
     "output_type": "stream",
     "text": [
      "F1 score:  0.6181818181818182\n"
     ]
    }
   ],
   "source": [
    "pred_b = lr_model_b.predict(X_val_b)\n",
    "f1_b = f1_score(y_val_b, pred_b)\n",
    "print('F1 score: ', f1_b)\n",
    "results_tab = results_tab.append(pd.Series(['Transformers', f1_b], index=results_tab.columns), ignore_index=True)"
   ]
  },
  {
   "cell_type": "markdown",
   "metadata": {},
   "source": [
    "Промежуточные выводы:\n",
    "* Обучили модели CatBoost, BERT и Logistic Regression, проверили их на валидационных данных - лучший результат catboost"
   ]
  },
  {
   "cell_type": "markdown",
   "metadata": {},
   "source": [
    "## Определение победителя"
   ]
  },
  {
   "cell_type": "code",
   "execution_count": 52,
   "metadata": {},
   "outputs": [
    {
     "data": {
      "text/html": [
       "<div>\n",
       "<style scoped>\n",
       "    .dataframe tbody tr th:only-of-type {\n",
       "        vertical-align: middle;\n",
       "    }\n",
       "\n",
       "    .dataframe tbody tr th {\n",
       "        vertical-align: top;\n",
       "    }\n",
       "\n",
       "    .dataframe thead th {\n",
       "        text-align: right;\n",
       "    }\n",
       "</style>\n",
       "<table border=\"1\" class=\"dataframe\">\n",
       "  <thead>\n",
       "    <tr style=\"text-align: right;\">\n",
       "      <th></th>\n",
       "      <th>n/n</th>\n",
       "      <th>F1_score</th>\n",
       "    </tr>\n",
       "  </thead>\n",
       "  <tbody>\n",
       "    <tr>\n",
       "      <th>0</th>\n",
       "      <td>LR</td>\n",
       "      <td>0.744673</td>\n",
       "    </tr>\n",
       "    <tr>\n",
       "      <th>1</th>\n",
       "      <td>CatBoost</td>\n",
       "      <td>0.765917</td>\n",
       "    </tr>\n",
       "    <tr>\n",
       "      <th>2</th>\n",
       "      <td>Transformers</td>\n",
       "      <td>0.618182</td>\n",
       "    </tr>\n",
       "  </tbody>\n",
       "</table>\n",
       "</div>"
      ],
      "text/plain": [
       "            n/n  F1_score\n",
       "0            LR  0.744673\n",
       "1      CatBoost  0.765917\n",
       "2  Transformers  0.618182"
      ]
     },
     "execution_count": 52,
     "metadata": {},
     "output_type": "execute_result"
    }
   ],
   "source": [
    "results_tab"
   ]
  },
  {
   "cell_type": "markdown",
   "metadata": {},
   "source": [
    "### Сделаем предсказание на тестовой выборке"
   ]
  },
  {
   "cell_type": "code",
   "execution_count": 53,
   "metadata": {},
   "outputs": [
    {
     "name": "stdout",
     "output_type": "stream",
     "text": [
      "F1 score:  0.7707730865625602\n"
     ]
    }
   ],
   "source": [
    "final_pred = model_cbr.predict(X_test)\n",
    "f1 = f1_score(y_test, final_pred)\n",
    "print('F1 score: ', f1)"
   ]
  },
  {
   "cell_type": "markdown",
   "metadata": {},
   "source": [
    "## Выводы"
   ]
  },
  {
   "cell_type": "markdown",
   "metadata": {},
   "source": [
    "Исходя из цели достичь F1-оценки выше 0.75, мы получили следующие данные:\n",
    "* Логистическая регрессия на валидационных данных 0.744\n",
    "* CatBoost на валидационных данных 0.765\n",
    "* BERT демонстрирует наименьшую F1-оценку 0.618 на валидационных данных.\n",
    "\n",
    "Так как CatBoost получил наивысшую оценку, то мы произвели предсказание на тестовой выборке и получили F1-меру равную 0.77, что полностью удовлетворяет условие задачи.\n",
    "\n",
    "В целом модель CatBoost показала хороший результат и способна эффективно определять тональность текста."
   ]
  }
 ],
 "metadata": {
  "ExecuteTimeLog": [
   {
    "duration": 3,
    "start_time": "2023-10-31T06:52:19.470Z"
   },
   {
    "duration": 2679,
    "start_time": "2023-10-31T06:52:19.475Z"
   },
   {
    "duration": 2393,
    "start_time": "2023-10-31T06:52:22.156Z"
   },
   {
    "duration": 3425,
    "start_time": "2023-10-31T06:52:24.551Z"
   },
   {
    "duration": 13259,
    "start_time": "2023-10-31T06:52:27.979Z"
   },
   {
    "duration": 6,
    "start_time": "2023-10-31T06:52:41.240Z"
   },
   {
    "duration": 2366,
    "start_time": "2023-10-31T06:52:41.248Z"
   },
   {
    "duration": 13,
    "start_time": "2023-10-31T06:52:43.616Z"
   },
   {
    "duration": 33,
    "start_time": "2023-10-31T06:52:43.630Z"
   },
   {
    "duration": 3,
    "start_time": "2023-10-31T06:52:43.665Z"
   },
   {
    "duration": 12,
    "start_time": "2023-10-31T06:52:43.670Z"
   },
   {
    "duration": 164,
    "start_time": "2023-10-31T06:52:43.684Z"
   },
   {
    "duration": 4,
    "start_time": "2023-10-31T06:52:43.851Z"
   },
   {
    "duration": 26,
    "start_time": "2023-10-31T06:52:43.857Z"
   },
   {
    "duration": 33,
    "start_time": "2023-10-31T06:52:43.885Z"
   },
   {
    "duration": 5224,
    "start_time": "2023-10-31T06:52:43.920Z"
   },
   {
    "duration": 8,
    "start_time": "2023-10-31T06:52:49.146Z"
   },
   {
    "duration": 48,
    "start_time": "2023-10-31T06:52:49.156Z"
   },
   {
    "duration": 7,
    "start_time": "2023-10-31T06:52:49.206Z"
   },
   {
    "duration": 3612,
    "start_time": "2023-10-31T06:52:49.215Z"
   },
   {
    "duration": 53,
    "start_time": "2023-10-31T06:52:52.829Z"
   },
   {
    "duration": 12,
    "start_time": "2023-10-31T06:52:52.884Z"
   },
   {
    "duration": 7,
    "start_time": "2023-10-31T06:52:52.898Z"
   },
   {
    "duration": 1397,
    "start_time": "2023-10-31T06:52:52.907Z"
   },
   {
    "duration": 60,
    "start_time": "2023-10-31T06:52:54.306Z"
   },
   {
    "duration": 3,
    "start_time": "2023-10-31T06:52:54.368Z"
   },
   {
    "duration": 323,
    "start_time": "2023-10-31T06:52:54.373Z"
   },
   {
    "duration": 1656,
    "start_time": "2023-10-31T06:52:54.698Z"
   },
   {
    "duration": 86549,
    "start_time": "2023-10-31T06:52:56.356Z"
   },
   {
    "duration": 9,
    "start_time": "2023-10-31T06:54:22.907Z"
   },
   {
    "duration": 2691,
    "start_time": "2023-11-05T14:12:21.723Z"
   },
   {
    "duration": 2374,
    "start_time": "2023-11-05T14:12:24.416Z"
   },
   {
    "duration": 2579,
    "start_time": "2023-11-05T14:12:26.792Z"
   },
   {
    "duration": 3354,
    "start_time": "2023-11-05T14:12:29.374Z"
   },
   {
    "duration": 2436,
    "start_time": "2023-11-05T14:12:32.730Z"
   },
   {
    "duration": 15626,
    "start_time": "2023-11-05T14:12:35.168Z"
   },
   {
    "duration": 869,
    "start_time": "2023-11-05T14:12:50.796Z"
   },
   {
    "duration": 2479,
    "start_time": "2023-11-05T14:12:51.666Z"
   },
   {
    "duration": 13,
    "start_time": "2023-11-05T14:12:54.147Z"
   },
   {
    "duration": 35,
    "start_time": "2023-11-05T14:12:54.162Z"
   },
   {
    "duration": 5,
    "start_time": "2023-11-05T14:12:54.198Z"
   },
   {
    "duration": 5,
    "start_time": "2023-11-05T14:12:54.213Z"
   },
   {
    "duration": 10,
    "start_time": "2023-11-05T14:12:54.220Z"
   },
   {
    "duration": 970,
    "start_time": "2023-11-05T14:13:10.797Z"
   },
   {
    "duration": 7,
    "start_time": "2023-11-05T14:13:15.037Z"
   },
   {
    "duration": 33,
    "start_time": "2023-11-05T14:13:17.859Z"
   },
   {
    "duration": 40,
    "start_time": "2023-11-05T14:13:53.227Z"
   },
   {
    "duration": 70,
    "start_time": "2023-11-05T14:16:09.558Z"
   },
   {
    "duration": 4,
    "start_time": "2023-11-05T14:16:14.340Z"
   },
   {
    "duration": 44,
    "start_time": "2023-11-05T14:16:34.130Z"
   },
   {
    "duration": 361,
    "start_time": "2023-11-05T14:19:18.574Z"
   },
   {
    "duration": 3,
    "start_time": "2023-11-05T14:19:25.685Z"
   },
   {
    "duration": 30,
    "start_time": "2023-11-05T14:19:26.632Z"
   },
   {
    "duration": 44,
    "start_time": "2023-11-05T14:19:40.085Z"
   },
   {
    "duration": 44,
    "start_time": "2023-11-05T14:19:54.193Z"
   },
   {
    "duration": 46,
    "start_time": "2023-11-05T14:21:36.609Z"
   },
   {
    "duration": 963,
    "start_time": "2023-11-05T14:22:41.494Z"
   },
   {
    "duration": 8,
    "start_time": "2023-11-05T14:22:44.155Z"
   },
   {
    "duration": 36,
    "start_time": "2023-11-05T14:22:44.700Z"
   },
   {
    "duration": 43,
    "start_time": "2023-11-05T14:22:46.089Z"
   },
   {
    "duration": 12,
    "start_time": "2023-11-05T14:24:08.470Z"
   },
   {
    "duration": 4,
    "start_time": "2023-11-05T14:24:09.774Z"
   },
   {
    "duration": 3,
    "start_time": "2023-11-05T14:24:10.708Z"
   }
  ],
  "kernelspec": {
   "display_name": "Python 3 (ipykernel)",
   "language": "python",
   "name": "python3"
  },
  "language_info": {
   "codemirror_mode": {
    "name": "ipython",
    "version": 3
   },
   "file_extension": ".py",
   "mimetype": "text/x-python",
   "name": "python",
   "nbconvert_exporter": "python",
   "pygments_lexer": "ipython3",
   "version": "3.9.18"
  },
  "toc": {
   "base_numbering": 1,
   "nav_menu": {},
   "number_sections": true,
   "sideBar": true,
   "skip_h1_title": true,
   "title_cell": "Содержание",
   "title_sidebar": "Contents",
   "toc_cell": true,
   "toc_position": {
    "height": "calc(100% - 180px)",
    "left": "10px",
    "top": "150px",
    "width": "302.391px"
   },
   "toc_section_display": true,
   "toc_window_display": false
  }
 },
 "nbformat": 4,
 "nbformat_minor": 4
}
